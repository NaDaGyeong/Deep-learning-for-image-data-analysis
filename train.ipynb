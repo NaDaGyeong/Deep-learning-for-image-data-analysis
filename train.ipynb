{
 "cells": [
  {
   "cell_type": "code",
   "execution_count": 1,
   "id": "8fddcea1",
   "metadata": {
    "_cell_guid": "b1076dfc-b9ad-4769-8c92-a6c4dae69d19",
    "_uuid": "8f2839f25d086af736a60e9eeb907d3b93b6e0e5",
    "execution": {
     "iopub.execute_input": "2022-12-06T07:50:25.713246Z",
     "iopub.status.busy": "2022-12-06T07:50:25.712709Z",
     "iopub.status.idle": "2022-12-06T08:07:33.541819Z",
     "shell.execute_reply": "2022-12-06T08:07:33.540591Z"
    },
    "papermill": {
     "duration": 1027.839231,
     "end_time": "2022-12-06T08:07:33.544492",
     "exception": false,
     "start_time": "2022-12-06T07:50:25.705261",
     "status": "completed"
    },
    "tags": []
   },
   "outputs": [
    {
     "name": "stdout",
     "output_type": "stream",
     "text": [
      "Collecting package metadata (current_repodata.json): - \b\b\\ \b\b| \b\b/ \b\b- \b\b\\ \b\b| \b\b/ \b\b- \b\b\\ \b\b| \b\b/ \b\b- \b\b\\ \b\b| \b\b/ \b\b- \b\b\\ \b\b| \b\b/ \b\b- \b\b\\ \b\b| \b\b/ \b\b- \b\b\\ \b\b| \b\b/ \b\b- \b\b\\ \b\b| \b\b/ \b\b- \b\b\\ \b\b| \b\b/ \b\b- \b\b\\ \b\b| \b\b/ \b\b- \b\b\\ \b\b| \b\b/ \b\b- \b\b\\ \b\b| \b\b/ \b\b- \b\b\\ \b\b| \b\b/ \b\b- \b\b\\ \b\b| \b\b/ \b\b- \b\b\\ \b\b| \b\b/ \b\b- \b\b\\ \b\b| \b\b/ \b\b- \b\b\\ \b\b| \b\b/ \b\b- \b\b\\ \b\b| \b\b/ \b\b- \b\b\\ \b\b| \b\b/ \b\b- \b\b\\ \b\b| \b\b/ \b\b- \b\b\\ \b\b| \b\b/ \b\b- \b\b\\ \b\b| \b\b/ \b\b- \b\b\\ \b\b| \b\b/ \b\b- \b\b\\ \b\b| \b\b/ \b\b- \b\b\\ \b\b| \b\b/ \b\b- \b\b\\ \b\b| \b\b/ \b\b- \b\b\\ \b\b| \b\b/ \b\b- \b\b\\ \b\b| \b\b/ \b\b- \b\b\\ \b\b| \b\b/ \b\b- \b\b\\ \b\b| \b\b/ \b\b- \b\b\\ \b\b| \b\b/ \b\b- \b\b\\ \b\b| \b\b/ \b\b- \b\b\\ \b\b| \b\b/ \b\b- \b\b\\ \b\b| \b\b/ \b\b- \b\b\\ \b\b| \b\b/ \b\b- \b\b\\ \b\b| \b\b/ \b\b- \b\b\\ \b\b| \b\b/ \b\b- \b\b\\ \b\b| \b\b/ \b\b- \b\b\\ \b\b| \b\b/ \b\b- \b\b\\ \b\b| \b\b/ \b\b- \b\b\\ \b\b| \b\b/ \b\b- \b\b\\ \b\b| \b\b/ \b\b- \b\b\\ \b\b| \b\b/ \b\b- \b\b\\ \b\b| \b\b/ \b\b- \b\b\\ \b\b| \b\b/ \b\b- \b\b\\ \b\b| \b\b/ \b\b- \b\b\\ \b\b| \b\b/ \b\b- \b\b\\ \b\b| \b\b/ \b\b- \b\b\\ \b\b| \b\b/ \b\b- \b\b\\ \b\b| \b\b/ \b\b- \b\b\\ \b\b| \b\b/ \b\b- \b\b\\ \b\b| \b\b/ \b\b- \b\b\\ \b\b| \b\b/ \b\b- \b\b\\ \b\b| \b\b/ \b\b- \b\b\\ \b\b| \b\b/ \b\b- \b\b\\ \b\b| \b\b/ \b\b- \b\b\\ \b\b| \b\b/ \b\b- \b\b\\ \b\b| \b\b/ \b\b- \b\b\\ \b\b| \b\b/ \b\b- \b\b\\ \b\b| \b\b/ \b\b- \b\b\\ \b\b| \b\b/ \b\b- \b\b\\ \b\b| \b\b/ \b\bdone\r\n",
      "Solving environment: \\ \b\b| \b\b/ \b\b- \b\b\\ \b\b| \b\b/ \b\b- \b\b\\ \b\b| \b\b/ \b\b- \b\b\\ \b\b| \b\b/ \b\b- \b\b\\ \b\b| \b\b/ \b\b- \b\b\\ \b\b| \b\b/ \b\b- \b\b\\ \b\b| \b\b/ \b\b- \b\b\\ \b\b| \b\b/ \b\b- \b\b\\ \b\b| \b\b/ \b\b- \b\b\\ \b\b| \b\b/ \b\b- \b\b\\ \b\b| \b\b/ \b\b- \b\b\\ \b\b| \b\b/ \b\b- \b\b\\ \b\b| \b\b/ \b\b- \b\b\\ \b\b| \b\b/ \b\b- \b\b\\ \b\b| \b\b/ \b\b- \b\b\\ \b\b| \b\b/ \b\b- \b\b\\ \b\b| \b\b/ \b\b- \b\b\\ \b\b| \b\b/ \b\b- \b\b\\ \b\b| \b\b/ \b\b- \b\b\\ \b\b| \b\b/ \b\b- \b\b\\ \b\b| \b\b/ \b\b- \b\b\\ \b\b| \b\b/ \b\b- \b\b\\ \b\b| \b\b/ \b\b- \b\b\\ \b\b| \b\b/ \b\b- \b\b\\ \b\b| \b\b/ \b\b- \b\b\\ \b\b| \b\b/ \b\b- \b\b\\ \b\b| \b\b/ \b\b- \b\b\\ \b\b| \b\b/ \b\b- \b\b\\ \b\b| \b\b/ \b\b- \b\b\\ \b\b| \b\b/ \b\b- \b\b\\ \b\b| \b\b/ \b\b- \b\b\\ \b\b| \b\b/ \b\b- \b\b\\ \b\b| \b\b/ \b\b- \b\b\\ \b\b| \b\b/ \b\b- \b\b\\ \b\b| \b\b/ \b\b- \b\b\\ \b\b| \b\b/ \b\b- \b\b\\ \b\b| \b\b/ \b\b- \b\b\\ \b\b| \b\b/ \b\b- \b\b\\ \b\b| \b\b/ \b\b- \b\b\\ \b\b| \b\b/ \b\b- \b\b\\ \b\b| \b\b/ \b\b- \b\b\\ \b\b| \b\b/ \b\b- \b\b\\ \b\b| \b\b/ \b\b- \b\b\\ \b\b| \b\b/ \b\b- \b\b\\ \b\b| \b\b/ \b\b- \b\b\\ \b\b| \b\b/ \b\b- \b\b\\ \b\b| \b\b/ \b\b- \b\b\\ \b\b| \b\b/ \b\b- \b\b\\ \b\b| \b\b/ \b\b- \b\b\\ \b\b| \b\b/ \b\b- \b\b\\ \b\b| \b\b/ \b\b- \b\b\\ \b\b| \b\b/ \b\b- \b\b\\ \b\b| \b\b/ \b\b- \b\b\\ \b\b| \b\b/ \b\b- \b\b\\ \b\b| \b\b/ \b\b- \b\b\\ \b\b| \b\b/ \b\b- \b\b\\ \b\b| \b\b/ \b\b- \b\b\\ \b\b| \b\b/ \b\b- \b\b\\ \b\b| \b\b/ \b\b- \b\b\\ \b\b| \b\b/ \b\b- \b\b\\ \b\b| \b\b/ \b\b- \b\b\\ \b\b| \b\b/ \b\b- \b\b\\ \b\b| \b\b/ \b\b- \b\b\\ \b\b| \b\b/ \b\b- \b\b\\ \b\b| \b\b/ \b\b- \b\b\\ \b\b| \b\b/ \b\b- \b\b\\ \b\b| \b\b/ \b\b- \b\b\\ \b\b| \b\b/ \b\b- \b\b\\ \b\b| \b\b/ \b\b- \b\b\\ \b\b| \b\b/ \b\b- \b\b\\ \b\b| \b\b/ \b\b- \b\b\\ \b\b| \b\b/ \b\b- \b\b\\ \b\b| \b\b/ \b\b- \b\b\\ \b\b| \b\b/ \b\b- \b\b\\ \b\b| \b\b/ \b\b- \b\b\\ \b\b| \b\b/ \b\b- \b\b\\ \b\b| \b\b/ \b\b- \b\b\\ \b\b| \b\b/ \b\b- \b\b\\ \b\b| \b\b/ \b\b- \b\b\\ \b\b| \b\b/ \b\b- \b\b\\ \b\b| \b\b/ \b\b- \b\b\\ \b\b| \b\b/ \b\b- \b\b\\ \b\b| \b\b/ \b\b- \b\b\\ \b\b| \b\b/ \b\b- \b\b\\ \b\b| \b\b/ \b\b- \b\b\\ \b\b| \b\b/ \b\b- \b\b\\ \b\b| \b\b/ \b\b- \b\b\\ \b\b| \b\b/ \b\b- \b\b\\ \b\b| \b\b/ \b\b- \b\b\\ \b\b| \b\b/ \b\b- \b\b\\ \b\b| \b\b/ \b\b- \b\b\\ \b\b| \b\b/ \b\b- \b\b\\ \b\b| \b\b/ \b\b- \b\b\\ \b\b| \b\b/ \b\b- \b\b\\ \b\b| \b\b/ \b\b- \b\b\\ \b\b| \b\b/ \b\b- \b\b\\ \b\b| \b\b/ \b\b- \b\b\\ \b\b| \b\b/ \b\b- \b\b\\ \b\b| \b\b/ \b\b- \b\b\\ \b\b| \b\b/ \b\b- \b\b\\ \b\b| \b\b/ \b\b- \b\b\\ \b\b| \b\b/ \b\b- \b\b\\ \b\b| \b\b/ \b\b- \b\b\\ \b\b| \b\b/ \b\b- \b\b\\ \b\b| \b\b/ \b\b- \b\b\\ \b\b| \b\b/ \b\b- \b\b\\ \b\b| \b\b/ \b\b- \b\b\\ \b\b| \b\b/ \b\b- \b\b\\ \b\b| \b\b/ \b\b- \b\b\\ \b\b| \b\b/ \b\b- \b\b\\ \b\b| \b\b/ \b\b- \b\b\\ \b\b| \b\b/ \b\b- \b\b\\ \b\b| \b\b/ \b\b- \b\b\\ \b\b| \b\b/ \b\b- \b\b\\ \b\b| \b\b/ \b\b- \b\b\\ \b\b| \b\b/ \b\b- \b\b\\ \b\b| \b\b/ \b\b- \b\b\\ \b\b| \b\b/ \b\b- \b\b\\ \b\b| \b\b/ \b\b- \b\b\\ \b\b| \b\b/ \b\b- \b\b\\ \b\b| \b\b/ \b\b- \b\b\\ \b\b| \b\b/ \b\b- \b\b\\ \b\b| \b\b/ \b\b- \b\b\\ \b\b| \b\b/ \b\b- \b\b\\ \b\b| \b\b/ \b\b- \b\b\\ \b\b| \b\b/ \b\b- \b\b\\ \b\b| \b\b/ \b\b- \b\b\\ \b\b| \b\b/ \b\b- \b\b\\ \b\b| \b\b/ \b\b- \b\b\\ \b\b| \b\b/ \b\b- \b\b\\ \b\b| \b\b/ \b\b- \b\b\\ \b\b| \b\b/ \b\b- \b\b\\ \b\b| \b\b/ \b\b- \b\b\\ \b\b| \b\b/ \b\b- \b\b\\ \b\b| \b\b/ \b\b- \b\b\\ \b\b| \b\b/ \b\b- \b\b\\ \b\b| \b\b/ \b\b- \b\b\\ \b\b| \b\b/ \b\b- \b\b\\ \b\b| \b\b/ \b\b- \b\b\\ \b\b| \b\b/ \b\b- \b\b\\ \b\b| \b\b/ \b\b- \b\b\\ \b\b| \b\b/ \b\b- \b\b\\ \b\b| \b\b/ \b\b- \b\b\\ \b\b| \b\b/ \b\b- \b\b\\ \b\b| \b\b/ \b\b- \b\b\\ \b\b| \b\b/ \b\b- \b\b\\ \b\b| \b\b/ \b\b- \b\b\\ \b\b| \b\b/ \b\b- \b\b\\ \b\b| \b\b/ \b\b- \b\b\\ \b\b| \b\b/ \b\b- \b\b\\ \b\b| \b\b/ \b\b- \b\b\\ \b\b| \b\b/ \b\b- \b\b\\ \b\b| \b\b/ \b\b- \b\b\\ \b\b| \b\b/ \b\b- \b\b\\ \b\b| \b\b/ \b\b- \b\b\\ \b\b| \b\b/ \b\b- \b\b\\ \b\b| \b\b/ \b\b- \b\b\\ \b\b| \b\b/ \b\b- \b\b\\ \b\b| \b\b/ \b\b- \b\b\\ \b\b| \b\b/ \b\b- \b\b\\ \b\b| \b\b/ \b\b- \b\b\\ \b\b| \b\b/ \b\b- \b\b\\ \b\b| \b\b/ \b\b- \b\b\\ \b\b| \b\b/ \b\b- \b\b\\ \b\b| \b\b/ \b\b- \b\b\\ \b\b| \b\b/ \b\b- \b\b\\ \b\b| \b\b/ \b\b- \b\b\\ \b\b| \b\b/ \b\b- \b\b\\ \b\b| \b\b/ \b\b- \b\b\\ \b\b| \b\b/ \b\b- \b\b\\ \b\b| \b\b/ \b\b- \b\b\\ \b\b| \b\b/ \b\b- \b\b\\ \b\b| \b\b/ \b\b- \b\b\\ \b\b| \b\b/ \b\b- \b\b\\ \b\b| \b\b/ \b\b- \b\b\\ \b\b| \b\b/ \b\b- \b\b\\ \b\b| \b\b/ \b\b- \b\b\\ \b\b| \b\b/ \b\b- \b\b\\ \b\b| \b\b/ \b\b- \b\b\\ \b\b| \b\b/ \b\b- \b\b\\ \b\b| \b\b/ \b\b- \b\b\\ \b\b| \b\b/ \b\b- \b\b\\ \b\b| \b\b/ \b\b- \b\b\\ \b\b| \b\b/ \b\b- \b\b\\ \b\b| \b\b/ \b\b- \b\b\\ \b\b| \b\b/ \b\b- \b\b\\ \b\b| \b\b/ \b\b- \b\b\\ \b\b| \b\b/ \b\b- \b\b\\ \b\b| \b\b/ \b\b- \b\b\\ \b\b| \b\b/ \b\b- \b\b\\ \b\b| \b\b/ \b\b- \b\b\\ \b\b| \b\b/ \b\b- \b\b\\ \b\b| \b\b/ \b\b- \b\b\\ \b\b| \b\b/ \b\b- \b\b\\ \b\b| \b\b/ \b\b- \b\b\\ \b\b| \b\b/ \b\b- \b\b\\ \b\b| \b\b/ \b\b- \b\b\\ \b\b| \b\b/ \b\b- \b\b\\ \b\b| \b\b/ \b\b- \b\b\\ \b\b| \b\b/ \b\b- \b\b\\ \b\b| \b\b/ \b\b- \b\b\\ \b\b| \b\b/ \b\b- \b\b\\ \b\b| \b\b/ \b\b- \b\b\\ \b\b| \b\b/ \b\b- \b\b\\ \b\b| \b\b/ \b\b- \b\b\\ \b\b| \b\b/ \b\b- \b\b\\ \b\b| \b\b/ \b\b- \b\b\\ \b\b| \b\b/ \b\b- \b\b\\ \b\b| \b\b/ \b\b- \b\b\\ \b\b| \b\b/ \b\b- \b\b\\ \b\b| \b\b/ \b\b- \b\b\\ \b\b| \b\b/ \b\b- \b\b\\ \b\b| \b\b/ \b\b- \b\b\\ \b\b| \b\b/ \b\b- \b\b\\ \b\b| \b\b/ \b\b- \b\b\\ \b\b| \b\b/ \b\b- \b\b\\ \b\b| \b\b/ \b\b- \b\b\\ \b\b| \b\b/ \b\b- \b\b\\ \b\b| \b\b/ \b\b- \b\b\\ \b\b| \b\b/ \b\b- \b\b\\ \b\b| \b\b/ \b\b- \b\b\\ \b\b| \b\b/ \b\b- \b\b\\ \b\b| \b\b/ \b\b- \b\b\\ \b\b| \b\b/ \b\b- \b\b\\ \b\b| \b\b/ \b\b- \b\b\\ \b\b| \b\b/ \b\b- \b\b\\ \b\b| \b\b/ \b\b- \b\b\\ \b\b| \b\b/ \b\b- \b\b\\ \b\b| \b\b/ \b\b- \b\b\\ \b\b| \b\b/ \b\b- \b\b\\ \b\b| \b\b/ \b\b- \b\b\\ \b\b| \b\b/ \b\b- \b\b\\ \b\b| \b\b/ \b\b- \b\b\\ \b\b| \b\b/ \b\b- \b\b\\ \b\b| \b\b/ \b\b- \b\b\\ \b\b| \b\b/ \b\b- \b\b\\ \b\b| \b\b/ \b\b- \b\b\\ \b\b| \b\b/ \b\b- \b\b\\ \b\b| \b\b/ \b\b- \b\b\\ \b\b| \b\b/ \b\b- \b\b\\ \b\b| \b\b/ \b\b- \b\b\\ \b\b| \b\b/ \b\b- \b\b\\ \b\b| \b\b/ \b\b- \b\b\\ \b\b| \b\b/ \b\b- \b\b\\ \b\b| \b\b/ \b\b- \b\b\\ \b\b| \b\b/ \b\b- \b\b\\ \b\b| \b\b/ \b\b- \b\b\\ \b\b| \b\b/ \b\b- \b\b\\ \b\b| \b\b/ \b\b- \b\b\\ \b\b| \b\b/ \b\b- \b\b\\ \b\b| \b\b/ \b\b- \b\b\\ \b\b| \b\b/ \b\b- \b\b\\ \b\b| \b\b/ \b\b- \b\b\\ \b\b| \b\b/ \b\b- \b\b\\ \b\b| \b\b/ \b\b- \b\b\\ \b\b| \b\b/ \b\b- \b\b\\ \b\b| \b\b/ \b\b- \b\b\\ \b\b| \b\b/ \b\b- \b\b\\ \b\b| \b\b/ \b\b- \b\b\\ \b\b| \b\b/ \b\b- \b\b\\ \b\b| \b\b/ \b\b- \b\b\\ \b\b| \b\b/ \b\b- \b\b\\ \b\b| \b\b/ \b\b- \b\b\\ \b\b| \b\b/ \b\b- \b\b\\ \b\b| \b\b/ \b\b- \b\b\\ \b\b| \b\b/ \b\b- \b\b\\ \b\b| \b\b/ \b\b- \b\b\\ \b\b| \b\b/ \b\b- \b\b\\ \b\b| \b\b/ \b\b- \b\b\\ \b\b| \b\b/ \b\b- \b\b\\ \b\b| \b\b/ \b\b- \b\b\\ \b\b| \b\b/ \b\b- \b\b\\ \b\b| \b\b/ \b\b- \b\b\\ \b\b| \b\b/ \b\b- \b\b\\ \b\b| \b\b/ \b\b- \b\b\\ \b\b| \b\b/ \b\b- \b\b\\ \b\b| \b\b/ \b\b- \b\b\\ \b\b| \b\b/ \b\b- \b\b\\ \b\b| \b\b/ \b\b- \b\b\\ \b\b| \b\b/ \b\b- \b\b\\ \b\b| \b\b/ \b\b- \b\b\\ \b\b| \b\b/ \b\b- \b\b\\ \b\b| \b\b/ \b\b- \b\b\\ \b\b| \b\b/ \b\b- \b\b\\ \b\b| \b\b/ \b\b- \b\b\\ \b\b| \b\b/ \b\b- \b\b\\ \b\b| \b\b/ \b\b- \b\b\\ \b\b| \b\b/ \b\b- \b\b\\ \b\b| \b\b/ \b\b- \b\b\\ \b\b| \b\b/ \b\b- \b\b\\ \b\b| \b\b/ \b\b- \b\b\\ \b\b| \b\b/ \b\b- \b\b\\ \b\b| \b\b/ \b\b- \b\b\\ \b\b| \b\b/ \b\b- \b\b\\ \b\b| \b\b/ \b\b- \b\b\\ \b\b| \b\b/ \b\b- \b\b\\ \b\b| \b\b/ \b\b- \b\b\\ \b\b| \b\b/ \b\b- \b\b\\ \b\b| \b\b/ \b\b- \b\b\\ \b\b| \b\b/ \b\b- \b\b\\ \b\b| \b\b/ \b\b- \b\b\\ \b\b| \b\b/ \b\b- \b\b\\ \b\b| \b\b/ \b\b- \b\b\\ \b\b| \b\b/ \b\b- \b\b\\ \b\b| \b\b/ \b\b- \b\b\\ \b\b| \b\b/ \b\b- \b\b\\ \b\b| \b\b/ \b\b- \b\b\\ \b\b| \b\b/ \b\b- \b\b\\ \b\b| \b\b/ \b\b- \b\b\\ \b\b| \b\b/ \b\b- \b\b\\ \b\b| \b\b/ \b\b- \b\b\\ \b\b| \b\b/ \b\b- \b\b\\ \b\b| \b\b/ \b\b- \b\b\\ \b\b| \b\b/ \b\b- \b\b\\ \b\b| \b\b/ \b\b- \b\b\\ \b\b| \b\b/ \b\b- \b\b\\ \b\b| \b\b/ \b\b- \b\b\\ \b\b| \b\b/ \b\b- \b\b\\ \b\b| \b\b/ \b\b- \b\b\\ \b\b| \b\b/ \b\b- \b\b\\ \b\b| \b\b/ \b\b- \b\b\\ \b\b| \b\b/ \b\b- \b\b\\ \b\b| \b\b/ \b\b- \b\b\\ \b\b| \b\b/ \b\b- \b\b\\ \b\b| \b\b/ \b\b- \b\b\\ \b\b| \b\b/ \b\b- \b\b\\ \b\b| \b\b/ \b\b- \b\b\\ \b\b| \b\b/ \b\b- \b\b\\ \b\b| \b\b/ \b\b- \b\b\\ \b\b| \b\b/ \b\b- \b\b\\ \b\b| \b\b/ \b\b- \b\b\\ \b\b| \b\b/ \b\b- \b\b\\ \b\b| \b\b/ \b\b- \b\b\\ \b\b| \b\b/ \b\b- \b\b\\ \b\b| \b\b/ \b\b- \b\b\\ \b\b| \b\b/ \b\b- \b\b\\ \b\b| \b\b/ \b\b- \b\b\\ \b\b| \b\b/ \b\b- \b\b\\ \b\b| \b\b/ \b\b- \b\b\\ \b\b| \b\b/ \b\b- \b\b\\ \b\b| \b\b/ \b\b- \b\b\\ \b\b| \b\b/ \b\b- \b\b\\ \b\b| \b\b/ \b\b- \b\b\\ \b\b| \b\b/ \b\b- \b\b\\ \b\b| \b\b/ \b\b- \b\b\\ \b\b| \b\b/ \b\b- \b\b\\ \b\b| \b\b/ \b\b- \b\b\\ \b\b| \b\b/ \b\b- \b\b\\ \b\b| \b\b/ \b\b- \b\b\\ \b\b| \b\b/ \b\b- \b\b\\ \b\b| \b\b/ \b\b- \b\b\\ \b\b| \b\b/ \b\b- \b\b\\ \b\b| \b\b/ \b\b- \b\b\\ \b\b| \b\b/ \b\b- \b\b\\ \b\b| \b\b/ \b\b- \b\b\\ \b\b| \b\b/ \b\b- \b\b\\ \b\b| \b\b/ \b\b- \b\b\\ \b\b| \b\b/ \b\b- \b\b\\ \b\b| \b\b/ \b\b- \b\b\\ \b\b| \b\b/ \b\b- \b\b\\ \b\b| \b\b/ \b\b- \b\b\\ \b\b| \b\b/ \b\b- \b\b\\ \b\b| \b\b/ \b\b- \b\b\\ \b\b| \b\b/ \b\b- \b\b\\ \b\b| \b\b/ \b\b- \b\b\\ \b\b| \b\b/ \b\b- \b\b\\ \b\b| \b\b/ \b\b- \b\b\\ \b\b| \b\b/ \b\b- \b\b\\ \b\b| \b\b/ \b\b- \b\b\\ \b\b| \b\b/ \b\b- \b\b\\ \b\b| \b\b/ \b\b- \b\b\\ \b\b| \b\b/ \b\b- \b\b\\ \b\b| \b\b/ \b\b- \b\b\\ \b\b| \b\b/ \b\b- \b\b\\ \b\b| \b\b/ \b\b- \b\b\\ \b\b| \b\b/ \b\b- \b\b\\ \b\b| \b\b/ \b\b- \b\b\\ \b\b| \b\b/ \b\b- \b\b\\ \b\b| \b\b/ \b\b- \b\b\\ \b\b| \b\b/ \b\b- \b\b\\ \b\b| \b\b/ \b\b- \b\b\\ \b\b| \b\b/ \b\b- \b\b\\ \b\b| \b\b/ \b\b- \b\b\\ \b\b| \b\b/ \b\b- \b\b\\ \b\b| \b\b/ \b\b- \b\b\\ \b\b| \b\b/ \b\b- \b\b\\ \b\b| \b\b/ \b\b- \b\b\\ \b\b| \b\b/ \b\b- \b\b\\ \b\b| \b\b/ \b\b- \b\b\\ \b\b| \b\b/ \b\b- \b\b\\ \b\b| \b\b/ \b\b- \b\b\\ \b\b| \b\b/ \b\b- \b\b\\ \b\b| \b\b/ \b\b- \b\b\\ \b\b| \b\b/ \b\b- \b\b\\ \b\b| \b\b/ \b\b- \b\b\\ \b\b| \b\b/ \b\b- \b\b\\ \b\b| \b\b/ \b\b- \b\b\\ \b\b| \b\b/ \b\b- \b\b\\ \b\b| \b\b/ \b\b- \b\b\\ \b\b| \b\b/ \b\b- \b\b\\ \b\b| \b\b/ \b\b- \b\b\\ \b\b| \b\b/ \b\b- \b\b\\ \b\b| \b\b/ \b\b- \b\b\\ \b\b| \b\b/ \b\b- \b\b\\ \b\b| \b\b/ \b\b- \b\b\\ \b\b| \b\b/ \b\b- \b\b\\ \b\b| \b\b/ \b\b- \b\b\\ \b\b| \b\b/ \b\b- \b\b\\ \b\b| \b\b/ \b\b- \b\b\\ \b\b| \b\b/ \b\b- \b\b\\ \b\b| \b\b/ \b\b- \b\b\\ \b\b| \b\b/ \b\b- \b\b\\ \b\b| \b\b/ \b\b- \b\b\\ \b\b| \b\b/ \b\b- \b\b\\ \b\b| \b\b/ \b\b- \b\b\\ \b\b| \b\b/ \b\b- \b\b\\ \b\b| \b\b/ \b\b- \b\b\\ \b\b| \b\b/ \b\b- \b\b\\ \b\b| \b\b/ \b\b- \b\b\\ \b\b| \b\b/ \b\b- \b\b\\ \b\b| \b\b/ \b\b- \b\b\\ \b\b| \b\b/ \b\b- \b\b\\ \b\b| \b\b/ \b\b- \b\b\\ \b\b| \b\b/ \b\b- \b\b\\ \b\b| \b\b/ \b\b- \b\b\\ \b\b| \b\b/ \b\b- \b\b\\ \b\b| \b\b/ \b\b- \b\b\\ \b\b| \b\b/ \b\b- \b\b\\ \b\b| \b\b/ \b\b- \b\b\\ \b\b| \b\b/ \b\b- \b\b\\ \b\b| \b\b/ \b\b- \b\b\\ \b\b| \b\b/ \b\b- \b\b\\ \b\b| \b\b/ \b\b- \b\b\\ \b\b| \b\b/ \b\b- \b\b\\ \b\b| \b\b/ \b\b- \b\b\\ \b\b| \b\b/ \b\b- \b\b\\ \b\b| \b\b/ \b\b- \b\b\\ \b\b| \b\b/ \b\b- \b\b\\ \b\b| \b\b/ \b\b- \b\b\\ \b\b| \b\b/ \b\b- \b\b\\ \b\b| \b\b/ \b\b- \b\b\\ \b\b| \b\b/ \b\b- \b\b\\ \b\b| \b\b/ \b\b- \b\b\\ \b\b| \b\b/ \b\b- \b\b\\ \b\b| \b\b/ \b\b- \b\b\\ \b\b| \b\b/ \b\b- \b\b\\ \b\b| \b\b/ \b\b- \b\b\\ \b\b| \b\b/ \b\b- \b\b\\ \b\b| \b\b/ \b\b- \b\b\\ \b\b| \b\b/ \b\b- \b\b\\ \b\b| \b\b/ \b\b- \b\b\\ \b\b| \b\b/ \b\b- \b\b\\ \b\b| \b\b/ \b\b- \b\b\\ \b\b| \b\b/ \b\b- \b\b\\ \b\b| \b\b/ \b\b- \b\b\\ \b\b| \b\b/ \b\b- \b\b\\ \b\b| \b\b/ \b\b- \b\b\\ \b\b| \b\b/ \b\b- \b\b\\ \b\b| \b\b/ \b\b- \b\b\\ \b\b| \b\b/ \b\b- \b\b\\ \b\b| \b\b/ \b\b- \b\b\\ \b\b| \b\b/ \b\b- \b\b\\ \b\b| \b\b/ \b\b- \b\b\\ \b\b| \b\b/ \b\b- \b\b\\ \b\b| \b\b/ \b\b- \b\b\\ \b\b| \b\b/ \b\b- \b\b\\ \b\b| \b\b/ \b\b- \b\b\\ \b\b| \b\b/ \b\b- \b\b\\ \b\b| \b\b/ \b\b- \b\b\\ \b\b| \b\b/ \b\b- \b\b\\ \b\b| \b\b/ \b\b- \b\b\\ \b\b| \b\b/ \b\b- \b\b\\ \b\b| \b\b/ \b\b- \b\b\\ \b\b| \b\b/ \b\b- \b\b\\ \b\b| \b\b/ \b\b- \b\b\\ \b\b| \b\b/ \b\b- \b\b\\ \b\b| \b\b/ \b\b- \b\b\\ \b\b| \b\b/ \b\b- \b\b\\ \b\b| \b\b/ \b\b- \b\b\\ \b\b| \b\b/ \b\b- \b\b\\ \b\b| \b\b/ \b\b- \b\b\\ \b\b| \b\b/ \b\b- \b\b\\ \b\b| \b\b/ \b\b- \b\b\\ \b\b| \b\b/ \b\b- \b\b\\ \b\b| \b\b/ \b\b- \b\b\\ \b\b| \b\b/ \b\b- \b\b\\ \b\b| \b\b/ \b\b- \b\b\\ \b\b| \b\b/ \b\b- \b\b\\ \b\b| \b\b/ \b\b- \b\b\\ \b\b| \b\b/ \b\b- \b\b\\ \b\b| \b\b/ \b\b- \b\b\\ \b\b| \b\b/ \b\b- \b\b\\ \b\b| \b\b/ \b\b- \b\b\\ \b\b| \b\b/ \b\b- \b\b\\ \b\b| \b\b/ \b\b- \b\b\\ \b\b| \b\b/ \b\b- \b\b\\ \b\b| \b\b/ \b\b- \b\b\\ \b\b| \b\b/ \b\b- \b\b\\ \b\b| \b\b/ \b\b- \b\b\\ \b\b| \b\b/ \b\b- \b\b\\ \b\b| \b\b/ \b\b- \b\b\\ \b\b| \b\b/ \b\b- \b\b\\ \b\b| \b\b/ \b\b- \b\b\\ \b\b| \b\b/ \b\b- \b\b\\ \b\b| \b\b/ \b\b- \b\b\\ \b\b| \b\b/ \b\b- \b\b\\ \b\b| \b\b/ \b\b- \b\b\\ \b\b| \b\b/ \b\b- \b\b\\ \b\b| \b\b/ \b\b- \b\b\\ \b\b| \b\b/ \b\b- \b\b\\ \b\b| \b\b/ \b\b- \b\b\\ \b\b| \b\b/ \b\b- \b\b\\ \b\b| \b\b/ \b\b- \b\b\\ \b\b| \b\b/ \b\b- \b\b\\ \b\b| \b\b/ \b\b- \b\b\\ \b\b| \b\b/ \b\b- \b\b\\ \b\b| \b\b/ \b\b- \b\b\\ \b\b| \b\b/ \b\b- \b\b\\ \b\b| \b\b/ \b\b- \b\b\\ \b\b| \b\b/ \b\b- \b\b\\ \b\b| \b\b/ \b\b- \b\b\\ \b\b| \b\b/ \b\b- \b\b\\ \b\b| \b\b/ \b\b- \b\b\\ \b\b| \b\b/ \b\b- \b\b\\ \b\b| \b\b/ \b\b- \b\b\\ \b\b| \b\b/ \b\b- \b\b\\ \b\b| \b\b/ \b\b- \b\b\\ \b\b| \b\b/ \b\b- \b\b\\ \b\b| \b\b/ \b\b- \b\b\\ \b\b| \b\b/ \b\b- \b\b\\ \b\b| \b\b/ \b\b- \b\b\\ \b\b| \b\b/ \b\b- \b\b\\ \b\b| \b\b/ \b\b- \b\b\\ \b\b| \b\b/ \b\b- \b\b\\ \b\b| \b\b/ \b\b- \b\b\\ \b\b| \b\b/ \b\b- \b\b\\ \b\b| \b\b/ \b\b- \b\b\\ \b\b| \b\b/ \b\b- \b\b\\ \b\b| \b\b/ \b\b- \b\b\\ \b\b| \b\b/ \b\b- \b\b\\ \b\b| \b\b/ \b\b- \b\b\\ \b\b| \b\b/ \b\b- \b\b\\ \b\b| \b\b/ \b\b- \b\b\\ \b\b| \b\b/ \b\b- \b\b\\ \b\b| \b\b/ \b\b- \b\b\\ \b\b| \b\b/ \b\b- \b\b\\ \b\b| \b\b/ \b\b- \b\b\\ \b\b| \b\b/ \b\b- \b\b\\ \b\b| \b\b/ \b\b- \b\b\\ \b\b| \b\b/ \b\b- \b\b\\ \b\b| \b\b/ \b\b- \b\b\\ \b\b| \b\b/ \b\b- \b\b\\ \b\b| \b\b/ \b\b- \b\b\\ \b\b| \b\b/ \b\b- \b\b\\ \b\b| \b\b/ \b\b- \b\b\\ \b\b| \b\b/ \b\b- \b\b\\ \b\b| \b\b/ \b\b- \b\b\\ \b\b| \b\b/ \b\b- \b\b\\ \b\b| \b\b/ \b\b- \b\b\\ \b\b| \b\b/ \b\b- \b\b\\ \b\b| \b\b/ \b\b- \b\b\\ \b\b| \b\b/ \b\b- \b\b\\ \b\b| \b\b/ \b\b- \b\b\\ \b\b| \b\b/ \b\b- \b\b\\ \b\b| \b\b/ \b\b- \b\b\\ \b\b| \b\b/ \b\b- \b\b\\ \b\b| \b\b/ \b\b- \b\b\\ \b\b| \b\b/ \b\b- \b\b\\ \b\b| \b\b/ \b\b- \b\b\\ \b\b| \b\b/ \b\b- \b\b\\ \b\b| \b\b/ \b\b- \b\b\\ \b\b| \b\b/ \b\b- \b\b\\ \b\b| \b\b/ \b\b- \b\b\\ \b\b| \b\b/ \b\bfailed with initial frozen solve. Retrying with flexible solve.\r\n",
      "Solving environment: \\ \b\b| \b\b/ \b\b- \b\b\\ \b\b| \b\b/ \b\b- \b\b\\ \b\b| \b\b/ \b\b- \b\b\\ \b\b| \b\b/ \b\b- \b\b\\ \b\b| \b\b/ \b\b- \b\b\\ \b\b| \b\b/ \b\b- \b\b\\ \b\b| \b\b/ \b\b- \b\b\\ \b\b| \b\b/ \b\b- \b\b\\ \b\b| \b\b/ \b\b- \b\b\\ \b\b| \b\b/ \b\b- \b\b\\ \b\b| \b\b/ \b\b- \b\b\\ \b\b| \b\b/ \b\b- \b\b\\ \b\b| \b\b/ \b\b- \b\b\\ \b\b| \b\b/ \b\b- \b\b\\ \b\b| \b\b/ \b\b- \b\b\\ \b\b| \b\b/ \b\b- \b\b\\ \b\b| \b\b/ \b\b- \b\b\\ \b\b| \b\b/ \b\b- \b\b\\ \b\b| \b\b/ \b\b- \b\b\\ \b\b| \b\b/ \b\b- \b\b\\ \b\b| \b\b/ \b\b- \b\b\\ \b\b| \b\b/ \b\b- \b\b\\ \b\b| \b\b/ \b\b- \b\b\\ \b\b| \b\b/ \b\b- \b\b\\ \b\b| \b\b/ \b\b- \b\b\\ \b\b| \b\b/ \b\b- \b\b\\ \b\b| \b\b/ \b\b- \b\b\\ \b\b| \b\b/ \b\b- \b\b\\ \b\b| \b\b/ \b\b- \b\b\\ \b\b| \b\b/ \b\b- \b\b\\ \b\b| \b\b/ \b\b- \b\b\\ \b\b| \b\b/ \b\b- \b\b\\ \b\b| \b\b/ \b\b- \b\b\\ \b\b| \b\b/ \b\b- \b\b\\ \b\b| \b\b/ \b\b- \b\b\\ \b\b| \b\b/ \b\b- \b\b\\ \b\b| \b\b/ \b\b- \b\b\\ \b\b| \b\b/ \b\b- \b\b\\ \b\b| \b\b/ \b\b- \b\b\\ \b\b| \b\b/ \b\b- \b\b\\ \b\b| \b\b/ \b\b- \b\b\\ \b\b| \b\b/ \b\b- \b\b\\ \b\b| \b\b/ \b\b- \b\b\\ \b\b| \b\b/ \b\b- \b\b\\ \b\b| \b\b/ \b\b- \b\b\\ \b\b| \b\b/ \b\b- \b\b\\ \b\b| \b\b/ \b\b- \b\b\\ \b\b| \b\b/ \b\b- \b\b\\ \b\b| \b\b/ \b\b- \b\b\\ \b\b| \b\b/ \b\b- \b\b\\ \b\b| \b\b/ \b\b- \b\b\\ \b\b| \b\b/ \b\b- \b\b\\ \b\b| \b\b/ \b\b- \b\b\\ \b\b| \b\b/ \b\b- \b\b\\ \b\b| \b\b/ \b\b- \b\b\\ \b\b| \b\b/ \b\b- \b\b\\ \b\b| \b\b/ \b\b- \b\b\\ \b\b| \b\b/ \b\b- \b\b\\ \b\b| \b\b/ \b\b- \b\b\\ \b\b| \b\b/ \b\b- \b\b\\ \b\b| \b\b/ \b\b- \b\b\\ \b\b| \b\b/ \b\b- \b\b\\ \b\b| \b\b/ \b\b- \b\b\\ \b\b| \b\b/ \b\b- \b\b\\ \b\b| \b\b/ \b\b- \b\b\\ \b\b| \b\b/ \b\b- \b\b\\ \b\b| \b\b/ \b\b- \b\b\\ \b\b| \b\b/ \b\b- \b\b\\ \b\b| \b\b/ \b\b- \b\b\\ \b\b| \b\b/ \b\b- \b\b\\ \b\b| \b\b/ \b\b- \b\b\\ \b\b| \b\b/ \b\b- \b\b\\ \b\b| \b\b/ \b\b- \b\b\\ \b\b| \b\b/ \b\b- \b\b\\ \b\b| \b\b/ \b\b- \b\b\\ \b\b| \b\b/ \b\b- \b\b\\ \b\b| \b\b/ \b\b- \b\b\\ \b\b| \b\b/ \b\b- \b\b\\ \b\b| \b\b/ \b\b- \b\b\\ \b\b| \b\b/ \b\b- \b\b\\ \b\b| \b\b/ \b\b- \b\b\\ \b\b| \b\b/ \b\b- \b\b\\ \b\b| \b\b/ \b\b- \b\b\\ \b\b| \b\b/ \b\b- \b\b\\ \b\b| \b\b/ \b\b- \b\b\\ \b\b| \b\b/ \b\b- \b\b\\ \b\b| \b\b/ \b\b- \b\b\\ \b\b| \b\b/ \b\b- \b\b\\ \b\b| \b\b/ \b\b- \b\b\\ \b\b| \b\b/ \b\b- \b\b\\ \b\b| \b\b/ \b\b- \b\b\\ \b\b| \b\b/ \b\b- \b\b\\ \b\b| \b\b/ \b\b- \b\b\\ \b\b| \b\b/ \b\b- \b\b\\ \b\b| \b\b/ \b\b- \b\b\\ \b\b| \b\b/ \b\b- \b\b\\ \b\b| \b\b/ \b\b- \b\b\\ \b\b| \b\b/ \b\b- \b\b\\ \b\b| \b\b/ \b\b- \b\b\\ \b\b| \b\b/ \b\b- \b\b\\ \b\b| \b\b/ \b\b- \b\b\\ \b\b| \b\b/ \b\b- \b\b\\ \b\b| \b\b/ \b\b- \b\b\\ \b\b| \b\b/ \b\b- \b\b\\ \b\b| \b\b/ \b\b- \b\b\\ \b\b| \b\b/ \b\b- \b\b\\ \b\b| \b\b/ \b\b- \b\b\\ \b\b| \b\b/ \b\b- \b\b\\ \b\b| \b\b/ \b\b- \b\b\\ \b\b| \b\b/ \b\b- \b\b\\ \b\b| \b\b/ \b\b- \b\b\\ \b\b| \b\b/ \b\b- \b\b\\ \b\b| \b\b/ \b\b- \b\b\\ \b\b| \b\b/ \b\b- \b\b\\ \b\b| \b\b/ \b\b- \b\b\\ \b\b| \b\b/ \b\b- \b\b\\ \b\b| \b\b/ \b\b- \b\b\\ \b\b| \b\b/ \b\b- \b\b\\ \b\b| \b\b/ \b\b- \b\b\\ \b\b| \b\b/ \b\b- \b\b\\ \b\b| \b\b/ \b\b- \b\b\\ \b\b| \b\b/ \b\b- \b\b\\ \b\b| \b\b/ \b\b- \b\b\\ \b\b| \b\b/ \b\b- \b\b\\ \b\b| \b\b/ \b\b- \b\b\\ \b\b| \b\b/ \b\b- \b\b\\ \b\b| \b\b/ \b\b- \b\b\\ \b\b| \b\b/ \b\b- \b\b\\ \b\b| \b\b/ \b\b- \b\b\\ \b\b| \b\b/ \b\b- \b\b\\ \b\b| \b\b/ \b\b- \b\b\\ \b\b| \b\b/ \b\b- \b\b\\ \b\b| \b\b/ \b\b- \b\b\\ \b\b| \b\b/ \b\b- \b\b\\ \b\b| \b\b/ \b\b- \b\b\\ \b\b| \b\b/ \b\b- \b\b\\ \b\b| \b\b/ \b\b- \b\b\\ \b\b| \b\b/ \b\b- \b\b\\ \b\b| \b\b/ \b\b- \b\b\\ \b\b| \b\b/ \b\b- \b\b\\ \b\b| \b\b/ \b\b- \b\b\\ \b\b| \b\b/ \b\b- \b\b\\ \b\b| \b\b/ \b\b- \b\b\\ \b\b| \b\b/ \b\b- \b\b\\ \b\b| \b\b/ \b\b- \b\b\\ \b\b| \b\b/ \b\b- \b\b\\ \b\b| \b\b/ \b\b- \b\b\\ \b\b| \b\b/ \b\b- \b\b\\ \b\b| \b\b/ \b\b- \b\b\\ \b\b| \b\b/ \b\b- \b\b\\ \b\b| \b\b/ \b\b- \b\b\\ \b\b| \b\b/ \b\b- \b\b\\ \b\b| \b\b/ \b\b- \b\b\\ \b\b| \b\b/ \b\b- \b\b\\ \b\b| \b\b/ \b\b- \b\b\\ \b\b| \b\b/ \b\b- \b\b\\ \b\b| \b\b/ \b\b- \b\b\\ \b\b| \b\b/ \b\b- \b\b\\ \b\b| \b\b/ \b\b- \b\b\\ \b\b| \b\b/ \b\b- \b\b\\ \b\b| \b\b/ \b\b- \b\b\\ \b\b| \b\b/ \b\b- \b\b\\ \b\b| \b\b/ \b\b- \b\b\\ \b\b| \b\b/ \b\b- \b\b\\ \b\b| \b\b/ \b\b- \b\b\\ \b\b| \b\b/ \b\b- \b\b\\ \b\b| \b\b/ \b\b- \b\b\\ \b\b| \b\b/ \b\b- \b\b\\ \b\b| \b\b/ \b\b- \b\b\\ \b\b| \b\b/ \b\b- \b\b\\ \b\b| \b\b/ \b\b- \b\b\\ \b\b| \b\b/ \b\b- \b\b\\ \b\b| \b\b/ \b\b- \b\b\\ \b\b| \b\b/ \b\b- \b\b\\ \b\b| \b\b/ \b\b- \b\b\\ \b\b| \b\b/ \b\b- \b\b\\ \b\b| \b\b/ \b\b- \b\b\\ \b\b| \b\b/ \b\b- \b\b\\ \b\b| \b\b/ \b\b- \b\b\\ \b\b| \b\b/ \b\b- \b\b\\ \b\b| \b\b/ \b\b- \b\b\\ \b\b| \b\b/ \b\b- \b\b\\ \b\b| \b\b/ \b\b- \b\b\\ \b\b| \b\b/ \b\b- \b\b\\ \b\b| \b\b/ \b\b- \b\b\\ \b\b| \b\b/ \b\b- \b\b\\ \b\b| \b\b/ \b\b- \b\b\\ \b\b| \b\b/ \b\b- \b\b\\ \b\b| \b\b/ \b\b- \b\b\\ \b\b| \b\b/ \b\b- \b\b\\ \b\b| \b\b/ \b\b- \b\b\\ \b\b| \b\b/ \b\b- \b\b\\ \b\b| \b\b/ \b\b- \b\b\\ \b\b| \b\b/ \b\b- \b\b\\ \b\b| \b\b/ \b\b- \b\b\\ \b\b| \b\b/ \b\b- \b\b\\ \b\b| \b\b/ \b\b- \b\b\\ \b\b| \b\b/ \b\b- \b\b\\ \b\b| \b\b/ \b\b- \b\b\\ \b\b| \b\b/ \b\b- \b\b\\ \b\b| \b\b/ \b\b- \b\b\\ \b\b| \b\b/ \b\b- \b\b\\ \b\b| \b\b/ \b\b- \b\b\\ \b\b| \b\b/ \b\b- \b\b\\ \b\b| \b\b/ \b\b- \b\b\\ \b\b| \b\b/ \b\b- \b\b\\ \b\b| \b\b/ \b\b- \b\b\\ \b\b| \b\b/ \b\b- \b\b\\ \b\b| \b\b/ \b\b- \b\b\\ \b\b| \b\b/ \b\b- \b\b\\ \b\b| \b\b/ \b\b- \b\b\\ \b\b| \b\b/ \b\b- \b\b\\ \b\b| \b\b/ \b\b- \b\b\\ \b\b| \b\b/ \b\b- \b\b\\ \b\b| \b\b/ \b\b- \b\b\\ \b\b| \b\b/ \b\b- \b\b\\ \b\b| \b\b/ \b\b- \b\b\\ \b\b| \b\b/ \b\b- \b\b\\ \b\b| \b\b/ \b\b- \b\b\\ \b\b| \b\b/ \b\b- \b\b\\ \b\b| \b\b/ \b\b- \b\b\\ \b\b| \b\b/ \b\b- \b\b\\ \b\b| \b\b/ \b\b- \b\b\\ \b\b| \b\b/ \b\b- \b\b\\ \b\b| \b\b/ \b\b- \b\b\\ \b\b| \b\b/ \b\b- \b\b\\ \b\b| \b\b/ \b\b- \b\b\\ \b\b| \b\b/ \b\b- \b\b\\ \b\b| \b\b/ \b\b- \b\b\\ \b\b| \b\b/ \b\b- \b\b\\ \b\b| \b\b/ \b\b- \b\b\\ \b\b| \b\b/ \b\b- \b\b\\ \b\b| \b\b/ \b\b- \b\b\\ \b\b| \b\b/ \b\b- \b\b\\ \b\b| \b\b/ \b\b- \b\b\\ \b\b| \b\b/ \b\b- \b\b\\ \b\b| \b\b/ \b\b- \b\b\\ \b\b| \b\b/ \b\b- \b\b\\ \b\b| \b\b/ \b\b- \b\b\\ \b\b| \b\b/ \b\b- \b\b\\ \b\b| \b\b/ \b\b- \b\b\\ \b\b| \b\b/ \b\b- \b\b\\ \b\b| \b\b/ \b\b- \b\b\\ \b\b| \b\b/ \b\b- \b\b\\ \b\b| \b\b/ \b\b- \b\b\\ \b\b| \b\b/ \b\b- \b\b\\ \b\b| \b\b/ \b\b- \b\b\\ \b\b| \b\b/ \b\b- \b\b\\ \b\b| \b\b/ \b\b- \b\b\\ \b\b| \b\b/ \b\b- \b\b\\ \b\b| \b\b/ \b\b- \b\b\\ \b\b| \b\b/ \b\b- \b\b\\ \b\b| \b\b/ \b\b- \b\b\\ \b\b| \b\b/ \b\b- \b\b\\ \b\b| \b\b/ \b\b- \b\b\\ \b\b| \b\b/ \b\b- \b\b\\ \b\b| \b\b/ \b\b- \b\b\\ \b\b| \b\b/ \b\b- \b\b\\ \b\b| \b\b/ \b\b- \b\b\\ \b\b| \b\b/ \b\b- \b\b\\ \b\b| \b\b/ \b\b- \b\b\\ \b\b| \b\b/ \b\b- \b\b\\ \b\b| \b\b/ \b\b- \b\b\\ \b\b| \b\b/ \b\b- \b\b\\ \b\b| \b\b/ \b\b- \b\b\\ \b\b| \b\b/ \b\b- \b\b\\ \b\b| \b\b/ \b\b- \b\b\\ \b\b| \b\b/ \b\b- \b\b\\ \b\b| \b\b/ \b\b- \b\b\\ \b\b| \b\b/ \b\b- \b\b\\ \b\b| \b\b/ \b\b- \b\b\\ \b\b| \b\b/ \b\b- \b\b\\ \b\b| \b\b/ \b\b- \b\b\\ \b\b| \b\b/ \b\b- \b\b\\ \b\b| \b\b/ \b\b- \b\b\\ \b\b| \b\b/ \b\b- \b\b\\ \b\b| \b\b/ \b\b- \b\b\\ \b\b| \b\b/ \b\b- \b\b\\ \b\b| \b\b/ \b\b- \b\b\\ \b\b| \b\b/ \b\b- \b\b\\ \b\b| \b\b/ \b\b- \b\b\\ \b\b| \b\b/ \b\b- \b\b\\ \b\b| \b\b/ \b\b- \b\b\\ \b\b| \b\b/ \b\b- \b\b\\ \b\b| \b\b/ \b\b- \b\b\\ \b\b| \b\b/ \b\b- \b\b\\ \b\b| \b\b/ \b\b- \b\b\\ \b\b| \b\b/ \b\b- \b\b\\ \b\b| \b\b/ \b\b- \b\b\\ \b\b| \b\b/ \b\b- \b\b\\ \b\b| \b\b/ \b\b- \b\b\\ \b\b| \b\b/ \b\b- \b\b\\ \b\b| \b\b/ \b\b- \b\b\\ \b\b| \b\b/ \b\b- \b\b\\ \b\b| \b\b/ \b\b- \b\b\\ \b\b| \b\b/ \b\b- \b\b\\ \b\b| \b\b/ \b\b- \b\b\\ \b\b| \b\b/ \b\b- \b\b\\ \b\b| \b\b/ \b\b- \b\b\\ \b\b| \b\b/ \b\b- \b\b\\ \b\b| \b\b/ \b\b- \b\b\\ \b\b| \b\b/ \b\b- \b\b\\ \b\b| \b\b/ \b\b- \b\b\\ \b\b| \b\b/ \b\b- \b\b\\ \b\b| \b\b/ \b\b- \b\b\\ \b\b| \b\b/ \b\b- \b\b\\ \b\b| \b\b/ \b\b- \b\b\\ \b\b| \b\b/ \b\b- \b\b\\ \b\b| \b\b/ \b\b- \b\b\\ \b\b| \b\b/ \b\b- \b\b\\ \b\b| \b\b/ \b\b- \b\b\\ \b\b| \b\b/ \b\b- \b\b\\ \b\b| \b\b/ \b\b- \b\b\\ \b\b| \b\b/ \b\b- \b\b\\ \b\b| \b\b/ \b\b- \b\b\\ \b\b| \b\b/ \b\b- \b\b\\ \b\b| \b\b/ \b\b- \b\b\\ \b\b| \b\b/ \b\b- \b\b\\ \b\b| \b\b/ \b\b- \b\b\\ \b\b| \b\b/ \b\b- \b\b\\ \b\b| \b\b/ \b\b- \b\b\\ \b\b| \b\b/ \b\b- \b\b\\ \b\b| \b\b/ \b\b- \b\b\\ \b\b| \b\b/ \b\b- \b\b\\ \b\b| \b\b/ \b\b- \b\b\\ \b\b| \b\b/ \b\b- \b\b\\ \b\b| \b\b/ \b\b- \b\b\\ \b\b| \b\b/ \b\b- \b\b\\ \b\b| \b\b/ \b\b- \b\b\\ \b\b| \b\b/ \b\b- \b\b\\ \b\b| \b\b/ \b\b- \b\b\\ \b\b| \b\b/ \b\b- \b\b\\ \b\b| \b\b/ \b\b- \b\b\\ \b\b| \b\b/ \b\b- \b\b\\ \b\b| \b\b/ \b\b- \b\b\\ \b\b| \b\b/ \b\b- \b\b\\ \b\b| \b\b/ \b\b- \b\b\\ \b\b| \b\b/ \b\b- \b\b\\ \b\b| \b\b/ \b\b- \b\b\\ \b\b| \b\b/ \b\b- \b\b\\ \b\b| \b\b/ \b\b- \b\b\\ \b\b| \b\b/ \b\b- \b\b\\ \b\b| \b\b/ \b\b- \b\b\\ \b\b| \b\b/ \b\b- \b\b\\ \b\b| \b\b/ \b\b- \b\b\\ \b\b| \b\b/ \b\b- \b\b\\ \b\b| \b\b/ \b\b- \b\b\\ \b\b| \b\b/ \b\b- \b\b\\ \b\b| \b\b/ \b\b- \b\b\\ \b\b| \b\b/ \b\b- \b\b\\ \b\b| \b\b/ \b\b- \b\b\\ \b\b| \b\b/ \b\b- \b\b\\ \b\b| \b\b/ \b\b- \b\b\\ \b\b| \b\b/ \b\b- \b\b\\ \b\b| \b\b/ \b\b- \b\b\\ \b\b| \b\b/ \b\b- \b\b\\ \b\b| \b\b/ \b\b- \b\b\\ \b\b| \b\b/ \b\b- \b\b\\ \b\b| \b\b/ \b\b- \b\b\\ \b\b| \b\b/ \b\b- \b\b\\ \b\b| \b\b/ \b\b- \b\b\\ \b\b| \b\b/ \b\b- \b\b\\ \b\b| \b\b/ \b\b- \b\b\\ \b\b| \b\b/ \b\b- \b\b\\ \b\b| \b\b/ \b\b- \b\b\\ \b\b| \b\b/ \b\b- \b\b\\ \b\b| \b\b/ \b\b- \b\b\\ \b\b| \b\b/ \b\b- \b\b\\ \b\b| \b\b/ \b\b- \b\b\\ \b\b| \b\b/ \b\b- \b\b\\ \b\b| \b\b/ \b\b- \b\b\\ \b\b| \b\b/ \b\b- \b\b\\ \b\b| \b\b/ \b\b- \b\b\\ \b\b| \b\b/ \b\b- \b\b\\ \b\b| \b\b/ \b\b- \b\b\\ \b\b| \b\b/ \b\b- \b\b\\ \b\b| \b\b/ \b\b- \b\b\\ \b\b| \b\b/ \b\b- \b\b\\ \b\b| \b\b/ \b\b- \b\b\\ \b\b| \b\b/ \b\b- \b\b\\ \b\b| \b\b/ \b\b- \b\b\\ \b\b| \b\b/ \b\b- \b\b\\ \b\b| \b\b/ \b\b- \b\b\\ \b\b| \b\b/ \b\b- \b\b\\ \b\b| \b\b/ \b\b- \b\b\\ \b\b| \b\b/ \b\b- \b\b\\ \b\b| \b\b/ \b\b- \b\b\\ \b\b| \b\b/ \b\b- \b\b\\ \b\b| \b\b/ \b\b- \b\b\\ \b\b| \b\b/ \b\b- \b\b\\ \b\b| \b\b/ \b\b- \b\b\\ \b\b| \b\b/ \b\b- \b\b\\ \b\b| \b\b/ \b\b- \b\b\\ \b\b| \b\b/ \b\b- \b\b\\ \b\b| \b\b/ \b\b- \b\b\\ \b\b| \b\b/ \b\b- \b\b\\ \b\b| \b\b/ \b\b- \b\b\\ \b\b| \b\b/ \b\b- \b\b\\ \b\b| \b\b/ \b\b- \b\b\\ \b\b| \b\b/ \b\b- \b\b\\ \b\b| \b\b/ \b\b- \b\b\\ \b\b| \b\b/ \b\b- \b\b\\ \b\b| \b\b/ \b\b- \b\b\\ \b\b| \b\b/ \b\b- \b\b\\ \b\b| \b\b/ \b\b- \b\b\\ \b\b| \b\b/ \b\b- \b\b\\ \b\b| \b\b/ \b\b- \b\b\\ \b\b| \b\b/ \b\b- \b\b\\ \b\b| \b\b/ \b\b- \b\b\\ \b\b| \b\b/ \b\b- \b\b\\ \b\b| \b\b/ \b\b- \b\b\\ \b\b| \b\b/ \b\b- \b\b\\ \b\b| \b\b/ \b\b- \b\b\\ \b\b| \b\b/ \b\b- \b\b\\ \b\b| \b\b/ \b\b- \b\b\\ \b\b| \b\b/ \b\b- \b\b\\ \b\b| \b\b/ \b\b- \b\b\\ \b\b| \b\b/ \b\b- \b\b\\ \b\b| \b\b/ \b\b- \b\b\\ \b\b| \b\b/ \b\b- \b\b\\ \b\b| \b\b/ \b\b- \b\b\\ \b\b| \b\b/ \b\b- \b\b\\ \b\b| \b\b/ \b\b- \b\b\\ \b\b| \b\b/ \b\b- \b\b\\ \b\b| \b\b/ \b\b- \b\b\\ \b\b| \b\b/ \b\b- \b\b\\ \b\b| \b\b/ \b\b- \b\b\\ \b\b| \b\b/ \b\b- \b\b\\ \b\b| \b\b/ \b\b- \b\b\\ \b\b| \b\b/ \b\b- \b\b\\ \b\b| \b\b/ \b\b- \b\b\\ \b\b| \b\b/ \b\b- \b\b\\ \b\b| \b\b/ \b\b- \b\b\\ \b\b| \b\b/ \b\b- \b\b\\ \b\b| \b\b/ \b\b- \b\b\\ \b\b| \b\b/ \b\b- \b\b\\ \b\b| \b\b/ \b\b- \b\b\\ \b\b| \b\b/ \b\b- \b\b\\ \b\b| \b\b/ \b\b- \b\b\\ \b\b| \b\b/ \b\b- \b\b\\ \b\b| \b\b/ \b\b- \b\b\\ \b\b| \b\b/ \b\b- \b\b\\ \b\b| \b\b/ \b\b- \b\b\\ \b\b| \b\b/ \b\b- \b\b\\ \b\b| \b\b/ \b\b- \b\b\\ \b\b| \b\b/ \b\b- \b\b\\ \b\b| \b\b/ \b\b- \b\b\\ \b\b| \b\b/ \b\b- \b\b\\ \b\b| \b\b/ \b\b- \b\b\\ \b\b| \b\b/ \b\b- \b\b\\ \b\b| \b\b/ \b\b- \b\b\\ \b\b| \b\b/ \b\b- \b\b\\ \b\b| \b\b/ \b\b- \b\b\\ \b\b| \b\b/ \b\b- \b\b\\ \b\b| \b\b/ \b\b- \b\b\\ \b\b| \b\b/ \b\b- \b\b\\ \b\b| \b\b/ \b\b- \b\b\\ \b\b| \b\b/ \b\b- \b\b\\ \b\b| \b\b/ \b\b- \b\b\\ \b\b| \b\b/ \b\b- \b\b\\ \b\b| \b\b/ \b\b- \b\b\\ \b\b| \b\b/ \b\b- \b\b\\ \b\b| \b\b/ \b\b- \b\b\\ \b\b| \b\b/ \b\b- \b\b\\ \b\b| \b\b/ \b\b- \b\b\\ \b\b| \b\b/ \b\b- \b\b\\ \b\b| \b\b/ \b\b- \b\b\\ \b\b| \b\b/ \b\b- \b\b\\ \b\b| \b\b/ \b\b- \b\b\\ \b\b| \b\b/ \b\b- \b\b\\ \b\b| \b\b/ \b\b- \b\b\\ \b\b| \b\b/ \b\b- \b\b\\ \b\b| \b\b/ \b\b- \b\b\\ \b\b| \b\b/ \b\b- \b\b\\ \b\b| \b\b/ \b\b- \b\b\\ \b\b| \b\b/ \b\b- \b\b\\ \b\b| \b\b/ \b\b- \b\b\\ \b\b| \b\b/ \b\b- \b\b\\ \b\b| \b\b/ \b\b- \b\b\\ \b\b| \b\b/ \b\b- \b\b\\ \b\b| \b\b/ \b\b- \b\b\\ \b\b| \b\b/ \b\b- \b\b\\ \b\b| \b\b/ \b\b- \b\b\\ \b\b| \b\b/ \b\b- \b\b\\ \b\b| \b\b/ \b\b- \b\b\\ \b\b| \b\b/ \b\b- \b\b\\ \b\b| \b\b/ \b\b- \b\b\\ \b\b| \b\b/ \b\b- \b\b\\ \b\b| \b\b/ \b\b- \b\b\\ \b\b| \b\b/ \b\b- \b\b\\ \b\b| \b\b/ \b\b- \b\b\\ \b\b| \b\b/ \b\b- \b\b\\ \b\b| \b\b/ \b\b- \b\b\\ \b\b| \b\b/ \b\b- \b\b\\ \b\b| \b\b/ \b\b- \b\b\\ \b\b| \b\b/ \b\b- \b\b\\ \b\b| \b\b/ \b\b- \b\b\\ \b\b| \b\b/ \b\b- \b\b\\ \b\b| \b\b/ \b\b- \b\b\\ \b\b| \b\b/ \b\b- \b\b\\ \b\b| \b\b/ \b\b- \b\b\\ \b\b| \b\b/ \b\b- \b\b\\ \b\b| \b\b/ \b\b- \b\b\\ \b\b| \b\b/ \b\b- \b\b\\ \b\b| \b\b/ \b\b- \b\b\\ \b\b| \b\b/ \b\b- \b\b\\ \b\b| \b\b/ \b\b- \b\b\\ \b\b| \b\b/ \b\b- \b\b\\ \b\b| \b\b/ \b\b- \b\b\\ \b\b| \b\b/ \b\b- \b\b\\ \b\b| \b\b/ \b\b- \b\b\\ \b\b| \b\b/ \b\b- \b\b\\ \b\b| \b\b/ \b\b- \b\b\\ \b\b| \b\b/ \b\b- \b\b\\ \b\b| \b\b/ \b\b- \b\b\\ \b\b| \b\b/ \b\b- \b\b\\ \b\b| \b\b/ \b\b- \b\b\\ \b\b| \b\b/ \b\b- \b\b\\ \b\b| \b\b/ \b\b- \b\b\\ \b\b| \b\b/ \b\b- \b\b\\ \b\b| \b\b/ \b\b- \b\b\\ \b\b| \b\b/ \b\b- \b\b\\ \b\b| \b\b/ \b\b- \b\b\\ \b\b| \b\b/ \b\b- \b\b\\ \b\b| \b\b/ \b\b- \b\b\\ \b\b| \b\b/ \b\b- \b\b\\ \b\b| \b\b/ \b\b- \b\b\\ \b\b| \b\b/ \b\b- \b\b\\ \b\b| \b\b/ \b\b- \b\b\\ \b\b| \b\b/ \b\b- \b\b\\ \b\b| \b\b/ \b\b- \b\b\\ \b\b| \b\b/ \b\b- \b\b\\ \b\b| \b\b/ \b\b- \b\b\\ \b\b| \b\b/ \b\b- \b\b\\ \b\b| \b\b/ \b\b- \b\b\\ \b\b| \b\b/ \b\b- \b\b\\ \b\b| \b\b/ \b\b- \b\b\\ \b\b| \b\b/ \b\b- \b\b\\ \b\b| \b\b/ \b\b- \b\b\\ \b\b| \b\b/ \b\b- \b\b\\ \b\b| \b\b/ \b\b- \b\b\\ \b\b| \b\b/ \b\b- \b\b\\ \b\b| \b\b/ \b\b- \b\b\\ \b\b| \b\b/ \b\b- \b\b\\ \b\b| \b\b/ \b\b- \b\b\\ \b\b| \b\b/ \b\b- \b\b\\ \b\b| \b\b/ \b\b- \b\b\\ \b\b| \b\b/ \b\b- \b\b\\ \b\b| \b\b/ \b\b- \b\b\\ \b\b| \b\b/ \b\b- \b\b\\ \b\b| \b\b/ \b\b- \b\b\\ \b\b| \b\b/ \b\b- \b\b\\ \b\b| \b\b/ \b\b- \b\b\\ \b\b| \b\b/ \b\b- \b\b\\ \b\b| \b\b/ \b\b- \b\b\\ \b\b| \b\b/ \b\b- \b\b\\ \b\b| \b\b/ \b\b- \b\b\\ \b\b| \b\b/ \b\b- \b\b\\ \b\b| \b\b/ \b\b- \b\b\\ \b\b| \b\b/ \b\b- \b\b\\ \b\b| \b\b/ \b\b- \b\b\\ \b\b| \b\b/ \b\b- \b\b\\ \b\b| \b\b/ \b\b- \b\b\\ \b\b| \b\b/ \b\b- \b\b\\ \b\b| \b\b/ \b\b- \b\b\\ \b\b| \b\b/ \b\b- \b\b\\ \b\b| \b\b/ \b\b- \b\b\\ \b\b| \b\b/ \b\b- \b\b\\ \b\b| \b\b/ \b\b- \b\b\\ \b\b| \b\b/ \b\b- \b\b\\ \b\b| \b\b/ \b\b- \b\b\\ \b\b| \b\b/ \b\b- \b\b\\ \b\b| \b\b/ \b\b- \b\b\\ \b\b| \b\b/ \b\b- \b\b\\ \b\b| \b\b/ \b\b- \b\b\\ \b\b| \b\b/ \b\b- \b\b\\ \b\b| \b\b/ \b\b- \b\b\\ \b\b| \b\b/ \b\b- \b\b\\ \b\b| \b\b/ \b\b- \b\b\\ \b\b| \b\b/ \b\b- \b\b\\ \b\b| \b\b/ \b\b- \b\b\\ \b\b| \b\b/ \b\b- \b\b\\ \b\b| \b\b/ \b\b- \b\b\\ \b\b| \b\b/ \b\b- \b\b\\ \b\b| \b\b/ \b\b- \b\b\\ \b\b| \b\b/ \b\b- \b\b\\ \b\b| \b\b/ \b\b- \b\b\\ \b\b| \b\b/ \b\b- \b\b\\ \b\b| \b\b/ \b\b- \b\b\\ \b\b| \b\b/ \b\b- \b\b\\ \b\b| \b\b/ \b\b- \b\b\\ \b\b| \b\b/ \b\b- \b\b\\ \b\b| \b\b/ \b\b- \b\b\\ \b\b| \b\b/ \b\b- \b\b\\ \b\b| \b\b/ \b\b- \b\b\\ \b\b| \b\b/ \b\b- \b\b\\ \b\b| \b\b/ \b\b- \b\b\\ \b\b| \b\b/ \b\b- \b\b\\ \b\b| \b\b/ \b\b- \b\b\\ \b\b| \b\b/ \b\b- \b\b\\ \b\b| \b\b/ \b\b- \b\b\\ \b\b| \b\b/ \b\b- \b\b\\ \b\b| \b\b/ \b\b- \b\b\\ \b\b| \b\b/ \b\b- \b\b\\ \b\b| \b\b/ \b\b- \b\b\\ \b\b| \b\b/ \b\b- \b\b\\ \b\b| \b\b/ \b\b- \b\b\\ \b\b| \b\b/ \b\b- \b\b\\ \b\b| \b\b/ \b\b- \b\b\\ \b\b| \b\b/ \b\b- \b\b\\ \b\b| \b\b/ \b\b- \b\b\\ \b\b| \b\b/ \b\b- \b\b\\ \b\b| \b\b/ \b\b- \b\b\\ \b\b| \b\b/ \b\b- \b\b\\ \b\b| \b\b/ \b\b- \b\b\\ \b\b| \b\b/ \b\b- \b\b\\ \b\b| \b\b/ \b\b- \b\b\\ \b\b| \b\b/ \b\b- \b\b\\ \b\b| \b\b/ \b\b- \b\b\\ \b\b| \b\b/ \b\b- \b\b\\ \b\b| \b\b/ \b\b- \b\b\\ \b\b| \b\b/ \b\b- \b\b\\ \b\b| \b\b/ \b\b- \b\b\\ \b\b| \b\b/ \b\b- \b\b\\ \b\b| \b\b/ \b\b- \b\b\\ \b\b| \b\b/ \b\b- \b\b\\ \b\b| \b\b/ \b\b- \b\b\\ \b\b| \b\b/ \b\b- \b\b\\ \b\b| \b\b/ \b\b- \b\b\\ \b\b| \b\b/ \b\b- \b\b\\ \b\b| \b\b/ \b\b- \b\b\\ \b\b| \b\b/ \b\b- \b\b\\ \b\b| \b\b/ \b\b- \b\b\\ \b\b| \b\b/ \b\b- \b\b\\ \b\b| \b\b/ \b\b- \b\b\\ \b\b| \b\b/ \b\b- \b\b\\ \b\b| \b\b/ \b\b- \b\b\\ \b\b| \b\b/ \b\b- \b\b\\ \b\b| \b\b/ \b\b- \b\b\\ \b\b| \b\b/ \b\b- \b\b\\ \b\b| \b\b/ \b\b- \b\b\\ \b\b| \b\b/ \b\b- \b\b\\ \b\b| \b\b/ \b\b- \b\b\\ \b\b| \b\b/ \b\b- \b\b\\ \b\b| \b\b/ \b\b- \b\b\\ \b\b| \b\b/ \b\b- \b\b\\ \b\b| \b\b/ \b\b- \b\b\\ \b\b| \b\b/ \b\b- \b\b\\ \b\b| \b\b/ \b\b- \b\b\\ \b\b| \b\b/ \b\b- \b\b\\ \b\b| \b\b/ \b\b- \b\b\\ \b\b| \b\b/ \b\b- \b\b\\ \b\b| \b\b/ \b\b- \b\b\\ \b\b| \b\b/ \b\b- \b\b\\ \b\b| \b\b/ \b\b- \b\b\\ \b\b| \b\b/ \b\b- \b\b\\ \b\b| \b\b/ \b\b- \b\b\\ \b\b| \b\b/ \b\b- \b\b\\ \b\b| \b\b/ \b\b- \b\b\\ \b\b| \b\b/ \b\b- \b\b\\ \b\b| \b\b/ \b\b- \b\b\\ \b\b| \b\b/ \b\b- \b\b\\ \b\b| \b\b/ \b\b- \b\b\\ \b\b| \b\b/ \b\b- \b\b\\ \b\b| \b\b/ \b\b- \b\b\\ \b\b| \b\b/ \b\b- \b\b\\ \b\b| \b\b/ \b\b- \b\b\\ \b\b| \b\b/ \b\b- \b\b\\ \b\b| \b\b/ \b\b- \b\b\\ \b\b| \b\b/ \b\b- \b\b\\ \b\b| \b\b/ \b\b- \b\b\\ \b\b| \b\b/ \b\b- \b\b\\ \b\b| \b\b/ \b\b- \b\b\\ \b\b| \b\b/ \b\b- \b\b\\ \b\b| \b\b/ \b\b- \b\b\\ \b\b| \b\b/ \b\b- \b\b\\ \b\b| \b\b/ \b\b- \b\b\\ \b\b| \b\b/ \b\b- \b\b\\ \b\b| \b\b/ \b\b- \b\b\\ \b\b| \b\b/ \b\b- \b\b\\ \b\b| \b\b/ \b\b- \b\b\\ \b\b| \b\b/ \b\b- \b\b\\ \b\b| \b\b/ \b\b- \b\b\\ \b\b| \b\b/ \b\b- \b\b\\ \b\b| \b\b/ \b\b- \b\b\\ \b\b| \b\b/ \b\b- \b\b\\ \b\b| \b\b/ \b\b- \b\b\\ \b\b| \b\b/ \b\b- \b\b\\ \b\b| \b\b/ \b\b- \b\b\\ \b\b| \b\b/ \b\b- \b\b\\ \b\b| \b\b/ \b\b- \b\b\\ \b\b| \b\b/ \b\b- \b\b\\ \b\b| \b\b/ \b\b- \b\b\\ \b\b| \b\b/ \b\b- \b\b\\ \b\b| \b\b/ \b\b- \b\b\\ \b\b| \b\b/ \b\b- \b\b\\ \b\b| \b\b/ \b\b- \b\b\\ \b\b| \b\b/ \b\b- \b\b\\ \b\b| \b\b/ \b\b- \b\b\\ \b\b| \b\b/ \b\b- \b\b\\ \b\b| \b\b/ \b\b- \b\b\\ \b\b| \b\b/ \b\b- \b\b\\ \b\b| \b\b/ \b\b- \b\b\\ \b\b| \b\b/ \b\b- \b\b\\ \b\b| \b\b/ \b\b- \b\b\\ \b\b| \b\b/ \b\b- \b\b\\ \b\b| \b\b/ \b\b- \b\b\\ \b\b| \b\b/ \b\b- \b\b\\ \b\b| \b\b/ \b\b- \b\b\\ \b\b| \b\b/ \b\b- \b\b\\ \b\b| \b\b/ \b\b- \b\b\\ \b\b| \b\b/ \b\b- \b\b\\ \b\b| \b\b/ \b\b- \b\b\\ \b\b| \b\b/ \b\b- \b\b\\ \b\b| \b\b/ \b\b- \b\b\\ \b\b| \b\b/ \b\b- \b\b\\ \b\b| \b\b/ \b\b- \b\b\\ \b\b| \b\b/ \b\b- \b\b\\ \b\b| \b\b/ \b\b- \b\b\\ \b\b| \b\b/ \b\b- \b\b\\ \b\b| \b\b/ \b\b- \b\b\\ \b\b| \b\b/ \b\b- \b\b\\ \b\b| \b\b/ \b\b- \b\b\\ \b\b| \b\b/ \b\b- \b\b\\ \b\b| \b\b/ \b\b- \b\b\\ \b\b| \b\b/ \b\b- \b\b\\ \b\b| \b\b/ \b\b- \b\b\\ \b\b| \b\b/ \b\b- \b\b\\ \b\b| \b\b/ \b\b- \b\b\\ \b\b| \b\b/ \b\b- \b\b\\ \b\b| \b\b/ \b\b- \b\b\\ \b\b| \b\b/ \b\b- \b\b\\ \b\b| \b\b/ \b\b- \b\b\\ \b\b| \b\b/ \b\b- \b\b\\ \b\b| \b\b/ \b\b- \b\b\\ \b\b| \b\b/ \b\b- \b\b\\ \b\b| \b\b/ \b\b- \b\b\\ \b\b| \b\b/ \b\b- \b\b\\ \b\b| \b\b/ \b\b- \b\b\\ \b\b| \b\b/ \b\b- \b\b\\ \b\b| \b\b/ \b\b- \b\b\\ \b\b| \b\b/ \b\b- \b\b\\ \b\b| \b\b/ \b\b- \b\b\\ \b\b| \b\b/ \b\b- \b\b\\ \b\b| \b\b/ \b\b- \b\b\\ \b\b| \b\b/ \b\b- \b\b\\ \b\b| \b\b/ \b\b- \b\b\\ \b\b| \b\b/ \b\b- \b\b\\ \b\b| \b\b/ \b\b- \b\b\\ \b\b| \b\b/ \b\b- \b\b\\ \b\b| \b\b/ \b\b- \b\b\\ \b\b| \b\b/ \b\b- \b\b\\ \b\b| \b\b/ \b\b- \b\b\\ \b\b| \b\b/ \b\b- \b\b\\ \b\b| \b\b/ \b\b- \b\b\\ \b\b| \b\b/ \b\b- \b\b\\ \b\b| \b\b/ \b\b- \b\b\\ \b\b| \b\b/ \b\b- \b\b\\ \b\b| \b\b/ \b\b- \b\b\\ \b\b| \b\b/ \b\b- \b\b\\ \b\b| \b\b/ \b\b- \b\b\\ \b\b| \b\b/ \b\b- \b\b\\ \b\b| \b\b/ \b\b- \b\b\\ \b\b| \b\b/ \b\b- \b\b\\ \b\b| \b\b/ \b\b- \b\b\\ \b\b| \b\b/ \b\b- \b\b\\ \b\b| \b\b/ \b\b- \b\b\\ \b\b| \b\b/ \b\b- \b\b\\ \b\b| \b\b/ \b\b- \b\b\\ \b\b| \b\b/ \b\b- \b\b\\ \b\b| \b\b/ \b\b- \b\b\\ \b\b| \b\b/ \b\b- \b\b\\ \b\b| \b\b/ \b\b- \b\b\\ \b\b| \b\b/ \b\b- \b\b\\ \b\b| \b\b/ \b\b- \b\b\\ \b\b| \b\b/ \b\b- \b\b\\ \b\b| \b\b/ \b\b- \b\b\\ \b\b| \b\b/ \b\b- \b\b\\ \b\b| \b\b/ \b\b- \b\b\\ \b\b| \b\b/ \b\b- \b\b\\ \b\b| \b\b/ \b\b- \b\b\\ \b\b| \b\b/ \b\b- \b\b\\ \b\b| \b\b/ \b\b- \b\b\\ \b\b| \b\b/ \b\b- \b\b\\ \b\b| \b\b/ \b\b- \b\b\\ \b\b| \b\b/ \b\b- \b\b\\ \b\b| \b\b/ \b\b- \b\b\\ \b\b| \b\b/ \b\b- \b\b\\ \b\b| \b\b/ \b\b- \b\b\\ \b\b| \b\b/ \b\b- \b\b\\ \b\b| \b\b/ \b\b- \b\b\\ \b\b| \b\b/ \b\b- \b\b\\ \b\b| \b\b/ \b\b- \b\b\\ \b\b| \b\b/ \b\b- \b\b\\ \b\b| \b\b/ \b\b- \b\b\\ \b\b| \b\b/ \b\b- \b\b\\ \b\b| \b\b/ \b\b- \b\b\\ \b\b| \b\b/ \b\b- \b\b\\ \b\b| \b\b/ \b\b- \b\b\\ \b\b| \b\b/ \b\b- \b\b\\ \b\b| \b\b/ \b\b- \b\b\\ \b\b| \b\b/ \b\b- \b\b\\ \b\b| \b\b/ \b\b- \b\b\\ \b\b| \b\b/ \b\b- \b\b\\ \b\b| \b\b/ \b\b- \b\b\\ \b\b| \b\b/ \b\b- \b\b\\ \b\b| \b\b/ \b\b- \b\b\\ \b\b| \b\b/ \b\b- \b\b\\ \b\b| \b\b/ \b\b- \b\b\\ \b\b| \b\b/ \b\b- \b\b\\ \b\b| \b\b/ \b\b- \b\b\\ \b\b| \b\b/ \b\b- \b\b\\ \b\b| \b\b/ \b\b- \b\b\\ \b\b| \b\b/ \b\b- \b\b\\ \b\b| \b\b/ \b\b- \b\b\\ \b\b| \b\b/ \b\b- \b\b\\ \b\b| \b\b/ \b\b- \b\b\\ \b\b| \b\b/ \b\b- \b\b\\ \b\b| \b\b/ \b\b- \b\b\\ \b\b| \b\b/ \b\b- \b\b\\ \b\b| \b\b/ \b\b- \b\b\\ \b\b| \b\b/ \b\b- \b\b\\ \b\b| \b\b/ \b\b- \b\b\\ \b\b| \b\b/ \b\b- \b\b\\ \b\b| \b\b/ \b\b- \b\b\\ \b\b| \b\b/ \b\b- \b\b\\ \b\b| \b\b/ \b\b- \b\b\\ \b\b| \b\b/ \b\b- \b\b\\ \b\b| \b\b/ \b\b- \b\b\\ \b\b| \b\b/ \b\b- \b\b\\ \b\b| \b\b/ \b\b- \b\b\\ \b\b| \b\b/ \b\b- \b\b\\ \b\b| \b\b/ \b\b- \b\b\\ \b\b| \b\b/ \b\b- \b\b\\ \b\b| \b\b/ \b\b- \b\b\\ \b\b| \b\b/ \b\b- \b\b\\ \b\b| \b\b/ \b\b- \b\b\\ \b\b| \b\b/ \b\b- \b\b\\ \b\b| \b\b/ \b\b- \b\b\\ \b\b| \b\b/ \b\b- \b\b\\ \b\b| \b\b/ \b\b- \b\b\\ \b\b| \b\b/ \b\b- \b\b\\ \b\b| \b\b/ \b\b- \b\b\\ \b\b| \b\b/ \b\b- \b\b\\ \b\b| \b\b/ \b\b- \b\b\\ \b\b| \b\b/ \b\b- \b\b\\ \b\b| \b\b/ \b\b- \b\b\\ \b\b| \b\b/ \b\b- \b\b\\ \b\b| \b\b/ \b\b- \b\b\\ \b\b| \b\b/ \b\b- \b\b\\ \b\b| \b\b/ \b\b- \b\b\\ \b\b| \b\b/ \b\b- \b\b\\ \b\b| \b\b/ \b\b- \b\b\\ \b\b| \b\b/ \b\b- \b\b\\ \b\b| \b\b/ \b\b- \b\b\\ \b\b| \b\b/ \b\b- \b\b\\ \b\b| \b\b/ \b\b- \b\b\\ \b\b| \b\b/ \b\b- \b\b\\ \b\b| \b\b/ \b\b- \b\b\\ \b\b| \b\b/ \b\b- \b\b\\ \b\b| \b\b/ \b\b- \b\b\\ \b\b| \b\b/ \b\b- \b\b\\ \b\b| \b\b/ \b\b- \b\b\\ \b\b| \b\b/ \b\b- \b\b\\ \b\b| \b\b/ \b\b- \b\b\\ \b\b| \b\b/ \b\b- \b\b\\ \b\b| \b\b/ \b\b- \b\b\\ \b\b| \b\b/ \b\b- \b\b\\ \b\b| \b\b/ \b\b- \b\b\\ \b\b| \b\b/ \b\b- \b\b\\ \b\b| \b\b/ \b\b- \b\b\\ \b\b| \b\b/ \b\b- \b\b\\ \b\b| \b\b/ \b\b- \b\b\\ \b\b| \b\b/ \b\b- \b\b\\ \b\b| \b\b/ \b\b- \b\b\\ \b\b| \b\b/ \b\b- \b\b\\ \b\b| \b\b/ \b\b- \b\b\\ \b\b| \b\b/ \b\b- \b\b\\ \b\b| \b\b/ \b\b- \b\b\\ \b\b| \b\b/ \b\b- \b\b\\ \b\b| \b\b/ \b\b- \b\b\\ \b\b| \b\b/ \b\b- \b\b\\ \b\b| \b\b/ \b\b- \b\b\\ \b\b| \b\b/ \b\b- \b\b\\ \b\b| \b\b/ \b\b- \b\b\\ \b\b| \b\b/ \b\b- \b\b\\ \b\b| \b\b/ \b\b- \b\b\\ \b\b| \b\b/ \b\b- \b\b\\ \b\b| \b\b/ \b\b- \b\b\\ \b\b| \b\b/ \b\b- \b\b\\ \b\b| \b\b/ \b\b- \b\b\\ \b\b| \b\b/ \b\b- \b\b\\ \b\b| \b\b/ \b\b- \b\b\\ \b\b| \b\b/ \b\b- \b\b\\ \b\b| \b\b/ \b\b- \b\b\\ \b\b| \b\b/ \b\b- \b\b\\ \b\b| \b\b/ \b\b- \b\b\\ \b\b| \b\b/ \b\b- \b\b\\ \b\b| \b\b/ \b\b- \b\b\\ \b\b| \b\b/ \b\b- \b\b\\ \b\b| \b\b/ \b\b- \b\b\\ \b\b| \b\b/ \b\b- \b\b\\ \b\b| \b\b/ \b\b- \b\b\\ \b\b| \b\b/ \b\b- \b\b\\ \b\b| \b\b/ \b\b- \b\b\\ \b\b| \b\b/ \b\b- \b\b\\ \b\b| \b\b/ \b\b- \b\b\\ \b\b| \b\b/ \b\b- \b\b\\ \b\b| \b\b/ \b\b- \b\b\\ \b\b| \b\b/ \b\b- \b\b\\ \b\b| \b\b/ \b\b- \b\b\\ \b\b| \b\b/ \b\b- \b\b\\ \b\b| \b\b/ \b\b- \b\b\\ \b\b| \b\b/ \b\b- \b\b\\ \b\b| \b\b/ \b\b- \b\b\\ \b\b| \b\b/ \b\b- \b\b\\ \b\b| \b\b/ \b\b- \b\b\\ \b\b| \b\b/ \b\b- \b\b\\ \b\b| \b\b/ \b\b- \b\b\\ \b\b| \b\b/ \b\b- \b\b\\ \b\b| \b\b/ \b\b- \b\b\\ \b\b| \b\b/ \b\b- \b\b\\ \b\b| \b\b/ \b\b- \b\b\\ \b\b| \b\b/ \b\b- \b\b\\ \b\b| \b\b/ \b\b- \b\b\\ \b\b| \b\b/ \b\b- \b\b\\ \b\b| \b\b/ \b\b- \b\b\\ \b\b| \b\b/ \b\b- \b\b\\ \b\b| \b\b/ \b\b- \b\b\\ \b\b| \b\b/ \b\b- \b\b\\ \b\b| \b\b/ \b\b- \b\b\\ \b\b| \b\b/ \b\b- \b\b\\ \b\b| \b\b/ \b\b- \b\b\\ \b\b| \b\b/ \b\b- \b\b\\ \b\b| \b\b/ \b\b- \b\b\\ \b\b| \b\b/ \b\b- \b\b\\ \b\b| \b\b/ \b\b- \b\b\\ \b\b| \b\b/ \b\b- \b\b\\ \b\b| \b\b/ \b\b- \b\b\\ \b\b| \b\b/ \b\b- \b\b\\ \b\b| \b\b/ \b\b- \b\b\\ \b\b| \b\b/ \b\b- \b\b\\ \b\b| \b\b/ \b\b- \b\b\\ \b\b| \b\b/ \b\b- \b\b\\ \b\b| \b\b/ \b\b- \b\b\\ \b\b| \b\b/ \b\b- \b\b\\ \b\b| \b\b/ \b\b- \b\b\\ \b\b| \b\b/ \b\b- \b\b\\ \b\b| \b\b/ \b\b- \b\b\\ \b\b| \b\b/ \b\b- \b\b\\ \b\b| \b\b/ \b\b- \b\b\\ \b\b| \b\b/ \b\b- \b\b\\ \b\b| \b\b/ \b\b- \b\b\\ \b\b| \b\b/ \b\b- \b\b\\ \b\b| \b\b/ \b\b- \b\b\\ \b\b| \b\b/ \b\b- \b\b\\ \b\b| \b\b/ \b\b- \b\b\\ \b\b| \b\b/ \b\b- \b\b\\ \b\b| \b\b/ \b\b- \b\b\\ \b\b| \b\b/ \b\b- \b\b\\ \b\b| \b\b/ \b\b- \b\b\\ \b\b| \b\b/ \b\b- \b\b\\ \b\b| \b\b/ \b\b- \b\b\\ \b\b| \b\b/ \b\b- \b\b\\ \b\b| \b\b/ \b\b- \b\b\\ \b\b| \b\b/ \b\b- \b\b\\ \b\b| \b\b/ \b\b- \b\b\\ \b\b| \b\b/ \b\b- \b\b\\ \b\b| \b\b/ \b\b- \b\b\\ \b\b| \b\b/ \b\b- \b\b\\ \b\b| \b\b/ \b\b- \b\b\\ \b\b| \b\b/ \b\b- \b\b\\ \b\b| \b\b/ \b\b- \b\b\\ \b\b| \b\b/ \b\b- \b\b\\ \b\b| \b\b/ \b\b- \b\b\\ \b\b| \b\b/ \b\b- \b\b\\ \b\b| \b\b/ \b\b- \b\b\\ \b\b| \b\b/ \b\b- \b\b\\ \b\b| \b\b/ \b\b- \b\b\\ \b\b| \b\b/ \b\b- \b\b\\ \b\b| \b\b/ \b\b- \b\b\\ \b\b| \b\b/ \b\b- \b\b\\ \b\b| \b\b/ \b\b- \b\b\\ \b\b| \b\b/ \b\b- \b\b\\ \b\b| \b\b/ \b\b- \b\b\\ \b\b| \b\b/ \b\b- \b\b\\ \b\b| \b\b/ \b\b- \b\b\\ \b\b| \b\b/ \b\b- \b\b\\ \b\b| \b\b/ \b\b- \b\b\\ \b\b| \b\b/ \b\b- \b\b\\ \b\b| \b\b/ \b\b- \b\b\\ \b\b| \b\b/ \b\b- \b\b\\ \b\b| \b\b/ \b\b- \b\b\\ \b\b| \b\b/ \b\b- \b\b\\ \b\b| \b\b/ \b\b- \b\b\\ \b\b| \b\b/ \b\b- \b\b\\ \b\b| \b\b/ \b\b- \b\b\\ \b\b| \b\b/ \b\b- \b\b\\ \b\b| \b\b/ \b\b- \b\b\\ \b\b| \b\b/ \b\b- \b\b\\ \b\b| \b\b/ \b\b- \b\b\\ \b\b| \b\b/ \b\b- \b\b\\ \b\b| \b\b/ \b\b- \b\b\\ \b\b| \b\b/ \b\b- \b\b\\ \b\b| \b\b/ \b\b- \b\b\\ \b\b| \b\b/ \b\b- \b\b\\ \b\b| \b\b/ \b\b- \b\b\\ \b\b| \b\b/ \b\b- \b\b\\ \b\b| \b\b/ \b\b- \b\b\\ \b\b| \b\b/ \b\b- \b\b\\ \b\b| \b\b/ \b\b- \b\b\\ \b\b| \b\b/ \b\b- \b\b\\ \b\b| \b\b/ \b\b- \b\b\\ \b\b| \b\b/ \b\b- \b\b\\ \b\b| \b\b/ \b\b- \b\b\\ \b\b| \b\b/ \b\b- \b\b\\ \b\b| \b\b/ \b\b- \b\b\\ \b\b| \b\b/ \b\b- \b\b\\ \b\b| \b\b/ \b\b- \b\b\\ \b\b| \b\b/ \b\b- \b\b\\ \b\b| \b\b/ \b\b- \b\b\\ \b\b| \b\b/ \b\b- \b\b\\ \b\b| \b\b/ \b\b- \b\b\\ \b\b| \b\b/ \b\b- \b\b\\ \b\b| \b\b/ \b\b- \b\b\\ \b\b| \b\b/ \b\b- \b\b\\ \b\b| \b\b/ \b\b- \b\b\\ \b\b| \b\b/ \b\b- \b\b\\ \b\b| \b\b/ \b\b- \b\b\\ \b\b| \b\b/ \b\b- \b\b\\ \b\b| \b\b/ \b\b- \b\b\\ \b\b| \b\b/ \b\b- \b\b\\ \b\b| \b\b/ \b\b- \b\b\\ \b\b| \b\b/ \b\b- \b\b\\ \b\b| \b\b/ \b\b- \b\bfailed with repodata from current_repodata.json, will retry with next repodata source.\r\n",
      "Collecting package metadata (repodata.json): | \b\b/ \b\b- \b\b\\ \b\b| \b\b/ \b\b- \b\b\\ \b\b| \b\b/ \b\b- \b\b\\ \b\b| \b\b/ \b\b- \b\b\\ \b\b| \b\b/ \b\b- \b\b\\ \b\b| \b\b/ \b\b- \b\b\\ \b\b| \b\b/ \b\b- \b\b\\ \b\b| \b\b/ \b\b- \b\b\\ \b\b| \b\b/ \b\b- \b\b\\ \b\b| \b\b/ \b\b- \b\b\\ \b\b| \b\b/ \b\b- \b\b\\ \b\b| \b\b/ \b\b- \b\b\\ \b\b| \b\b/ \b\b- \b\b\\ \b\b| \b\b/ \b\b- \b\b\\ \b\b| \b\b/ \b\b- \b\b\\ \b\b| \b\b/ \b\b- \b\b\\ \b\b| \b\b/ \b\b- \b\b\\ \b\b| \b\b/ \b\b- \b\b\\ \b\b| \b\b/ \b\b- \b\b\\ \b\b| \b\b/ \b\b- \b\b\\ \b\b| \b\b/ \b\b- \b\b\\ \b\b| \b\b/ \b\b- \b\b\\ \b\b| \b\b/ \b\b- \b\b\\ \b\b| \b\b/ \b\b- \b\b\\ \b\b| \b\b/ \b\b- \b\b\\ \b\b| \b\b/ \b\b- \b\b\\ \b\b| \b\b/ \b\b- \b\b\\ \b\b| \b\b/ \b\b- \b\b\\ \b\b| \b\b/ \b\b- \b\b\\ \b\b| \b\b/ \b\b- \b\b\\ \b\b| \b\b/ \b\b- \b\b\\ \b\b| \b\b/ \b\b- \b\b\\ \b\b| \b\b/ \b\b- \b\b\\ \b\b| \b\b/ \b\b- \b\b\\ \b\b| \b\b/ \b\b- \b\b\\ \b\b| \b\b/ \b\b- \b\b\\ \b\b| \b\b/ \b\b- \b\b\\ \b\b| \b\b/ \b\b- \b\b\\ \b\b| \b\b/ \b\b- \b\b\\ \b\b| \b\b/ \b\b- \b\b\\ \b\b| \b\b/ \b\b- \b\b\\ \b\b| \b\b/ \b\b- \b\b\\ \b\b| \b\b/ \b\b- \b\b\\ \b\b| \b\b/ \b\b- \b\b\\ \b\b| \b\b/ \b\b- \b\b\\ \b\b| \b\b/ \b\b- \b\b\\ \b\b| \b\b/ \b\b- \b\b\\ \b\b| \b\b/ \b\b- \b\b\\ \b\b| \b\b/ \b\b- \b\b\\ \b\b| \b\b/ \b\b- \b\b\\ \b\b| \b\b/ \b\b- \b\b\\ \b\b| \b\b/ \b\b- \b\b\\ \b\b| \b\b/ \b\b- \b\b\\ \b\b| \b\b/ \b\b- \b\b\\ \b\b| \b\b/ \b\b- \b\b\\ \b\b| \b\b/ \b\b- \b\b\\ \b\b| \b\b/ \b\b- \b\b\\ \b\b| \b\b/ \b\b- \b\b\\ \b\b| \b\b/ \b\b- \b\b\\ \b\b| \b\b/ \b\b- \b\b\\ \b\b| \b\b/ \b\b- \b\b\\ \b\b| \b\b/ \b\b- \b\b\\ \b\b| \b\b/ \b\b- \b\b\\ \b\b| \b\b/ \b\b- \b\b\\ \b\b| \b\b/ \b\b- \b\b\\ \b\b| \b\b/ \b\b- \b\b\\ \b\b| \b\b/ \b\b- \b\b\\ \b\b| \b\b/ \b\b- \b\b\\ \b\b| \b\b/ \b\b- \b\b\\ \b\b| \b\b/ \b\b- \b\b\\ \b\b| \b\b/ \b\b- \b\b\\ \b\b| \b\b/ \b\b- \b\b\\ \b\b| \b\b/ \b\b- \b\b\\ \b\b| \b\b/ \b\b- \b\b\\ \b\b| \b\b/ \b\b- \b\b\\ \b\b| \b\b/ \b\b- \b\b\\ \b\b| \b\b/ \b\b- \b\b\\ \b\b| \b\b/ \b\b- \b\b\\ \b\b| \b\b/ \b\b- \b\b\\ \b\b| \b\b/ \b\b- \b\b\\ \b\b| \b\b/ \b\b- \b\b\\ \b\b| \b\b/ \b\b- \b\b\\ \b\b| \b\b/ \b\b- \b\b\\ \b\b| \b\b/ \b\b- \b\b\\ \b\b| \b\b/ \b\b- \b\b\\ \b\b| \b\b/ \b\b- \b\b\\ \b\b| \b\b/ \b\b- \b\b\\ \b\b| \b\b/ \b\b- \b\b\\ \b\b| \b\b/ \b\b- \b\b\\ \b\b| \b\b/ \b\b- \b\b\\ \b\b| \b\b/ \b\b- \b\b\\ \b\b| \b\b/ \b\b- \b\b\\ \b\b| \b\b/ \b\b- \b\b\\ \b\b| \b\b/ \b\b- \b\b\\ \b\b| \b\b/ \b\b- \b\b\\ \b\b| \b\b/ \b\b- \b\b\\ \b\b| \b\b/ \b\b- \b\b\\ \b\b| \b\b/ \b\b- \b\b\\ \b\b| \b\b/ \b\b- \b\b\\ \b\b| \b\b/ \b\b- \b\b\\ \b\b| \b\b/ \b\b- \b\b\\ \b\b| \b\b/ \b\b- \b\b\\ \b\b| \b\b/ \b\b- \b\b\\ \b\b| \b\b/ \b\b- \b\b\\ \b\b| \b\b/ \b\b- \b\b\\ \b\b| \b\b/ \b\b- \b\b\\ \b\b| \b\b/ \b\b- \b\b\\ \b\b| \b\b/ \b\b- \b\b\\ \b\b| \b\b/ \b\b- \b\b\\ \b\b| \b\b/ \b\b- \b\b\\ \b\b| \b\b/ \b\b- \b\b\\ \b\b| \b\b/ \b\b- \b\b\\ \b\b| \b\b/ \b\b- \b\b\\ \b\b| \b\b/ \b\b- \b\b\\ \b\b| \b\b/ \b\b- \b\b\\ \b\b| \b\b/ \b\b- \b\b\\ \b\b| \b\b/ \b\b- \b\b\\ \b\b| \b\b/ \b\b- \b\b\\ \b\b| \b\b/ \b\b- \b\b\\ \b\b| \b\b/ \b\b- \b\b\\ \b\b| \b\b/ \b\b- \b\b\\ \b\b| \b\b/ \b\b- \b\b\\ \b\b| \b\b/ \b\b- \b\b\\ \b\b| \b\b/ \b\b- \b\b\\ \b\b| \b\b/ \b\b- \b\b\\ \b\b| \b\b/ \b\b- \b\b\\ \b\b| \b\b/ \b\b- \b\b\\ \b\b| \b\b/ \b\b- \b\b\\ \b\b| \b\b/ \b\b- \b\b\\ \b\b| \b\b/ \b\b- \b\b\\ \b\b| \b\b/ \b\b- \b\b\\ \b\b| \b\b/ \b\b- \b\b\\ \b\b| \b\b/ \b\b- \b\b\\ \b\b| \b\b/ \b\b- \b\b\\ \b\b| \b\b/ \b\b- \b\b\\ \b\b| \b\b/ \b\b- \b\b\\ \b\b| \b\b/ \b\b- \b\b\\ \b\b| \b\b/ \b\b- \b\b\\ \b\b| \b\b/ \b\b- \b\b\\ \b\b| \b\b/ \b\b- \b\b\\ \b\b| \b\b/ \b\b- \b\b\\ \b\b| \b\b/ \b\b- \b\b\\ \b\b| \b\b/ \b\b- \b\b\\ \b\b| \b\b/ \b\b- \b\b\\ \b\b| \b\b/ \b\b- \b\b\\ \b\b| \b\b/ \b\b- \b\b\\ \b\b| \b\b/ \b\b- \b\b\\ \b\b| \b\b/ \b\b- \b\b\\ \b\b| \b\b/ \b\b- \b\b\\ \b\b| \b\b/ \b\b- \b\b\\ \b\b| \b\b/ \b\b- \b\b\\ \b\b| \b\b/ \b\b- \b\b\\ \b\b| \b\b/ \b\b- \b\b\\ \b\b| \b\b/ \b\b- \b\b\\ \b\b| \b\b/ \b\b- \b\b\\ \b\b| \b\b/ \b\b- \b\b\\ \b\b| \b\b/ \b\b- \b\b\\ \b\b| \b\b/ \b\b- \b\b\\ \b\b| \b\b/ \b\b- \b\b\\ \b\b| \b\b/ \b\b- \b\b\\ \b\b| \b\b/ \b\b- \b\b\\ \b\b| \b\b/ \b\b- \b\b\\ \b\b| \b\b/ \b\b- \b\b\\ \b\b| \b\b/ \b\b- \b\b\\ \b\b| \b\b/ \b\b- \b\b\\ \b\b| \b\b/ \b\b- \b\b\\ \b\b| \b\b/ \b\b- \b\b\\ \b\b| \b\b/ \b\b- \b\b\\ \b\b| \b\b/ \b\b- \b\b\\ \b\b| \b\b/ \b\b- \b\b\\ \b\b| \b\b/ \b\b- \b\b\\ \b\b| \b\b/ \b\b- \b\b\\ \b\b| \b\b/ \b\b- \b\b\\ \b\b| \b\b/ \b\b- \b\b\\ \b\b| \b\b/ \b\b- \b\b\\ \b\b| \b\b/ \b\b- \b\b\\ \b\b| \b\b/ \b\b- \b\b\\ \b\b| \b\b/ \b\b- \b\b\\ \b\b| \b\b/ \b\b- \b\b\\ \b\b| \b\b/ \b\b- \b\b\\ \b\b| \b\b/ \b\b- \b\b\\ \b\b| \b\b/ \b\b- \b\b\\ \b\b| \b\b/ \b\b- \b\b\\ \b\b| \b\b/ \b\b- \b\b\\ \b\b| \b\b/ \b\b- \b\b\\ \b\b| \b\b/ \b\b- \b\b\\ \b\b| \b\b/ \b\b- \b\b\\ \b\b| \b\b/ \b\b- \b\b\\ \b\b| \b\b/ \b\b- \b\b\\ \b\b| \b\b/ \b\b- \b\b\\ \b\b| \b\b/ \b\b- \b\b\\ \b\b| \b\b/ \b\b- \b\b\\ \b\b| \b\b/ \b\b- \b\b\\ \b\b| \b\b/ \b\b- \b\b\\ \b\b| \b\b/ \b\b- \b\b\\ \b\b| \b\b/ \b\b- \b\b\\ \b\b| \b\b/ \b\b- \b\b\\ \b\b| \b\b/ \b\b- \b\b\\ \b\b| \b\b/ \b\b- \b\b\\ \b\b| \b\b/ \b\b- \b\b\\ \b\b| \b\b/ \b\b- \b\b\\ \b\b| \b\b/ \b\b- \b\b\\ \b\b| \b\b/ \b\b- \b\b\\ \b\b| \b\b/ \b\b- \b\b\\ \b\b| \b\b/ \b\b- \b\b\\ \b\b| \b\b/ \b\b- \b\b\\ \b\b| \b\b/ \b\b- \b\b\\ \b\b| \b\b/ \b\b- \b\b\\ \b\b| \b\b/ \b\b- \b\b\\ \b\b| \b\b/ \b\b- \b\b\\ \b\b| \b\b/ \b\b- \b\b\\ \b\b| \b\b/ \b\b- \b\b\\ \b\b| \b\b/ \b\b- \b\b\\ \b\b| \b\b/ \b\b- \b\b\\ \b\b| \b\b/ \b\b- \b\b\\ \b\b| \b\b/ \b\b- \b\b\\ \b\b| \b\b/ \b\b- \b\b\\ \b\b| \b\b/ \b\b- \b\b\\ \b\b| \b\bdone\r\n",
      "Solving environment: - \b\b\\ \b\b| \b\b/ \b\b- \b\b\\ \b\b| \b\b/ \b\b- \b\b\\ \b\b| \b\b/ \b\b- \b\b\\ \b\b| \b\b/ \b\b- \b\b\\ \b\b| \b\b/ \b\b- \b\b\\ \b\b| \b\b/ \b\b- \b\b\\ \b\b| \b\b/ \b\b- \b\b\\ \b\b| \b\b/ \b\b- \b\b\\ \b\b| \b\b/ \b\b- \b\b\\ \b\b| \b\b/ \b\b- \b\b\\ \b\b| \b\b/ \b\b- \b\b\\ \b\b| \b\b/ \b\b- \b\b\\ \b\b| \b\b/ \b\b- \b\b\\ \b\b| \b\b/ \b\b- \b\b\\ \b\b| \b\b/ \b\b- \b\b\\ \b\b| \b\b/ \b\b- \b\b\\ \b\b| \b\b/ \b\b- \b\b\\ \b\b| \b\b/ \b\b- \b\b\\ \b\b| \b\b/ \b\b- \b\b\\ \b\b| \b\b/ \b\b- \b\b\\ \b\b| \b\b/ \b\b- \b\b\\ \b\b| \b\b/ \b\b- \b\b\\ \b\b| \b\b/ \b\b- \b\b\\ \b\b| \b\b/ \b\b- \b\b\\ \b\b| \b\b/ \b\b- \b\b\\ \b\b| \b\b/ \b\b- \b\b\\ \b\b| \b\b/ \b\b- \b\b\\ \b\b| \b\b/ \b\b- \b\b\\ \b\b| \b\b/ \b\b- \b\b\\ \b\b| \b\b/ \b\b- \b\b\\ \b\b| \b\b/ \b\b- \b\b\\ \b\b| \b\b/ \b\b- \b\b\\ \b\b| \b\b/ \b\b- \b\b\\ \b\b| \b\b/ \b\b- \b\b\\ \b\b| \b\b/ \b\b- \b\b\\ \b\b| \b\b/ \b\b- \b\b\\ \b\b| \b\b/ \b\b- \b\b\\ \b\b| \b\b/ \b\b- \b\b\\ \b\b| \b\b/ \b\b- \b\b\\ \b\b| \b\b/ \b\b- \b\b\\ \b\b| \b\b/ \b\b- \b\b\\ \b\b| \b\b/ \b\b- \b\b\\ \b\b| \b\b/ \b\b- \b\b\\ \b\b| \b\b/ \b\b- \b\b\\ \b\b| \b\b/ \b\b- \b\b\\ \b\b| \b\b/ \b\b- \b\b\\ \b\b| \b\b/ \b\b- \b\b\\ \b\b| \b\b/ \b\b- \b\b\\ \b\b| \b\b/ \b\b- \b\b\\ \b\b| \b\b/ \b\b- \b\b\\ \b\b| \b\b/ \b\b- \b\b\\ \b\b| \b\b/ \b\b- \b\b\\ \b\b| \b\b/ \b\b- \b\b\\ \b\b| \b\b/ \b\b- \b\b\\ \b\b| \b\b/ \b\b- \b\b\\ \b\b| \b\b/ \b\b- \b\b\\ \b\b| \b\b/ \b\b- \b\b\\ \b\b| \b\b/ \b\b- \b\b\\ \b\b| \b\b/ \b\b- \b\b\\ \b\b| \b\b/ \b\b- \b\b\\ \b\b| \b\b/ \b\b- \b\b\\ \b\b| \b\b/ \b\b- \b\b\\ \b\b| \b\b/ \b\b- \b\b\\ \b\b| \b\b/ \b\b- \b\b\\ \b\b| \b\b/ \b\b- \b\b\\ \b\b| \b\b/ \b\b- \b\b\\ \b\b| \b\b/ \b\b- \b\b\\ \b\b| \b\b/ \b\b- \b\b\\ \b\b| \b\b/ \b\b- \b\b\\ \b\b| \b\b/ \b\bdone\r\n",
      "\r\n",
      "## Package Plan ##\r\n",
      "\r\n",
      "  environment location: /opt/conda\r\n",
      "\r\n",
      "  added / updated specs:\r\n",
      "    - pyvips\r\n",
      "\r\n",
      "\r\n",
      "The following packages will be downloaded:\r\n",
      "\r\n",
      "    package                    |            build\r\n",
      "    ---------------------------|-----------------\r\n",
      "    boost-cpp-1.74.0           |       h75c5d50_8        16.2 MB  conda-forge\r\n",
      "    ca-certificates-2022.9.24  |       ha878542_0         150 KB  conda-forge\r\n",
      "    certifi-2022.9.24          |     pyhd8ed1ab_0         155 KB  conda-forge\r\n",
      "    cfitsio-4.1.0              |       hd9d235c_0         1.3 MB  conda-forge\r\n",
      "    conda-22.9.0               |   py37h89c1867_1         960 KB  conda-forge\r\n",
      "    glib-2.72.1                |       h6239696_0         443 KB  conda-forge\r\n",
      "    glib-tools-2.72.1          |       h6239696_0         107 KB  conda-forge\r\n",
      "    gstreamer-orc-0.4.33       |       h166bdaf_0         299 KB  conda-forge\r\n",
      "    hdf5-1.12.1                |nompi_h2386368_104         3.5 MB  conda-forge\r\n",
      "    libexif-0.6.21             |       h7f98852_0         992 KB  conda-forge\r\n",
      "    libgsf-1.14.50             |       he99f2b3_0         460 KB  conda-forge\r\n",
      "    libmatio-1.5.21            |       hdf44fe6_1         285 KB  conda-forge\r\n",
      "    libvips-8.12.2             |       h4a8a4d3_4         3.7 MB  conda-forge\r\n",
      "    nspr-4.35                  |       h27087fc_0         222 KB  conda-forge\r\n",
      "    nss-3.78                   |       h2350873_0         2.1 MB  conda-forge\r\n",
      "    openslide-3.4.1            |       h978ee9a_4         114 KB  conda-forge\r\n",
      "    openssl-1.1.1s             |       h0b41bf4_1         1.9 MB  conda-forge\r\n",
      "    pkgconfig-1.5.5            |     pyhd8ed1ab_4          10 KB  conda-forge\r\n",
      "    poppler-22.04.0            |       h1434ded_1        19.3 MB  conda-forge\r\n",
      "    poppler-data-0.4.11        |       hd8ed1ab_0         3.6 MB  conda-forge\r\n",
      "    pyvips-2.2.0               |   py37had655be_0         110 KB  conda-forge\r\n",
      "    ------------------------------------------------------------\r\n",
      "                                           Total:        55.9 MB\r\n",
      "\r\n",
      "The following NEW packages will be INSTALLED:\r\n",
      "\r\n",
      "  boost-cpp          conda-forge/linux-64::boost-cpp-1.74.0-h75c5d50_8\r\n",
      "  cfitsio            conda-forge/linux-64::cfitsio-4.1.0-hd9d235c_0\r\n",
      "  glib               conda-forge/linux-64::glib-2.72.1-h6239696_0\r\n",
      "  glib-tools         conda-forge/linux-64::glib-tools-2.72.1-h6239696_0\r\n",
      "  gstreamer-orc      conda-forge/linux-64::gstreamer-orc-0.4.33-h166bdaf_0\r\n",
      "  hdf5               conda-forge/linux-64::hdf5-1.12.1-nompi_h2386368_104\r\n",
      "  libexif            conda-forge/linux-64::libexif-0.6.21-h7f98852_0\r\n",
      "  libgsf             conda-forge/linux-64::libgsf-1.14.50-he99f2b3_0\r\n",
      "  libmatio           conda-forge/linux-64::libmatio-1.5.21-hdf44fe6_1\r\n",
      "  libvips            conda-forge/linux-64::libvips-8.12.2-h4a8a4d3_4\r\n",
      "  nspr               conda-forge/linux-64::nspr-4.35-h27087fc_0\r\n",
      "  nss                conda-forge/linux-64::nss-3.78-h2350873_0\r\n",
      "  openslide          conda-forge/linux-64::openslide-3.4.1-h978ee9a_4\r\n",
      "  pkgconfig          conda-forge/noarch::pkgconfig-1.5.5-pyhd8ed1ab_4\r\n",
      "  poppler            conda-forge/linux-64::poppler-22.04.0-h1434ded_1\r\n",
      "  poppler-data       conda-forge/noarch::poppler-data-0.4.11-hd8ed1ab_0\r\n",
      "  pyvips             conda-forge/linux-64::pyvips-2.2.0-py37had655be_0\r\n",
      "\r\n",
      "The following packages will be UPDATED:\r\n",
      "\r\n",
      "  ca-certificates                    2022.6.15.2-ha878542_0 --> 2022.9.24-ha878542_0\r\n",
      "  certifi                          2022.6.15.2-pyhd8ed1ab_0 --> 2022.9.24-pyhd8ed1ab_0\r\n",
      "  conda                               4.14.0-py37h89c1867_0 --> 22.9.0-py37h89c1867_1\r\n",
      "  openssl                                 1.1.1q-h166bdaf_0 --> 1.1.1s-h0b41bf4_1\r\n",
      "\r\n",
      "\r\n",
      "\r\n",
      "Downloading and Extracting Packages\r\n",
      "glib-2.72.1          | 443 KB    | ##################################### | 100% \r\n",
      "libvips-8.12.2       | 3.7 MB    | ##################################### | 100% \r\n",
      "gstreamer-orc-0.4.33 | 299 KB    | ##################################### | 100% \r\n",
      "conda-22.9.0         | 960 KB    | ##################################### | 100% \r\n",
      "poppler-22.04.0      | 19.3 MB   | ##################################### | 100% \r\n",
      "pkgconfig-1.5.5      | 10 KB     | ##################################### | 100% \r\n",
      "hdf5-1.12.1          | 3.5 MB    | ##################################### | 100% \r\n",
      "openssl-1.1.1s       | 1.9 MB    | ##################################### | 100% \r\n",
      "glib-tools-2.72.1    | 107 KB    | ##################################### | 100% \r\n",
      "nspr-4.35            | 222 KB    | ##################################### | 100% \r\n",
      "certifi-2022.9.24    | 155 KB    | ##################################### | 100% \r\n",
      "openslide-3.4.1      | 114 KB    | ##################################### | 100% \r\n",
      "nss-3.78             | 2.1 MB    | ##################################### | 100% \r\n",
      "cfitsio-4.1.0        | 1.3 MB    | ##################################### | 100% \r\n",
      "poppler-data-0.4.11  | 3.6 MB    | ##################################### | 100% \r\n",
      "boost-cpp-1.74.0     | 16.2 MB   | ##################################### | 100% \r\n",
      "libexif-0.6.21       | 992 KB    | ##################################### | 100% \r\n",
      "libmatio-1.5.21      | 285 KB    | ##################################### | 100% \r\n",
      "ca-certificates-2022 | 150 KB    | ##################################### | 100% \r\n",
      "pyvips-2.2.0         | 110 KB    | ##################################### | 100% \r\n",
      "libgsf-1.14.50       | 460 KB    | ##################################### | 100% \r\n",
      "\r\n",
      "CondaExitZero: Package caches prepared. UnlinkLinkTransaction cancelled with --download-only option.\r\n",
      "\r\n"
     ]
    }
   ],
   "source": [
    "!conda config --add pkgs_dirs ./ # Set the location where conda package will be downloaded\n",
    "!conda install --download-only -y pyvips # Download pyvips and dependencies"
   ]
  },
  {
   "cell_type": "code",
   "execution_count": 2,
   "id": "46def49c",
   "metadata": {
    "execution": {
     "iopub.execute_input": "2022-12-06T08:07:34.291818Z",
     "iopub.status.busy": "2022-12-06T08:07:34.290757Z",
     "iopub.status.idle": "2022-12-06T08:08:03.806494Z",
     "shell.execute_reply": "2022-12-06T08:08:03.805335Z"
    },
    "papermill": {
     "duration": 29.892479,
     "end_time": "2022-12-06T08:08:03.809004",
     "exception": false,
     "start_time": "2022-12-06T08:07:33.916525",
     "status": "completed"
    },
    "tags": []
   },
   "outputs": [
    {
     "name": "stdout",
     "output_type": "stream",
     "text": [
      "\r\n",
      "Downloading and Extracting Packages\r\n",
      "######################################################################## | 100% \r\n",
      "######################################################################## | 100% \r\n",
      "######################################################################## | 100% \r\n",
      "######################################################################## | 100% \r\n",
      "######################################################################## | 100% \r\n",
      "######################################################################## | 100% \r\n",
      "######################################################################## | 100% \r\n",
      "######################################################################## | 100% \r\n",
      "######################################################################## | 100% \r\n",
      "######################################################################## | 100% \r\n",
      "######################################################################## | 100% \r\n",
      "######################################################################## | 100% \r\n",
      "######################################################################## | 100% \r\n",
      "######################################################################## | 100% \r\n",
      "######################################################################## | 100% \r\n",
      "######################################################################## | 100% \r\n",
      "######################################################################## | 100% \r\n",
      "######################################################################## | 100% \r\n",
      "######################################################################## | 100% \r\n",
      "Preparing transaction: - \b\b\\ \b\b| \b\b/ \b\b- \b\b\\ \b\b| \b\b/ \b\b- \b\bdone\r\n",
      "Verifying transaction: | \b\b/ \b\b- \b\b\\ \b\b| \b\b/ \b\b- \b\b\\ \b\b| \b\b/ \b\b- \b\b\\ \b\b| \b\b/ \b\b- \b\b\\ \b\b| \b\b/ \b\b- \b\b\\ \b\b| \b\b/ \b\b- \b\b\\ \b\bdone\r\n",
      "Executing transaction: / \b\b- \b\b\\ \b\b| \b\b/ \b\b- \b\b\\ \b\b| \b\b/ \b\b- \b\b\\ \b\b| \b\b/ \b\b- \b\b\\ \b\b| \b\b/ \b\b- \b\b\\ \b\b| \b\b/ \b\b- \b\b\\ \b\b| \b\b/ \b\b- \b\b\\ \b\b| \b\b/ \b\b- \b\b\\ \b\b| \b\b/ \b\b- \b\b\\ \b\b| \b\b/ \b\b- \b\b\\ \b\b| \b\b/ \b\b- \b\b\\ \b\b| \b\b/ \b\b- \b\b\\ \b\b| \b\b/ \b\b- \b\b\\ \b\b| \b\b/ \b\b- \b\b\\ \b\b| \b\b/ \b\b- \b\b\\ \b\b| \b\b/ \b\b- \b\b\\ \b\b| \b\b/ \b\b- \b\b\\ \b\b| \b\b/ \b\b- \b\b\\ \b\b| \b\b/ \b\b- \b\b\\ \b\b| \b\b/ \b\b- \b\b\\ \b\b| \b\bdone\r\n",
      "Retrieving notices: ...working... done\r\n"
     ]
    }
   ],
   "source": [
    "!conda install *.tar.bz2 "
   ]
  },
  {
   "cell_type": "code",
   "execution_count": 3,
   "id": "fbfd00aa",
   "metadata": {
    "execution": {
     "iopub.execute_input": "2022-12-06T08:08:04.834073Z",
     "iopub.status.busy": "2022-12-06T08:08:04.833714Z",
     "iopub.status.idle": "2022-12-06T08:08:04.838368Z",
     "shell.execute_reply": "2022-12-06T08:08:04.837306Z"
    },
    "papermill": {
     "duration": 0.406807,
     "end_time": "2022-12-06T08:08:04.840536",
     "exception": false,
     "start_time": "2022-12-06T08:08:04.433729",
     "status": "completed"
    },
    "tags": []
   },
   "outputs": [],
   "source": [
    "# import pandas as pd\n",
    "# from collections import Counter\n",
    "\n",
    "\n",
    "# data = pd.read_csv('/kaggle/input/mayo-clinic-strip-ai/train.csv')\n",
    "# res = dict(Counter(data['center_id'].tolist()))\n",
    "# print(res)"
   ]
  },
  {
   "cell_type": "code",
   "execution_count": 4,
   "id": "d6a27ad9",
   "metadata": {
    "execution": {
     "iopub.execute_input": "2022-12-06T08:08:05.608472Z",
     "iopub.status.busy": "2022-12-06T08:08:05.608107Z",
     "iopub.status.idle": "2022-12-06T08:08:05.612442Z",
     "shell.execute_reply": "2022-12-06T08:08:05.611325Z"
    },
    "papermill": {
     "duration": 0.393734,
     "end_time": "2022-12-06T08:08:05.614480",
     "exception": false,
     "start_time": "2022-12-06T08:08:05.220746",
     "status": "completed"
    },
    "tags": []
   },
   "outputs": [],
   "source": [
    "# groups = [(11,), (4,), (7,), (1, 5,), (10, 3), (6, 2, 8, 9,)]\n",
    "# for gr in groups:\n",
    "#     print(gr, sum(res[i] for i in gr))"
   ]
  },
  {
   "cell_type": "code",
   "execution_count": 5,
   "id": "2c468a6c",
   "metadata": {
    "execution": {
     "iopub.execute_input": "2022-12-06T08:08:06.434459Z",
     "iopub.status.busy": "2022-12-06T08:08:06.434116Z",
     "iopub.status.idle": "2022-12-06T08:08:06.439958Z",
     "shell.execute_reply": "2022-12-06T08:08:06.438882Z"
    },
    "papermill": {
     "duration": 0.393372,
     "end_time": "2022-12-06T08:08:06.441913",
     "exception": false,
     "start_time": "2022-12-06T08:08:06.048541",
     "status": "completed"
    },
    "tags": []
   },
   "outputs": [],
   "source": [
    "BAD_IMAGE_IDS = ['5adc4c_0', '7b9aaa_0', 'bb06a5_0', 'e26a04_0', '280c26_0'] + \\\n",
    "                ['4ae44b_0', '53e66f_0', '7c2c2f_0', '74a450_1']\n",
    "\n",
    "BLOCK_SIZE = 28\n",
    "BLOCKS_PER_CROP = 8\n",
    "CROP_SIZE = BLOCK_SIZE * BLOCKS_PER_CROP\n",
    "BLOCK_THR = 90\n",
    "CROP_THR = 0.6\n",
    "MAX_CROPS_PER_IMAGE = 20\n",
    "IMAGES_PER_SAMPLE = 4\n",
    "EPOCHS_NUM = 5\n",
    "SCALE_FACTOR = 24"
   ]
  },
  {
   "cell_type": "code",
   "execution_count": 6,
   "id": "dc31fadd",
   "metadata": {
    "execution": {
     "iopub.execute_input": "2022-12-06T08:08:07.290961Z",
     "iopub.status.busy": "2022-12-06T08:08:07.290588Z",
     "iopub.status.idle": "2022-12-06T08:08:07.683153Z",
     "shell.execute_reply": "2022-12-06T08:08:07.682182Z"
    },
    "papermill": {
     "duration": 0.854868,
     "end_time": "2022-12-06T08:08:07.685595",
     "exception": false,
     "start_time": "2022-12-06T08:08:06.830727",
     "status": "completed"
    },
    "tags": []
   },
   "outputs": [],
   "source": [
    "import gc\n",
    "import os\n",
    "from time import time\n",
    "from typing import List, Tuple\n",
    "\n",
    "import numpy as np\n",
    "import pandas as pd\n",
    "from PIL import Image\n",
    "from tqdm import tqdm\n",
    "\n",
    "import pyvips\n",
    "import cv2\n",
    "\n",
    "\n",
    "class DataPreparation:\n",
    "    def __init__(self, visualize: bool = False, seed: int = 42):\n",
    "        self.visualize = visualize\n",
    "        self.seed = seed\n",
    "\n",
    "        train_metadata = pd.read_csv('/kaggle/input/mayo-clinic-strip-ai/train.csv')\n",
    "        train_metadata = list(zip(\n",
    "            train_metadata['image_id'].tolist(),\n",
    "            train_metadata['label'].tolist(),\n",
    "            train_metadata['center_id'].tolist(),\n",
    "        ))\n",
    "        self.train = self._filter_bad_images(train_metadata)\n",
    "        self.all_center_ids = sorted(list({center_id for _, _, center_id in self.train}))\n",
    "\n",
    "        other_metadata = pd.read_csv('/kaggle/input/mayo-clinic-strip-ai/other.csv').query('label == \\'Other\\'')\n",
    "        other_metadata = list(zip(\n",
    "            other_metadata['image_id'].tolist(),\n",
    "            ['LAA' for _ in range(other_metadata.shape[0])],\n",
    "            [-1 for _ in range(other_metadata.shape[0])],\n",
    "        ))\n",
    "        self.other = self._filter_bad_images(other_metadata)\n",
    "\n",
    "    @staticmethod\n",
    "    def _filter_bad_images(data: List[Tuple]) -> List[Tuple]:\n",
    "        return [\n",
    "            (image_id, label, center_id)\n",
    "            for image_id, label, center_id in data\n",
    "            if image_id not in BAD_IMAGE_IDS\n",
    "        ]\n",
    "\n",
    "    @staticmethod\n",
    "    def _add_rect_to_numpy(image: np.ndarray, x: int, y: int, size: int, thickness: int) -> None:\n",
    "        image[x:x + size, y:y + thickness] = (0, 0, 0)\n",
    "        image[x:x + thickness, y:y + size] = (0, 0, 0)\n",
    "        image[x:x + size, y + size:y + size + thickness] = (0, 0, 0)\n",
    "        image[x + size:x + size + thickness, y:y + size] = (0, 0, 0)\n",
    "\n",
    "    @staticmethod\n",
    "    def _get_blocks_map(image: np.ndarray) -> np.ndarray:\n",
    "        pixels_diff = np.sum((image[:-1, :, :] - image[1:, :, :]) ** 2, axis=2)\n",
    "        pixels_diff = np.cumsum(np.cumsum(pixels_diff, axis=0), axis=1)\n",
    "        blocks_map = np.zeros((\n",
    "            (image.shape[0] + BLOCK_SIZE - 1) // BLOCK_SIZE,\n",
    "            (image.shape[1] + BLOCK_SIZE - 1) // BLOCK_SIZE,\n",
    "        ))\n",
    "        for x in range(0, pixels_diff.shape[0], BLOCK_SIZE):\n",
    "            for y in range(0, pixels_diff.shape[1], BLOCK_SIZE):\n",
    "                nx = min(x + BLOCK_SIZE, pixels_diff.shape[0])\n",
    "                ny = min(y + BLOCK_SIZE, pixels_diff.shape[1])\n",
    "                block_sum = int(pixels_diff[nx - 1, ny - 1])\n",
    "                if x:\n",
    "                    block_sum -= int(pixels_diff[x - 1, ny - 1])\n",
    "                if y:\n",
    "                    block_sum -= int(pixels_diff[nx - 1, y - 1])\n",
    "                if x and y:\n",
    "                    block_sum += int(pixels_diff[x - 1, y - 1])\n",
    "                blocks_map[x // BLOCK_SIZE][y // BLOCK_SIZE] = \\\n",
    "                    (block_sum / BLOCK_SIZE / BLOCK_SIZE) > BLOCK_THR\n",
    "        return blocks_map\n",
    "\n",
    "    def _generate_crops_positions(\n",
    "            self,\n",
    "            image: np.ndarray,\n",
    "            crop_thr: float,\n",
    "    ) -> Tuple[List[Tuple[int, int]], np.ndarray, np.ndarray, np.ndarray, np.ndarray]:\n",
    "        blocks_map = self._get_blocks_map(image)\n",
    "\n",
    "        if self.visualize:\n",
    "            for i in range(blocks_map.shape[0]):\n",
    "                for j in range(blocks_map.shape[1]):\n",
    "                    if blocks_map[i][j]:\n",
    "                        self._add_rect_to_numpy(\n",
    "                            image,\n",
    "                            i * BLOCK_SIZE,\n",
    "                            j * BLOCK_SIZE,\n",
    "                            BLOCK_SIZE,\n",
    "                            1,\n",
    "                        )\n",
    "\n",
    "        good_crops_starts = []\n",
    "        for x in range(0, image.shape[0] - CROP_SIZE + 1, BLOCK_SIZE):\n",
    "            for y in range(0, image.shape[1] - CROP_SIZE + 1, BLOCK_SIZE):\n",
    "                _x, _y = x // BLOCK_SIZE, y // BLOCK_SIZE\n",
    "                crop_sum = blocks_map[_x:_x + BLOCKS_PER_CROP, _y:_y + BLOCKS_PER_CROP].sum()\n",
    "                if crop_sum > BLOCKS_PER_CROP * BLOCKS_PER_CROP * crop_thr:\n",
    "                    good_crops_starts.append((x, y))\n",
    "\n",
    "        if self.visualize:\n",
    "            for x, y in good_crops_starts:\n",
    "                self._add_rect_to_numpy(image, x, y, CROP_SIZE, 1)\n",
    "\n",
    "        return good_crops_starts\n",
    "\n",
    "    @staticmethod\n",
    "    def _process_crop(crop: np.ndarray) -> np.ndarray:\n",
    "        return crop\n",
    "\n",
    "    def _create_crops(\n",
    "        self,\n",
    "        image: np.ndarray,\n",
    "        crops_starts: List[Tuple[int]],\n",
    "    ) -> List[np.ndarray]:\n",
    "        return [\n",
    "            Image.fromarray(\n",
    "                self._process_crop(\n",
    "                    image[x:x + CROP_SIZE, y:y + CROP_SIZE],\n",
    "                )\n",
    "            )\n",
    "            for x, y in crops_starts\n",
    "        ]\n",
    "\n",
    "    @staticmethod\n",
    "    def _get_unique_crops(crop_starts: List[Tuple[int, int]], order) -> List[Tuple[int, int]]:\n",
    "        def inter_size_1d(a: int, b: int, c: int, d: int) -> int:\n",
    "            return max(0, min(b, d) - max(a, c))\n",
    "\n",
    "        def inter_size_2d(crop_start_1: Tuple[int, int], crop_start_2: Tuple[int, int]) -> int:\n",
    "            return inter_size_1d(\n",
    "                crop_start_1[0], crop_start_1[0] + CROP_SIZE,\n",
    "                crop_start_2[0], crop_start_2[0] + CROP_SIZE,\n",
    "            ) * inter_size_1d(\n",
    "                crop_start_1[1], crop_start_1[1] + CROP_SIZE,\n",
    "                crop_start_2[1], crop_start_2[1] + CROP_SIZE,\n",
    "            )\n",
    "\n",
    "        crop_starts_sorted = sorted(crop_starts, key=order)\n",
    "        final_crop_starts = []\n",
    "        for crop_start in crop_starts_sorted:\n",
    "            if any(\n",
    "                    inter_size_2d(crop_start, crop_start_prev) > CROP_SIZE * CROP_SIZE // 2\n",
    "                    for crop_start_prev in final_crop_starts\n",
    "            ):\n",
    "                continue\n",
    "            final_crop_starts.append(crop_start)\n",
    "        return final_crop_starts\n",
    "    \n",
    "    @staticmethod\n",
    "    def _read_and_resize_image(image_id: str, base_image_path: str) -> np.ndarray:       \n",
    "        image_path = os.path.join(base_image_path, f'{image_id}.tif')\n",
    "        image = pyvips.Image.new_from_file(image_path, access='sequential')\n",
    "        return image.resize(1.0 / SCALE_FACTOR).numpy()\n",
    "    \n",
    "    def prepare_crops(\n",
    "            self,\n",
    "            image_ids: List[int],\n",
    "            base_image_path: str,\n",
    "    ) -> Tuple[List[List[np.ndarray]], List[List[Tuple[int]]], List[Tuple[np.ndarray, np.ndarray]]]:\n",
    "        np.random.seed(self.seed)\n",
    "        image_crops = []\n",
    "        image_crops_indices = []\n",
    "        for image_id in tqdm(image_ids):\n",
    "            start_time = time()\n",
    "            image = self._read_and_resize_image(image_id, base_image_path)\n",
    "            gc.collect()\n",
    "            print(f'Rescaling done in {time() - start_time} seconds. Image shape is {image.shape}')\n",
    "            found_flag = False\n",
    "            for crop_thr in np.arange(CROP_THR, -0.1, -0.1):\n",
    "                good_crops_starts = self._generate_crops_positions(image, crop_thr)\n",
    "                if len(good_crops_starts) < IMAGES_PER_SAMPLE:\n",
    "                    print('Bad image', image_id, 'crop_thr', crop_thr, 'only', len(good_crops_starts))\n",
    "                    continue\n",
    "\n",
    "                good_crops_starts_unique = []\n",
    "                for order in [\n",
    "                    lambda x: (x[0], x[1]),\n",
    "                    lambda x: (-x[0], -x[1]),\n",
    "                ]:\n",
    "                    good_crops_starts_unique.extend(self._get_unique_crops(good_crops_starts, order))\n",
    "                good_crops_starts_unique = list(set(good_crops_starts_unique))\n",
    "\n",
    "                if len(good_crops_starts_unique) < IMAGES_PER_SAMPLE:\n",
    "                    print('Bad image', image_id, 'crop_thr', crop_thr, 'only', len(good_crops_starts_unique))\n",
    "                    continue\n",
    "\n",
    "                good_crops_starts_sample_ids = np.random.choice(\n",
    "                    list(range(len(good_crops_starts_unique))),\n",
    "                    min(len(good_crops_starts_unique), MAX_CROPS_PER_IMAGE),\n",
    "                    replace=False,\n",
    "                )\n",
    "                good_crops_starts_sample = np.array(good_crops_starts_unique)[good_crops_starts_sample_ids]\n",
    "                image_crops_indices.append(good_crops_starts_sample)\n",
    "                image_crops.append(self._create_crops(image, good_crops_starts_sample))\n",
    "                found_flag = True\n",
    "                break\n",
    "            if not found_flag:\n",
    "                image_crops_indices.append([])\n",
    "                image_crops.append([])\n",
    "                print('No crops was found')\n",
    "            print(f'Done {image_id} in {time() - start_time} seconds')\n",
    "        gc.collect()\n",
    "        return image_crops, image_crops_indices\n",
    "\n",
    "    def process_train(\n",
    "            self\n",
    "    ) -> Tuple[List[List[np.ndarray]], List[List[Tuple[int]]]]:\n",
    "        return self.prepare_crops(\n",
    "            [image_id for image_id, _, _ in self.train],\n",
    "            '/kaggle/input/mayo-clinic-strip-ai/train/',\n",
    "        )\n",
    "\n",
    "    def process_other(\n",
    "            self\n",
    "    ) -> Tuple[List[List[np.ndarray]], List[List[Tuple[int]]]]:\n",
    "        return self.prepare_crops(\n",
    "            [image_id for image_id, _, _ in self.other],\n",
    "            '/kaggle/input/mayo-clinic-strip-ai/other/',\n",
    "        )"
   ]
  },
  {
   "cell_type": "code",
   "execution_count": 7,
   "id": "a34c5122",
   "metadata": {
    "execution": {
     "iopub.execute_input": "2022-12-06T08:08:08.468670Z",
     "iopub.status.busy": "2022-12-06T08:08:08.468300Z",
     "iopub.status.idle": "2022-12-06T08:08:10.252822Z",
     "shell.execute_reply": "2022-12-06T08:08:10.251593Z"
    },
    "papermill": {
     "duration": 2.182051,
     "end_time": "2022-12-06T08:08:10.255752",
     "exception": false,
     "start_time": "2022-12-06T08:08:08.073701",
     "status": "completed"
    },
    "tags": []
   },
   "outputs": [],
   "source": [
    "import random\n",
    "from collections import defaultdict\n",
    "from typing import List\n",
    "\n",
    "import numpy as np\n",
    "import torch\n",
    "from PIL import Image\n",
    "\n",
    "\n",
    "class ClotImageDataset(torch.utils.data.Dataset):\n",
    "    def __init__(\n",
    "            self,\n",
    "            image_ids: List[str],\n",
    "            labels: List[str],\n",
    "            image_crops: List[List[np.ndarray]],\n",
    "            seed: int,\n",
    "            is_test: bool,\n",
    "            transformations,\n",
    "    ):\n",
    "        self.image_ids = image_ids\n",
    "        self.labels = [float(label == 'CE') for label in labels]\n",
    "        self.image_crops = image_crops\n",
    "        self.seed = seed\n",
    "        self.is_test = is_test\n",
    "        self.transformations = transformations\n",
    "\n",
    "        if not self.is_test:\n",
    "            np.random.seed(self.seed)\n",
    "\n",
    "            label_to_indices = defaultdict(list)\n",
    "            for i, (label, crops) in enumerate(zip(self.labels, self.image_crops)):\n",
    "                if len(crops) > 0:\n",
    "                    label_to_indices[label].append(i)\n",
    "\n",
    "            max_size = 4 * max(len(indices) for indices in label_to_indices.values())\n",
    "\n",
    "            self.sample_ids = []\n",
    "            for i, indices in enumerate(label_to_indices.values()):\n",
    "                np.random.shuffle(indices)\n",
    "                while len(self.sample_ids) < max_size * (i + 1):\n",
    "                    req_size = min(len(indices), max_size * (i + 1) - len(self.sample_ids))\n",
    "                    self.sample_ids += indices[:req_size]\n",
    "        else:\n",
    "            self.sample_ids = []\n",
    "            for _ in range(20):\n",
    "                self.sample_ids.extend(list(range(len(self.image_ids))))\n",
    "\n",
    "        self.image_index_ids = []\n",
    "        sample_id_to_image_index = defaultdict(int)\n",
    "        for sample_id in self.sample_ids:\n",
    "            self.image_index_ids.append(sample_id_to_image_index[sample_id])\n",
    "            image_crops_cnt = len(self.image_crops[sample_id])\n",
    "            if image_crops_cnt:\n",
    "                sample_id_to_image_index[sample_id] = (sample_id_to_image_index[sample_id] + 1) % image_crops_cnt\n",
    "\n",
    "    def __len__(self):\n",
    "        return len(self.sample_ids)\n",
    "\n",
    "    def __getitem__(self, idx):\n",
    "        if self.is_test:\n",
    "            np.random.seed(self.seed + idx)\n",
    "            random.seed(self.seed + idx)\n",
    "            torch.manual_seed(self.seed + idx)\n",
    "        idx, image_index = self.sample_ids[idx], self.image_index_ids[idx]\n",
    "        if len(self.image_crops[idx]) == 0:\n",
    "            return (\n",
    "                self.transformations(Image.fromarray(np.zeros((224, 224, 3)).astype(np.uint8))),\n",
    "                torch.tensor(self.labels[idx]),\n",
    "                self.image_ids[idx],\n",
    "            )\n",
    "        # image_index = np.random.randint(0, len(self.image_crops[idx]))\n",
    "        return (\n",
    "            self.transformations(self.image_crops[idx][image_index]),\n",
    "            torch.tensor(self.labels[idx]),\n",
    "            self.image_ids[idx],\n",
    "        )\n",
    "\n",
    "\n",
    "def get_loader(\n",
    "        image_ids: List[str],\n",
    "        labels: List[str],\n",
    "        image_crops: List[List[np.ndarray]],\n",
    "        seed: int,\n",
    "        is_test: bool,\n",
    "        transformations,\n",
    "        shuffle: bool,\n",
    "        batch_size: int,\n",
    "        num_workers: int\n",
    "):\n",
    "    dataset = ClotImageDataset(\n",
    "        image_ids, labels, image_crops, seed, is_test, transformations,\n",
    "    )\n",
    "    return torch.utils.data.DataLoader(dataset, shuffle=shuffle, batch_size=batch_size, num_workers=num_workers)"
   ]
  },
  {
   "cell_type": "code",
   "execution_count": 8,
   "id": "c56c904c",
   "metadata": {
    "execution": {
     "iopub.execute_input": "2022-12-06T08:08:11.444820Z",
     "iopub.status.busy": "2022-12-06T08:08:11.444101Z",
     "iopub.status.idle": "2022-12-06T08:08:11.460770Z",
     "shell.execute_reply": "2022-12-06T08:08:11.459948Z"
    },
    "papermill": {
     "duration": 0.70347,
     "end_time": "2022-12-06T08:08:11.463301",
     "exception": false,
     "start_time": "2022-12-06T08:08:10.759831",
     "status": "completed"
    },
    "tags": []
   },
   "outputs": [],
   "source": [
    "from collections import defaultdict\n",
    "\n",
    "import numpy as np\n",
    "\n",
    "\n",
    "def get_target_metric(y_true, y_pred, image_ids):\n",
    "    patients = [image_id.split('_')[0] for image_id in image_ids]\n",
    "    patient_to_y_true, patient_to_y_pred = defaultdict(list), defaultdict(list)\n",
    "    for y, y_hat, patient in zip(y_true, y_pred, patients):\n",
    "        patient_to_y_true[patient].append(y)\n",
    "        patient_to_y_pred[patient].append(y_hat)\n",
    "    patient_to_y_true = {\n",
    "        patient: np.mean(y_true)\n",
    "        for patient, y_true in patient_to_y_true.items()\n",
    "    }\n",
    "    patient_to_y_pred = {\n",
    "        patient: np.mean(y_pred).tolist()\n",
    "        for patient, y_pred in patient_to_y_pred.items()\n",
    "    }\n",
    "    y_true, y_pred = [], []\n",
    "    for patient, y in patient_to_y_true.items():\n",
    "        y_true.append(y)\n",
    "        y_pred.append(patient_to_y_pred[patient])\n",
    "    return _weighted_mc_log_loss(y_true, np.array([[1 - p, p] for p in y_pred]))\n",
    "\n",
    "\n",
    "def _weighted_mc_log_loss(y_true, y_pred, epsilon=1e-15):\n",
    "    class_cnt = [sum(int(val == cl) for val in y_true) for cl in range(2)]\n",
    "    w = [0.5 for _ in range(2)]\n",
    "    return -sum(\n",
    "        w[cl] * sum(\n",
    "            (y == cl) / class_cnt[cl] * np.log(max(min(y_hat, 1 - epsilon), epsilon))\n",
    "            for y, y_hat in zip(y_true, y_pred[:, cl])\n",
    "        )\n",
    "        for cl in range(2)\n",
    "    ) / sum(w[cl] for cl in range(2))"
   ]
  },
  {
   "cell_type": "code",
   "execution_count": 9,
   "id": "de24f2dd",
   "metadata": {
    "execution": {
     "iopub.execute_input": "2022-12-06T08:08:12.452794Z",
     "iopub.status.busy": "2022-12-06T08:08:12.452340Z",
     "iopub.status.idle": "2022-12-06T08:08:12.671690Z",
     "shell.execute_reply": "2022-12-06T08:08:12.670761Z"
    },
    "papermill": {
     "duration": 0.659469,
     "end_time": "2022-12-06T08:08:12.674332",
     "exception": false,
     "start_time": "2022-12-06T08:08:12.014863",
     "status": "completed"
    },
    "tags": []
   },
   "outputs": [],
   "source": [
    "import torch\n",
    "import torch.nn as nn\n",
    "# import pretrainedmodels as pm\n",
    "from torchvision import models\n",
    "\n",
    "\n",
    "class ClotModelMIL(nn.Module):\n",
    "    def __init__(self, num_crops=None):\n",
    "        super().__init__()\n",
    "        self.num_crops = num_crops\n",
    "\n",
    "        base_model = models.resnet18(weights=models.ResNet18_Weights.IMAGENET1K_V1)\n",
    "        self.model = nn.Sequential(*list(base_model.children())[:-2])\n",
    "        in_features_cnt = list(base_model.children())[-1].in_features\n",
    "        self.head = nn.Sequential(\n",
    "            nn.AdaptiveAvgPool2d(output_size=1),\n",
    "            nn.Flatten(),\n",
    "            nn.Linear(in_features_cnt, 1),\n",
    "            nn.Sigmoid(),\n",
    "        )\n",
    "\n",
    "    def freeze_encoder(self, flag):\n",
    "        for param in self.model.parameters():\n",
    "            param.requires_grad = not flag\n",
    "\n",
    "    def forward(self, x):\n",
    "        # x: bs x N x C x W x W\n",
    "        bs, _, ch, w, h = x.shape\n",
    "        x = x.view(bs * self.num_crops, ch, w, h)  # x: N bs x C x W x W\n",
    "        x = self.model(x)  # x: N bs x C' x W' x W'\n",
    "\n",
    "        # Concat and pool\n",
    "        bs2, ch2, w2, h2 = x.shape\n",
    "        x = x \\\n",
    "            .view(-1, self.num_crops, ch2, w2, h2) \\\n",
    "            .permute(0, 2, 1, 3, 4) \\\n",
    "            .contiguous() \\\n",
    "            .view(bs, ch2, self.num_crops * w2, h2)  # x: bs x C' x N W'' x W''\n",
    "        return self.head(x)\n",
    "\n",
    "    def save(self, model_path):\n",
    "        weights = self.state_dict()\n",
    "        torch.save(weights, model_path)\n",
    "\n",
    "    def load(self, model_path):\n",
    "        weights = torch.load(model_path, map_location='cpu')\n",
    "        self.load_state_dict(weights)\n",
    "\n",
    "\n",
    "class ClotModelSingle(nn.Module):\n",
    "    def __init__(self, encoder_model):\n",
    "        super().__init__()\n",
    "\n",
    "        if encoder_model == 'effnet_b0':\n",
    "            base_model = models.efficientnet_b0(pretrained=True) # weights=models.EfficientNet_B0_Weights.IMAGENET1K_V1)\n",
    "            self.model = base_model.features\n",
    "            in_features_cnt = base_model.classifier[1].in_features\n",
    "        elif encoder_model == 'resnet18':\n",
    "            base_model = models.resnet18(weights=models.ResNet18_Weights.IMAGENET1K_V1)\n",
    "            self.model = nn.Sequential(*list(base_model.children())[:-2])\n",
    "            in_features_cnt = list(base_model.children())[-1].in_features\n",
    "        elif encoder_model == 'regnet_x_1_6gf':\n",
    "            base_model = models.regnet_x_1_6gf(weights=models.RegNet_X_1_6GF_Weights.IMAGENET1K_V2)\n",
    "            self.model = nn.Sequential(base_model.stem, base_model.trunk_output)\n",
    "            in_features_cnt = base_model.fc.in_features\n",
    "        else:\n",
    "            raise Exception('Incorrect encoder name')\n",
    "\n",
    "        self.head = nn.Sequential(\n",
    "            nn.AdaptiveAvgPool2d(output_size=1),\n",
    "            nn.Flatten(),\n",
    "            nn.Linear(in_features_cnt, 1),\n",
    "            nn.Sigmoid(),\n",
    "        )\n",
    "\n",
    "    def freeze_encoder(self, flag):\n",
    "        for param in self.model.parameters():\n",
    "            param.requires_grad = not flag\n",
    "\n",
    "    def forward(self, x):\n",
    "        return self.head(self.model(x))\n",
    "\n",
    "    def save(self, model_path):\n",
    "        weights = self.state_dict()\n",
    "        torch.save(weights, model_path)\n",
    "\n",
    "    def load(self, model_path):\n",
    "        weights = torch.load(model_path, map_location='cpu')\n",
    "        self.load_state_dict(weights)"
   ]
  },
  {
   "cell_type": "code",
   "execution_count": 10,
   "id": "d71ca805",
   "metadata": {
    "execution": {
     "iopub.execute_input": "2022-12-06T08:08:13.607849Z",
     "iopub.status.busy": "2022-12-06T08:08:13.607382Z",
     "iopub.status.idle": "2022-12-06T08:08:13.612674Z",
     "shell.execute_reply": "2022-12-06T08:08:13.611575Z"
    },
    "papermill": {
     "duration": 0.547736,
     "end_time": "2022-12-06T08:08:13.615056",
     "exception": false,
     "start_time": "2022-12-06T08:08:13.067320",
     "status": "completed"
    },
    "tags": []
   },
   "outputs": [],
   "source": [
    "import os\n",
    "\n",
    "\n",
    "os.makedirs('/kaggle/working/models/', exist_ok=True)"
   ]
  },
  {
   "cell_type": "code",
   "execution_count": 11,
   "id": "e1d2fb9c",
   "metadata": {
    "execution": {
     "iopub.execute_input": "2022-12-06T08:08:14.616359Z",
     "iopub.status.busy": "2022-12-06T08:08:14.616008Z",
     "iopub.status.idle": "2022-12-06T08:08:29.508637Z",
     "shell.execute_reply": "2022-12-06T08:08:29.507613Z"
    },
    "papermill": {
     "duration": 15.327512,
     "end_time": "2022-12-06T08:08:29.511389",
     "exception": false,
     "start_time": "2022-12-06T08:08:14.183877",
     "status": "completed"
    },
    "tags": []
   },
   "outputs": [],
   "source": [
    "from __future__ import print_function, division\n",
    "\n",
    "import os\n",
    "import pickle\n",
    "import sys\n",
    "from collections import Counter\n",
    "\n",
    "import cv2\n",
    "import numpy as np\n",
    "import ssl\n",
    "import torch\n",
    "import torch.nn as nn\n",
    "import torch.optim as optim\n",
    "import torch.backends.cudnn as cudnn\n",
    "from PIL import Image\n",
    "from sklearn.metrics import roc_auc_score\n",
    "from tqdm import tqdm\n",
    "from torchvision import transforms\n",
    "\n",
    "\n",
    "ssl._create_default_https_context = ssl._create_unverified_context\n",
    "cudnn.benchmark = True\n",
    "\n",
    "\n",
    "DUMPED_DATALOADER_PATH = '/kaggle/input/track-4-dataprep/data_loaders.pkl'\n",
    "DUMPED_DATALOADER_OTHER_PATH = '/kaggle/input/track-4-dataprep/data_loaders_other.pkl'\n",
    "\n",
    "\n",
    "def get_sub_data(data, image_crops, image_crops_indices, sample_ids):\n",
    "    return [data[i][0] for i in sample_ids], \\\n",
    "        [data[i][1] for i in sample_ids], \\\n",
    "        [data[i][2] for i in sample_ids], \\\n",
    "        [image_crops[i] for i in sample_ids], \\\n",
    "        [image_crops_indices[i] for i in sample_ids]\n",
    "\n",
    "\n",
    "data_prep = DataPreparation()\n",
    "\n",
    "# image_crops, image_crops_indices = data_prep.process_train()\n",
    "# with open(DUMPED_DATALOADER_PATH, 'wb') as file:\n",
    "#     pickle.dump([image_crops, image_crops_indices], file)\n",
    "\n",
    "# image_crops_other, image_crops_indices_other = data_prep.process_other()\n",
    "# with open(DUMPED_DATALOADER_OTHER_PATH, 'wb') as file:\n",
    "#     pickle.dump([image_crops_other, image_crops_indices_other], file)\n",
    "    \n",
    "with open(DUMPED_DATALOADER_PATH, 'rb') as file:\n",
    "    image_crops, image_crops_indices = pickle.load(file)\n",
    "with open(DUMPED_DATALOADER_OTHER_PATH, 'rb') as file:\n",
    "    image_crops_other, image_crops_indices_other = pickle.load(file)    "
   ]
  },
  {
   "cell_type": "code",
   "execution_count": 12,
   "id": "a4c984fc",
   "metadata": {
    "execution": {
     "iopub.execute_input": "2022-12-06T08:08:30.285771Z",
     "iopub.status.busy": "2022-12-06T08:08:30.285354Z",
     "iopub.status.idle": "2022-12-06T09:19:14.733610Z",
     "shell.execute_reply": "2022-12-06T09:19:14.732125Z"
    },
    "papermill": {
     "duration": 4244.84203,
     "end_time": "2022-12-06T09:19:14.735905",
     "exception": false,
     "start_time": "2022-12-06T08:08:29.893875",
     "status": "completed"
    },
    "tags": []
   },
   "outputs": [
    {
     "name": "stdout",
     "output_type": "stream",
     "text": [
      "--------------------------------------------------------------------------------\n",
      "--------------------------------------------------------------------------------\n",
      "--------------------------------------------------------------------------------\n",
      "CV with 11 as test\n",
      "Train/Test sizes: 560/254\n",
      "Train/Test label distribution:\n",
      "{'CE': 0.6553571428571429, 'LAA': 0.34464285714285714}\n",
      "{'CE': 0.6968503937007874, 'LAA': 0.3031496062992126}\n"
     ]
    },
    {
     "name": "stderr",
     "output_type": "stream",
     "text": [
      "Downloading: \"https://download.pytorch.org/models/efficientnet_b0_rwightman-3dd342df.pth\" to /root/.cache/torch/hub/checkpoints/efficientnet_b0_rwightman-3dd342df.pth\n"
     ]
    },
    {
     "data": {
      "application/vnd.jupyter.widget-view+json": {
       "model_id": "2dc7bcd601c9474a90a6283f85b030d7",
       "version_major": 2,
       "version_minor": 0
      },
      "text/plain": [
       "  0%|          | 0.00/20.5M [00:00<?, ?B/s]"
      ]
     },
     "metadata": {},
     "output_type": "display_data"
    },
    {
     "name": "stdout",
     "output_type": "stream",
     "text": [
      "********************************************************************************\n",
      "epoch 1/5\n"
     ]
    },
    {
     "name": "stderr",
     "output_type": "stream",
     "text": [
      "100%|██████████| 12/12 [00:24<00:00,  2.06s/it]\n"
     ]
    },
    {
     "name": "stdout",
     "output_type": "stream",
     "text": [
      "Train:\n",
      "Counter({1: 1539, 0: 1309})\n",
      "ROC AUC metric: 0.5870135557379119\n",
      "target metric: 0.6651913418720463\n",
      "loss: 0.9788656681776047, accuracy: 0.5635533707865169\n"
     ]
    },
    {
     "name": "stderr",
     "output_type": "stream",
     "text": [
      "100%|██████████| 20/20 [00:40<00:00,  2.05s/it]\n"
     ]
    },
    {
     "name": "stdout",
     "output_type": "stream",
     "text": [
      "Validation:\n",
      "Counter({0: 4770, 1: 310})\n",
      "ROC AUC metric: 0.5586383813926187\n",
      "target metric: 1.201247539724809\n",
      "target metric fixed: 1.2029961448937296\n",
      "loss: 2.15089145898819, accuracy: 0.33937007874015745\n",
      "********************************************************************************\n",
      "epoch 2/5\n"
     ]
    },
    {
     "name": "stderr",
     "output_type": "stream",
     "text": [
      "100%|██████████| 12/12 [00:23<00:00,  1.96s/it]\n"
     ]
    },
    {
     "name": "stdout",
     "output_type": "stream",
     "text": [
      "Train:\n",
      "Counter({0: 1448, 1: 1400})\n",
      "ROC AUC metric: 0.6214463530488574\n",
      "target metric: 0.6244971848514214\n",
      "loss: 0.8448945184548696, accuracy: 0.5849719101123596\n"
     ]
    },
    {
     "name": "stderr",
     "output_type": "stream",
     "text": [
      "100%|██████████| 20/20 [00:39<00:00,  1.99s/it]\n"
     ]
    },
    {
     "name": "stdout",
     "output_type": "stream",
     "text": [
      "Validation:\n",
      "Counter({0: 3525, 1: 1555})\n",
      "ROC AUC metric: 0.5653267847971237\n",
      "target metric: 0.7397692887468887\n",
      "target metric fixed: 0.738399095036011\n",
      "loss: 1.1209315001964568, accuracy: 0.4490157480314961\n",
      "********************************************************************************\n",
      "epoch 3/5\n"
     ]
    },
    {
     "name": "stderr",
     "output_type": "stream",
     "text": [
      "100%|██████████| 12/12 [00:23<00:00,  1.98s/it]\n"
     ]
    },
    {
     "name": "stdout",
     "output_type": "stream",
     "text": [
      "Train:\n",
      "Counter({0: 1477, 1: 1371})\n",
      "ROC AUC metric: 0.6540175048920591\n",
      "target metric: 0.599741546611679\n",
      "loss: 0.7511040419340134, accuracy: 0.6042837078651685\n"
     ]
    },
    {
     "name": "stderr",
     "output_type": "stream",
     "text": [
      "100%|██████████| 20/20 [00:40<00:00,  2.00s/it]\n"
     ]
    },
    {
     "name": "stdout",
     "output_type": "stream",
     "text": [
      "Validation:\n",
      "Counter({1: 3195, 0: 1885})\n",
      "ROC AUC metric: 0.5854558294812532\n",
      "target metric: 0.6710026042326529\n",
      "target metric fixed: 0.6722800301918153\n",
      "loss: 0.7378010094165802, accuracy: 0.6045275590551181\n",
      "********************************************************************************\n",
      "epoch 4/5\n"
     ]
    },
    {
     "name": "stderr",
     "output_type": "stream",
     "text": [
      "100%|██████████| 12/12 [00:23<00:00,  1.95s/it]\n"
     ]
    },
    {
     "name": "stdout",
     "output_type": "stream",
     "text": [
      "Train:\n",
      "Counter({0: 1427, 1: 1421})\n",
      "ROC AUC metric: 0.6672324753818962\n",
      "target metric: 0.5909698286739705\n",
      "loss: 0.7235569705565771, accuracy: 0.6211376404494382\n"
     ]
    },
    {
     "name": "stderr",
     "output_type": "stream",
     "text": [
      "100%|██████████| 20/20 [00:39<00:00,  1.99s/it]\n"
     ]
    },
    {
     "name": "stdout",
     "output_type": "stream",
     "text": [
      "Validation:\n",
      "Counter({0: 3342, 1: 1738})\n",
      "ROC AUC metric: 0.5858364516839093\n",
      "target metric: 0.7838443211811112\n",
      "target metric fixed: 0.6854558641626494\n",
      "loss: 1.281960552930832, accuracy: 0.481496062992126\n",
      "********************************************************************************\n",
      "epoch 5/5\n"
     ]
    },
    {
     "name": "stderr",
     "output_type": "stream",
     "text": [
      "100%|██████████| 12/12 [00:23<00:00,  1.95s/it]\n"
     ]
    },
    {
     "name": "stdout",
     "output_type": "stream",
     "text": [
      "Train:\n",
      "Counter({1: 1446, 0: 1402})\n",
      "ROC AUC metric: 0.6506433649476077\n",
      "target metric: 0.5975244657995287\n",
      "loss: 0.7622215896844864, accuracy: 0.6060393258426966\n"
     ]
    },
    {
     "name": "stderr",
     "output_type": "stream",
     "text": [
      "100%|██████████| 20/20 [00:39<00:00,  1.99s/it]\n"
     ]
    },
    {
     "name": "stdout",
     "output_type": "stream",
     "text": [
      "Validation:\n",
      "Counter({1: 2682, 0: 2398})\n",
      "ROC AUC metric: 0.594450069704307\n",
      "target metric: 0.7499131824586767\n",
      "target metric fixed: 0.6515247254402152\n",
      "loss: 1.1916424214839936, accuracy: 0.5641732283464567\n",
      "--------------------------------------------------------------------------------\n",
      "--------------------------------------------------------------------------------\n",
      "--------------------------------------------------------------------------------\n",
      "CV with 11 as test\n",
      "Train/Test sizes: 560/254\n",
      "Train/Test label distribution:\n",
      "{'CE': 0.6553571428571429, 'LAA': 0.34464285714285714}\n",
      "{'CE': 0.6968503937007874, 'LAA': 0.3031496062992126}\n",
      "********************************************************************************\n",
      "epoch 1/5\n"
     ]
    },
    {
     "name": "stderr",
     "output_type": "stream",
     "text": [
      "100%|██████████| 12/12 [00:22<00:00,  1.90s/it]\n"
     ]
    },
    {
     "name": "stdout",
     "output_type": "stream",
     "text": [
      "Train:\n",
      "Counter({0: 1536, 1: 1312})\n",
      "ROC AUC metric: 0.5472152742709254\n",
      "target metric: 0.6909690593546947\n",
      "loss: 1.1445354570945103, accuracy: 0.5308988764044944\n"
     ]
    },
    {
     "name": "stderr",
     "output_type": "stream",
     "text": [
      "100%|██████████| 20/20 [00:39<00:00,  1.96s/it]\n"
     ]
    },
    {
     "name": "stdout",
     "output_type": "stream",
     "text": [
      "Validation:\n",
      "Counter({1: 2952, 0: 2128})\n",
      "ROC AUC metric: 0.6186665382639958\n",
      "target metric: 0.6567562418934779\n",
      "target metric fixed: 0.6567746030061511\n",
      "loss: 0.7906636893749237, accuracy: 0.6019685039370078\n",
      "********************************************************************************\n",
      "epoch 2/5\n"
     ]
    },
    {
     "name": "stderr",
     "output_type": "stream",
     "text": [
      "100%|██████████| 12/12 [00:23<00:00,  1.92s/it]\n"
     ]
    },
    {
     "name": "stdout",
     "output_type": "stream",
     "text": [
      "Train:\n",
      "Counter({0: 1443, 1: 1405})\n",
      "ROC AUC metric: 0.6433506462252241\n",
      "target metric: 0.6175791898610257\n",
      "loss: 0.7448299129803976, accuracy: 0.5979634831460674\n"
     ]
    },
    {
     "name": "stderr",
     "output_type": "stream",
     "text": [
      "100%|██████████| 20/20 [00:38<00:00,  1.94s/it]\n"
     ]
    },
    {
     "name": "stdout",
     "output_type": "stream",
     "text": [
      "Validation:\n",
      "Counter({1: 4276, 0: 804})\n",
      "ROC AUC metric: 0.5996011262748551\n",
      "target metric: 0.7633474301121308\n",
      "target metric fixed: 0.7587721892970604\n",
      "loss: 0.6816166520118714, accuracy: 0.6665354330708662\n",
      "********************************************************************************\n",
      "epoch 3/5\n"
     ]
    },
    {
     "name": "stderr",
     "output_type": "stream",
     "text": [
      "100%|██████████| 12/12 [00:22<00:00,  1.92s/it]\n"
     ]
    },
    {
     "name": "stdout",
     "output_type": "stream",
     "text": [
      "Train:\n",
      "Counter({1: 1550, 0: 1298})\n",
      "ROC AUC metric: 0.6089548352480747\n",
      "target metric: 0.6327634231996833\n",
      "loss: 0.8180160820484161, accuracy: 0.5786516853932584\n"
     ]
    },
    {
     "name": "stderr",
     "output_type": "stream",
     "text": [
      "100%|██████████| 20/20 [00:38<00:00,  1.92s/it]\n"
     ]
    },
    {
     "name": "stdout",
     "output_type": "stream",
     "text": [
      "Validation:\n",
      "Counter({0: 2638, 1: 2442})\n",
      "ROC AUC metric: 0.605682001614205\n",
      "target metric: 0.641959281094876\n",
      "target metric fixed: 0.642027776187675\n",
      "loss: 0.781318411231041, accuracy: 0.5590551181102362\n",
      "********************************************************************************\n",
      "epoch 4/5\n"
     ]
    },
    {
     "name": "stderr",
     "output_type": "stream",
     "text": [
      "100%|██████████| 12/12 [00:23<00:00,  1.93s/it]\n"
     ]
    },
    {
     "name": "stdout",
     "output_type": "stream",
     "text": [
      "Train:\n",
      "Counter({1: 1481, 0: 1367})\n",
      "ROC AUC metric: 0.6653604737406894\n",
      "target metric: 0.5962187758771414\n",
      "loss: 0.6928450167179108, accuracy: 0.6148174157303371\n"
     ]
    },
    {
     "name": "stderr",
     "output_type": "stream",
     "text": [
      "100%|██████████| 20/20 [00:38<00:00,  1.93s/it]\n"
     ]
    },
    {
     "name": "stdout",
     "output_type": "stream",
     "text": [
      "Validation:\n",
      "Counter({1: 3242, 0: 1838})\n",
      "ROC AUC metric: 0.5843651405092083\n",
      "target metric: 0.6754216541030547\n",
      "target metric fixed: 0.6774366168372405\n",
      "loss: 0.7122344642877578, accuracy: 0.6090551181102363\n",
      "********************************************************************************\n",
      "epoch 5/5\n"
     ]
    },
    {
     "name": "stderr",
     "output_type": "stream",
     "text": [
      "100%|██████████| 12/12 [00:22<00:00,  1.91s/it]\n"
     ]
    },
    {
     "name": "stdout",
     "output_type": "stream",
     "text": [
      "Train:\n",
      "Counter({1: 1454, 0: 1394})\n",
      "ROC AUC metric: 0.6810416929680596\n",
      "target metric: 0.5853998470110247\n",
      "loss: 0.6730612317721049, accuracy: 0.6306179775280899\n"
     ]
    },
    {
     "name": "stderr",
     "output_type": "stream",
     "text": [
      "100%|██████████| 20/20 [00:38<00:00,  1.92s/it]\n"
     ]
    },
    {
     "name": "stdout",
     "output_type": "stream",
     "text": [
      "Validation:\n",
      "Counter({0: 3208, 1: 1872})\n",
      "ROC AUC metric: 0.5905135189669088\n",
      "target metric: 0.7828931347868961\n",
      "target metric fixed: 0.6845046777684347\n",
      "loss: 1.3187997758388519, accuracy: 0.502755905511811\n",
      "--------------------------------------------------------------------------------\n",
      "--------------------------------------------------------------------------------\n",
      "--------------------------------------------------------------------------------\n",
      "CV with 11 as test\n",
      "Train/Test sizes: 560/254\n",
      "Train/Test label distribution:\n",
      "{'CE': 0.6553571428571429, 'LAA': 0.34464285714285714}\n",
      "{'CE': 0.6968503937007874, 'LAA': 0.3031496062992126}\n",
      "********************************************************************************\n",
      "epoch 1/5\n"
     ]
    },
    {
     "name": "stderr",
     "output_type": "stream",
     "text": [
      "100%|██████████| 12/12 [00:23<00:00,  1.92s/it]\n"
     ]
    },
    {
     "name": "stdout",
     "output_type": "stream",
     "text": [
      "Train:\n",
      "Counter({0: 1566, 1: 1282})\n",
      "ROC AUC metric: 0.5427044210011363\n",
      "target metric: 0.7131366388113037\n",
      "loss: 1.2669840554396312, accuracy: 0.5273876404494382\n"
     ]
    },
    {
     "name": "stderr",
     "output_type": "stream",
     "text": [
      "100%|██████████| 20/20 [00:38<00:00,  1.91s/it]\n"
     ]
    },
    {
     "name": "stdout",
     "output_type": "stream",
     "text": [
      "Validation:\n",
      "Counter({1: 4717, 0: 363})\n",
      "ROC AUC metric: 0.5839495744368626\n",
      "target metric: 1.0435307110662049\n",
      "target metric fixed: 1.043303622934821\n",
      "loss: 0.8934591799974442, accuracy: 0.6852362204724409\n",
      "********************************************************************************\n",
      "epoch 2/5\n"
     ]
    },
    {
     "name": "stderr",
     "output_type": "stream",
     "text": [
      "100%|██████████| 12/12 [00:22<00:00,  1.90s/it]\n"
     ]
    },
    {
     "name": "stdout",
     "output_type": "stream",
     "text": [
      "Train:\n",
      "Counter({1: 1681, 0: 1167})\n",
      "ROC AUC metric: 0.589617393637167\n",
      "target metric: 0.6640563776665002\n",
      "loss: 1.0098740508159, accuracy: 0.5677668539325843\n"
     ]
    },
    {
     "name": "stderr",
     "output_type": "stream",
     "text": [
      "100%|██████████| 20/20 [00:38<00:00,  1.92s/it]\n"
     ]
    },
    {
     "name": "stdout",
     "output_type": "stream",
     "text": [
      "Validation:\n",
      "Counter({0: 4406, 1: 674})\n",
      "ROC AUC metric: 0.567679580306699\n",
      "target metric: 0.9117940827412848\n",
      "target metric fixed: 0.908348439490772\n",
      "loss: 1.4949710667133331, accuracy: 0.3799212598425197\n",
      "********************************************************************************\n",
      "epoch 3/5\n"
     ]
    },
    {
     "name": "stderr",
     "output_type": "stream",
     "text": [
      "100%|██████████| 12/12 [00:22<00:00,  1.89s/it]\n"
     ]
    },
    {
     "name": "stdout",
     "output_type": "stream",
     "text": [
      "Train:\n",
      "Counter({0: 1552, 1: 1296})\n",
      "ROC AUC metric: 0.6569692609045574\n",
      "target metric: 0.5868872671227351\n",
      "loss: 0.7669109056393305, accuracy: 0.6228932584269663\n"
     ]
    },
    {
     "name": "stderr",
     "output_type": "stream",
     "text": [
      "100%|██████████| 20/20 [00:38<00:00,  1.91s/it]\n"
     ]
    },
    {
     "name": "stdout",
     "output_type": "stream",
     "text": [
      "Validation:\n",
      "Counter({1: 3518, 0: 1562})\n",
      "ROC AUC metric: 0.5911363636363636\n",
      "target metric: 0.6789815429344419\n",
      "target metric fixed: 0.6799486028321804\n",
      "loss: 0.7039013296365738, accuracy: 0.6248031496062992\n",
      "********************************************************************************\n",
      "epoch 4/5\n"
     ]
    },
    {
     "name": "stderr",
     "output_type": "stream",
     "text": [
      "100%|██████████| 12/12 [00:22<00:00,  1.88s/it]\n"
     ]
    },
    {
     "name": "stdout",
     "output_type": "stream",
     "text": [
      "Train:\n",
      "Counter({0: 1506, 1: 1342})\n",
      "ROC AUC metric: 0.656901452625931\n",
      "target metric: 0.5915047123115773\n",
      "loss: 0.7147474040587743, accuracy: 0.6179775280898876\n"
     ]
    },
    {
     "name": "stderr",
     "output_type": "stream",
     "text": [
      "100%|██████████| 20/20 [00:38<00:00,  1.92s/it]\n"
     ]
    },
    {
     "name": "stdout",
     "output_type": "stream",
     "text": [
      "Validation:\n",
      "Counter({1: 3932, 0: 1148})\n",
      "ROC AUC metric: 0.6015857729840781\n",
      "target metric: 0.7030086775127492\n",
      "target metric fixed: 0.7050236402469351\n",
      "loss: 0.680913308262825, accuracy: 0.6535433070866141\n",
      "********************************************************************************\n",
      "epoch 5/5\n"
     ]
    },
    {
     "name": "stderr",
     "output_type": "stream",
     "text": [
      "100%|██████████| 12/12 [00:22<00:00,  1.86s/it]\n"
     ]
    },
    {
     "name": "stdout",
     "output_type": "stream",
     "text": [
      "Train:\n",
      "Counter({1: 1581, 0: 1267})\n",
      "ROC AUC metric: 0.6566785483209192\n",
      "target metric: 0.5885279034238694\n",
      "loss: 0.7527782569328944, accuracy: 0.6211376404494382\n"
     ]
    },
    {
     "name": "stderr",
     "output_type": "stream",
     "text": [
      "100%|██████████| 20/20 [00:37<00:00,  1.89s/it]\n"
     ]
    },
    {
     "name": "stdout",
     "output_type": "stream",
     "text": [
      "Validation:\n",
      "Counter({0: 3078, 1: 2002})\n",
      "ROC AUC metric: 0.585250568640399\n",
      "target metric: 0.770229092190639\n",
      "target metric fixed: 0.6718406351721772\n",
      "loss: 1.2946497619152069, accuracy: 0.5066929133858268\n",
      "Best validation metric: 0.642027776187675\n",
      "--------------------------------------------------------------------------------\n",
      "--------------------------------------------------------------------------------\n",
      "--------------------------------------------------------------------------------\n",
      "CV with 4 as test\n",
      "Train/Test sizes: 700/114\n",
      "Train/Test label distribution:\n",
      "{'CE': 0.6514285714285715, 'LAA': 0.3485714285714286}\n",
      "{'CE': 0.7719298245614035, 'LAA': 0.22807017543859648}\n",
      "********************************************************************************\n",
      "epoch 1/5\n"
     ]
    },
    {
     "name": "stderr",
     "output_type": "stream",
     "text": [
      "100%|██████████| 15/15 [00:28<00:00,  1.90s/it]\n"
     ]
    },
    {
     "name": "stdout",
     "output_type": "stream",
     "text": [
      "Train:\n",
      "Counter({1: 1860, 0: 1740})\n",
      "ROC AUC metric: 0.5584277777777777\n",
      "target metric: 0.6793750802419605\n",
      "loss: 1.159578029314677, accuracy: 0.5394444444444444\n"
     ]
    },
    {
     "name": "stderr",
     "output_type": "stream",
     "text": [
      "100%|██████████| 9/9 [00:17<00:00,  1.97s/it]\n"
     ]
    },
    {
     "name": "stdout",
     "output_type": "stream",
     "text": [
      "Validation:\n",
      "Counter({0: 1492, 1: 788})\n",
      "ROC AUC metric: 0.5984036276223776\n",
      "target metric: 0.6755418721733735\n",
      "target metric fixed: 0.6537235254129459\n",
      "loss: 0.9569532937473721, accuracy: 0.49473684210526314\n",
      "********************************************************************************\n",
      "epoch 2/5\n"
     ]
    },
    {
     "name": "stderr",
     "output_type": "stream",
     "text": [
      "100%|██████████| 15/15 [00:27<00:00,  1.86s/it]\n"
     ]
    },
    {
     "name": "stdout",
     "output_type": "stream",
     "text": [
      "Train:\n",
      "Counter({0: 1876, 1: 1724})\n",
      "ROC AUC metric: 0.6059682098765432\n",
      "target metric: 0.6401585038007558\n",
      "loss: 0.7991904020309448, accuracy: 0.5766666666666667\n"
     ]
    },
    {
     "name": "stderr",
     "output_type": "stream",
     "text": [
      "100%|██████████| 9/9 [00:18<00:00,  2.02s/it]\n"
     ]
    },
    {
     "name": "stdout",
     "output_type": "stream",
     "text": [
      "Validation:\n",
      "Counter({0: 1520, 1: 760})\n",
      "ROC AUC metric: 0.5486746066433567\n",
      "target metric: 0.6721038315590078\n",
      "target metric fixed: 0.6789027391424745\n",
      "loss: 0.9474267496003045, accuracy: 0.4631578947368421\n",
      "********************************************************************************\n",
      "epoch 3/5\n"
     ]
    },
    {
     "name": "stderr",
     "output_type": "stream",
     "text": [
      "100%|██████████| 15/15 [00:27<00:00,  1.84s/it]\n"
     ]
    },
    {
     "name": "stdout",
     "output_type": "stream",
     "text": [
      "Train:\n",
      "Counter({0: 1828, 1: 1772})\n",
      "ROC AUC metric: 0.6442716049382715\n",
      "target metric: 0.6063843034203182\n",
      "loss: 0.730549430847168, accuracy: 0.6033333333333334\n"
     ]
    },
    {
     "name": "stderr",
     "output_type": "stream",
     "text": [
      "100%|██████████| 9/9 [00:17<00:00,  1.96s/it]\n"
     ]
    },
    {
     "name": "stdout",
     "output_type": "stream",
     "text": [
      "Validation:\n",
      "Counter({0: 1668, 1: 612})\n",
      "ROC AUC metric: 0.5449278846153847\n",
      "target metric: 0.7588417799122049\n",
      "target metric fixed: 0.701953795939231\n",
      "loss: 1.0620374547110663, accuracy: 0.4219298245614035\n",
      "********************************************************************************\n",
      "epoch 4/5\n"
     ]
    },
    {
     "name": "stderr",
     "output_type": "stream",
     "text": [
      "100%|██████████| 15/15 [00:27<00:00,  1.86s/it]\n"
     ]
    },
    {
     "name": "stdout",
     "output_type": "stream",
     "text": [
      "Train:\n",
      "Counter({0: 1849, 1: 1751})\n",
      "ROC AUC metric: 0.6342703703703704\n",
      "target metric: 0.6144805865412837\n",
      "loss: 0.737367820739746, accuracy: 0.5902777777777778\n"
     ]
    },
    {
     "name": "stderr",
     "output_type": "stream",
     "text": [
      "100%|██████████| 9/9 [00:18<00:00,  2.01s/it]\n"
     ]
    },
    {
     "name": "stdout",
     "output_type": "stream",
     "text": [
      "Validation:\n",
      "Counter({0: 1574, 1: 706})\n",
      "ROC AUC metric: 0.5397738199300699\n",
      "target metric: 0.7773516490661811\n",
      "target metric fixed: 0.696475137925803\n",
      "loss: 1.0539565881093342, accuracy: 0.44473684210526315\n",
      "********************************************************************************\n",
      "epoch 5/5\n"
     ]
    },
    {
     "name": "stderr",
     "output_type": "stream",
     "text": [
      "100%|██████████| 15/15 [00:27<00:00,  1.84s/it]\n"
     ]
    },
    {
     "name": "stdout",
     "output_type": "stream",
     "text": [
      "Train:\n",
      "Counter({0: 1825, 1: 1775})\n",
      "ROC AUC metric: 0.6447706790123456\n",
      "target metric: 0.6006860024252804\n",
      "loss: 0.721319603919983, accuracy: 0.5997222222222223\n"
     ]
    },
    {
     "name": "stderr",
     "output_type": "stream",
     "text": [
      "100%|██████████| 9/9 [00:17<00:00,  1.92s/it]\n"
     ]
    },
    {
     "name": "stdout",
     "output_type": "stream",
     "text": [
      "Validation:\n",
      "Counter({0: 1191, 1: 1089})\n",
      "ROC AUC metric: 0.5562423513986015\n",
      "target metric: 0.6785143140261762\n",
      "target metric fixed: 0.6773014935823705\n",
      "loss: 0.850490947564443, accuracy: 0.5469298245614035\n",
      "--------------------------------------------------------------------------------\n",
      "--------------------------------------------------------------------------------\n",
      "--------------------------------------------------------------------------------\n",
      "CV with 4 as test\n",
      "Train/Test sizes: 700/114\n",
      "Train/Test label distribution:\n",
      "{'CE': 0.6514285714285715, 'LAA': 0.3485714285714286}\n",
      "{'CE': 0.7719298245614035, 'LAA': 0.22807017543859648}\n",
      "********************************************************************************\n",
      "epoch 1/5\n"
     ]
    },
    {
     "name": "stderr",
     "output_type": "stream",
     "text": [
      "100%|██████████| 15/15 [00:27<00:00,  1.86s/it]\n"
     ]
    },
    {
     "name": "stdout",
     "output_type": "stream",
     "text": [
      "Train:\n",
      "Counter({0: 1858, 1: 1742})\n",
      "ROC AUC metric: 0.5783558641975309\n",
      "target metric: 0.6640952256100674\n",
      "loss: 0.9414571007092793, accuracy: 0.5633333333333334\n"
     ]
    },
    {
     "name": "stderr",
     "output_type": "stream",
     "text": [
      "100%|██████████| 9/9 [00:17<00:00,  1.93s/it]\n"
     ]
    },
    {
     "name": "stdout",
     "output_type": "stream",
     "text": [
      "Validation:\n",
      "Counter({1: 1662, 0: 618})\n",
      "ROC AUC metric: 0.6165329982517483\n",
      "target metric: 0.7157112657271836\n",
      "target metric fixed: 0.7209589527112826\n",
      "loss: 0.597107277976142, accuracy: 0.6929824561403509\n",
      "********************************************************************************\n",
      "epoch 2/5\n"
     ]
    },
    {
     "name": "stderr",
     "output_type": "stream",
     "text": [
      "100%|██████████| 15/15 [00:27<00:00,  1.84s/it]\n"
     ]
    },
    {
     "name": "stdout",
     "output_type": "stream",
     "text": [
      "Train:\n",
      "Counter({1: 1828, 0: 1772})\n",
      "ROC AUC metric: 0.6157123456790123\n",
      "target metric: 0.6267481188962234\n",
      "loss: 0.7771254221598307, accuracy: 0.5822222222222222\n"
     ]
    },
    {
     "name": "stderr",
     "output_type": "stream",
     "text": [
      "100%|██████████| 9/9 [00:17<00:00,  1.95s/it]\n"
     ]
    },
    {
     "name": "stdout",
     "output_type": "stream",
     "text": [
      "Validation:\n",
      "Counter({0: 1285, 1: 995})\n",
      "ROC AUC metric: 0.5752376529720279\n",
      "target metric: 0.6479090952723865\n",
      "target metric fixed: 0.6537566673974857\n",
      "loss: 0.8517755203776889, accuracy: 0.5346491228070176\n",
      "********************************************************************************\n",
      "epoch 3/5\n"
     ]
    },
    {
     "name": "stderr",
     "output_type": "stream",
     "text": [
      "100%|██████████| 15/15 [00:28<00:00,  1.88s/it]\n"
     ]
    },
    {
     "name": "stdout",
     "output_type": "stream",
     "text": [
      "Train:\n",
      "Counter({1: 1837, 0: 1763})\n",
      "ROC AUC metric: 0.6448682098765431\n",
      "target metric: 0.6038019101585307\n",
      "loss: 0.7560501257578532, accuracy: 0.6058333333333333\n"
     ]
    },
    {
     "name": "stderr",
     "output_type": "stream",
     "text": [
      "100%|██████████| 9/9 [00:16<00:00,  1.88s/it]\n"
     ]
    },
    {
     "name": "stdout",
     "output_type": "stream",
     "text": [
      "Validation:\n",
      "Counter({0: 1329, 1: 951})\n",
      "ROC AUC metric: 0.6222618006993007\n",
      "target metric: 0.7938450627121605\n",
      "target metric fixed: 0.6216517945334183\n",
      "loss: 0.9388061232037015, accuracy: 0.5390350877192982\n",
      "********************************************************************************\n",
      "epoch 4/5\n"
     ]
    },
    {
     "name": "stderr",
     "output_type": "stream",
     "text": [
      "100%|██████████| 15/15 [00:27<00:00,  1.85s/it]\n"
     ]
    },
    {
     "name": "stdout",
     "output_type": "stream",
     "text": [
      "Train:\n",
      "Counter({0: 1811, 1: 1789})\n",
      "ROC AUC metric: 0.6409771604938272\n",
      "target metric: 0.6007863048497761\n",
      "loss: 0.7775380849838257, accuracy: 0.6091666666666666\n"
     ]
    },
    {
     "name": "stderr",
     "output_type": "stream",
     "text": [
      "100%|██████████| 9/9 [00:18<00:00,  2.01s/it]\n"
     ]
    },
    {
     "name": "stdout",
     "output_type": "stream",
     "text": [
      "Validation:\n",
      "Counter({0: 1256, 1: 1024})\n",
      "ROC AUC metric: 0.5802633304195804\n",
      "target metric: 0.7498812447342434\n",
      "target metric fixed: 0.6412759881590967\n",
      "loss: 0.8829069336255392, accuracy: 0.5385964912280702\n",
      "********************************************************************************\n",
      "epoch 5/5\n"
     ]
    },
    {
     "name": "stderr",
     "output_type": "stream",
     "text": [
      "100%|██████████| 15/15 [00:27<00:00,  1.83s/it]\n"
     ]
    },
    {
     "name": "stdout",
     "output_type": "stream",
     "text": [
      "Train:\n",
      "Counter({1: 1826, 0: 1774})\n",
      "ROC AUC metric: 0.639512962962963\n",
      "target metric: 0.6026139086208124\n",
      "loss: 0.7982044657071431, accuracy: 0.5972222222222222\n"
     ]
    },
    {
     "name": "stderr",
     "output_type": "stream",
     "text": [
      "100%|██████████| 9/9 [00:17<00:00,  1.89s/it]\n"
     ]
    },
    {
     "name": "stdout",
     "output_type": "stream",
     "text": [
      "Validation:\n",
      "Counter({0: 1575, 1: 705})\n",
      "ROC AUC metric: 0.5653452797202797\n",
      "target metric: 0.7177344497163027\n",
      "target metric fixed: 0.6830508538496052\n",
      "loss: 1.122702916463216, accuracy: 0.45921052631578946\n",
      "--------------------------------------------------------------------------------\n",
      "--------------------------------------------------------------------------------\n",
      "--------------------------------------------------------------------------------\n",
      "CV with 4 as test\n",
      "Train/Test sizes: 700/114\n",
      "Train/Test label distribution:\n",
      "{'CE': 0.6514285714285715, 'LAA': 0.3485714285714286}\n",
      "{'CE': 0.7719298245614035, 'LAA': 0.22807017543859648}\n",
      "********************************************************************************\n",
      "epoch 1/5\n"
     ]
    },
    {
     "name": "stderr",
     "output_type": "stream",
     "text": [
      "100%|██████████| 15/15 [00:27<00:00,  1.83s/it]\n"
     ]
    },
    {
     "name": "stdout",
     "output_type": "stream",
     "text": [
      "Train:\n",
      "Counter({1: 1896, 0: 1704})\n",
      "ROC AUC metric: 0.5493404320987655\n",
      "target metric: 0.6980606715781343\n",
      "loss: 1.19382088581721, accuracy: 0.5333333333333333\n"
     ]
    },
    {
     "name": "stderr",
     "output_type": "stream",
     "text": [
      "100%|██████████| 9/9 [00:17<00:00,  1.97s/it]\n"
     ]
    },
    {
     "name": "stdout",
     "output_type": "stream",
     "text": [
      "Validation:\n",
      "Counter({0: 1755, 1: 525})\n",
      "ROC AUC metric: 0.5587500000000001\n",
      "target metric: 0.7497333485624473\n",
      "target metric fixed: 0.7131655119083328\n",
      "loss: 1.1332092947430081, accuracy: 0.4074561403508772\n",
      "********************************************************************************\n",
      "epoch 2/5\n"
     ]
    },
    {
     "name": "stderr",
     "output_type": "stream",
     "text": [
      "100%|██████████| 15/15 [00:27<00:00,  1.83s/it]\n"
     ]
    },
    {
     "name": "stdout",
     "output_type": "stream",
     "text": [
      "Train:\n",
      "Counter({0: 1914, 1: 1686})\n",
      "ROC AUC metric: 0.6019324074074075\n",
      "target metric: 0.6436469848761192\n",
      "loss: 0.8414316177368164, accuracy: 0.5733333333333334\n"
     ]
    },
    {
     "name": "stderr",
     "output_type": "stream",
     "text": [
      "100%|██████████| 9/9 [00:18<00:00,  2.01s/it]\n"
     ]
    },
    {
     "name": "stdout",
     "output_type": "stream",
     "text": [
      "Validation:\n",
      "Counter({1: 1397, 0: 883})\n",
      "ROC AUC metric: 0.6180026223776224\n",
      "target metric: 0.6585403580545193\n",
      "target metric fixed: 0.6444434790026806\n",
      "loss: 0.7063594791624281, accuracy: 0.6346491228070176\n",
      "********************************************************************************\n",
      "epoch 3/5\n"
     ]
    },
    {
     "name": "stderr",
     "output_type": "stream",
     "text": [
      "100%|██████████| 15/15 [00:28<00:00,  1.87s/it]\n"
     ]
    },
    {
     "name": "stdout",
     "output_type": "stream",
     "text": [
      "Train:\n",
      "Counter({1: 1828, 0: 1772})\n",
      "ROC AUC metric: 0.6631132716049383\n",
      "target metric: 0.5942208784293275\n",
      "loss: 0.6815143545468648, accuracy: 0.6216666666666667\n"
     ]
    },
    {
     "name": "stderr",
     "output_type": "stream",
     "text": [
      "100%|██████████| 9/9 [00:16<00:00,  1.89s/it]\n"
     ]
    },
    {
     "name": "stdout",
     "output_type": "stream",
     "text": [
      "Validation:\n",
      "Counter({1: 1422, 0: 858})\n",
      "ROC AUC metric: 0.6285041520979021\n",
      "target metric: 0.6286196476089742\n",
      "target metric fixed: 0.6365418204981428\n",
      "loss: 0.6308316588401794, accuracy: 0.6517543859649123\n",
      "********************************************************************************\n",
      "epoch 4/5\n"
     ]
    },
    {
     "name": "stderr",
     "output_type": "stream",
     "text": [
      "100%|██████████| 15/15 [00:27<00:00,  1.86s/it]\n"
     ]
    },
    {
     "name": "stdout",
     "output_type": "stream",
     "text": [
      "Train:\n",
      "Counter({1: 1813, 0: 1787})\n",
      "ROC AUC metric: 0.6389756172839507\n",
      "target metric: 0.6056321588027354\n",
      "loss: 0.733279804388682, accuracy: 0.5975\n"
     ]
    },
    {
     "name": "stderr",
     "output_type": "stream",
     "text": [
      "100%|██████████| 9/9 [00:17<00:00,  1.95s/it]\n"
     ]
    },
    {
     "name": "stdout",
     "output_type": "stream",
     "text": [
      "Validation:\n",
      "Counter({0: 1419, 1: 861})\n",
      "ROC AUC metric: 0.5992766608391609\n",
      "target metric: 0.7114994409576965\n",
      "target metric fixed: 0.6369773684461013\n",
      "loss: 0.903089165687561, accuracy: 0.5083333333333333\n",
      "********************************************************************************\n",
      "epoch 5/5\n"
     ]
    },
    {
     "name": "stderr",
     "output_type": "stream",
     "text": [
      "100%|██████████| 15/15 [00:27<00:00,  1.86s/it]\n"
     ]
    },
    {
     "name": "stdout",
     "output_type": "stream",
     "text": [
      "Train:\n",
      "Counter({0: 1815, 1: 1785})\n",
      "ROC AUC metric: 0.6674682098765433\n",
      "target metric: 0.5811118731988483\n",
      "loss: 0.7212333599726359, accuracy: 0.6225\n"
     ]
    },
    {
     "name": "stderr",
     "output_type": "stream",
     "text": [
      "100%|██████████| 9/9 [00:16<00:00,  1.87s/it]\n"
     ]
    },
    {
     "name": "stdout",
     "output_type": "stream",
     "text": [
      "Validation:\n",
      "Counter({0: 1154, 1: 1126})\n",
      "ROC AUC metric: 0.6242679195804197\n",
      "target metric: 0.7408023887535709\n",
      "target metric fixed: 0.6156763463174704\n",
      "loss: 0.8037275539504157, accuracy: 0.5789473684210527\n",
      "Best validation metric: 0.6156763463174704\n",
      "--------------------------------------------------------------------------------\n",
      "--------------------------------------------------------------------------------\n",
      "--------------------------------------------------------------------------------\n",
      "CV with 7 as test\n",
      "Train/Test sizes: 716/98\n",
      "Train/Test label distribution:\n",
      "{'CE': 0.6634078212290503, 'LAA': 0.3365921787709497}\n",
      "{'CE': 0.7040816326530612, 'LAA': 0.29591836734693877}\n",
      "********************************************************************************\n",
      "epoch 1/5\n"
     ]
    },
    {
     "name": "stderr",
     "output_type": "stream",
     "text": [
      "100%|██████████| 15/15 [00:29<00:00,  1.95s/it]\n"
     ]
    },
    {
     "name": "stdout",
     "output_type": "stream",
     "text": [
      "Train:\n",
      "Counter({0: 1905, 1: 1815})\n",
      "ROC AUC metric: 0.5878678170886807\n",
      "target metric: 0.6591471316166491\n",
      "loss: 0.9548075675964356, accuracy: 0.5631720430107527\n"
     ]
    },
    {
     "name": "stderr",
     "output_type": "stream",
     "text": [
      "100%|██████████| 8/8 [00:16<00:00,  2.02s/it]\n"
     ]
    },
    {
     "name": "stdout",
     "output_type": "stream",
     "text": [
      "Validation:\n",
      "Counter({0: 1346, 1: 614})\n",
      "ROC AUC metric: 0.6410663418290854\n",
      "target metric: 0.6411611600085682\n",
      "target metric fixed: 0.637639828612466\n",
      "loss: 0.8713346645236015, accuracy: 0.5010204081632653\n",
      "********************************************************************************\n",
      "epoch 2/5\n"
     ]
    },
    {
     "name": "stderr",
     "output_type": "stream",
     "text": [
      "100%|██████████| 15/15 [00:28<00:00,  1.93s/it]\n"
     ]
    },
    {
     "name": "stdout",
     "output_type": "stream",
     "text": [
      "Train:\n",
      "Counter({1: 1915, 0: 1805})\n",
      "ROC AUC metric: 0.6364909238062203\n",
      "target metric: 0.615676282675611\n",
      "loss: 0.7267415523529053, accuracy: 0.6008064516129032\n"
     ]
    },
    {
     "name": "stderr",
     "output_type": "stream",
     "text": [
      "100%|██████████| 8/8 [00:15<00:00,  1.96s/it]\n"
     ]
    },
    {
     "name": "stdout",
     "output_type": "stream",
     "text": [
      "Validation:\n",
      "Counter({0: 1054, 1: 906})\n",
      "ROC AUC metric: 0.6160107446276861\n",
      "target metric: 0.6073899911732781\n",
      "target metric fixed: 0.6043952312811802\n",
      "loss: 0.7726947665214539, accuracy: 0.5520408163265306\n",
      "********************************************************************************\n",
      "epoch 3/5\n"
     ]
    },
    {
     "name": "stderr",
     "output_type": "stream",
     "text": [
      "100%|██████████| 15/15 [00:28<00:00,  1.91s/it]\n"
     ]
    },
    {
     "name": "stdout",
     "output_type": "stream",
     "text": [
      "Train:\n",
      "Counter({0: 1942, 1: 1778})\n",
      "ROC AUC metric: 0.6444684356573015\n",
      "target metric: 0.6092479456588696\n",
      "loss: 0.7040793816248576, accuracy: 0.6026881720430107\n"
     ]
    },
    {
     "name": "stderr",
     "output_type": "stream",
     "text": [
      "100%|██████████| 8/8 [00:16<00:00,  2.02s/it]\n"
     ]
    },
    {
     "name": "stdout",
     "output_type": "stream",
     "text": [
      "Validation:\n",
      "Counter({1: 1125, 0: 835})\n",
      "ROC AUC metric: 0.6379097951024488\n",
      "target metric: 0.6102848386704557\n",
      "target metric fixed: 0.6009506212225616\n",
      "loss: 0.6873675286769867, accuracy: 0.6147959183673469\n",
      "********************************************************************************\n",
      "epoch 4/5\n"
     ]
    },
    {
     "name": "stderr",
     "output_type": "stream",
     "text": [
      "100%|██████████| 15/15 [00:28<00:00,  1.87s/it]\n"
     ]
    },
    {
     "name": "stdout",
     "output_type": "stream",
     "text": [
      "Train:\n",
      "Counter({1: 1908, 0: 1812})\n",
      "ROC AUC metric: 0.6664595617990519\n",
      "target metric: 0.59223517019308\n",
      "loss: 0.6827585577964783, accuracy: 0.6209677419354839\n"
     ]
    },
    {
     "name": "stderr",
     "output_type": "stream",
     "text": [
      "100%|██████████| 8/8 [00:16<00:00,  2.02s/it]\n"
     ]
    },
    {
     "name": "stdout",
     "output_type": "stream",
     "text": [
      "Validation:\n",
      "Counter({0: 1003, 1: 957})\n",
      "ROC AUC metric: 0.6273475762118941\n",
      "target metric: 0.6088339666322513\n",
      "target metric fixed: 0.6103425328918883\n",
      "loss: 0.7699500024318695, accuracy: 0.585204081632653\n",
      "********************************************************************************\n",
      "epoch 5/5\n"
     ]
    },
    {
     "name": "stderr",
     "output_type": "stream",
     "text": [
      "100%|██████████| 15/15 [00:28<00:00,  1.89s/it]\n"
     ]
    },
    {
     "name": "stdout",
     "output_type": "stream",
     "text": [
      "Train:\n",
      "Counter({0: 1905, 1: 1815})\n",
      "ROC AUC metric: 0.6673375534743902\n",
      "target metric: 0.5902695722666712\n",
      "loss: 0.6813902934392293, accuracy: 0.6228494623655914\n"
     ]
    },
    {
     "name": "stderr",
     "output_type": "stream",
     "text": [
      "100%|██████████| 8/8 [00:15<00:00,  1.95s/it]\n"
     ]
    },
    {
     "name": "stdout",
     "output_type": "stream",
     "text": [
      "Validation:\n",
      "Counter({1: 1206, 0: 754})\n",
      "ROC AUC metric: 0.5990104947526237\n",
      "target metric: 0.6336751054961338\n",
      "target metric fixed: 0.6345957250743317\n",
      "loss: 0.790761724114418, accuracy: 0.6142857142857143\n",
      "--------------------------------------------------------------------------------\n",
      "--------------------------------------------------------------------------------\n",
      "--------------------------------------------------------------------------------\n",
      "CV with 7 as test\n",
      "Train/Test sizes: 716/98\n",
      "Train/Test label distribution:\n",
      "{'CE': 0.6634078212290503, 'LAA': 0.3365921787709497}\n",
      "{'CE': 0.7040816326530612, 'LAA': 0.29591836734693877}\n",
      "********************************************************************************\n",
      "epoch 1/5\n"
     ]
    },
    {
     "name": "stderr",
     "output_type": "stream",
     "text": [
      "100%|██████████| 15/15 [00:28<00:00,  1.89s/it]\n"
     ]
    },
    {
     "name": "stdout",
     "output_type": "stream",
     "text": [
      "Train:\n",
      "Counter({1: 1921, 0: 1799})\n",
      "ROC AUC metric: 0.5603892068447219\n",
      "target metric: 0.6721864954273137\n",
      "loss: 1.02458651860555, accuracy: 0.5491935483870968\n"
     ]
    },
    {
     "name": "stderr",
     "output_type": "stream",
     "text": [
      "100%|██████████| 8/8 [00:15<00:00,  1.97s/it]\n"
     ]
    },
    {
     "name": "stdout",
     "output_type": "stream",
     "text": [
      "Validation:\n",
      "Counter({0: 1403, 1: 557})\n",
      "ROC AUC metric: 0.6482933533233384\n",
      "target metric: 0.6757040771986755\n",
      "target metric fixed: 0.6768243413574113\n",
      "loss: 0.9852254018187523, accuracy: 0.49744897959183676\n",
      "********************************************************************************\n",
      "epoch 2/5\n"
     ]
    },
    {
     "name": "stderr",
     "output_type": "stream",
     "text": [
      "100%|██████████| 15/15 [00:28<00:00,  1.89s/it]\n"
     ]
    },
    {
     "name": "stdout",
     "output_type": "stream",
     "text": [
      "Train:\n",
      "Counter({0: 1867, 1: 1853})\n",
      "ROC AUC metric: 0.6364623077812464\n",
      "target metric: 0.6233046048744704\n",
      "loss: 0.713063649336497, accuracy: 0.5991935483870968\n"
     ]
    },
    {
     "name": "stderr",
     "output_type": "stream",
     "text": [
      "100%|██████████| 8/8 [00:15<00:00,  1.99s/it]\n"
     ]
    },
    {
     "name": "stdout",
     "output_type": "stream",
     "text": [
      "Validation:\n",
      "Counter({0: 1101, 1: 859})\n",
      "ROC AUC metric: 0.6312243878060969\n",
      "target metric: 0.6338524723826094\n",
      "target metric fixed: 0.6223371045268427\n",
      "loss: 0.7686096951365471, accuracy: 0.551530612244898\n",
      "********************************************************************************\n",
      "epoch 3/5\n"
     ]
    },
    {
     "name": "stderr",
     "output_type": "stream",
     "text": [
      "100%|██████████| 15/15 [00:27<00:00,  1.86s/it]\n"
     ]
    },
    {
     "name": "stdout",
     "output_type": "stream",
     "text": [
      "Train:\n",
      "Counter({0: 1903, 1: 1817})\n",
      "ROC AUC metric: 0.6405934212047636\n",
      "target metric: 0.610435127442264\n",
      "loss: 0.7183332244555155, accuracy: 0.5943548387096774\n"
     ]
    },
    {
     "name": "stderr",
     "output_type": "stream",
     "text": [
      "100%|██████████| 8/8 [00:15<00:00,  1.99s/it]\n"
     ]
    },
    {
     "name": "stdout",
     "output_type": "stream",
     "text": [
      "Validation:\n",
      "Counter({1: 1300, 0: 660})\n",
      "ROC AUC metric: 0.6474812593703148\n",
      "target metric: 0.6070295289023606\n",
      "target metric fixed: 0.6087279330443925\n",
      "loss: 0.646956242620945, accuracy: 0.6642857142857143\n",
      "********************************************************************************\n",
      "epoch 4/5\n"
     ]
    },
    {
     "name": "stderr",
     "output_type": "stream",
     "text": [
      "100%|██████████| 15/15 [00:27<00:00,  1.86s/it]\n"
     ]
    },
    {
     "name": "stdout",
     "output_type": "stream",
     "text": [
      "Train:\n",
      "Counter({1: 1993, 0: 1727})\n",
      "ROC AUC metric: 0.6552010348017111\n",
      "target metric: 0.5950377856960894\n",
      "loss: 0.7141734639803569, accuracy: 0.6158602150537634\n"
     ]
    },
    {
     "name": "stderr",
     "output_type": "stream",
     "text": [
      "100%|██████████| 8/8 [00:15<00:00,  1.97s/it]\n"
     ]
    },
    {
     "name": "stdout",
     "output_type": "stream",
     "text": [
      "Validation:\n",
      "Counter({0: 1364, 1: 596})\n",
      "ROC AUC metric: 0.6251174412793603\n",
      "target metric: 0.6549932382339746\n",
      "target metric fixed: 0.6585940372655766\n",
      "loss: 0.9373350813984871, accuracy: 0.49081632653061225\n",
      "********************************************************************************\n",
      "epoch 5/5\n"
     ]
    },
    {
     "name": "stderr",
     "output_type": "stream",
     "text": [
      "100%|██████████| 15/15 [00:28<00:00,  1.89s/it]\n"
     ]
    },
    {
     "name": "stdout",
     "output_type": "stream",
     "text": [
      "Train:\n",
      "Counter({0: 1937, 1: 1783})\n",
      "ROC AUC metric: 0.6487420511041739\n",
      "target metric: 0.5920474066773795\n",
      "loss: 0.7317883729934692, accuracy: 0.6024193548387097\n"
     ]
    },
    {
     "name": "stderr",
     "output_type": "stream",
     "text": [
      "100%|██████████| 8/8 [00:15<00:00,  1.97s/it]\n"
     ]
    },
    {
     "name": "stdout",
     "output_type": "stream",
     "text": [
      "Validation:\n",
      "Counter({1: 1480, 0: 480})\n",
      "ROC AUC metric: 0.6542341329335333\n",
      "target metric: 0.6479550733596533\n",
      "target metric fixed: 0.6486915116279665\n",
      "loss: 0.6267068162560463, accuracy: 0.6887755102040817\n",
      "--------------------------------------------------------------------------------\n",
      "--------------------------------------------------------------------------------\n",
      "--------------------------------------------------------------------------------\n",
      "CV with 7 as test\n",
      "Train/Test sizes: 716/98\n",
      "Train/Test label distribution:\n",
      "{'CE': 0.6634078212290503, 'LAA': 0.3365921787709497}\n",
      "{'CE': 0.7040816326530612, 'LAA': 0.29591836734693877}\n",
      "********************************************************************************\n",
      "epoch 1/5\n"
     ]
    },
    {
     "name": "stderr",
     "output_type": "stream",
     "text": [
      "100%|██████████| 15/15 [00:28<00:00,  1.89s/it]\n"
     ]
    },
    {
     "name": "stdout",
     "output_type": "stream",
     "text": [
      "Train:\n",
      "Counter({0: 1950, 1: 1770})\n",
      "ROC AUC metric: 0.5732746560295988\n",
      "target metric: 0.6777829463534539\n",
      "loss: 1.1791819254557292, accuracy: 0.5586021505376344\n"
     ]
    },
    {
     "name": "stderr",
     "output_type": "stream",
     "text": [
      "100%|██████████| 8/8 [00:15<00:00,  1.97s/it]\n"
     ]
    },
    {
     "name": "stdout",
     "output_type": "stream",
     "text": [
      "Validation:\n",
      "Counter({1: 1425, 0: 535})\n",
      "ROC AUC metric: 0.6420664667666167\n",
      "target metric: 0.6609815674137965\n",
      "target metric fixed: 0.6614155031818101\n",
      "loss: 0.6795627176761627, accuracy: 0.6780612244897959\n",
      "********************************************************************************\n",
      "epoch 2/5\n"
     ]
    },
    {
     "name": "stderr",
     "output_type": "stream",
     "text": [
      "100%|██████████| 15/15 [00:28<00:00,  1.89s/it]\n"
     ]
    },
    {
     "name": "stdout",
     "output_type": "stream",
     "text": [
      "Train:\n",
      "Counter({1: 1931, 0: 1789})\n",
      "ROC AUC metric: 0.6100624349635796\n",
      "target metric: 0.6309512140257152\n",
      "loss: 0.8061712304751079, accuracy: 0.5879032258064516\n"
     ]
    },
    {
     "name": "stderr",
     "output_type": "stream",
     "text": [
      "100%|██████████| 8/8 [00:15<00:00,  1.92s/it]\n"
     ]
    },
    {
     "name": "stdout",
     "output_type": "stream",
     "text": [
      "Validation:\n",
      "Counter({1: 1403, 0: 557})\n",
      "ROC AUC metric: 0.6478373313343329\n",
      "target metric: 0.6324525860694197\n",
      "target metric fixed: 0.6326474021672652\n",
      "loss: 0.6254339814186096, accuracy: 0.6709183673469388\n",
      "********************************************************************************\n",
      "epoch 3/5\n"
     ]
    },
    {
     "name": "stderr",
     "output_type": "stream",
     "text": [
      "100%|██████████| 15/15 [00:27<00:00,  1.86s/it]\n"
     ]
    },
    {
     "name": "stdout",
     "output_type": "stream",
     "text": [
      "Train:\n",
      "Counter({1: 1910, 0: 1810})\n",
      "ROC AUC metric: 0.6437731240605851\n",
      "target metric: 0.6118981004981213\n",
      "loss: 0.7075414856274923, accuracy: 0.5973118279569892\n"
     ]
    },
    {
     "name": "stderr",
     "output_type": "stream",
     "text": [
      "100%|██████████| 8/8 [00:15<00:00,  1.96s/it]\n"
     ]
    },
    {
     "name": "stdout",
     "output_type": "stream",
     "text": [
      "Validation:\n",
      "Counter({0: 1470, 1: 490})\n",
      "ROC AUC metric: 0.6490604697651174\n",
      "target metric: 0.6916833512876235\n",
      "target metric fixed: 0.654745685460075\n",
      "loss: 0.9433862641453743, accuracy: 0.4642857142857143\n",
      "********************************************************************************\n",
      "epoch 4/5\n"
     ]
    },
    {
     "name": "stderr",
     "output_type": "stream",
     "text": [
      "100%|██████████| 15/15 [00:28<00:00,  1.88s/it]\n"
     ]
    },
    {
     "name": "stdout",
     "output_type": "stream",
     "text": [
      "Train:\n",
      "Counter({0: 1943, 1: 1777})\n",
      "ROC AUC metric: 0.6648430454387793\n",
      "target metric: 0.592358595861028\n",
      "loss: 0.6780757109324137, accuracy: 0.6174731182795699\n"
     ]
    },
    {
     "name": "stderr",
     "output_type": "stream",
     "text": [
      "100%|██████████| 8/8 [00:16<00:00,  2.01s/it]\n"
     ]
    },
    {
     "name": "stdout",
     "output_type": "stream",
     "text": [
      "Validation:\n",
      "Counter({1: 1090, 0: 870})\n",
      "ROC AUC metric: 0.6809770114942529\n",
      "target metric: 0.5784363205627394\n",
      "target metric fixed: 0.5805691482270264\n",
      "loss: 0.6569951102137566, accuracy: 0.65\n",
      "********************************************************************************\n",
      "epoch 5/5\n"
     ]
    },
    {
     "name": "stderr",
     "output_type": "stream",
     "text": [
      "100%|██████████| 15/15 [00:28<00:00,  1.91s/it]\n"
     ]
    },
    {
     "name": "stdout",
     "output_type": "stream",
     "text": [
      "Train:\n",
      "Counter({1: 1879, 0: 1841})\n",
      "ROC AUC metric: 0.6816704243265118\n",
      "target metric: 0.5810690289837572\n",
      "loss: 0.6725374738375346, accuracy: 0.635752688172043\n"
     ]
    },
    {
     "name": "stderr",
     "output_type": "stream",
     "text": [
      "100%|██████████| 8/8 [00:15<00:00,  1.92s/it]\n"
     ]
    },
    {
     "name": "stdout",
     "output_type": "stream",
     "text": [
      "Validation:\n",
      "Counter({1: 1087, 0: 873})\n",
      "ROC AUC metric: 0.6381634182908545\n",
      "target metric: 0.5902500548116256\n",
      "target metric fixed: 0.5906903446378811\n",
      "loss: 0.7048057615756989, accuracy: 0.6076530612244898\n",
      "Best validation metric: 0.5805691482270264\n",
      "--------------------------------------------------------------------------------\n",
      "--------------------------------------------------------------------------------\n",
      "--------------------------------------------------------------------------------\n",
      "CV with 1.5 as test\n",
      "Train/Test sizes: 722/92\n",
      "Train/Test label distribution:\n",
      "{'CE': 0.6523545706371191, 'LAA': 0.3476454293628809}\n",
      "{'LAA': 0.20652173913043478, 'CE': 0.7934782608695652}\n",
      "********************************************************************************\n",
      "epoch 1/5\n"
     ]
    },
    {
     "name": "stderr",
     "output_type": "stream",
     "text": [
      "100%|██████████| 15/15 [00:28<00:00,  1.87s/it]\n"
     ]
    },
    {
     "name": "stdout",
     "output_type": "stream",
     "text": [
      "Train:\n",
      "Counter({1: 1887, 0: 1793})\n",
      "ROC AUC metric: 0.568953361294896\n",
      "target metric: 0.6715948523759047\n",
      "loss: 1.0114059726397195, accuracy: 0.5513586956521739\n"
     ]
    },
    {
     "name": "stderr",
     "output_type": "stream",
     "text": [
      "100%|██████████| 8/8 [00:15<00:00,  1.95s/it]\n"
     ]
    },
    {
     "name": "stdout",
     "output_type": "stream",
     "text": [
      "Validation:\n",
      "Counter({1: 1364, 0: 476})\n",
      "ROC AUC metric: 0.5632281903388608\n",
      "target metric: 0.7678928504861998\n",
      "target metric fixed: 0.7688262877941683\n",
      "loss: 0.663352943956852, accuracy: 0.6739130434782609\n",
      "********************************************************************************\n",
      "epoch 2/5\n"
     ]
    },
    {
     "name": "stderr",
     "output_type": "stream",
     "text": [
      "100%|██████████| 15/15 [00:28<00:00,  1.90s/it]\n"
     ]
    },
    {
     "name": "stdout",
     "output_type": "stream",
     "text": [
      "Train:\n",
      "Counter({1: 1946, 0: 1734})\n",
      "ROC AUC metric: 0.6312550212665407\n",
      "target metric: 0.6218448232193741\n",
      "loss: 0.7777697801589966, accuracy: 0.5940217391304348\n"
     ]
    },
    {
     "name": "stderr",
     "output_type": "stream",
     "text": [
      "100%|██████████| 8/8 [00:14<00:00,  1.78s/it]\n"
     ]
    },
    {
     "name": "stdout",
     "output_type": "stream",
     "text": [
      "Validation:\n",
      "Counter({0: 1105, 1: 735})\n",
      "ROC AUC metric: 0.5930371304974765\n",
      "target metric: 0.6787567390811532\n",
      "target metric fixed: 0.6795469258159128\n",
      "loss: 0.8983648344874382, accuracy: 0.48206521739130437\n",
      "********************************************************************************\n",
      "epoch 3/5\n"
     ]
    },
    {
     "name": "stderr",
     "output_type": "stream",
     "text": [
      "100%|██████████| 15/15 [00:28<00:00,  1.88s/it]\n"
     ]
    },
    {
     "name": "stdout",
     "output_type": "stream",
     "text": [
      "Train:\n",
      "Counter({0: 1857, 1: 1823})\n",
      "ROC AUC metric: 0.6622040406427221\n",
      "target metric: 0.5926749626101657\n",
      "loss: 0.719684112071991, accuracy: 0.6149456521739131\n"
     ]
    },
    {
     "name": "stderr",
     "output_type": "stream",
     "text": [
      "100%|██████████| 8/8 [00:14<00:00,  1.79s/it]\n"
     ]
    },
    {
     "name": "stdout",
     "output_type": "stream",
     "text": [
      "Validation:\n",
      "Counter({0: 1416, 1: 424})\n",
      "ROC AUC metric: 0.5916510454217736\n",
      "target metric: 0.7440596850049729\n",
      "target metric fixed: 0.7433545886457621\n",
      "loss: 1.1425919979810715, accuracy: 0.3760869565217391\n",
      "********************************************************************************\n",
      "epoch 4/5\n"
     ]
    },
    {
     "name": "stderr",
     "output_type": "stream",
     "text": [
      "100%|██████████| 15/15 [00:28<00:00,  1.89s/it]\n"
     ]
    },
    {
     "name": "stdout",
     "output_type": "stream",
     "text": [
      "Train:\n",
      "Counter({1: 1844, 0: 1836})\n",
      "ROC AUC metric: 0.6650280600189036\n",
      "target metric: 0.5914344732034567\n",
      "loss: 0.6838773250579834, accuracy: 0.6195652173913043\n"
     ]
    },
    {
     "name": "stderr",
     "output_type": "stream",
     "text": [
      "100%|██████████| 8/8 [00:15<00:00,  1.90s/it]\n"
     ]
    },
    {
     "name": "stdout",
     "output_type": "stream",
     "text": [
      "Validation:\n",
      "Counter({0: 1213, 1: 627})\n",
      "ROC AUC metric: 0.5885346070656092\n",
      "target metric: 0.6845915282090881\n",
      "target metric fixed: 0.6899559863975033\n",
      "loss: 0.9485280364751816, accuracy: 0.4483695652173913\n",
      "********************************************************************************\n",
      "epoch 5/5\n"
     ]
    },
    {
     "name": "stderr",
     "output_type": "stream",
     "text": [
      "100%|██████████| 15/15 [00:27<00:00,  1.86s/it]\n"
     ]
    },
    {
     "name": "stdout",
     "output_type": "stream",
     "text": [
      "Train:\n",
      "Counter({0: 1924, 1: 1756})\n",
      "ROC AUC metric: 0.6660580103969754\n",
      "target metric: 0.5957309499361751\n",
      "loss: 0.6838052074114481, accuracy: 0.6255434782608695\n"
     ]
    },
    {
     "name": "stderr",
     "output_type": "stream",
     "text": [
      "100%|██████████| 8/8 [00:13<00:00,  1.75s/it]\n"
     ]
    },
    {
     "name": "stdout",
     "output_type": "stream",
     "text": [
      "Validation:\n",
      "Counter({1: 1162, 0: 678})\n",
      "ROC AUC metric: 0.5838923936553714\n",
      "target metric: 0.6743397410115937\n",
      "target metric fixed: 0.679288418154272\n",
      "loss: 0.6876282542943954, accuracy: 0.6076086956521739\n",
      "--------------------------------------------------------------------------------\n",
      "--------------------------------------------------------------------------------\n",
      "--------------------------------------------------------------------------------\n",
      "CV with 1.5 as test\n",
      "Train/Test sizes: 722/92\n",
      "Train/Test label distribution:\n",
      "{'CE': 0.6523545706371191, 'LAA': 0.3476454293628809}\n",
      "{'LAA': 0.20652173913043478, 'CE': 0.7934782608695652}\n",
      "********************************************************************************\n",
      "epoch 1/5\n"
     ]
    },
    {
     "name": "stderr",
     "output_type": "stream",
     "text": [
      "100%|██████████| 15/15 [00:28<00:00,  1.88s/it]\n"
     ]
    },
    {
     "name": "stdout",
     "output_type": "stream",
     "text": [
      "Train:\n",
      "Counter({0: 2012, 1: 1668})\n",
      "ROC AUC metric: 0.5226696892722117\n",
      "target metric: 0.7500771698430564\n",
      "loss: 1.6011921842892964, accuracy: 0.5125\n"
     ]
    },
    {
     "name": "stderr",
     "output_type": "stream",
     "text": [
      "100%|██████████| 8/8 [00:13<00:00,  1.75s/it]\n"
     ]
    },
    {
     "name": "stdout",
     "output_type": "stream",
     "text": [
      "Validation:\n",
      "Counter({1: 1348, 0: 492})\n",
      "ROC AUC metric: 0.6173071377072818\n",
      "target metric: 0.7255719195946715\n",
      "target metric fixed: 0.7248813478933246\n",
      "loss: 0.6182315871119499, accuracy: 0.7010869565217391\n",
      "********************************************************************************\n",
      "epoch 2/5\n"
     ]
    },
    {
     "name": "stderr",
     "output_type": "stream",
     "text": [
      "100%|██████████| 15/15 [00:28<00:00,  1.88s/it]\n"
     ]
    },
    {
     "name": "stdout",
     "output_type": "stream",
     "text": [
      "Train:\n",
      "Counter({1: 2029, 0: 1651})\n",
      "ROC AUC metric: 0.6279900165406427\n",
      "target metric: 0.6143163999112883\n",
      "loss: 0.8146565794944763, accuracy: 0.597554347826087\n"
     ]
    },
    {
     "name": "stderr",
     "output_type": "stream",
     "text": [
      "100%|██████████| 8/8 [00:15<00:00,  1.91s/it]\n"
     ]
    },
    {
     "name": "stdout",
     "output_type": "stream",
     "text": [
      "Validation:\n",
      "Counter({0: 1355, 1: 485})\n",
      "ROC AUC metric: 0.5932065609228552\n",
      "target metric: 0.7358192089670565\n",
      "target metric fixed: 0.7332982634193379\n",
      "loss: 1.114856243133545, accuracy: 0.38206521739130433\n",
      "********************************************************************************\n",
      "epoch 3/5\n"
     ]
    },
    {
     "name": "stderr",
     "output_type": "stream",
     "text": [
      "100%|██████████| 15/15 [00:28<00:00,  1.87s/it]\n"
     ]
    },
    {
     "name": "stdout",
     "output_type": "stream",
     "text": [
      "Train:\n",
      "Counter({1: 1854, 0: 1826})\n",
      "ROC AUC metric: 0.657116906899811\n",
      "target metric: 0.5973946224957194\n",
      "loss: 0.7075069824854533, accuracy: 0.6081521739130434\n"
     ]
    },
    {
     "name": "stderr",
     "output_type": "stream",
     "text": [
      "100%|██████████| 8/8 [00:14<00:00,  1.77s/it]\n"
     ]
    },
    {
     "name": "stdout",
     "output_type": "stream",
     "text": [
      "Validation:\n",
      "Counter({0: 1002, 1: 838})\n",
      "ROC AUC metric: 0.5817916366258111\n",
      "target metric: 0.6788425644724883\n",
      "target metric fixed: 0.6814682530171239\n",
      "loss: 0.8365016207098961, accuracy: 0.5260869565217391\n",
      "********************************************************************************\n",
      "epoch 4/5\n"
     ]
    },
    {
     "name": "stderr",
     "output_type": "stream",
     "text": [
      "100%|██████████| 15/15 [00:28<00:00,  1.88s/it]\n"
     ]
    },
    {
     "name": "stdout",
     "output_type": "stream",
     "text": [
      "Train:\n",
      "Counter({0: 1841, 1: 1839})\n",
      "ROC AUC metric: 0.6688198546786389\n",
      "target metric: 0.593643010133144\n",
      "loss: 0.6692574779192607, accuracy: 0.6100543478260869\n"
     ]
    },
    {
     "name": "stderr",
     "output_type": "stream",
     "text": [
      "100%|██████████| 8/8 [00:13<00:00,  1.74s/it]\n"
     ]
    },
    {
     "name": "stdout",
     "output_type": "stream",
     "text": [
      "Validation:\n",
      "Counter({1: 1085, 0: 755})\n",
      "ROC AUC metric: 0.5720304614275415\n",
      "target metric: 0.679172944638433\n",
      "target metric fixed: 0.6849491711430993\n",
      "loss: 0.718262791633606, accuracy: 0.6027173913043479\n",
      "********************************************************************************\n",
      "epoch 5/5\n"
     ]
    },
    {
     "name": "stderr",
     "output_type": "stream",
     "text": [
      "100%|██████████| 15/15 [00:27<00:00,  1.86s/it]\n"
     ]
    },
    {
     "name": "stdout",
     "output_type": "stream",
     "text": [
      "Train:\n",
      "Counter({1: 1883, 0: 1797})\n",
      "ROC AUC metric: 0.6887823428638942\n",
      "target metric: 0.5744601343712443\n",
      "loss: 0.6583022793134053, accuracy: 0.6421195652173913\n"
     ]
    },
    {
     "name": "stderr",
     "output_type": "stream",
     "text": [
      "100%|██████████| 8/8 [00:15<00:00,  1.89s/it]\n"
     ]
    },
    {
     "name": "stdout",
     "output_type": "stream",
     "text": [
      "Validation:\n",
      "Counter({0: 1216, 1: 624})\n",
      "ROC AUC metric: 0.5958056957462148\n",
      "target metric: 0.69547990771807\n",
      "target metric fixed: 0.6946462736636132\n",
      "loss: 0.977883979678154, accuracy: 0.44021739130434784\n",
      "--------------------------------------------------------------------------------\n",
      "--------------------------------------------------------------------------------\n",
      "--------------------------------------------------------------------------------\n",
      "CV with 1.5 as test\n",
      "Train/Test sizes: 722/92\n",
      "Train/Test label distribution:\n",
      "{'CE': 0.6523545706371191, 'LAA': 0.3476454293628809}\n",
      "{'LAA': 0.20652173913043478, 'CE': 0.7934782608695652}\n",
      "********************************************************************************\n",
      "epoch 1/5\n"
     ]
    },
    {
     "name": "stderr",
     "output_type": "stream",
     "text": [
      "100%|██████████| 15/15 [00:28<00:00,  1.89s/it]\n"
     ]
    },
    {
     "name": "stdout",
     "output_type": "stream",
     "text": [
      "Train:\n",
      "Counter({1: 1935, 0: 1745})\n",
      "ROC AUC metric: 0.5555273806710775\n",
      "target metric: 0.6834182605766301\n",
      "loss: 1.0651598970095317, accuracy: 0.5339673913043478\n"
     ]
    },
    {
     "name": "stderr",
     "output_type": "stream",
     "text": [
      "100%|██████████| 8/8 [00:14<00:00,  1.79s/it]\n"
     ]
    },
    {
     "name": "stdout",
     "output_type": "stream",
     "text": [
      "Validation:\n",
      "Counter({0: 1248, 1: 592})\n",
      "ROC AUC metric: 0.6085472242249459\n",
      "target metric: 0.7086139939252095\n",
      "target metric fixed: 0.7088755428206717\n",
      "loss: 1.0847695171833038, accuracy: 0.45108695652173914\n",
      "********************************************************************************\n",
      "epoch 2/5\n"
     ]
    },
    {
     "name": "stderr",
     "output_type": "stream",
     "text": [
      "100%|██████████| 15/15 [00:28<00:00,  1.87s/it]\n"
     ]
    },
    {
     "name": "stdout",
     "output_type": "stream",
     "text": [
      "Train:\n",
      "Counter({0: 1926, 1: 1754})\n",
      "ROC AUC metric: 0.6223570415879016\n",
      "target metric: 0.6226480313568947\n",
      "loss: 0.7610992471377055, accuracy: 0.5864130434782608\n"
     ]
    },
    {
     "name": "stderr",
     "output_type": "stream",
     "text": [
      "100%|██████████| 8/8 [00:14<00:00,  1.83s/it]\n"
     ]
    },
    {
     "name": "stdout",
     "output_type": "stream",
     "text": [
      "Validation:\n",
      "Counter({1: 1552, 0: 288})\n",
      "ROC AUC metric: 0.555329848594088\n",
      "target metric: 0.8439915645681815\n",
      "target metric fixed: 0.8388667261912488\n",
      "loss: 0.6166034415364265, accuracy: 0.7130434782608696\n",
      "********************************************************************************\n",
      "epoch 3/5\n"
     ]
    },
    {
     "name": "stderr",
     "output_type": "stream",
     "text": [
      "100%|██████████| 15/15 [00:27<00:00,  1.85s/it]\n"
     ]
    },
    {
     "name": "stdout",
     "output_type": "stream",
     "text": [
      "Train:\n",
      "Counter({1: 1906, 0: 1774})\n",
      "ROC AUC metric: 0.6384564035916824\n",
      "target metric: 0.6124297736248485\n",
      "loss: 0.7678045630455017, accuracy: 0.5978260869565217\n"
     ]
    },
    {
     "name": "stderr",
     "output_type": "stream",
     "text": [
      "100%|██████████| 8/8 [00:14<00:00,  1.87s/it]\n"
     ]
    },
    {
     "name": "stdout",
     "output_type": "stream",
     "text": [
      "Validation:\n",
      "Counter({1: 1145, 0: 695})\n",
      "ROC AUC metric: 0.5643150684931506\n",
      "target metric: 0.7059192117971007\n",
      "target metric fixed: 0.7066258854783821\n",
      "loss: 0.7245044708251953, accuracy: 0.6092391304347826\n",
      "********************************************************************************\n",
      "epoch 4/5\n"
     ]
    },
    {
     "name": "stderr",
     "output_type": "stream",
     "text": [
      "100%|██████████| 15/15 [00:28<00:00,  1.88s/it]\n"
     ]
    },
    {
     "name": "stdout",
     "output_type": "stream",
     "text": [
      "Train:\n",
      "Counter({0: 1902, 1: 1778})\n",
      "ROC AUC metric: 0.6638628308128545\n",
      "target metric: 0.5929000127246573\n",
      "loss: 0.6972147822380066, accuracy: 0.6070652173913044\n"
     ]
    },
    {
     "name": "stderr",
     "output_type": "stream",
     "text": [
      "100%|██████████| 8/8 [00:14<00:00,  1.76s/it]\n"
     ]
    },
    {
     "name": "stdout",
     "output_type": "stream",
     "text": [
      "Validation:\n",
      "Counter({1: 1098, 0: 742})\n",
      "ROC AUC metric: 0.6020872386445566\n",
      "target metric: 0.9389078316764174\n",
      "target metric fixed: 0.656860921556828\n",
      "loss: 1.4003384560346603, accuracy: 0.6021739130434782\n",
      "********************************************************************************\n",
      "epoch 5/5\n"
     ]
    },
    {
     "name": "stderr",
     "output_type": "stream",
     "text": [
      "100%|██████████| 15/15 [00:28<00:00,  1.88s/it]\n"
     ]
    },
    {
     "name": "stdout",
     "output_type": "stream",
     "text": [
      "Train:\n",
      "Counter({1: 1841, 0: 1839})\n",
      "ROC AUC metric: 0.6789809782608696\n",
      "target metric: 0.5833667242191524\n",
      "loss: 0.6682579120000204, accuracy: 0.626358695652174\n"
     ]
    },
    {
     "name": "stderr",
     "output_type": "stream",
     "text": [
      "100%|██████████| 8/8 [00:14<00:00,  1.82s/it]\n"
     ]
    },
    {
     "name": "stdout",
     "output_type": "stream",
     "text": [
      "Validation:\n",
      "Counter({1: 972, 0: 868})\n",
      "ROC AUC metric: 0.6063031723143475\n",
      "target metric: 0.6453045326795901\n",
      "target metric fixed: 0.6510807591842562\n",
      "loss: 0.7860750034451485, accuracy: 0.5836956521739131\n",
      "Best validation metric: 0.6510807591842562\n",
      "--------------------------------------------------------------------------------\n",
      "--------------------------------------------------------------------------------\n",
      "--------------------------------------------------------------------------------\n",
      "CV with 10.3 as test\n",
      "Train/Test sizes: 722/92\n",
      "Train/Test label distribution:\n",
      "{'CE': 0.6717451523545707, 'LAA': 0.32825484764542934}\n",
      "{'CE': 0.6413043478260869, 'LAA': 0.358695652173913}\n",
      "********************************************************************************\n",
      "epoch 1/5\n"
     ]
    },
    {
     "name": "stderr",
     "output_type": "stream",
     "text": [
      "100%|██████████| 15/15 [00:29<00:00,  1.96s/it]\n"
     ]
    },
    {
     "name": "stdout",
     "output_type": "stream",
     "text": [
      "Train:\n",
      "Counter({0: 1916, 1: 1876})\n",
      "ROC AUC metric: 0.574134809681497\n",
      "target metric: 0.6777291607479424\n",
      "loss: 1.099273947874705, accuracy: 0.560126582278481\n"
     ]
    },
    {
     "name": "stderr",
     "output_type": "stream",
     "text": [
      "100%|██████████| 8/8 [00:14<00:00,  1.78s/it]\n"
     ]
    },
    {
     "name": "stdout",
     "output_type": "stream",
     "text": [
      "Validation:\n",
      "Counter({1: 1328, 0: 512})\n",
      "ROC AUC metric: 0.5336093990755008\n",
      "target metric: 0.7972837511861172\n",
      "target metric fixed: 0.7917227332908171\n",
      "loss: 0.8877716884016991, accuracy: 0.575\n",
      "********************************************************************************\n",
      "epoch 2/5\n"
     ]
    },
    {
     "name": "stderr",
     "output_type": "stream",
     "text": [
      "100%|██████████| 15/15 [00:29<00:00,  1.93s/it]\n"
     ]
    },
    {
     "name": "stdout",
     "output_type": "stream",
     "text": [
      "Train:\n",
      "Counter({1: 1979, 0: 1813})\n",
      "ROC AUC metric: 0.6357426916982678\n",
      "target metric: 0.6121931855529332\n",
      "loss: 0.7398751775423685, accuracy: 0.6062763713080169\n"
     ]
    },
    {
     "name": "stderr",
     "output_type": "stream",
     "text": [
      "100%|██████████| 8/8 [00:14<00:00,  1.76s/it]\n"
     ]
    },
    {
     "name": "stdout",
     "output_type": "stream",
     "text": [
      "Validation:\n",
      "Counter({0: 1316, 1: 524})\n",
      "ROC AUC metric: 0.5091140215716488\n",
      "target metric: 0.7164140457291\n",
      "target metric fixed: 0.7173846077920887\n",
      "loss: 0.9394715800881386, accuracy: 0.45217391304347826\n",
      "********************************************************************************\n",
      "epoch 3/5\n"
     ]
    },
    {
     "name": "stderr",
     "output_type": "stream",
     "text": [
      "100%|██████████| 15/15 [00:29<00:00,  1.96s/it]\n"
     ]
    },
    {
     "name": "stdout",
     "output_type": "stream",
     "text": [
      "Train:\n",
      "Counter({0: 1976, 1: 1816})\n",
      "ROC AUC metric: 0.671838836813901\n",
      "target metric: 0.5864967453529168\n",
      "loss: 0.6868024309476216, accuracy: 0.6271097046413502\n"
     ]
    },
    {
     "name": "stderr",
     "output_type": "stream",
     "text": [
      "100%|██████████| 8/8 [00:14<00:00,  1.85s/it]\n"
     ]
    },
    {
     "name": "stdout",
     "output_type": "stream",
     "text": [
      "Validation:\n",
      "Counter({0: 1115, 1: 725})\n",
      "ROC AUC metric: 0.5298382126348228\n",
      "target metric: 0.6826151088820909\n",
      "target metric fixed: 0.6792535391844639\n",
      "loss: 0.8491982817649841, accuracy: 0.4951086956521739\n",
      "********************************************************************************\n",
      "epoch 4/5\n"
     ]
    },
    {
     "name": "stderr",
     "output_type": "stream",
     "text": [
      "100%|██████████| 15/15 [00:29<00:00,  1.97s/it]\n"
     ]
    },
    {
     "name": "stdout",
     "output_type": "stream",
     "text": [
      "Train:\n",
      "Counter({1: 1945, 0: 1847})\n",
      "ROC AUC metric: 0.6768157257562001\n",
      "target metric: 0.5838704276064419\n",
      "loss: 0.6750486294428507, accuracy: 0.622626582278481\n"
     ]
    },
    {
     "name": "stderr",
     "output_type": "stream",
     "text": [
      "100%|██████████| 8/8 [00:14<00:00,  1.87s/it]\n"
     ]
    },
    {
     "name": "stdout",
     "output_type": "stream",
     "text": [
      "Validation:\n",
      "Counter({0: 1179, 1: 661})\n",
      "ROC AUC metric: 0.5219722650231126\n",
      "target metric: 0.7098749348994322\n",
      "target metric fixed: 0.6983379161358578\n",
      "loss: 0.9020295664668083, accuracy: 0.46793478260869564\n",
      "********************************************************************************\n",
      "epoch 5/5\n"
     ]
    },
    {
     "name": "stderr",
     "output_type": "stream",
     "text": [
      "100%|██████████| 15/15 [00:28<00:00,  1.88s/it]\n"
     ]
    },
    {
     "name": "stdout",
     "output_type": "stream",
     "text": [
      "Train:\n",
      "Counter({0: 1951, 1: 1841})\n",
      "ROC AUC metric: 0.6806718341077819\n",
      "target metric: 0.577610711823312\n",
      "loss: 0.6727490107218425, accuracy: 0.6294831223628692\n"
     ]
    },
    {
     "name": "stderr",
     "output_type": "stream",
     "text": [
      "100%|██████████| 8/8 [00:14<00:00,  1.82s/it]\n"
     ]
    },
    {
     "name": "stdout",
     "output_type": "stream",
     "text": [
      "Validation:\n",
      "Counter({0: 1047, 1: 793})\n",
      "ROC AUC metric: 0.5423394966615306\n",
      "target metric: 1.0548509883903388\n",
      "target metric fixed: 0.6702415654999896\n",
      "loss: 1.5380618274211884, accuracy: 0.4951086956521739\n",
      "--------------------------------------------------------------------------------\n",
      "--------------------------------------------------------------------------------\n",
      "--------------------------------------------------------------------------------\n",
      "CV with 10.3 as test\n",
      "Train/Test sizes: 722/92\n",
      "Train/Test label distribution:\n",
      "{'CE': 0.6717451523545707, 'LAA': 0.32825484764542934}\n",
      "{'CE': 0.6413043478260869, 'LAA': 0.358695652173913}\n",
      "********************************************************************************\n",
      "epoch 1/5\n"
     ]
    },
    {
     "name": "stderr",
     "output_type": "stream",
     "text": [
      "100%|██████████| 15/15 [00:28<00:00,  1.93s/it]\n"
     ]
    },
    {
     "name": "stdout",
     "output_type": "stream",
     "text": [
      "Train:\n",
      "Counter({1: 1917, 0: 1875})\n",
      "ROC AUC metric: 0.5737133694742651\n",
      "target metric: 0.663642563370795\n",
      "loss: 1.0654353698094685, accuracy: 0.5545886075949367\n"
     ]
    },
    {
     "name": "stderr",
     "output_type": "stream",
     "text": [
      "100%|██████████| 8/8 [00:14<00:00,  1.86s/it]\n"
     ]
    },
    {
     "name": "stdout",
     "output_type": "stream",
     "text": [
      "Validation:\n",
      "Counter({0: 1736, 1: 104})\n",
      "ROC AUC metric: 0.5138507960965588\n",
      "target metric: 1.1283668045706674\n",
      "target metric fixed: 1.127194355629936\n",
      "loss: 1.8232195675373077, accuracy: 0.3717391304347826\n",
      "********************************************************************************\n",
      "epoch 2/5\n"
     ]
    },
    {
     "name": "stderr",
     "output_type": "stream",
     "text": [
      "100%|██████████| 15/15 [00:29<00:00,  1.96s/it]\n"
     ]
    },
    {
     "name": "stdout",
     "output_type": "stream",
     "text": [
      "Train:\n",
      "Counter({0: 1966, 1: 1826})\n",
      "ROC AUC metric: 0.6373138430450961\n",
      "target metric: 0.608419160122428\n",
      "loss: 0.7868762771288554, accuracy: 0.6028481012658228\n"
     ]
    },
    {
     "name": "stderr",
     "output_type": "stream",
     "text": [
      "100%|██████████| 8/8 [00:14<00:00,  1.84s/it]\n"
     ]
    },
    {
     "name": "stdout",
     "output_type": "stream",
     "text": [
      "Validation:\n",
      "Counter({0: 984, 1: 856})\n",
      "ROC AUC metric: 0.5381753980482794\n",
      "target metric: 0.667172831966329\n",
      "target metric fixed: 0.667521449780279\n",
      "loss: 0.823977567255497, accuracy: 0.5152173913043478\n",
      "********************************************************************************\n",
      "epoch 3/5\n"
     ]
    },
    {
     "name": "stderr",
     "output_type": "stream",
     "text": [
      "100%|██████████| 15/15 [00:29<00:00,  1.96s/it]\n"
     ]
    },
    {
     "name": "stdout",
     "output_type": "stream",
     "text": [
      "Train:\n",
      "Counter({1: 1920, 0: 1872})\n",
      "ROC AUC metric: 0.692357550428172\n",
      "target metric: 0.5744680798509438\n",
      "loss: 0.6623789151509603, accuracy: 0.6413502109704642\n"
     ]
    },
    {
     "name": "stderr",
     "output_type": "stream",
     "text": [
      "100%|██████████| 8/8 [00:14<00:00,  1.86s/it]\n"
     ]
    },
    {
     "name": "stdout",
     "output_type": "stream",
     "text": [
      "Validation:\n",
      "Counter({1: 1250, 0: 590})\n",
      "ROC AUC metric: 0.5149820236260914\n",
      "target metric: 0.7192768476395673\n",
      "target metric fixed: 0.7178795864789184\n",
      "loss: 0.7918144017457962, accuracy: 0.5532608695652174\n",
      "********************************************************************************\n",
      "epoch 4/5\n"
     ]
    },
    {
     "name": "stderr",
     "output_type": "stream",
     "text": [
      "100%|██████████| 15/15 [00:29<00:00,  1.96s/it]\n"
     ]
    },
    {
     "name": "stdout",
     "output_type": "stream",
     "text": [
      "Train:\n",
      "Counter({0: 1912, 1: 1880})\n",
      "ROC AUC metric: 0.6889550118837794\n",
      "target metric: 0.5755325376642483\n",
      "loss: 0.6591034889221191, accuracy: 0.6360759493670886\n"
     ]
    },
    {
     "name": "stderr",
     "output_type": "stream",
     "text": [
      "100%|██████████| 8/8 [00:14<00:00,  1.78s/it]\n"
     ]
    },
    {
     "name": "stdout",
     "output_type": "stream",
     "text": [
      "Validation:\n",
      "Counter({1: 1045, 0: 795})\n",
      "ROC AUC metric: 0.5572714432460195\n",
      "target metric: 0.6540364675963591\n",
      "target metric fixed: 0.65766523668334\n",
      "loss: 0.7704062312841415, accuracy: 0.5635869565217392\n",
      "********************************************************************************\n",
      "epoch 5/5\n"
     ]
    },
    {
     "name": "stderr",
     "output_type": "stream",
     "text": [
      "100%|██████████| 15/15 [00:29<00:00,  1.96s/it]\n"
     ]
    },
    {
     "name": "stdout",
     "output_type": "stream",
     "text": [
      "Train:\n",
      "Counter({1: 1923, 0: 1869})\n",
      "ROC AUC metric: 0.6943490292688138\n",
      "target metric: 0.5755947469129727\n",
      "loss: 0.654215141137441, accuracy: 0.6384493670886076\n"
     ]
    },
    {
     "name": "stderr",
     "output_type": "stream",
     "text": [
      "100%|██████████| 8/8 [00:14<00:00,  1.86s/it]\n"
     ]
    },
    {
     "name": "stdout",
     "output_type": "stream",
     "text": [
      "Validation:\n",
      "Counter({0: 1132, 1: 708})\n",
      "ROC AUC metric: 0.5022720852593734\n",
      "target metric: 1.0943772475416442\n",
      "target metric fixed: 0.7097678246512951\n",
      "loss: 1.7473774552345276, accuracy: 0.45652173913043476\n",
      "--------------------------------------------------------------------------------\n",
      "--------------------------------------------------------------------------------\n",
      "--------------------------------------------------------------------------------\n",
      "CV with 10.3 as test\n",
      "Train/Test sizes: 722/92\n",
      "Train/Test label distribution:\n",
      "{'CE': 0.6717451523545707, 'LAA': 0.32825484764542934}\n",
      "{'CE': 0.6413043478260869, 'LAA': 0.358695652173913}\n",
      "********************************************************************************\n",
      "epoch 1/5\n"
     ]
    },
    {
     "name": "stderr",
     "output_type": "stream",
     "text": [
      "100%|██████████| 15/15 [00:28<00:00,  1.93s/it]\n"
     ]
    },
    {
     "name": "stdout",
     "output_type": "stream",
     "text": [
      "Train:\n",
      "Counter({1: 1938, 0: 1854})\n",
      "ROC AUC metric: 0.5684499568267194\n",
      "target metric: 0.6734447789757338\n",
      "loss: 1.0827801942825317, accuracy: 0.5522151898734177\n"
     ]
    },
    {
     "name": "stderr",
     "output_type": "stream",
     "text": [
      "100%|██████████| 8/8 [00:14<00:00,  1.84s/it]\n"
     ]
    },
    {
     "name": "stdout",
     "output_type": "stream",
     "text": [
      "Validation:\n",
      "Counter({0: 1560, 1: 280})\n",
      "ROC AUC metric: 0.5242295839753467\n",
      "target metric: 0.8434772249444329\n",
      "target metric fixed: 0.8462037253021811\n",
      "loss: 1.3192589730024338, accuracy: 0.43369565217391304\n",
      "********************************************************************************\n",
      "epoch 2/5\n"
     ]
    },
    {
     "name": "stderr",
     "output_type": "stream",
     "text": [
      "100%|██████████| 15/15 [00:29<00:00,  1.96s/it]\n"
     ]
    },
    {
     "name": "stdout",
     "output_type": "stream",
     "text": [
      "Train:\n",
      "Counter({0: 1957, 1: 1835})\n",
      "ROC AUC metric: 0.6325172136765833\n",
      "target metric: 0.6031757357983187\n",
      "loss: 0.7962716976801555, accuracy: 0.5925632911392406\n"
     ]
    },
    {
     "name": "stderr",
     "output_type": "stream",
     "text": [
      "100%|██████████| 8/8 [00:14<00:00,  1.77s/it]\n"
     ]
    },
    {
     "name": "stdout",
     "output_type": "stream",
     "text": [
      "Validation:\n",
      "Counter({0: 1539, 1: 301})\n",
      "ROC AUC metric: 0.5576823317925013\n",
      "target metric: 0.7709624031396901\n",
      "target metric fixed: 0.7744646078769178\n",
      "loss: 1.121067002415657, accuracy: 0.4331521739130435\n",
      "********************************************************************************\n",
      "epoch 3/5\n"
     ]
    },
    {
     "name": "stderr",
     "output_type": "stream",
     "text": [
      "100%|██████████| 15/15 [00:29<00:00,  1.98s/it]\n"
     ]
    },
    {
     "name": "stdout",
     "output_type": "stream",
     "text": [
      "Train:\n",
      "Counter({0: 2023, 1: 1769})\n",
      "ROC AUC metric: 0.6714079385426124\n",
      "target metric: 0.5881679043302461\n",
      "loss: 0.6902357260386149, accuracy: 0.6284282700421941\n"
     ]
    },
    {
     "name": "stderr",
     "output_type": "stream",
     "text": [
      "100%|██████████| 8/8 [00:15<00:00,  1.89s/it]\n"
     ]
    },
    {
     "name": "stdout",
     "output_type": "stream",
     "text": [
      "Validation:\n",
      "Counter({1: 1020, 0: 820})\n",
      "ROC AUC metric: 0.5546199280945043\n",
      "target metric: 0.665172244984841\n",
      "target metric fixed: 0.6715213113613285\n",
      "loss: 0.7618812918663025, accuracy: 0.558695652173913\n",
      "********************************************************************************\n",
      "epoch 4/5\n"
     ]
    },
    {
     "name": "stderr",
     "output_type": "stream",
     "text": [
      "100%|██████████| 15/15 [00:29<00:00,  1.94s/it]\n"
     ]
    },
    {
     "name": "stdout",
     "output_type": "stream",
     "text": [
      "Train:\n",
      "Counter({1: 1992, 0: 1800})\n",
      "ROC AUC metric: 0.6824730389538713\n",
      "target metric: 0.5795638030271579\n",
      "loss: 0.673924724260966, accuracy: 0.6292194092827004\n"
     ]
    },
    {
     "name": "stderr",
     "output_type": "stream",
     "text": [
      "100%|██████████| 8/8 [00:14<00:00,  1.79s/it]\n"
     ]
    },
    {
     "name": "stdout",
     "output_type": "stream",
     "text": [
      "Validation:\n",
      "Counter({0: 1098, 1: 742})\n",
      "ROC AUC metric: 0.5301335387776065\n",
      "target metric: 0.7075860261112243\n",
      "target metric fixed: 0.6838535605592679\n",
      "loss: 0.9157798960804939, accuracy: 0.483695652173913\n",
      "********************************************************************************\n",
      "epoch 5/5\n"
     ]
    },
    {
     "name": "stderr",
     "output_type": "stream",
     "text": [
      "100%|██████████| 15/15 [00:29<00:00,  1.96s/it]\n"
     ]
    },
    {
     "name": "stdout",
     "output_type": "stream",
     "text": [
      "Train:\n",
      "Counter({0: 1913, 1: 1879})\n",
      "ROC AUC metric: 0.6777515177411026\n",
      "target metric: 0.5842282103454078\n",
      "loss: 0.6762037555376689, accuracy: 0.6284282700421941\n"
     ]
    },
    {
     "name": "stderr",
     "output_type": "stream",
     "text": [
      "100%|██████████| 8/8 [00:14<00:00,  1.76s/it]\n"
     ]
    },
    {
     "name": "stdout",
     "output_type": "stream",
     "text": [
      "Validation:\n",
      "Counter({1: 1334, 0: 506})\n",
      "ROC AUC metric: 0.5525757575757577\n",
      "target metric: 0.6923016172990543\n",
      "target metric fixed: 0.7001782898054173\n",
      "loss: 0.7498548701405525, accuracy: 0.6054347826086957\n",
      "Best validation metric: 0.65766523668334\n",
      "--------------------------------------------------------------------------------\n",
      "--------------------------------------------------------------------------------\n",
      "--------------------------------------------------------------------------------\n",
      "CV with 6.2.8.9 as test\n",
      "Train/Test sizes: 715/99\n",
      "Train/Test label distribution:\n",
      "{'CE': 0.6517482517482518, 'LAA': 0.34825174825174826}\n",
      "{'LAA': 0.21212121212121213, 'CE': 0.7878787878787878}\n",
      "********************************************************************************\n",
      "epoch 1/5\n"
     ]
    },
    {
     "name": "stderr",
     "output_type": "stream",
     "text": [
      "100%|██████████| 15/15 [00:28<00:00,  1.88s/it]\n"
     ]
    },
    {
     "name": "stdout",
     "output_type": "stream",
     "text": [
      "Train:\n",
      "Counter({0: 1960, 1: 1680})\n",
      "ROC AUC metric: 0.5356572273879966\n",
      "target metric: 0.7270080517024415\n",
      "loss: 1.4810306390126546, accuracy: 0.5203296703296704\n"
     ]
    },
    {
     "name": "stderr",
     "output_type": "stream",
     "text": [
      "100%|██████████| 8/8 [00:16<00:00,  2.03s/it]\n"
     ]
    },
    {
     "name": "stdout",
     "output_type": "stream",
     "text": [
      "Validation:\n",
      "Counter({1: 1544, 0: 436})\n",
      "ROC AUC metric: 0.5877258852258852\n",
      "target metric: 0.7763516629091461\n",
      "target metric fixed: 0.7772059518385557\n",
      "loss: 0.672618456184864, accuracy: 0.7222222222222222\n",
      "********************************************************************************\n",
      "epoch 2/5\n"
     ]
    },
    {
     "name": "stderr",
     "output_type": "stream",
     "text": [
      "100%|██████████| 15/15 [00:27<00:00,  1.86s/it]\n"
     ]
    },
    {
     "name": "stdout",
     "output_type": "stream",
     "text": [
      "Train:\n",
      "Counter({1: 1887, 0: 1753})\n",
      "ROC AUC metric: 0.6313488709093105\n",
      "target metric: 0.6117120761273944\n",
      "loss: 0.8109824021657308, accuracy: 0.5947802197802198\n"
     ]
    },
    {
     "name": "stderr",
     "output_type": "stream",
     "text": [
      "100%|██████████| 8/8 [00:14<00:00,  1.81s/it]\n"
     ]
    },
    {
     "name": "stdout",
     "output_type": "stream",
     "text": [
      "Validation:\n",
      "Counter({1: 1362, 0: 618})\n",
      "ROC AUC metric: 0.534284188034188\n",
      "target metric: 0.7401066871208112\n",
      "target metric fixed: 0.7382393543983466\n",
      "loss: 0.6872045621275902, accuracy: 0.6212121212121212\n",
      "********************************************************************************\n",
      "epoch 3/5\n"
     ]
    },
    {
     "name": "stderr",
     "output_type": "stream",
     "text": [
      "100%|██████████| 15/15 [00:27<00:00,  1.87s/it]\n"
     ]
    },
    {
     "name": "stdout",
     "output_type": "stream",
     "text": [
      "Train:\n",
      "Counter({1: 1836, 0: 1804})\n",
      "ROC AUC metric: 0.6561852433281006\n",
      "target metric: 0.5983479099002602\n",
      "loss: 0.6917358915011088, accuracy: 0.6148351648351649\n"
     ]
    },
    {
     "name": "stderr",
     "output_type": "stream",
     "text": [
      "100%|██████████| 8/8 [00:15<00:00,  1.97s/it]\n"
     ]
    },
    {
     "name": "stdout",
     "output_type": "stream",
     "text": [
      "Validation:\n",
      "Counter({1: 1106, 0: 874})\n",
      "ROC AUC metric: 0.5582539682539682\n",
      "target metric: 0.6749350752620682\n",
      "target metric fixed: 0.6795813190860658\n",
      "loss: 0.736482210457325, accuracy: 0.5696969696969697\n",
      "********************************************************************************\n",
      "epoch 4/5\n"
     ]
    },
    {
     "name": "stderr",
     "output_type": "stream",
     "text": [
      "100%|██████████| 15/15 [00:27<00:00,  1.85s/it]\n"
     ]
    },
    {
     "name": "stdout",
     "output_type": "stream",
     "text": [
      "Train:\n",
      "Counter({0: 1895, 1: 1745})\n",
      "ROC AUC metric: 0.6704815239705351\n",
      "target metric: 0.5945885757478087\n",
      "loss: 0.6867664615313213, accuracy: 0.6222527472527473\n"
     ]
    },
    {
     "name": "stderr",
     "output_type": "stream",
     "text": [
      "100%|██████████| 8/8 [00:16<00:00,  2.02s/it]\n"
     ]
    },
    {
     "name": "stdout",
     "output_type": "stream",
     "text": [
      "Validation:\n",
      "Counter({1: 1312, 0: 668})\n",
      "ROC AUC metric: 0.5683745421245421\n",
      "target metric: 0.6800604704302702\n",
      "target metric fixed: 0.6848230912544417\n",
      "loss: 0.661997601389885, accuracy: 0.6313131313131313\n",
      "********************************************************************************\n",
      "epoch 5/5\n"
     ]
    },
    {
     "name": "stderr",
     "output_type": "stream",
     "text": [
      "100%|██████████| 15/15 [00:29<00:00,  1.95s/it]\n"
     ]
    },
    {
     "name": "stdout",
     "output_type": "stream",
     "text": [
      "Train:\n",
      "Counter({0: 1845, 1: 1795})\n",
      "ROC AUC metric: 0.6699683009298394\n",
      "target metric: 0.5923449886835395\n",
      "loss: 0.6687577525774638, accuracy: 0.6244505494505495\n"
     ]
    },
    {
     "name": "stderr",
     "output_type": "stream",
     "text": [
      "100%|██████████| 8/8 [00:14<00:00,  1.85s/it]\n"
     ]
    },
    {
     "name": "stdout",
     "output_type": "stream",
     "text": [
      "Validation:\n",
      "Counter({1: 1291, 0: 689})\n",
      "ROC AUC metric: 0.5648656898656899\n",
      "target metric: 0.6845542414361947\n",
      "target metric fixed: 0.6833626990419155\n",
      "loss: 0.667955256998539, accuracy: 0.6196969696969697\n",
      "--------------------------------------------------------------------------------\n",
      "--------------------------------------------------------------------------------\n",
      "--------------------------------------------------------------------------------\n",
      "CV with 6.2.8.9 as test\n",
      "Train/Test sizes: 715/99\n",
      "Train/Test label distribution:\n",
      "{'CE': 0.6517482517482518, 'LAA': 0.34825174825174826}\n",
      "{'LAA': 0.21212121212121213, 'CE': 0.7878787878787878}\n",
      "********************************************************************************\n",
      "epoch 1/5\n"
     ]
    },
    {
     "name": "stderr",
     "output_type": "stream",
     "text": [
      "100%|██████████| 15/15 [00:28<00:00,  1.89s/it]\n"
     ]
    },
    {
     "name": "stdout",
     "output_type": "stream",
     "text": [
      "Train:\n",
      "Counter({1: 1875, 0: 1765})\n",
      "ROC AUC metric: 0.5563432858350441\n",
      "target metric: 0.6901448485561213\n",
      "loss: 1.08365908463796, accuracy: 0.542032967032967\n"
     ]
    },
    {
     "name": "stderr",
     "output_type": "stream",
     "text": [
      "100%|██████████| 8/8 [00:15<00:00,  1.97s/it]\n"
     ]
    },
    {
     "name": "stdout",
     "output_type": "stream",
     "text": [
      "Validation:\n",
      "Counter({0: 1537, 1: 443})\n",
      "ROC AUC metric: 0.5609401709401709\n",
      "target metric: 0.7749011628380417\n",
      "target metric fixed: 0.7726718693665133\n",
      "loss: 1.1942193061113358, accuracy: 0.347979797979798\n",
      "********************************************************************************\n",
      "epoch 2/5\n"
     ]
    },
    {
     "name": "stderr",
     "output_type": "stream",
     "text": [
      "100%|██████████| 15/15 [00:27<00:00,  1.86s/it]\n"
     ]
    },
    {
     "name": "stdout",
     "output_type": "stream",
     "text": [
      "Train:\n",
      "Counter({0: 1863, 1: 1777})\n",
      "ROC AUC metric: 0.6325105663567202\n",
      "target metric: 0.6118202667071742\n",
      "loss: 0.7282506863276164, accuracy: 0.592032967032967\n"
     ]
    },
    {
     "name": "stderr",
     "output_type": "stream",
     "text": [
      "100%|██████████| 8/8 [00:15<00:00,  1.90s/it]\n"
     ]
    },
    {
     "name": "stdout",
     "output_type": "stream",
     "text": [
      "Validation:\n",
      "Counter({1: 1181, 0: 799})\n",
      "ROC AUC metric: 0.530813492063492\n",
      "target metric: 0.7053122553622763\n",
      "target metric fixed: 0.7073096541763036\n",
      "loss: 0.7494534254074097, accuracy: 0.5823232323232324\n",
      "********************************************************************************\n",
      "epoch 3/5\n"
     ]
    },
    {
     "name": "stderr",
     "output_type": "stream",
     "text": [
      "100%|██████████| 15/15 [00:28<00:00,  1.89s/it]\n"
     ]
    },
    {
     "name": "stdout",
     "output_type": "stream",
     "text": [
      "Train:\n",
      "Counter({1: 1831, 0: 1809})\n",
      "ROC AUC metric: 0.65460844100954\n",
      "target metric: 0.6001658492511568\n",
      "loss: 0.6997409224510193, accuracy: 0.6101648351648352\n"
     ]
    },
    {
     "name": "stderr",
     "output_type": "stream",
     "text": [
      "100%|██████████| 8/8 [00:14<00:00,  1.86s/it]\n"
     ]
    },
    {
     "name": "stdout",
     "output_type": "stream",
     "text": [
      "Validation:\n",
      "Counter({0: 1334, 1: 646})\n",
      "ROC AUC metric: 0.5253144078144079\n",
      "target metric: 0.7150859226472785\n",
      "target metric fixed: 0.7184439981710412\n",
      "loss: 0.9939270839095116, accuracy: 0.4212121212121212\n",
      "********************************************************************************\n",
      "epoch 4/5\n"
     ]
    },
    {
     "name": "stderr",
     "output_type": "stream",
     "text": [
      "100%|██████████| 15/15 [00:28<00:00,  1.89s/it]\n"
     ]
    },
    {
     "name": "stdout",
     "output_type": "stream",
     "text": [
      "Train:\n",
      "Counter({1: 1829, 0: 1811})\n",
      "ROC AUC metric: 0.6244867769593043\n",
      "target metric: 0.61640890903487\n",
      "loss: 0.7727385640144349, accuracy: 0.5898351648351648\n"
     ]
    },
    {
     "name": "stderr",
     "output_type": "stream",
     "text": [
      "100%|██████████| 8/8 [00:16<00:00,  2.03s/it]\n"
     ]
    },
    {
     "name": "stdout",
     "output_type": "stream",
     "text": [
      "Validation:\n",
      "Counter({0: 1059, 1: 921})\n",
      "ROC AUC metric: 0.5800778388278389\n",
      "target metric: 0.6682434441300469\n",
      "target metric fixed: 0.6727813062549651\n",
      "loss: 0.8348987624049187, accuracy: 0.5267676767676768\n",
      "********************************************************************************\n",
      "epoch 5/5\n"
     ]
    },
    {
     "name": "stderr",
     "output_type": "stream",
     "text": [
      "100%|██████████| 15/15 [00:28<00:00,  1.87s/it]\n"
     ]
    },
    {
     "name": "stdout",
     "output_type": "stream",
     "text": [
      "Train:\n",
      "Counter({0: 1928, 1: 1712})\n",
      "ROC AUC metric: 0.6463171718391498\n",
      "target metric: 0.5983215914214202\n",
      "loss: 0.7745607376098633, accuracy: 0.6104395604395605\n"
     ]
    },
    {
     "name": "stderr",
     "output_type": "stream",
     "text": [
      "100%|██████████| 8/8 [00:14<00:00,  1.87s/it]\n"
     ]
    },
    {
     "name": "stdout",
     "output_type": "stream",
     "text": [
      "Validation:\n",
      "Counter({1: 1136, 0: 844})\n",
      "ROC AUC metric: 0.5561584249084248\n",
      "target metric: 0.6773474112085467\n",
      "target metric fixed: 0.6814329756540647\n",
      "loss: 0.7680813670158386, accuracy: 0.5757575757575758\n",
      "--------------------------------------------------------------------------------\n",
      "--------------------------------------------------------------------------------\n",
      "--------------------------------------------------------------------------------\n",
      "CV with 6.2.8.9 as test\n",
      "Train/Test sizes: 715/99\n",
      "Train/Test label distribution:\n",
      "{'CE': 0.6517482517482518, 'LAA': 0.34825174825174826}\n",
      "{'LAA': 0.21212121212121213, 'CE': 0.7878787878787878}\n",
      "********************************************************************************\n",
      "epoch 1/5\n"
     ]
    },
    {
     "name": "stderr",
     "output_type": "stream",
     "text": [
      "100%|██████████| 15/15 [00:28<00:00,  1.87s/it]\n"
     ]
    },
    {
     "name": "stdout",
     "output_type": "stream",
     "text": [
      "Train:\n",
      "Counter({0: 1883, 1: 1757})\n",
      "ROC AUC metric: 0.5916552952541962\n",
      "target metric: 0.6463978778941835\n",
      "loss: 0.9541222929954529, accuracy: 0.5673076923076923\n"
     ]
    },
    {
     "name": "stderr",
     "output_type": "stream",
     "text": [
      "100%|██████████| 8/8 [00:15<00:00,  1.96s/it]\n"
     ]
    },
    {
     "name": "stdout",
     "output_type": "stream",
     "text": [
      "Validation:\n",
      "Counter({0: 1268, 1: 712})\n",
      "ROC AUC metric: 0.5603983516483516\n",
      "target metric: 0.714473762245718\n",
      "target metric fixed: 0.713402596938832\n",
      "loss: 1.0844343453645706, accuracy: 0.4484848484848485\n",
      "********************************************************************************\n",
      "epoch 2/5\n"
     ]
    },
    {
     "name": "stderr",
     "output_type": "stream",
     "text": [
      "100%|██████████| 15/15 [00:27<00:00,  1.86s/it]\n"
     ]
    },
    {
     "name": "stdout",
     "output_type": "stream",
     "text": [
      "Train:\n",
      "Counter({1: 1896, 0: 1744})\n",
      "ROC AUC metric: 0.6419813428329912\n",
      "target metric: 0.6067371490637774\n",
      "loss: 0.7413584629694621, accuracy: 0.6076923076923076\n"
     ]
    },
    {
     "name": "stderr",
     "output_type": "stream",
     "text": [
      "100%|██████████| 8/8 [00:15<00:00,  1.98s/it]\n"
     ]
    },
    {
     "name": "stdout",
     "output_type": "stream",
     "text": [
      "Validation:\n",
      "Counter({1: 1131, 0: 849})\n",
      "ROC AUC metric: 0.6048687423687424\n",
      "target metric: 0.6430706157944789\n",
      "target metric fixed: 0.6384588541986868\n",
      "loss: 0.736591286957264, accuracy: 0.5954545454545455\n",
      "********************************************************************************\n",
      "epoch 3/5\n"
     ]
    },
    {
     "name": "stderr",
     "output_type": "stream",
     "text": [
      "100%|██████████| 15/15 [00:28<00:00,  1.87s/it]\n"
     ]
    },
    {
     "name": "stdout",
     "output_type": "stream",
     "text": [
      "Train:\n",
      "Counter({0: 1855, 1: 1785})\n",
      "ROC AUC metric: 0.6614483456104335\n",
      "target metric: 0.5903627963835403\n",
      "loss: 0.7001996994018554, accuracy: 0.6145604395604396\n"
     ]
    },
    {
     "name": "stderr",
     "output_type": "stream",
     "text": [
      "100%|██████████| 8/8 [00:14<00:00,  1.86s/it]\n"
     ]
    },
    {
     "name": "stdout",
     "output_type": "stream",
     "text": [
      "Validation:\n",
      "Counter({0: 1147, 1: 833})\n",
      "ROC AUC metric: 0.5459996947496948\n",
      "target metric: 0.7079361131188633\n",
      "target metric fixed: 0.7068193713963697\n",
      "loss: 0.9407919272780418, accuracy: 0.4772727272727273\n",
      "********************************************************************************\n",
      "epoch 4/5\n"
     ]
    },
    {
     "name": "stderr",
     "output_type": "stream",
     "text": [
      "100%|██████████| 15/15 [00:27<00:00,  1.85s/it]\n"
     ]
    },
    {
     "name": "stdout",
     "output_type": "stream",
     "text": [
      "Train:\n",
      "Counter({1: 1828, 0: 1812})\n",
      "ROC AUC metric: 0.6644209636517329\n",
      "target metric: 0.5934062566306606\n",
      "loss: 0.7060884277025858, accuracy: 0.6175824175824176\n"
     ]
    },
    {
     "name": "stderr",
     "output_type": "stream",
     "text": [
      "100%|██████████| 8/8 [00:15<00:00,  1.95s/it]\n"
     ]
    },
    {
     "name": "stdout",
     "output_type": "stream",
     "text": [
      "Validation:\n",
      "Counter({0: 1238, 1: 742})\n",
      "ROC AUC metric: 0.5118406593406594\n",
      "target metric: 0.7343959576593952\n",
      "target metric fixed: 0.7381227353187751\n",
      "loss: 0.9951399564743042, accuracy: 0.44343434343434346\n",
      "********************************************************************************\n",
      "epoch 5/5\n"
     ]
    },
    {
     "name": "stderr",
     "output_type": "stream",
     "text": [
      "100%|██████████| 15/15 [00:27<00:00,  1.86s/it]\n"
     ]
    },
    {
     "name": "stdout",
     "output_type": "stream",
     "text": [
      "Train:\n",
      "Counter({0: 1821, 1: 1819})\n",
      "ROC AUC metric: 0.6591725033208549\n",
      "target metric: 0.5841782871692399\n",
      "loss: 0.7223800778388977, accuracy: 0.6063186813186813\n"
     ]
    },
    {
     "name": "stderr",
     "output_type": "stream",
     "text": [
      "100%|██████████| 8/8 [00:15<00:00,  1.88s/it]\n"
     ]
    },
    {
     "name": "stdout",
     "output_type": "stream",
     "text": [
      "Validation:\n",
      "Counter({1: 1261, 0: 719})\n",
      "ROC AUC metric: 0.5915506715506715\n",
      "target metric: 0.6558949888155032\n",
      "target metric fixed: 0.6613030546518286\n",
      "loss: 0.7192556038498878, accuracy: 0.6388888888888888\n",
      "Best validation metric: 0.6384588541986868\n",
      "[0.642027776187675, 0.6156763463174704, 0.5805691482270264, 0.6510807591842562, 0.65766523668334, 0.6384588541986868]\n",
      "0.6309130201330758\n",
      "Full validation metric: 0.6356833352527698\n"
     ]
    }
   ],
   "source": [
    "data_transforms = {\n",
    "    'train': transforms.Compose([\n",
    "        transforms.RandomHorizontalFlip(),\n",
    "        transforms.RandomVerticalFlip(),\n",
    "        # transforms.RandomResizedCrop((224, 224), scale=(0.5, 1.0), ratio=(1.0, 1.0)),\n",
    "        transforms.RandomAdjustSharpness(sharpness_factor=2, p=1.0),\n",
    "        transforms.RandomAdjustSharpness(sharpness_factor=2, p=0.5),\n",
    "        transforms.ColorJitter(brightness=0.2, saturation=0.5, hue=0.5),\n",
    "        transforms.ToTensor(),\n",
    "        transforms.Normalize(mean=[0.485, 0.456, 0.406], std=[0.229, 0.224, 0.225])\n",
    "    ]),\n",
    "    'test': transforms.Compose([\n",
    "        # transforms.RandomResizedCrop((224, 224), scale=(0.5, 1.0), ratio=(1.0, 1.0)),\n",
    "        transforms.RandomAdjustSharpness(sharpness_factor=2, p=1.0),\n",
    "        transforms.RandomAdjustSharpness(sharpness_factor=2, p=0.5),\n",
    "        transforms.ColorJitter(brightness=0.2, saturation=0.5, hue=0.5),\n",
    "        transforms.ToTensor(),\n",
    "        transforms.Normalize(mean=[0.485, 0.456, 0.406], std=[0.229, 0.224, 0.225])\n",
    "    ]),\n",
    "}\n",
    "\n",
    "device = torch.device(\"cuda:0\" if torch.cuda.is_available() else \"cpu\")\n",
    "\n",
    "train_data = data_prep.train + data_prep.other\n",
    "image_crops += image_crops_other\n",
    "image_crops_indices += image_crops_indices_other\n",
    "\n",
    "all_metrics = []\n",
    "all_y, all_y_hat, all_image_ids = [], [], []\n",
    "#for test_center_id in {center_id for _, _, center_id in train_data if center_id != -1}:\n",
    "for test_centers_group in [(11,), (4,), (7,), (1, 5,), (10, 3), (6, 2, 8, 9,)]:\n",
    "    best_validation_metric = None\n",
    "    best_y, best_y_hat, best_image_ids = [], [], []\n",
    "    for iteration in range(3):\n",
    "        for _ in range(3):\n",
    "            print('-' * 80)\n",
    "        test_centers_group_str = '.'.join(map(str, test_centers_group))\n",
    "        print(f'CV with {test_centers_group_str} as test')\n",
    "        train_sample_ids = [i for i, (_, _, center_id) in enumerate(train_data) if center_id not in test_centers_group]\n",
    "        test_sample_ids = [i for i, (_, _, center_id) in enumerate(train_data) if center_id in test_centers_group]\n",
    "\n",
    "        train_image_ids, train_labels, train_center_ids, train_crops, train_crop_indices = get_sub_data(\n",
    "            train_data,\n",
    "            image_crops,\n",
    "            image_crops_indices,\n",
    "            train_sample_ids\n",
    "        )\n",
    "        test_image_ids, test_labels, test_center_ids, test_crops, test_crop_indices = get_sub_data(\n",
    "            train_data,\n",
    "            image_crops,\n",
    "            image_crops_indices,\n",
    "            test_sample_ids\n",
    "        )\n",
    "        print(f'Train/Test sizes: {len(train_labels)}/{len(test_labels)}')\n",
    "        print('Train/Test label distribution:')\n",
    "        print({key: value / len(train_labels) for key, value in dict(Counter(train_labels)).items()})\n",
    "        print({key: value / len(test_labels) for key, value in dict(Counter(test_labels)).items()})\n",
    "\n",
    "        dataloaders = {\n",
    "            'train': get_loader(\n",
    "                train_image_ids,\n",
    "                train_labels,\n",
    "                train_crops,\n",
    "                seed=42,\n",
    "                is_test=False,\n",
    "                transformations=data_transforms['train'],\n",
    "                shuffle=True,\n",
    "                batch_size=256,\n",
    "                num_workers=2,\n",
    "            ),\n",
    "            'test': get_loader(\n",
    "                test_image_ids,\n",
    "                test_labels,\n",
    "                test_crops,\n",
    "                seed=42,\n",
    "                is_test=True,\n",
    "                transformations=data_transforms['test'],\n",
    "                shuffle=False,\n",
    "                batch_size=256,\n",
    "                num_workers=2,\n",
    "            ),\n",
    "        }\n",
    "\n",
    "        model = ClotModelSingle(encoder_model='effnet_b0').to(device)\n",
    "        model.freeze_encoder(True)\n",
    "        criterion = nn.BCELoss()\n",
    "        optimizer = optim.Adam(model.head.parameters(), lr=0.05, weight_decay=0.0001)\n",
    "\n",
    "        train_loss, val_loss = [], []\n",
    "        for epoch in range(EPOCHS_NUM):\n",
    "            np.random.seed(epoch)\n",
    "\n",
    "            #if epoch == 10:\n",
    "            #    optimizer = optim.Adam(model.parameters(), lr=1e-4, weight_decay=5e-4)\n",
    "\n",
    "            print('*' * 80)\n",
    "            print(\"epoch {}/{}\".format(epoch + 1, EPOCHS_NUM))\n",
    "\n",
    "            model.train()\n",
    "            running_loss, running_score = 0.0, 0.0\n",
    "            y_hat, y, image_ids = [], [], []\n",
    "            for image, label, image_id in tqdm(dataloaders['train']):\n",
    "                image = image.to(device)\n",
    "                label = label.to(device)\n",
    "                optimizer.zero_grad()\n",
    "                y_pred = model.forward(image).squeeze()\n",
    "                loss = criterion(y_pred, label)\n",
    "                running_loss += loss.item()\n",
    "                loss.backward()\n",
    "                optimizer.step()\n",
    "\n",
    "                y_pred = y_pred.cpu().detach().numpy().tolist()\n",
    "                label = label.cpu().detach().numpy().tolist()\n",
    "                y_hat.extend(y_pred)\n",
    "                y.extend(label)\n",
    "                image_ids.extend(image_id)\n",
    "\n",
    "                running_score += sum([int(int(y_hat > 0.5) == y) for y_hat, y in zip(y_pred, label)])\n",
    "\n",
    "            print('Train:')\n",
    "            print(Counter([int(p > 0.5) for p in y_hat]))\n",
    "            print('ROC AUC metric:', roc_auc_score(y, y_hat))\n",
    "            print('target metric:', get_target_metric(y, y_hat, image_ids))\n",
    "\n",
    "            epoch_score = running_score / len(dataloaders['train'].dataset)\n",
    "            epoch_loss = running_loss / len(dataloaders['train'])\n",
    "            train_loss.append(epoch_loss)\n",
    "            print(\"loss: {}, accuracy: {}\".format(epoch_loss, epoch_score))\n",
    "\n",
    "            with torch.no_grad():\n",
    "                model.eval()\n",
    "                running_loss, running_score = 0.0, 0.0\n",
    "                y_hat, y, image_ids = [], [], []\n",
    "                for image, label, image_id in tqdm(dataloaders['test']):\n",
    "                    image = image.to(device)\n",
    "                    label = label.to(device)\n",
    "                    optimizer.zero_grad()\n",
    "                    y_pred = model.forward(image).squeeze()\n",
    "                    loss = criterion(y_pred, label)\n",
    "                    running_loss += loss.item()\n",
    "\n",
    "                    y_pred = y_pred.cpu().detach().numpy().tolist()\n",
    "                    label = label.cpu().detach().numpy().tolist()\n",
    "                    y_hat.extend(y_pred)\n",
    "                    y.extend(label)\n",
    "                    image_ids.extend(image_id)\n",
    "\n",
    "                    running_score += sum([int(int(y_hat > 0.5) == y) for y_hat, y in zip(y_pred, label)])\n",
    "\n",
    "                bad_image_ids = {\n",
    "                    image_id\n",
    "                    for image_id, crops in zip(test_image_ids, test_crops)\n",
    "                    if len(crops) == 0 \n",
    "                }\n",
    "                y_hat_fixed = [\n",
    "                    0.5 if image_id in bad_image_ids else p\n",
    "                    for p, image_id in zip(y_hat, image_ids)\n",
    "                ]\n",
    "\n",
    "                print('Validation:')\n",
    "                print(Counter([int(p > 0.5) for p in y_hat_fixed]))\n",
    "                print('ROC AUC metric:', roc_auc_score(y, y_hat_fixed))\n",
    "\n",
    "                target_metric = get_target_metric(y, y_hat, image_ids)\n",
    "                print('target metric:', target_metric)\n",
    "                target_metric = get_target_metric(y, y_hat_fixed, image_ids)\n",
    "                print('target metric fixed:', target_metric)            \n",
    "                if best_validation_metric is None or target_metric < best_validation_metric:\n",
    "                    best_validation_metric = target_metric\n",
    "                    best_y, best_y_hat, best_image_ids = y, y_hat_fixed, image_ids\n",
    "                    torch.save(\n",
    "                        model,\n",
    "                        os.path.join(\n",
    "                            '/kaggle/working/models',\n",
    "                            f'center_id_{test_centers_group_str}_epoch_{epoch}_target_{round(target_metric, 3)}.h5',\n",
    "                        ),\n",
    "                    )\n",
    "\n",
    "                epoch_score = running_score / len(dataloaders['test'].dataset)\n",
    "                epoch_loss = running_loss / len(dataloaders['test'])\n",
    "                val_loss.append(epoch_loss)\n",
    "                print(\"loss: {}, accuracy: {}\".format(epoch_loss, epoch_score))\n",
    "\n",
    "    print(f'Best validation metric: {best_validation_metric}')\n",
    "    all_metrics.append(best_validation_metric)\n",
    "    all_y.extend(best_y)\n",
    "    all_y_hat.extend(best_y_hat)\n",
    "    all_image_ids.extend(best_image_ids)\n",
    "\n",
    "print(all_metrics)\n",
    "print(np.mean(all_metrics))\n",
    "final_metric = get_target_metric(\n",
    "    all_y,\n",
    "    all_y_hat,\n",
    "    all_image_ids,\n",
    ")\n",
    "np.save('/kaggle/working/all_y.npy', all_y)\n",
    "np.save('/kaggle/working/all_y_hat.npy', all_y_hat)\n",
    "np.save('/kaggle/working/all_image_ids.npy', all_image_ids)\n",
    "print('Full validation metric:', final_metric)"
   ]
  },
  {
   "cell_type": "code",
   "execution_count": 13,
   "id": "4abc4172",
   "metadata": {
    "execution": {
     "iopub.execute_input": "2022-12-06T09:19:15.845527Z",
     "iopub.status.busy": "2022-12-06T09:19:15.844492Z",
     "iopub.status.idle": "2022-12-06T09:19:15.850396Z",
     "shell.execute_reply": "2022-12-06T09:19:15.849212Z"
    },
    "papermill": {
     "duration": 0.590828,
     "end_time": "2022-12-06T09:19:15.852401",
     "exception": false,
     "start_time": "2022-12-06T09:19:15.261573",
     "status": "completed"
    },
    "tags": []
   },
   "outputs": [],
   "source": [
    "# [0.653830656159886, 0.6238455839150563, 0.605778830856576, 0.6647636130357559, 0.6544317172083116, 0.6532475492188892]\n",
    "# 0.6426496583990792\n",
    "# Full validation metric: 0.6421152903205289\n",
    "\n",
    "\n",
    "# [0.6455449287371509, 0.6218588657257058, 0.5979860325098842, 0.6420611577083772, 0.675211714053326, 0.6503222829996482]\n",
    "# 0.6388308302890154\n",
    "# Full validation metric: 0.6404691832962497\n",
    "\n",
    "#64 5e3\n",
    "# [0.6476080393945753, 0.6079157320890402, 0.6050800143556536, 0.6378247315988896, 0.6661450085369098, 0.6504032066047876]\n",
    "# 0.635829455429976\n",
    "# Full validation metric: 0.6342736651767453\n",
    "\n",
    "#64 1e3\n",
    "# Best validation metric: 0.6557763951171189\n",
    "# [0.651014691249416, 0.6347137845717545, 0.6147587091636446, 0.6665997338703076, 0.6587241317996946, 0.6557763951171189]\n",
    "# 0.6469312409619894\n",
    "# Full validation metric: 0.6467345027007692"
   ]
  },
  {
   "cell_type": "code",
   "execution_count": 14,
   "id": "868591ee",
   "metadata": {
    "execution": {
     "iopub.execute_input": "2022-12-06T09:19:16.997881Z",
     "iopub.status.busy": "2022-12-06T09:19:16.996771Z",
     "iopub.status.idle": "2022-12-06T09:19:17.004279Z",
     "shell.execute_reply": "2022-12-06T09:19:17.003147Z"
    },
    "papermill": {
     "duration": 0.630656,
     "end_time": "2022-12-06T09:19:17.006778",
     "exception": false,
     "start_time": "2022-12-06T09:19:16.376122",
     "status": "completed"
    },
    "tags": []
   },
   "outputs": [
    {
     "name": "stdout",
     "output_type": "stream",
     "text": [
      "['center_id_6.2.8.9_epoch_3_target_0.673.h5', 'center_id_7_epoch_0_target_0.638.h5', 'center_id_6.2.8.9_epoch_2_target_0.68.h5', 'center_id_4_epoch_4_target_0.616.h5', 'center_id_1.5_epoch_4_target_0.679.h5']\n"
     ]
    }
   ],
   "source": [
    "import os\n",
    "\n",
    "\n",
    "model_files = [file_name for file_name in list(os.listdir('/kaggle/working/models')) if file_name.endswith('.h5')]\n",
    "print(model_files[:5])"
   ]
  },
  {
   "cell_type": "code",
   "execution_count": 15,
   "id": "30346743",
   "metadata": {
    "execution": {
     "iopub.execute_input": "2022-12-06T09:19:18.120888Z",
     "iopub.status.busy": "2022-12-06T09:19:18.120293Z",
     "iopub.status.idle": "2022-12-06T09:19:18.129215Z",
     "shell.execute_reply": "2022-12-06T09:19:18.128000Z"
    },
    "papermill": {
     "duration": 0.595037,
     "end_time": "2022-12-06T09:19:18.131332",
     "exception": false,
     "start_time": "2022-12-06T09:19:17.536295",
     "status": "completed"
    },
    "tags": []
   },
   "outputs": [
    {
     "name": "stdout",
     "output_type": "stream",
     "text": [
      "{'6.2.8.9': 'center_id_6.2.8.9_epoch_1_target_0.638.h5', '7': 'center_id_7_epoch_3_target_0.581.h5', '4': 'center_id_4_epoch_4_target_0.616.h5', '1.5': 'center_id_1.5_epoch_4_target_0.651.h5', '10.3': 'center_id_10.3_epoch_3_target_0.658.h5', '11': 'center_id_11_epoch_2_target_0.642.h5'}\n"
     ]
    }
   ],
   "source": [
    "from collections import defaultdict\n",
    "\n",
    "\n",
    "centers_to_models = defaultdict(list)\n",
    "for model_file in model_files:\n",
    "    center_id = model_file.split('_')[2]\n",
    "    epoch = int(model_file.split('_')[4])\n",
    "    metric = float(model_file.split('_')[6][:-3])\n",
    "    \n",
    "    centers_to_models[center_id].append((metric, epoch, model_file))\n",
    "    \n",
    "center_id_to_best_model_file_name = {\n",
    "    center_id: sorted(model_files, key=lambda x: (x[0], x[1]))[0][2]\n",
    "    for center_id, model_files in centers_to_models.items()\n",
    "}\n",
    "print(center_id_to_best_model_file_name)"
   ]
  },
  {
   "cell_type": "code",
   "execution_count": 16,
   "id": "cfef53d0",
   "metadata": {
    "execution": {
     "iopub.execute_input": "2022-12-06T09:19:19.175692Z",
     "iopub.status.busy": "2022-12-06T09:19:19.175310Z",
     "iopub.status.idle": "2022-12-06T09:19:19.180699Z",
     "shell.execute_reply": "2022-12-06T09:19:19.179746Z"
    },
    "papermill": {
     "duration": 0.533177,
     "end_time": "2022-12-06T09:19:19.183333",
     "exception": false,
     "start_time": "2022-12-06T09:19:18.650156",
     "status": "completed"
    },
    "tags": []
   },
   "outputs": [
    {
     "name": "stdout",
     "output_type": "stream",
     "text": [
      "['center_id_6.2.8.9_epoch_1_target_0.638.h5', 'center_id_7_epoch_3_target_0.581.h5', 'center_id_4_epoch_4_target_0.616.h5', 'center_id_1.5_epoch_4_target_0.651.h5', 'center_id_10.3_epoch_3_target_0.658.h5', 'center_id_11_epoch_2_target_0.642.h5']\n"
     ]
    }
   ],
   "source": [
    "good_models = list(center_id_to_best_model_file_name.values())\n",
    "print(good_models)"
   ]
  },
  {
   "cell_type": "code",
   "execution_count": 17,
   "id": "6ac8fe58",
   "metadata": {
    "execution": {
     "iopub.execute_input": "2022-12-06T09:19:20.288125Z",
     "iopub.status.busy": "2022-12-06T09:19:20.287766Z",
     "iopub.status.idle": "2022-12-06T09:19:20.349930Z",
     "shell.execute_reply": "2022-12-06T09:19:20.348986Z"
    },
    "papermill": {
     "duration": 0.591271,
     "end_time": "2022-12-06T09:19:20.352131",
     "exception": false,
     "start_time": "2022-12-06T09:19:19.760860",
     "status": "completed"
    },
    "tags": []
   },
   "outputs": [],
   "source": [
    "for model_file in model_files:\n",
    "    if model_file not in good_models:\n",
    "        os.remove(os.path.join('/kaggle/working/models', model_file))"
   ]
  }
 ],
 "metadata": {
  "kernelspec": {
   "display_name": "Python 3",
   "language": "python",
   "name": "python3"
  },
  "language_info": {
   "codemirror_mode": {
    "name": "ipython",
    "version": 3
   },
   "file_extension": ".py",
   "mimetype": "text/x-python",
   "name": "python",
   "nbconvert_exporter": "python",
   "pygments_lexer": "ipython3",
   "version": "3.7.12"
  },
  "papermill": {
   "default_parameters": {},
   "duration": 5345.267755,
   "end_time": "2022-12-06T09:19:22.712260",
   "environment_variables": {},
   "exception": null,
   "input_path": "__notebook__.ipynb",
   "output_path": "__notebook__.ipynb",
   "parameters": {},
   "start_time": "2022-12-06T07:50:17.444505",
   "version": "2.3.4"
  },
  "widgets": {
   "application/vnd.jupyter.widget-state+json": {
    "state": {
     "2dc7bcd601c9474a90a6283f85b030d7": {
      "model_module": "@jupyter-widgets/controls",
      "model_module_version": "1.5.0",
      "model_name": "HBoxModel",
      "state": {
       "_dom_classes": [],
       "_model_module": "@jupyter-widgets/controls",
       "_model_module_version": "1.5.0",
       "_model_name": "HBoxModel",
       "_view_count": null,
       "_view_module": "@jupyter-widgets/controls",
       "_view_module_version": "1.5.0",
       "_view_name": "HBoxView",
       "box_style": "",
       "children": [
        "IPY_MODEL_b9700399b5cf41c9ba1c3a443e484d17",
        "IPY_MODEL_a4e06aefbe204363b3b4ce3550339c76",
        "IPY_MODEL_fa9e86dc31c746edaa4ab0e908fea941"
       ],
       "layout": "IPY_MODEL_561f002eedda4f118d03c4cd947bfcf8"
      }
     },
     "33207e785be840fb9a572e4f485af4d4": {
      "model_module": "@jupyter-widgets/controls",
      "model_module_version": "1.5.0",
      "model_name": "DescriptionStyleModel",
      "state": {
       "_model_module": "@jupyter-widgets/controls",
       "_model_module_version": "1.5.0",
       "_model_name": "DescriptionStyleModel",
       "_view_count": null,
       "_view_module": "@jupyter-widgets/base",
       "_view_module_version": "1.2.0",
       "_view_name": "StyleView",
       "description_width": ""
      }
     },
     "49cb6197782d41ba8869e1dc77da02be": {
      "model_module": "@jupyter-widgets/base",
      "model_module_version": "1.2.0",
      "model_name": "LayoutModel",
      "state": {
       "_model_module": "@jupyter-widgets/base",
       "_model_module_version": "1.2.0",
       "_model_name": "LayoutModel",
       "_view_count": null,
       "_view_module": "@jupyter-widgets/base",
       "_view_module_version": "1.2.0",
       "_view_name": "LayoutView",
       "align_content": null,
       "align_items": null,
       "align_self": null,
       "border": null,
       "bottom": null,
       "display": null,
       "flex": null,
       "flex_flow": null,
       "grid_area": null,
       "grid_auto_columns": null,
       "grid_auto_flow": null,
       "grid_auto_rows": null,
       "grid_column": null,
       "grid_gap": null,
       "grid_row": null,
       "grid_template_areas": null,
       "grid_template_columns": null,
       "grid_template_rows": null,
       "height": null,
       "justify_content": null,
       "justify_items": null,
       "left": null,
       "margin": null,
       "max_height": null,
       "max_width": null,
       "min_height": null,
       "min_width": null,
       "object_fit": null,
       "object_position": null,
       "order": null,
       "overflow": null,
       "overflow_x": null,
       "overflow_y": null,
       "padding": null,
       "right": null,
       "top": null,
       "visibility": null,
       "width": null
      }
     },
     "548e4c8445ea45b39eccf1a357a5869b": {
      "model_module": "@jupyter-widgets/controls",
      "model_module_version": "1.5.0",
      "model_name": "DescriptionStyleModel",
      "state": {
       "_model_module": "@jupyter-widgets/controls",
       "_model_module_version": "1.5.0",
       "_model_name": "DescriptionStyleModel",
       "_view_count": null,
       "_view_module": "@jupyter-widgets/base",
       "_view_module_version": "1.2.0",
       "_view_name": "StyleView",
       "description_width": ""
      }
     },
     "561f002eedda4f118d03c4cd947bfcf8": {
      "model_module": "@jupyter-widgets/base",
      "model_module_version": "1.2.0",
      "model_name": "LayoutModel",
      "state": {
       "_model_module": "@jupyter-widgets/base",
       "_model_module_version": "1.2.0",
       "_model_name": "LayoutModel",
       "_view_count": null,
       "_view_module": "@jupyter-widgets/base",
       "_view_module_version": "1.2.0",
       "_view_name": "LayoutView",
       "align_content": null,
       "align_items": null,
       "align_self": null,
       "border": null,
       "bottom": null,
       "display": null,
       "flex": null,
       "flex_flow": null,
       "grid_area": null,
       "grid_auto_columns": null,
       "grid_auto_flow": null,
       "grid_auto_rows": null,
       "grid_column": null,
       "grid_gap": null,
       "grid_row": null,
       "grid_template_areas": null,
       "grid_template_columns": null,
       "grid_template_rows": null,
       "height": null,
       "justify_content": null,
       "justify_items": null,
       "left": null,
       "margin": null,
       "max_height": null,
       "max_width": null,
       "min_height": null,
       "min_width": null,
       "object_fit": null,
       "object_position": null,
       "order": null,
       "overflow": null,
       "overflow_x": null,
       "overflow_y": null,
       "padding": null,
       "right": null,
       "top": null,
       "visibility": null,
       "width": null
      }
     },
     "89c1233f47df4f58810aff2593a6332d": {
      "model_module": "@jupyter-widgets/base",
      "model_module_version": "1.2.0",
      "model_name": "LayoutModel",
      "state": {
       "_model_module": "@jupyter-widgets/base",
       "_model_module_version": "1.2.0",
       "_model_name": "LayoutModel",
       "_view_count": null,
       "_view_module": "@jupyter-widgets/base",
       "_view_module_version": "1.2.0",
       "_view_name": "LayoutView",
       "align_content": null,
       "align_items": null,
       "align_self": null,
       "border": null,
       "bottom": null,
       "display": null,
       "flex": null,
       "flex_flow": null,
       "grid_area": null,
       "grid_auto_columns": null,
       "grid_auto_flow": null,
       "grid_auto_rows": null,
       "grid_column": null,
       "grid_gap": null,
       "grid_row": null,
       "grid_template_areas": null,
       "grid_template_columns": null,
       "grid_template_rows": null,
       "height": null,
       "justify_content": null,
       "justify_items": null,
       "left": null,
       "margin": null,
       "max_height": null,
       "max_width": null,
       "min_height": null,
       "min_width": null,
       "object_fit": null,
       "object_position": null,
       "order": null,
       "overflow": null,
       "overflow_x": null,
       "overflow_y": null,
       "padding": null,
       "right": null,
       "top": null,
       "visibility": null,
       "width": null
      }
     },
     "8a036dfd5fca44c187a7174d5f3efeea": {
      "model_module": "@jupyter-widgets/base",
      "model_module_version": "1.2.0",
      "model_name": "LayoutModel",
      "state": {
       "_model_module": "@jupyter-widgets/base",
       "_model_module_version": "1.2.0",
       "_model_name": "LayoutModel",
       "_view_count": null,
       "_view_module": "@jupyter-widgets/base",
       "_view_module_version": "1.2.0",
       "_view_name": "LayoutView",
       "align_content": null,
       "align_items": null,
       "align_self": null,
       "border": null,
       "bottom": null,
       "display": null,
       "flex": null,
       "flex_flow": null,
       "grid_area": null,
       "grid_auto_columns": null,
       "grid_auto_flow": null,
       "grid_auto_rows": null,
       "grid_column": null,
       "grid_gap": null,
       "grid_row": null,
       "grid_template_areas": null,
       "grid_template_columns": null,
       "grid_template_rows": null,
       "height": null,
       "justify_content": null,
       "justify_items": null,
       "left": null,
       "margin": null,
       "max_height": null,
       "max_width": null,
       "min_height": null,
       "min_width": null,
       "object_fit": null,
       "object_position": null,
       "order": null,
       "overflow": null,
       "overflow_x": null,
       "overflow_y": null,
       "padding": null,
       "right": null,
       "top": null,
       "visibility": null,
       "width": null
      }
     },
     "a4e06aefbe204363b3b4ce3550339c76": {
      "model_module": "@jupyter-widgets/controls",
      "model_module_version": "1.5.0",
      "model_name": "FloatProgressModel",
      "state": {
       "_dom_classes": [],
       "_model_module": "@jupyter-widgets/controls",
       "_model_module_version": "1.5.0",
       "_model_name": "FloatProgressModel",
       "_view_count": null,
       "_view_module": "@jupyter-widgets/controls",
       "_view_module_version": "1.5.0",
       "_view_name": "ProgressView",
       "bar_style": "success",
       "description": "",
       "description_tooltip": null,
       "layout": "IPY_MODEL_49cb6197782d41ba8869e1dc77da02be",
       "max": 21444401.0,
       "min": 0.0,
       "orientation": "horizontal",
       "style": "IPY_MODEL_abc17449a0f7455d81b9633329187c10",
       "value": 21444401.0
      }
     },
     "abc17449a0f7455d81b9633329187c10": {
      "model_module": "@jupyter-widgets/controls",
      "model_module_version": "1.5.0",
      "model_name": "ProgressStyleModel",
      "state": {
       "_model_module": "@jupyter-widgets/controls",
       "_model_module_version": "1.5.0",
       "_model_name": "ProgressStyleModel",
       "_view_count": null,
       "_view_module": "@jupyter-widgets/base",
       "_view_module_version": "1.2.0",
       "_view_name": "StyleView",
       "bar_color": null,
       "description_width": ""
      }
     },
     "b9700399b5cf41c9ba1c3a443e484d17": {
      "model_module": "@jupyter-widgets/controls",
      "model_module_version": "1.5.0",
      "model_name": "HTMLModel",
      "state": {
       "_dom_classes": [],
       "_model_module": "@jupyter-widgets/controls",
       "_model_module_version": "1.5.0",
       "_model_name": "HTMLModel",
       "_view_count": null,
       "_view_module": "@jupyter-widgets/controls",
       "_view_module_version": "1.5.0",
       "_view_name": "HTMLView",
       "description": "",
       "description_tooltip": null,
       "layout": "IPY_MODEL_8a036dfd5fca44c187a7174d5f3efeea",
       "placeholder": "​",
       "style": "IPY_MODEL_33207e785be840fb9a572e4f485af4d4",
       "value": "100%"
      }
     },
     "fa9e86dc31c746edaa4ab0e908fea941": {
      "model_module": "@jupyter-widgets/controls",
      "model_module_version": "1.5.0",
      "model_name": "HTMLModel",
      "state": {
       "_dom_classes": [],
       "_model_module": "@jupyter-widgets/controls",
       "_model_module_version": "1.5.0",
       "_model_name": "HTMLModel",
       "_view_count": null,
       "_view_module": "@jupyter-widgets/controls",
       "_view_module_version": "1.5.0",
       "_view_name": "HTMLView",
       "description": "",
       "description_tooltip": null,
       "layout": "IPY_MODEL_89c1233f47df4f58810aff2593a6332d",
       "placeholder": "​",
       "style": "IPY_MODEL_548e4c8445ea45b39eccf1a357a5869b",
       "value": " 20.5M/20.5M [00:01&lt;00:00, 21.8MB/s]"
      }
     }
    },
    "version_major": 2,
    "version_minor": 0
   }
  }
 },
 "nbformat": 4,
 "nbformat_minor": 5
}
