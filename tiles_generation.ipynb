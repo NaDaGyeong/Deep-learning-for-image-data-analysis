{
 "cells": [
  {
   "cell_type": "code",
   "execution_count": 1,
   "id": "19ec8cd5",
   "metadata": {
    "execution": {
     "iopub.execute_input": "2022-10-03T20:35:18.730188Z",
     "iopub.status.busy": "2022-10-03T20:35:18.729677Z",
     "iopub.status.idle": "2022-10-03T20:37:47.489618Z",
     "shell.execute_reply": "2022-10-03T20:37:47.488342Z"
    },
    "papermill": {
     "duration": 148.770322,
     "end_time": "2022-10-03T20:37:47.492872",
     "exception": false,
     "start_time": "2022-10-03T20:35:18.722550",
     "status": "completed"
    },
    "tags": []
   },
   "outputs": [
    {
     "name": "stdout",
     "output_type": "stream",
     "text": [
      "Collecting package metadata (current_repodata.json): - \b\b\\ \b\b| \b\b/ \b\b- \b\b\\ \b\b| \b\b/ \b\b- \b\b\\ \b\b| \b\b/ \b\b- \b\b\\ \b\b| \b\b/ \b\b- \b\b\\ \b\b| \b\b/ \b\b- \b\b\\ \b\b| \b\b/ \b\b- \b\b\\ \b\b| \b\b/ \b\b- \b\b\\ \b\b| \b\b/ \b\b- \b\b\\ \b\b| \b\b/ \b\b- \b\b\\ \b\b| \b\b/ \b\b- \b\b\\ \b\b| \b\b/ \b\b- \b\b\\ \b\b| \b\b/ \b\b- \b\b\\ \b\b| \b\b/ \b\b- \b\b\\ \b\b| \b\b/ \b\b- \b\b\\ \b\b| \b\b/ \b\b- \b\b\\ \b\b| \b\b/ \b\b- \b\b\\ \b\b| \b\b/ \b\b- \b\b\\ \b\b| \b\b/ \b\b- \b\b\\ \b\b| \b\b/ \b\b- \b\b\\ \b\b| \b\b/ \b\b- \b\b\\ \b\b| \b\b/ \b\b- \b\b\\ \b\b| \b\b/ \b\b- \b\b\\ \b\b| \b\b/ \b\b- \b\b\\ \b\b| \b\b/ \b\b- \b\b\\ \b\b| \b\b/ \b\b- \b\b\\ \b\b| \b\b/ \b\b- \b\b\\ \b\b| \b\b/ \b\b- \b\b\\ \b\b| \b\b/ \b\b- \b\b\\ \b\b| \b\b/ \b\b- \b\b\\ \b\b| \b\b/ \b\b- \b\b\\ \b\b| \b\b/ \b\b- \b\b\\ \b\b| \b\b/ \b\b- \b\b\\ \b\b| \b\b/ \b\b- \b\b\\ \b\b| \b\b/ \b\b- \b\b\\ \b\b| \b\b/ \b\b- \b\b\\ \b\b| \b\b/ \b\b- \b\b\\ \b\b| \b\b/ \b\b- \b\b\\ \b\b| \b\b/ \b\b- \b\b\\ \b\b| \b\b/ \b\b- \b\b\\ \b\b| \b\b/ \b\b- \b\b\\ \b\b| \b\b/ \b\b- \b\b\\ \b\b| \b\b/ \b\b- \b\b\\ \b\b| \b\b/ \b\b- \b\b\\ \b\b| \b\b/ \b\b- \b\b\\ \b\b| \b\b/ \b\b- \b\b\\ \b\b| \b\b/ \b\b- \b\b\\ \b\b| \b\b/ \b\b- \b\b\\ \b\b| \b\b/ \b\b- \b\b\\ \b\b| \b\b/ \b\b- \b\b\\ \b\b| \b\b/ \b\b- \b\b\\ \b\b| \b\b/ \b\b- \b\b\\ \b\b| \b\b/ \b\b- \b\b\\ \b\b| \b\b/ \b\b- \b\b\\ \b\b| \b\b/ \b\b- \b\b\\ \b\bdone\r\n",
      "Solving environment: / \b\b- \b\b\\ \b\b| \b\b/ \b\b- \b\b\\ \b\b| \b\b/ \b\b- \b\b\\ \b\b| \b\b/ \b\b- \b\b\\ \b\b| \b\b/ \b\b- \b\b\\ \b\b| \b\b/ \b\b- \b\b\\ \b\b| \b\b/ \b\b- \b\b\\ \b\b| \b\b/ \b\b- \b\b\\ \b\b| \b\b/ \b\b- \b\b\\ \b\b| \b\b/ \b\b- \b\b\\ \b\b| \b\b/ \b\b- \b\b\\ \b\b| \b\b/ \b\b- \b\b\\ \b\b| \b\b/ \b\b- \b\b\\ \b\b| \b\b/ \b\b- \b\b\\ \b\b| \b\b/ \b\b- \b\b\\ \b\b| \b\b/ \b\b- \b\b\\ \b\b| \b\b/ \b\b- \b\b\\ \b\b| \b\b/ \b\b- \b\b\\ \b\b| \b\b/ \b\b- \b\b\\ \b\b| \b\b/ \b\b- \b\b\\ \b\b| \b\b/ \b\b- \b\b\\ \b\b| \b\b/ \b\b- \b\b\\ \b\b| \b\b/ \b\b- \b\b\\ \b\b| \b\b/ \b\b- \b\b\\ \b\b| \b\b/ \b\b- \b\b\\ \b\b| \b\b/ \b\b- \b\b\\ \b\b| \b\b/ \b\b- \b\b\\ \b\b| \b\b/ \b\b- \b\b\\ \b\b| \b\b/ \b\b- \b\b\\ \b\b| \b\b/ \b\b- \b\b\\ \b\b| \b\b/ \b\b- \b\b\\ \b\b| \b\b/ \b\b- \b\b\\ \b\b| \b\b/ \b\b- \b\b\\ \b\b| \b\b/ \b\b- \b\b\\ \b\b| \b\b/ \b\b- \b\b\\ \b\b| \b\b/ \b\b- \b\b\\ \b\b| \b\b/ \b\b- \b\b\\ \b\b| \b\b/ \b\b- \b\b\\ \b\b| \b\b/ \b\b- \b\b\\ \b\b| \b\b/ \b\b- \b\b\\ \b\b| \b\b/ \b\b- \b\b\\ \b\b| \b\b/ \b\b- \b\b\\ \b\b| \b\b/ \b\b- \b\b\\ \b\b| \b\b/ \b\b- \b\b\\ \b\b| \b\b/ \b\b- \b\b\\ \b\b| \b\b/ \b\b- \b\b\\ \b\b| \b\b/ \b\b- \b\b\\ \b\b| \b\b/ \b\b- \b\b\\ \b\b| \b\b/ \b\b- \b\b\\ \b\b| \b\b/ \b\b- \b\b\\ \b\b| \b\b/ \b\b- \b\b\\ \b\b| \b\b/ \b\b- \b\b\\ \b\b| \b\b/ \b\b- \b\b\\ \b\b| \b\b/ \b\b- \b\b\\ \b\b| \b\b/ \b\b- \b\b\\ \b\b| \b\b/ \b\b- \b\b\\ \b\b| \b\b/ \b\b- \b\b\\ \b\b| \b\b/ \b\b- \b\b\\ \b\b| \b\b/ \b\b- \b\b\\ \b\b| \b\b/ \b\b- \b\b\\ \b\b| \b\b/ \b\b- \b\b\\ \b\b| \b\b/ \b\b- \b\b\\ \b\b| \b\b/ \b\b- \b\b\\ \b\b| \b\b/ \b\b- \b\b\\ \b\b| \b\b/ \b\b- \b\b\\ \b\b| \b\b/ \b\b- \b\b\\ \b\b| \b\b/ \b\b- \b\b\\ \b\b| \b\b/ \b\b- \b\b\\ \b\b| \b\b/ \b\b- \b\b\\ \b\b| \b\b/ \b\b- \b\b\\ \b\b| \b\b/ \b\b- \b\b\\ \b\b| \b\b/ \b\b- \b\b\\ \b\b| \b\b/ \b\b- \b\b\\ \b\b| \b\b/ \b\b- \b\b\\ \b\b| \b\b/ \b\b- \b\b\\ \b\b| \b\b/ \b\b- \b\b\\ \b\b| \b\b/ \b\b- \b\b\\ \b\b| \b\b/ \b\b- \b\b\\ \b\b| \b\b/ \b\b- \b\b\\ \b\b| \b\b/ \b\b- \b\b\\ \b\b| \b\b/ \b\b- \b\b\\ \b\b| \b\b/ \b\b- \b\b\\ \b\b| \b\b/ \b\b- \b\b\\ \b\b| \b\b/ \b\b- \b\b\\ \b\b| \b\b/ \b\b- \b\b\\ \b\b| \b\b/ \b\b- \b\b\\ \b\b| \b\b/ \b\b- \b\b\\ \b\b| \b\b/ \b\b- \b\b\\ \b\b| \b\b/ \b\b- \b\b\\ \b\b| \b\b/ \b\b- \b\b\\ \b\b| \b\b/ \b\b- \b\b\\ \b\b| \b\b/ \b\b- \b\b\\ \b\b| \b\b/ \b\b- \b\b\\ \b\b| \b\b/ \b\b- \b\b\\ \b\b| \b\b/ \b\b- \b\b\\ \b\b| \b\b/ \b\b- \b\b\\ \b\b| \b\b/ \b\b- \b\b\\ \b\b| \b\b/ \b\b- \b\b\\ \b\b| \b\b/ \b\b- \b\b\\ \b\b| \b\b/ \b\b- \b\b\\ \b\b| \b\b/ \b\b- \b\b\\ \b\b| \b\b/ \b\b- \b\b\\ \b\b| \b\b/ \b\b- \b\b\\ \b\b| \b\b/ \b\b- \b\b\\ \b\b| \b\b/ \b\b- \b\b\\ \b\b| \b\b/ \b\b- \b\b\\ \b\b| \b\b/ \b\b- \b\b\\ \b\b| \b\b/ \b\b- \b\b\\ \b\b| \b\b/ \b\b- \b\b\\ \b\b| \b\b/ \b\b- \b\b\\ \b\b| \b\b/ \b\b- \b\b\\ \b\b| \b\b/ \b\b- \b\b\\ \b\b| \b\b/ \b\b- \b\b\\ \b\b| \b\b/ \b\b- \b\b\\ \b\b| \b\b/ \b\b- \b\b\\ \b\b| \b\b/ \b\b- \b\b\\ \b\b| \b\b/ \b\b- \b\b\\ \b\b| \b\b/ \b\b- \b\b\\ \b\b| \b\b/ \b\b- \b\b\\ \b\b| \b\b/ \b\b- \b\b\\ \b\b| \b\b/ \b\b- \b\b\\ \b\bdone\r\n",
      "\r\n",
      "## Package Plan ##\r\n",
      "\r\n",
      "  environment location: /opt/conda\r\n",
      "\r\n",
      "  added / updated specs:\r\n",
      "    - pyvips\r\n",
      "\r\n",
      "\r\n",
      "The following packages will be downloaded:\r\n",
      "\r\n",
      "    package                    |            build\r\n",
      "    ---------------------------|-----------------\r\n",
      "    boost-cpp-1.74.0           |       h75c5d50_8        16.2 MB  conda-forge\r\n",
      "    ca-certificates-2022.9.24  |       ha878542_0         150 KB  conda-forge\r\n",
      "    certifi-2022.9.24          |     pyhd8ed1ab_0         155 KB  conda-forge\r\n",
      "    cfitsio-4.1.0              |       hd9d235c_0         1.3 MB  conda-forge\r\n",
      "    conda-22.9.0               |   py37h89c1867_1         960 KB  conda-forge\r\n",
      "    freetype-2.12.1            |       hca18f0e_0         884 KB  conda-forge\r\n",
      "    glib-2.74.0                |       h6239696_0         438 KB  conda-forge\r\n",
      "    glib-tools-2.74.0          |       h6239696_0         108 KB  conda-forge\r\n",
      "    gstreamer-orc-0.4.32       |       h7f98852_1         267 KB  conda-forge\r\n",
      "    hdf5-1.12.2                |nompi_h2386368_100         3.5 MB  conda-forge\r\n",
      "    libexif-0.6.21             |       h7f98852_0         992 KB  conda-forge\r\n",
      "    libglib-2.74.0             |       h7a41b64_0         3.1 MB  conda-forge\r\n",
      "    libgsf-1.14.50             |       he99f2b3_0         460 KB  conda-forge\r\n",
      "    libiconv-1.17              |       h166bdaf_0         1.4 MB  conda-forge\r\n",
      "    libmatio-1.5.23            |       h63e3022_1         310 KB  conda-forge\r\n",
      "    libvips-8.13.1             |       h90b0b56_1         3.8 MB  conda-forge\r\n",
      "    libwebp-1.2.4              |       h522a892_0          87 KB  conda-forge\r\n",
      "    libwebp-base-1.2.4         |       h166bdaf_0         404 KB  conda-forge\r\n",
      "    nspr-4.32                  |       h9c3ff4c_1         233 KB  conda-forge\r\n",
      "    nss-3.78                   |       h2350873_0         2.1 MB  conda-forge\r\n",
      "    openslide-3.4.1            |       h978ee9a_4         114 KB  conda-forge\r\n",
      "    pcre2-10.37                |       hc3806b6_1         1.1 MB  conda-forge\r\n",
      "    pkgconfig-1.5.5            |   py37h89c1867_2          13 KB  conda-forge\r\n",
      "    poppler-22.04.0            |       h1434ded_1        19.3 MB  conda-forge\r\n",
      "    poppler-data-0.4.11        |       hd8ed1ab_0         3.6 MB  conda-forge\r\n",
      "    pyvips-2.2.1               |   py37had655be_0         111 KB  conda-forge\r\n",
      "    ------------------------------------------------------------\r\n",
      "                                           Total:        61.0 MB\r\n",
      "\r\n",
      "The following NEW packages will be INSTALLED:\r\n",
      "\r\n",
      "  boost-cpp          conda-forge/linux-64::boost-cpp-1.74.0-h75c5d50_8\r\n",
      "  cfitsio            conda-forge/linux-64::cfitsio-4.1.0-hd9d235c_0\r\n",
      "  glib               conda-forge/linux-64::glib-2.74.0-h6239696_0\r\n",
      "  glib-tools         conda-forge/linux-64::glib-tools-2.74.0-h6239696_0\r\n",
      "  gstreamer-orc      conda-forge/linux-64::gstreamer-orc-0.4.32-h7f98852_1\r\n",
      "  hdf5               conda-forge/linux-64::hdf5-1.12.2-nompi_h2386368_100\r\n",
      "  libexif            conda-forge/linux-64::libexif-0.6.21-h7f98852_0\r\n",
      "  libgsf             conda-forge/linux-64::libgsf-1.14.50-he99f2b3_0\r\n",
      "  libmatio           conda-forge/linux-64::libmatio-1.5.23-h63e3022_1\r\n",
      "  libvips            conda-forge/linux-64::libvips-8.13.1-h90b0b56_1\r\n",
      "  nspr               conda-forge/linux-64::nspr-4.32-h9c3ff4c_1\r\n",
      "  nss                conda-forge/linux-64::nss-3.78-h2350873_0\r\n",
      "  openslide          conda-forge/linux-64::openslide-3.4.1-h978ee9a_4\r\n",
      "  pcre2              conda-forge/linux-64::pcre2-10.37-hc3806b6_1\r\n",
      "  pkgconfig          conda-forge/linux-64::pkgconfig-1.5.5-py37h89c1867_2\r\n",
      "  poppler            conda-forge/linux-64::poppler-22.04.0-h1434ded_1\r\n",
      "  poppler-data       conda-forge/noarch::poppler-data-0.4.11-hd8ed1ab_0\r\n",
      "  pyvips             conda-forge/linux-64::pyvips-2.2.1-py37had655be_0\r\n",
      "\r\n",
      "The following packages will be UPDATED:\r\n",
      "\r\n",
      "  ca-certificates                    2022.6.15.2-ha878542_0 --> 2022.9.24-ha878542_0\r\n",
      "  certifi                          2022.6.15.2-pyhd8ed1ab_0 --> 2022.9.24-pyhd8ed1ab_0\r\n",
      "  conda                               4.14.0-py37h89c1867_0 --> 22.9.0-py37h89c1867_1\r\n",
      "  freetype                                2.10.4-h0708190_1 --> 2.12.1-hca18f0e_0\r\n",
      "  libglib                                 2.72.1-h2d90d5f_0 --> 2.74.0-h7a41b64_0\r\n",
      "  libiconv                                  1.16-h516909a_0 --> 1.17-h166bdaf_0\r\n",
      "  libwebp                                  1.2.2-h3452ae3_0 --> 1.2.4-h522a892_0\r\n",
      "  libwebp-base                             1.2.2-h7f98852_1 --> 1.2.4-h166bdaf_0\r\n",
      "\r\n",
      "\r\n",
      "\r\n",
      "Downloading and Extracting Packages\r\n",
      "libvips-8.13.1       | 3.8 MB    | ##################################### | 100% \r\n",
      "libglib-2.74.0       | 3.1 MB    | ##################################### | 100% \r\n",
      "freetype-2.12.1      | 884 KB    | ##################################### | 100% \r\n",
      "pkgconfig-1.5.5      | 13 KB     | ##################################### | 100% \r\n",
      "libexif-0.6.21       | 992 KB    | ##################################### | 100% \r\n",
      "pcre2-10.37          | 1.1 MB    | ##################################### | 100% \r\n",
      "ca-certificates-2022 | 150 KB    | ##################################### | 100% \r\n",
      "libwebp-1.2.4        | 87 KB     | ##################################### | 100% \r\n",
      "libmatio-1.5.23      | 310 KB    | ##################################### | 100% \r\n",
      "gstreamer-orc-0.4.32 | 267 KB    | ##################################### | 100% \r\n",
      "glib-2.74.0          | 438 KB    | ##################################### | 100% \r\n",
      "libwebp-base-1.2.4   | 404 KB    | ##################################### | 100% \r\n",
      "hdf5-1.12.2          | 3.5 MB    | ##################################### | 100% \r\n",
      "libiconv-1.17        | 1.4 MB    | ##################################### | 100% \r\n",
      "cfitsio-4.1.0        | 1.3 MB    | ##################################### | 100% \r\n",
      "pyvips-2.2.1         | 111 KB    | ##################################### | 100% \r\n",
      "boost-cpp-1.74.0     | 16.2 MB   | ##################################### | 100% \r\n",
      "conda-22.9.0         | 960 KB    | ##################################### | 100% \r\n",
      "nss-3.78             | 2.1 MB    | ##################################### | 100% \r\n",
      "nspr-4.32            | 233 KB    | ##################################### | 100% \r\n",
      "poppler-22.04.0      | 19.3 MB   | ##################################### | 100% \r\n",
      "poppler-data-0.4.11  | 3.6 MB    | ##################################### | 100% \r\n",
      "glib-tools-2.74.0    | 108 KB    | ##################################### | 100% \r\n",
      "openslide-3.4.1      | 114 KB    | ##################################### | 100% \r\n",
      "libgsf-1.14.50       | 460 KB    | ##################################### | 100% \r\n",
      "certifi-2022.9.24    | 155 KB    | ##################################### | 100% \r\n",
      "Preparing transaction: / \b\b- \b\b\\ \b\b| \b\b/ \b\b- \b\b\\ \b\b| \b\b/ \b\b- \b\bdone\r\n",
      "Verifying transaction: | \b\b/ \b\b- \b\b\\ \b\b| \b\b/ \b\b- \b\b\\ \b\b| \b\b/ \b\b- \b\b\\ \b\b| \b\b/ \b\b- \b\b\\ \b\b| \b\b/ \b\b- \b\b\\ \b\b| \b\b/ \b\b- \b\b\\ \b\b| \b\b/ \b\b- \b\b\\ \b\b| \b\b/ \b\b- \b\b\\ \b\b| \b\bdone\r\n",
      "Executing transaction: - \b\b\\ \b\b| \b\b/ \b\b- \b\b\\ \b\b| \b\b/ \b\b- \b\b\\ \b\b| \b\b/ \b\b- \b\b\\ \b\b| \b\b/ \b\b- \b\b\\ \b\b| \b\b/ \b\b- \b\b\\ \b\b| \b\b/ \b\b- \b\b\\ \b\b| \b\b/ \b\b- \b\b\\ \b\b| \b\b/ \b\b- \b\b\\ \b\b| \b\b/ \b\b- \b\b\\ \b\b| \b\b/ \b\b- \b\b\\ \b\b| \b\b/ \b\b- \b\b\\ \b\b| \b\b/ \b\b- \b\b\\ \b\b| \b\b/ \b\b- \b\b\\ \b\b| \b\b/ \b\b- \b\b\\ \b\b| \b\b/ \b\b- \b\b\\ \b\b| \b\b/ \b\b- \b\b\\ \b\b| \b\b/ \b\b- \b\b\\ \b\b| \b\b/ \b\b- \b\b\\ \b\b| \b\b/ \b\b- \b\b\\ \b\b| \b\b/ \b\b- \b\b\\ \b\b| \b\b/ \b\b- \b\b\\ \b\b| \b\b/ \b\b- \b\b\\ \b\b| \b\b/ \b\b- \b\b\\ \b\b| \b\b/ \b\b- \b\b\\ \b\b| \b\b/ \b\b- \b\b\\ \b\b| \b\b/ \b\b- \b\b\\ \b\b| \b\b/ \b\b- \b\b\\ \b\bdone\r\n",
      "Retrieving notices: ...working... done\r\n"
     ]
    }
   ],
   "source": [
    "!conda install -y pyvips"
   ]
  },
  {
   "cell_type": "code",
   "execution_count": 2,
   "id": "2650e1f2",
   "metadata": {
    "_cell_guid": "b1076dfc-b9ad-4769-8c92-a6c4dae69d19",
    "_uuid": "8f2839f25d086af736a60e9eeb907d3b93b6e0e5",
    "execution": {
     "iopub.execute_input": "2022-10-03T20:37:47.603672Z",
     "iopub.status.busy": "2022-10-03T20:37:47.603289Z",
     "iopub.status.idle": "2022-10-03T20:37:47.617254Z",
     "shell.execute_reply": "2022-10-03T20:37:47.615875Z"
    },
    "papermill": {
     "duration": 0.072626,
     "end_time": "2022-10-03T20:37:47.619792",
     "exception": false,
     "start_time": "2022-10-03T20:37:47.547166",
     "status": "completed"
    },
    "tags": []
   },
   "outputs": [],
   "source": [
    "BAD_IMAGE_IDS = ['5adc4c_0', '7b9aaa_0', 'bb06a5_0', 'e26a04_0', '280c26_0'] + \\\n",
    "                ['4ae44b_0', '53e66f_0', '7c2c2f_0', '74a450_1']\n",
    "\n",
    "BLOCK_SIZE = 28\n",
    "BLOCKS_PER_CROP = 8\n",
    "CROP_SIZE = BLOCK_SIZE * BLOCKS_PER_CROP\n",
    "BLOCK_THR = 90\n",
    "CROP_THR = 0.6\n",
    "MAX_CROPS_PER_IMAGE = 20\n",
    "IMAGES_PER_SAMPLE = 4\n",
    "EPOCHS_NUM = 10\n",
    "SCALE_FACTOR = 24"
   ]
  },
  {
   "cell_type": "code",
   "execution_count": 3,
   "id": "b856b909",
   "metadata": {
    "execution": {
     "iopub.execute_input": "2022-10-03T20:37:47.735044Z",
     "iopub.status.busy": "2022-10-03T20:37:47.734613Z",
     "iopub.status.idle": "2022-10-03T20:37:48.157128Z",
     "shell.execute_reply": "2022-10-03T20:37:48.156015Z"
    },
    "papermill": {
     "duration": 0.483498,
     "end_time": "2022-10-03T20:37:48.159855",
     "exception": false,
     "start_time": "2022-10-03T20:37:47.676357",
     "status": "completed"
    },
    "tags": []
   },
   "outputs": [],
   "source": [
    "import gc\n",
    "import os\n",
    "from time import time\n",
    "from typing import List, Tuple\n",
    "\n",
    "import numpy as np\n",
    "import pandas as pd\n",
    "from PIL import Image\n",
    "from tqdm import tqdm\n",
    "\n",
    "import pyvips\n",
    "import cv2\n",
    "\n",
    "\n",
    "class DataPreparation:\n",
    "    def __init__(self, visualize: bool = False, seed: int = 42):\n",
    "        self.visualize = visualize\n",
    "        self.seed = seed\n",
    "\n",
    "        train_metadata = pd.read_csv('/kaggle/input/mayo-clinic-strip-ai/train.csv')\n",
    "        train_metadata = list(zip(\n",
    "            train_metadata['image_id'].tolist(),\n",
    "            train_metadata['label'].tolist(),\n",
    "            train_metadata['center_id'].tolist(),\n",
    "        ))\n",
    "        self.train = self._filter_bad_images(train_metadata)\n",
    "        self.all_center_ids = sorted(list({center_id for _, _, center_id in self.train}))\n",
    "\n",
    "        other_metadata = pd.read_csv('/kaggle/input/mayo-clinic-strip-ai/other.csv').query('label == \\'Other\\'')\n",
    "        other_metadata = list(zip(\n",
    "            other_metadata['image_id'].tolist(),\n",
    "            ['LAA' for _ in range(other_metadata.shape[0])],\n",
    "            [-1 for _ in range(other_metadata.shape[0])],\n",
    "        ))\n",
    "        self.other = self._filter_bad_images(other_metadata)\n",
    "\n",
    "    @staticmethod\n",
    "    def _filter_bad_images(data: List[Tuple]) -> List[Tuple]:\n",
    "        return [\n",
    "            (image_id, label, center_id)\n",
    "            for image_id, label, center_id in data\n",
    "            if image_id not in BAD_IMAGE_IDS\n",
    "        ]\n",
    "\n",
    "    @staticmethod\n",
    "    def _add_rect_to_numpy(image: np.ndarray, x: int, y: int, size: int, thickness: int) -> None:\n",
    "        image[x:x + size, y:y + thickness] = (0, 0, 0)\n",
    "        image[x:x + thickness, y:y + size] = (0, 0, 0)\n",
    "        image[x:x + size, y + size:y + size + thickness] = (0, 0, 0)\n",
    "        image[x + size:x + size + thickness, y:y + size] = (0, 0, 0)\n",
    "\n",
    "    @staticmethod\n",
    "    def _get_blocks_map(image: np.ndarray) -> np.ndarray:\n",
    "        pixels_diff = np.sum((image[:-1, :, :] - image[1:, :, :]) ** 2, axis=2)\n",
    "        pixels_diff = np.cumsum(np.cumsum(pixels_diff, axis=0), axis=1)\n",
    "        blocks_map = np.zeros((\n",
    "            (image.shape[0] + BLOCK_SIZE - 1) // BLOCK_SIZE,\n",
    "            (image.shape[1] + BLOCK_SIZE - 1) // BLOCK_SIZE,\n",
    "        ))\n",
    "        for x in range(0, pixels_diff.shape[0], BLOCK_SIZE):\n",
    "            for y in range(0, pixels_diff.shape[1], BLOCK_SIZE):\n",
    "                nx = min(x + BLOCK_SIZE, pixels_diff.shape[0])\n",
    "                ny = min(y + BLOCK_SIZE, pixels_diff.shape[1])\n",
    "                block_sum = int(pixels_diff[nx - 1, ny - 1])\n",
    "                if x:\n",
    "                    block_sum -= int(pixels_diff[x - 1, ny - 1])\n",
    "                if y:\n",
    "                    block_sum -= int(pixels_diff[nx - 1, y - 1])\n",
    "                if x and y:\n",
    "                    block_sum += int(pixels_diff[x - 1, y - 1])\n",
    "                blocks_map[x // BLOCK_SIZE][y // BLOCK_SIZE] = \\\n",
    "                    (block_sum / BLOCK_SIZE / BLOCK_SIZE) > BLOCK_THR\n",
    "        return blocks_map\n",
    "\n",
    "    def _generate_crops_positions(\n",
    "            self,\n",
    "            image: np.ndarray,\n",
    "            crop_thr: float,\n",
    "    ) -> Tuple[List[Tuple[int, int]], np.ndarray, np.ndarray, np.ndarray, np.ndarray]:\n",
    "        blocks_map = self._get_blocks_map(image)\n",
    "\n",
    "        if self.visualize:\n",
    "            for i in range(blocks_map.shape[0]):\n",
    "                for j in range(blocks_map.shape[1]):\n",
    "                    if blocks_map[i][j]:\n",
    "                        self._add_rect_to_numpy(\n",
    "                            image,\n",
    "                            i * BLOCK_SIZE,\n",
    "                            j * BLOCK_SIZE,\n",
    "                            BLOCK_SIZE,\n",
    "                            1,\n",
    "                        )\n",
    "\n",
    "        good_crops_starts = []\n",
    "        for x in range(0, image.shape[0] - CROP_SIZE + 1, BLOCK_SIZE):\n",
    "            for y in range(0, image.shape[1] - CROP_SIZE + 1, BLOCK_SIZE):\n",
    "                _x, _y = x // BLOCK_SIZE, y // BLOCK_SIZE\n",
    "                crop_sum = blocks_map[_x:_x + BLOCKS_PER_CROP, _y:_y + BLOCKS_PER_CROP].sum()\n",
    "                if crop_sum > BLOCKS_PER_CROP * BLOCKS_PER_CROP * crop_thr:\n",
    "                    good_crops_starts.append((x, y))\n",
    "\n",
    "        if self.visualize:\n",
    "            for x, y in good_crops_starts:\n",
    "                self._add_rect_to_numpy(image, x, y, CROP_SIZE, 1)\n",
    "\n",
    "        return good_crops_starts\n",
    "\n",
    "    @staticmethod\n",
    "    def _process_crop(crop: np.ndarray) -> np.ndarray:\n",
    "        return crop\n",
    "\n",
    "    def _create_crops(\n",
    "        self,\n",
    "        image: np.ndarray,\n",
    "        crops_starts: List[Tuple[int]],\n",
    "    ) -> List[np.ndarray]:\n",
    "        return [\n",
    "            Image.fromarray(\n",
    "                self._process_crop(\n",
    "                    image[x:x + CROP_SIZE, y:y + CROP_SIZE],\n",
    "                )\n",
    "            )\n",
    "            for x, y in crops_starts\n",
    "        ]\n",
    "\n",
    "    @staticmethod\n",
    "    def _get_unique_crops(crop_starts: List[Tuple[int, int]], order) -> List[Tuple[int, int]]:\n",
    "        def inter_size_1d(a: int, b: int, c: int, d: int) -> int:\n",
    "            return max(0, min(b, d) - max(a, c))\n",
    "\n",
    "        def inter_size_2d(crop_start_1: Tuple[int, int], crop_start_2: Tuple[int, int]) -> int:\n",
    "            return inter_size_1d(\n",
    "                crop_start_1[0], crop_start_1[0] + CROP_SIZE,\n",
    "                crop_start_2[0], crop_start_2[0] + CROP_SIZE,\n",
    "            ) * inter_size_1d(\n",
    "                crop_start_1[1], crop_start_1[1] + CROP_SIZE,\n",
    "                crop_start_2[1], crop_start_2[1] + CROP_SIZE,\n",
    "            )\n",
    "\n",
    "        crop_starts_sorted = sorted(crop_starts, key=order)\n",
    "        final_crop_starts = []\n",
    "        for crop_start in crop_starts_sorted:\n",
    "            if any(\n",
    "                    inter_size_2d(crop_start, crop_start_prev) > CROP_SIZE * CROP_SIZE // 2\n",
    "                    for crop_start_prev in final_crop_starts\n",
    "            ):\n",
    "                continue\n",
    "            final_crop_starts.append(crop_start)\n",
    "        return final_crop_starts\n",
    "    \n",
    "    @staticmethod\n",
    "    def _read_and_resize_image(image_id: str, base_image_path: str) -> np.ndarray:       \n",
    "        image_path = os.path.join(base_image_path, f'{image_id}.tif')\n",
    "        image = pyvips.Image.new_from_file(image_path, access='sequential')\n",
    "        return image.resize(1.0 / SCALE_FACTOR).numpy()\n",
    "    \n",
    "    def prepare_crops(\n",
    "            self,\n",
    "            image_ids: List[int],\n",
    "            base_image_path: str,\n",
    "    ) -> Tuple[List[List[np.ndarray]], List[List[Tuple[int]]], List[Tuple[np.ndarray, np.ndarray]]]:\n",
    "        np.random.seed(self.seed)\n",
    "        image_crops = []\n",
    "        image_crops_indices = []\n",
    "        for image_id in tqdm(image_ids):\n",
    "            start_time = time()\n",
    "            image = self._read_and_resize_image(image_id, base_image_path)\n",
    "            gc.collect()\n",
    "            print(f'Rescaling done in {time() - start_time} seconds. Image shape is {image.shape}')\n",
    "            found_flag = False\n",
    "            for crop_thr in np.arange(CROP_THR, -0.1, -0.1):\n",
    "                good_crops_starts = self._generate_crops_positions(image, crop_thr)\n",
    "                if len(good_crops_starts) < IMAGES_PER_SAMPLE:\n",
    "                    print('Bad image', image_id, 'crop_thr', crop_thr, 'only', len(good_crops_starts))\n",
    "                    continue\n",
    "\n",
    "                good_crops_starts_unique = []\n",
    "                for order in [\n",
    "                    lambda x: (x[0], x[1]),\n",
    "                    lambda x: (-x[0], -x[1]),\n",
    "                ]:\n",
    "                    good_crops_starts_unique.extend(self._get_unique_crops(good_crops_starts, order))\n",
    "                good_crops_starts_unique = list(set(good_crops_starts_unique))\n",
    "\n",
    "                if len(good_crops_starts_unique) < IMAGES_PER_SAMPLE:\n",
    "                    print('Bad image', image_id, 'crop_thr', crop_thr, 'only', len(good_crops_starts_unique))\n",
    "                    continue\n",
    "\n",
    "                good_crops_starts_sample_ids = np.random.choice(\n",
    "                    list(range(len(good_crops_starts_unique))),\n",
    "                    min(len(good_crops_starts_unique), MAX_CROPS_PER_IMAGE),\n",
    "                    replace=False,\n",
    "                )\n",
    "                good_crops_starts_sample = np.array(good_crops_starts_unique)[good_crops_starts_sample_ids]\n",
    "                image_crops_indices.append(good_crops_starts_sample)\n",
    "                image_crops.append(self._create_crops(image, good_crops_starts_sample))\n",
    "                found_flag = True\n",
    "                break\n",
    "            if not found_flag:\n",
    "                image_crops_indices.append([])\n",
    "                image_crops.append([])\n",
    "                print('No crops was found')\n",
    "            print(f'Done {image_id} in {time() - start_time} seconds')\n",
    "        gc.collect()\n",
    "        return image_crops, image_crops_indices\n",
    "\n",
    "    def process_train(\n",
    "            self\n",
    "    ) -> Tuple[List[List[np.ndarray]], List[List[Tuple[int]]]]:\n",
    "        return self.prepare_crops(\n",
    "            [image_id for image_id, _, _ in self.train],\n",
    "            '/kaggle/input/mayo-clinic-strip-ai/train/',\n",
    "        )\n",
    "\n",
    "    def process_other(\n",
    "            self\n",
    "    ) -> Tuple[List[List[np.ndarray]], List[List[Tuple[int]]]]:\n",
    "        return self.prepare_crops(\n",
    "            [image_id for image_id, _, _ in self.other],\n",
    "            '/kaggle/input/mayo-clinic-strip-ai/other/',\n",
    "        )"
   ]
  },
  {
   "cell_type": "code",
   "execution_count": 4,
   "id": "ff5e1e87",
   "metadata": {
    "execution": {
     "iopub.execute_input": "2022-10-03T20:37:48.276323Z",
     "iopub.status.busy": "2022-10-03T20:37:48.275557Z",
     "iopub.status.idle": "2022-10-04T02:46:18.636004Z",
     "shell.execute_reply": "2022-10-04T02:46:18.634542Z"
    },
    "papermill": {
     "duration": 22110.420187,
     "end_time": "2022-10-04T02:46:18.639568",
     "exception": false,
     "start_time": "2022-10-03T20:37:48.219381",
     "status": "completed"
    },
    "tags": []
   },
   "outputs": [
    {
     "name": "stderr",
     "output_type": "stream",
     "text": [
      "  0%|          | 0/749 [00:00<?, ?it/s]"
     ]
    },
    {
     "name": "stdout",
     "output_type": "stream",
     "text": [
      "Rescaling done in 56.89508581161499 seconds. Image shape is (2533, 1417, 3)\n"
     ]
    },
    {
     "name": "stderr",
     "output_type": "stream",
     "text": [
      "  0%|          | 1/749 [00:57<11:53:44, 57.25s/it]"
     ]
    },
    {
     "name": "stdout",
     "output_type": "stream",
     "text": [
      "Done 006388_0 in 57.25131821632385 seconds\n"
     ]
    },
    {
     "name": "stderr",
     "output_type": "stream",
     "text": [
      "  0%|          | 2/749 [01:00<5:17:31, 25.50s/it] "
     ]
    },
    {
     "name": "stdout",
     "output_type": "stream",
     "text": [
      "Rescaling done in 3.256676435470581 seconds. Image shape is (1237, 248, 3)\n",
      "Done 008e5c_0 in 3.2796432971954346 seconds\n"
     ]
    },
    {
     "name": "stderr",
     "output_type": "stream",
     "text": [
      "  0%|          | 3/749 [01:15<4:15:38, 20.56s/it]"
     ]
    },
    {
     "name": "stdout",
     "output_type": "stream",
     "text": [
      "Rescaling done in 14.562133312225342 seconds. Image shape is (2575, 636, 3)\n",
      "Done 00c058_0 in 14.676290273666382 seconds\n",
      "Rescaling done in 52.18670845031738 seconds. Image shape is (1106, 2326, 3)\n",
      "Bad image 01adc5_0 crop_thr 0.6 only 1\n"
     ]
    },
    {
     "name": "stderr",
     "output_type": "stream",
     "text": [
      "  1%|          | 4/749 [02:07<6:51:49, 33.17s/it]"
     ]
    },
    {
     "name": "stdout",
     "output_type": "stream",
     "text": [
      "Done 01adc5_0 in 52.491732358932495 seconds\n"
     ]
    },
    {
     "name": "stderr",
     "output_type": "stream",
     "text": [
      "  1%|          | 5/749 [02:09<4:31:45, 21.92s/it]"
     ]
    },
    {
     "name": "stdout",
     "output_type": "stream",
     "text": [
      "Rescaling done in 1.9480726718902588 seconds. Image shape is (344, 439, 3)\n",
      "Bad image 026c97_0 crop_thr 0.6 only 2\n",
      "Done 026c97_0 in 1.965111255645752 seconds\n",
      "Rescaling done in 78.22072196006775 seconds. Image shape is (3571, 1366, 3)\n"
     ]
    },
    {
     "name": "stderr",
     "output_type": "stream",
     "text": [
      "  1%|          | 6/749 [03:28<8:30:49, 41.25s/it]"
     ]
    },
    {
     "name": "stdout",
     "output_type": "stream",
     "text": [
      "Done 028989_0 in 78.78149390220642 seconds\n"
     ]
    },
    {
     "name": "stderr",
     "output_type": "stream",
     "text": [
      "  1%|          | 7/749 [03:55<7:30:53, 36.46s/it]"
     ]
    },
    {
     "name": "stdout",
     "output_type": "stream",
     "text": [
      "Rescaling done in 26.47897982597351 seconds. Image shape is (1419, 1376, 3)\n",
      "Done 029c68_0 in 26.597402334213257 seconds\n"
     ]
    },
    {
     "name": "stderr",
     "output_type": "stream",
     "text": [
      "  1%|          | 8/749 [03:58<5:18:50, 25.82s/it]"
     ]
    },
    {
     "name": "stdout",
     "output_type": "stream",
     "text": [
      "Rescaling done in 2.9929287433624268 seconds. Image shape is (1194, 275, 3)\n",
      "Bad image 032f10_0 crop_thr 0.6 only 2\n",
      "Done 032f10_0 in 3.0249783992767334 seconds\n"
     ]
    },
    {
     "name": "stderr",
     "output_type": "stream",
     "text": [
      "  1%|          | 9/749 [03:59<3:45:56, 18.32s/it]"
     ]
    },
    {
     "name": "stdout",
     "output_type": "stream",
     "text": [
      "Rescaling done in 1.7734944820404053 seconds. Image shape is (1047, 202, 3)\n",
      "Bad image 0372b0_0 crop_thr 0.6 only 0\n",
      "Bad image 0372b0_0 crop_thr 0.5 only 0\n",
      "Bad image 0372b0_0 crop_thr 0.4 only 0\n",
      "Bad image 0372b0_0 crop_thr 0.30000000000000004 only 0\n",
      "Bad image 0372b0_0 crop_thr 0.20000000000000007 only 0\n",
      "Bad image 0372b0_0 crop_thr 0.10000000000000009 only 0\n",
      "Bad image 0372b0_0 crop_thr 1.1102230246251565e-16 only 0\n",
      "No crops was found\n",
      "Done 0372b0_0 in 1.8323042392730713 seconds\n"
     ]
    },
    {
     "name": "stderr",
     "output_type": "stream",
     "text": [
      "  1%|▏         | 10/749 [04:39<5:05:10, 24.78s/it]"
     ]
    },
    {
     "name": "stdout",
     "output_type": "stream",
     "text": [
      "Rescaling done in 39.05102753639221 seconds. Image shape is (2957, 1139, 3)\n",
      "Done 037300_0 in 39.23606514930725 seconds\n"
     ]
    },
    {
     "name": "stderr",
     "output_type": "stream",
     "text": [
      "  1%|▏         | 11/749 [04:52<4:21:42, 21.28s/it]"
     ]
    },
    {
     "name": "stdout",
     "output_type": "stream",
     "text": [
      "Rescaling done in 13.263537168502808 seconds. Image shape is (1268, 964, 3)\n",
      "Done 03d1ec_0 in 13.33994722366333 seconds\n"
     ]
    },
    {
     "name": "stderr",
     "output_type": "stream",
     "text": [
      "  2%|▏         | 12/749 [04:57<3:20:53, 16.36s/it]"
     ]
    },
    {
     "name": "stdout",
     "output_type": "stream",
     "text": [
      "Rescaling done in 5.0370848178863525 seconds. Image shape is (1262, 460, 3)\n",
      "Bad image 03e6b7_0 crop_thr 0.6 only 2\n",
      "Done 03e6b7_0 in 5.095670938491821 seconds\n",
      "Rescaling done in 76.0216543674469 seconds. Image shape is (4920, 1273, 3)\n"
     ]
    },
    {
     "name": "stderr",
     "output_type": "stream",
     "text": [
      "  2%|▏         | 13/749 [06:14<7:03:58, 34.56s/it]"
     ]
    },
    {
     "name": "stdout",
     "output_type": "stream",
     "text": [
      "Done 0415c3_0 in 76.45988273620605 seconds\n"
     ]
    },
    {
     "name": "stderr",
     "output_type": "stream",
     "text": [
      "  2%|▏         | 14/749 [06:23<5:31:57, 27.10s/it]"
     ]
    },
    {
     "name": "stdout",
     "output_type": "stream",
     "text": [
      "Rescaling done in 9.790979862213135 seconds. Image shape is (1461, 687, 3)\n",
      "Done 04439c_0 in 9.849229097366333 seconds\n"
     ]
    },
    {
     "name": "stderr",
     "output_type": "stream",
     "text": [
      "  2%|▏         | 15/749 [06:33<4:27:52, 21.90s/it]"
     ]
    },
    {
     "name": "stdout",
     "output_type": "stream",
     "text": [
      "Rescaling done in 9.73675537109375 seconds. Image shape is (1461, 687, 3)\n",
      "Bad image 045eb0_0 crop_thr 0.6 only 2\n",
      "Done 045eb0_0 in 9.842723608016968 seconds\n",
      "Rescaling done in 20.072346210479736 seconds. Image shape is (1998, 960, 3)\n",
      "Bad image 0468a8_0 crop_thr 0.6 only 0\n"
     ]
    },
    {
     "name": "stderr",
     "output_type": "stream",
     "text": [
      "  2%|▏         | 16/749 [06:54<4:21:35, 21.41s/it]"
     ]
    },
    {
     "name": "stdout",
     "output_type": "stream",
     "text": [
      "Done 0468a8_0 in 20.284595251083374 seconds\n"
     ]
    },
    {
     "name": "stderr",
     "output_type": "stream",
     "text": [
      "  2%|▏         | 17/749 [07:33<5:26:10, 26.74s/it]"
     ]
    },
    {
     "name": "stdout",
     "output_type": "stream",
     "text": [
      "Rescaling done in 38.924275398254395 seconds. Image shape is (1688, 1467, 3)\n",
      "Done 0468a8_1 in 39.1143479347229 seconds\n"
     ]
    },
    {
     "name": "stderr",
     "output_type": "stream",
     "text": [
      "  2%|▏         | 18/749 [07:47<4:41:52, 23.14s/it]"
     ]
    },
    {
     "name": "stdout",
     "output_type": "stream",
     "text": [
      "Rescaling done in 14.680865049362183 seconds. Image shape is (1113, 1102, 3)\n",
      "Done 049194_0 in 14.754791259765625 seconds\n",
      "Rescaling done in 19.643306016921997 seconds. Image shape is (2113, 960, 3)\n",
      "Bad image 049194_1 crop_thr 0.6 only 0\n"
     ]
    },
    {
     "name": "stderr",
     "output_type": "stream",
     "text": [
      "  3%|▎         | 19/749 [08:07<4:29:34, 22.16s/it]"
     ]
    },
    {
     "name": "stdout",
     "output_type": "stream",
     "text": [
      "Done 049194_1 in 19.87296223640442 seconds\n"
     ]
    },
    {
     "name": "stderr",
     "output_type": "stream",
     "text": [
      "  3%|▎         | 20/749 [08:18<3:47:59, 18.76s/it]"
     ]
    },
    {
     "name": "stdout",
     "output_type": "stream",
     "text": [
      "Rescaling done in 10.775283813476562 seconds. Image shape is (1614, 686, 3)\n",
      "Done 04f7a4_0 in 10.857975482940674 seconds\n"
     ]
    },
    {
     "name": "stderr",
     "output_type": "stream",
     "text": [
      "  3%|▎         | 21/749 [08:30<3:22:20, 16.68s/it]"
     ]
    },
    {
     "name": "stdout",
     "output_type": "stream",
     "text": [
      "Rescaling done in 11.73162293434143 seconds. Image shape is (1806, 685, 3)\n",
      "Done 055f6a_0 in 11.807228565216064 seconds\n"
     ]
    },
    {
     "name": "stderr",
     "output_type": "stream",
     "text": [
      "  3%|▎         | 22/749 [08:46<3:19:47, 16.49s/it]"
     ]
    },
    {
     "name": "stdout",
     "output_type": "stream",
     "text": [
      "Rescaling done in 15.960870504379272 seconds. Image shape is (1460, 916, 3)\n",
      "Done 05a1ec_0 in 16.049735069274902 seconds\n"
     ]
    },
    {
     "name": "stderr",
     "output_type": "stream",
     "text": [
      "  3%|▎         | 23/749 [09:17<4:12:29, 20.87s/it]"
     ]
    },
    {
     "name": "stdout",
     "output_type": "stream",
     "text": [
      "Rescaling done in 30.910421133041382 seconds. Image shape is (2958, 909, 3)\n",
      "Done 062387_0 in 31.078402757644653 seconds\n"
     ]
    },
    {
     "name": "stderr",
     "output_type": "stream",
     "text": [
      "  3%|▎         | 24/749 [09:23<3:18:27, 16.42s/it]"
     ]
    },
    {
     "name": "stdout",
     "output_type": "stream",
     "text": [
      "Rescaling done in 6.00845193862915 seconds. Image shape is (808, 598, 3)\n",
      "Done 070fe0_0 in 6.056312322616577 seconds\n"
     ]
    },
    {
     "name": "stderr",
     "output_type": "stream",
     "text": [
      "  3%|▎         | 25/749 [09:27<2:32:35, 12.65s/it]"
     ]
    },
    {
     "name": "stdout",
     "output_type": "stream",
     "text": [
      "Rescaling done in 3.7977070808410645 seconds. Image shape is (655, 507, 3)\n",
      "Done 08d3d8_0 in 3.8298749923706055 seconds\n"
     ]
    },
    {
     "name": "stderr",
     "output_type": "stream",
     "text": [
      "  3%|▎         | 26/749 [09:39<2:30:49, 12.52s/it]"
     ]
    },
    {
     "name": "stdout",
     "output_type": "stream",
     "text": [
      "Rescaling done in 12.130492210388184 seconds. Image shape is (1845, 639, 3)\n",
      "Done 09644e_0 in 12.21652102470398 seconds\n"
     ]
    },
    {
     "name": "stderr",
     "output_type": "stream",
     "text": [
      "  4%|▎         | 27/749 [09:54<2:37:49, 13.12s/it]"
     ]
    },
    {
     "name": "stdout",
     "output_type": "stream",
     "text": [
      "Rescaling done in 14.421555995941162 seconds. Image shape is (1729, 778, 3)\n",
      "Done 09644e_1 in 14.50973629951477 seconds\n"
     ]
    },
    {
     "name": "stderr",
     "output_type": "stream",
     "text": [
      "  4%|▎         | 28/749 [10:04<2:26:56, 12.23s/it]"
     ]
    },
    {
     "name": "stdout",
     "output_type": "stream",
     "text": [
      "Rescaling done in 10.101629972457886 seconds. Image shape is (1268, 779, 3)\n",
      "Done 09644e_2 in 10.154579162597656 seconds\n"
     ]
    },
    {
     "name": "stderr",
     "output_type": "stream",
     "text": [
      "  4%|▍         | 29/749 [10:25<2:59:36, 14.97s/it]"
     ]
    },
    {
     "name": "stdout",
     "output_type": "stream",
     "text": [
      "Rescaling done in 21.241493701934814 seconds. Image shape is (1805, 915, 3)\n",
      "Done 09644e_3 in 21.357338905334473 seconds\n"
     ]
    },
    {
     "name": "stderr",
     "output_type": "stream",
     "text": [
      "  4%|▍         | 30/749 [10:30<2:21:18, 11.79s/it]"
     ]
    },
    {
     "name": "stdout",
     "output_type": "stream",
     "text": [
      "Rescaling done in 4.35190224647522 seconds. Image shape is (1155, 413, 3)\n",
      "Done 09644e_4 in 4.377909421920776 seconds\n"
     ]
    },
    {
     "name": "stderr",
     "output_type": "stream",
     "text": [
      "  4%|▍         | 31/749 [10:37<2:06:58, 10.61s/it]"
     ]
    },
    {
     "name": "stdout",
     "output_type": "stream",
     "text": [
      "Rescaling done in 7.81245493888855 seconds. Image shape is (692, 874, 3)\n",
      "Done 098f15_0 in 7.855893135070801 seconds\n"
     ]
    },
    {
     "name": "stderr",
     "output_type": "stream",
     "text": [
      "  4%|▍         | 32/749 [10:57<2:38:29, 13.26s/it]"
     ]
    },
    {
     "name": "stdout",
     "output_type": "stream",
     "text": [
      "Rescaling done in 19.344112873077393 seconds. Image shape is (1613, 1053, 3)\n",
      "Done 0a3ad1_0 in 19.449874877929688 seconds\n",
      "Rescaling done in 87.75544619560242 seconds. Image shape is (2224, 1970, 3)\n"
     ]
    },
    {
     "name": "stderr",
     "output_type": "stream",
     "text": [
      "  4%|▍         | 33/749 [12:25<7:06:01, 35.70s/it]"
     ]
    },
    {
     "name": "stdout",
     "output_type": "stream",
     "text": [
      "Done 0a47c9_0 in 88.05190443992615 seconds\n"
     ]
    },
    {
     "name": "stderr",
     "output_type": "stream",
     "text": [
      "  5%|▍         | 34/749 [12:37<5:40:22, 28.56s/it]"
     ]
    },
    {
     "name": "stdout",
     "output_type": "stream",
     "text": [
      "Rescaling done in 11.803989887237549 seconds. Image shape is (1037, 1103, 3)\n",
      "Bad image 0aaeb3_0 crop_thr 0.6 only 0\n",
      "Done 0aaeb3_0 in 11.907914400100708 seconds\n"
     ]
    },
    {
     "name": "stderr",
     "output_type": "stream",
     "text": [
      "  5%|▍         | 35/749 [12:40<4:07:30, 20.80s/it]"
     ]
    },
    {
     "name": "stdout",
     "output_type": "stream",
     "text": [
      "Rescaling done in 2.6417489051818848 seconds. Image shape is (977, 304, 3)\n",
      "Bad image 0aff58_0 crop_thr 0.6 only 0\n",
      "Bad image 0aff58_0 crop_thr 0.5 only 0\n",
      "Done 0aff58_0 in 2.683156728744507 seconds\n"
     ]
    },
    {
     "name": "stderr",
     "output_type": "stream",
     "text": [
      "  5%|▍         | 36/749 [12:47<3:21:07, 16.93s/it]"
     ]
    },
    {
     "name": "stdout",
     "output_type": "stream",
     "text": [
      "Rescaling done in 7.841418027877808 seconds. Image shape is (1423, 596, 3)\n",
      "Done 0b25f8_0 in 7.884744167327881 seconds\n"
     ]
    },
    {
     "name": "stderr",
     "output_type": "stream",
     "text": [
      "  5%|▍         | 37/749 [13:06<3:25:34, 17.32s/it]"
     ]
    },
    {
     "name": "stdout",
     "output_type": "stream",
     "text": [
      "Rescaling done in 18.173007488250732 seconds. Image shape is (1152, 1102, 3)\n",
      "Done 0b7871_0 in 18.252604722976685 seconds\n"
     ]
    },
    {
     "name": "stderr",
     "output_type": "stream",
     "text": [
      "  5%|▌         | 38/749 [13:26<3:34:10, 18.07s/it]"
     ]
    },
    {
     "name": "stdout",
     "output_type": "stream",
     "text": [
      "Rescaling done in 19.730880737304688 seconds. Image shape is (1383, 1055, 3)\n",
      "Done 0b7871_1 in 19.823852062225342 seconds\n"
     ]
    },
    {
     "name": "stderr",
     "output_type": "stream",
     "text": [
      "  5%|▌         | 39/749 [13:29<2:40:36, 13.57s/it]"
     ]
    },
    {
     "name": "stdout",
     "output_type": "stream",
     "text": [
      "Rescaling done in 3.0253500938415527 seconds. Image shape is (425, 463, 3)\n",
      "Done 0b7cc8_0 in 3.065037727355957 seconds\n",
      "Rescaling done in 41.02382302284241 seconds. Image shape is (3380, 1046, 3)\n"
     ]
    },
    {
     "name": "stderr",
     "output_type": "stream",
     "text": [
      "  5%|▌         | 40/749 [14:10<4:18:29, 21.88s/it]"
     ]
    },
    {
     "name": "stdout",
     "output_type": "stream",
     "text": [
      "Done 0ba49d_0 in 41.248061180114746 seconds\n"
     ]
    },
    {
     "name": "stderr",
     "output_type": "stream",
     "text": [
      "  5%|▌         | 41/749 [14:19<3:32:52, 18.04s/it]"
     ]
    },
    {
     "name": "stdout",
     "output_type": "stream",
     "text": [
      "Rescaling done in 9.027720928192139 seconds. Image shape is (1423, 596, 3)\n",
      "Done 0bd414_0 in 9.090240001678467 seconds\n",
      "Rescaling done in 113.78771424293518 seconds. Image shape is (1056, 3573, 3)\n"
     ]
    },
    {
     "name": "stderr",
     "output_type": "stream",
     "text": [
      "  6%|▌         | 42/749 [16:13<9:11:57, 46.84s/it]"
     ]
    },
    {
     "name": "stdout",
     "output_type": "stream",
     "text": [
      "Done 0bddf9_0 in 114.04607653617859 seconds\n"
     ]
    },
    {
     "name": "stderr",
     "output_type": "stream",
     "text": [
      "  6%|▌         | 43/749 [16:27<7:15:58, 37.05s/it]"
     ]
    },
    {
     "name": "stdout",
     "output_type": "stream",
     "text": [
      "Rescaling done in 14.069256067276001 seconds. Image shape is (1613, 916, 3)\n",
      "Bad image 0c60b8_0 crop_thr 0.6 only 0\n",
      "Done 0c60b8_0 in 14.205904006958008 seconds\n"
     ]
    },
    {
     "name": "stderr",
     "output_type": "stream",
     "text": [
      "  6%|▌         | 44/749 [16:29<5:12:07, 26.56s/it]"
     ]
    },
    {
     "name": "stdout",
     "output_type": "stream",
     "text": [
      "Rescaling done in 2.0752124786376953 seconds. Image shape is (502, 370, 3)\n",
      "Done 0cc0bc_0 in 2.0883021354675293 seconds\n"
     ]
    },
    {
     "name": "stderr",
     "output_type": "stream",
     "text": [
      "  6%|▌         | 45/749 [17:19<6:32:48, 33.48s/it]"
     ]
    },
    {
     "name": "stdout",
     "output_type": "stream",
     "text": [
      "Rescaling done in 49.450040102005005 seconds. Image shape is (1687, 1651, 3)\n",
      "Done 0d4164_0 in 49.60937213897705 seconds\n"
     ]
    },
    {
     "name": "stderr",
     "output_type": "stream",
     "text": [
      "  6%|▌         | 46/749 [18:18<8:02:42, 41.20s/it]"
     ]
    },
    {
     "name": "stdout",
     "output_type": "stream",
     "text": [
      "Rescaling done in 59.08014893531799 seconds. Image shape is (1120, 2243, 3)\n",
      "Done 0d533f_0 in 59.21174120903015 seconds\n"
     ]
    },
    {
     "name": "stderr",
     "output_type": "stream",
     "text": [
      "  6%|▋         | 47/749 [18:45<7:12:50, 36.99s/it]"
     ]
    },
    {
     "name": "stdout",
     "output_type": "stream",
     "text": [
      "Rescaling done in 27.080876350402832 seconds. Image shape is (510, 2160, 3)\n",
      "Bad image 0d718a_0 crop_thr 0.6 only 0\n",
      "Done 0d718a_0 in 27.18446373939514 seconds\n",
      "Rescaling done in 96.52894854545593 seconds. Image shape is (1391, 2492, 3)\n"
     ]
    },
    {
     "name": "stderr",
     "output_type": "stream",
     "text": [
      "  6%|▋         | 48/749 [20:22<10:41:40, 54.92s/it]"
     ]
    },
    {
     "name": "stdout",
     "output_type": "stream",
     "text": [
      "Done 0d93ce_0 in 96.75124835968018 seconds\n",
      "Rescaling done in 11.436371564865112 seconds. Image shape is (1499, 779, 3)\n",
      "Bad image 0df5f8_0 crop_thr 0.6 only 0\n",
      "Bad image 0df5f8_0 crop_thr 0.5 only 0\n",
      "Bad image 0df5f8_0 crop_thr 0.4 only 2\n"
     ]
    },
    {
     "name": "stderr",
     "output_type": "stream",
     "text": [
      "  7%|▋         | 49/749 [20:34<8:09:25, 41.95s/it] "
     ]
    },
    {
     "name": "stdout",
     "output_type": "stream",
     "text": [
      "Done 0df5f8_0 in 11.680556058883667 seconds\n",
      "Rescaling done in 166.42397117614746 seconds. Image shape is (1607, 3074, 3)\n"
     ]
    },
    {
     "name": "stderr",
     "output_type": "stream",
     "text": [
      "  7%|▋         | 50/749 [23:20<15:24:46, 79.38s/it]"
     ]
    },
    {
     "name": "stdout",
     "output_type": "stream",
     "text": [
      "Done 0e4dac_0 in 166.71564531326294 seconds\n"
     ]
    },
    {
     "name": "stderr",
     "output_type": "stream",
     "text": [
      "  7%|▋         | 51/749 [23:32<11:27:35, 59.11s/it]"
     ]
    },
    {
     "name": "stdout",
     "output_type": "stream",
     "text": [
      "Rescaling done in 11.726041793823242 seconds. Image shape is (1500, 642, 3)\n",
      "Done 0e696a_0 in 11.795692920684814 seconds\n"
     ]
    },
    {
     "name": "stderr",
     "output_type": "stream",
     "text": [
      "  7%|▋         | 52/749 [23:37<8:18:41, 42.93s/it] "
     ]
    },
    {
     "name": "stdout",
     "output_type": "stream",
     "text": [
      "Rescaling done in 5.032320261001587 seconds. Image shape is (923, 644, 3)\n",
      "Bad image 0e696a_1 crop_thr 0.6 only 0\n",
      "Bad image 0e696a_1 crop_thr 0.5 only 0\n",
      "Bad image 0e696a_1 crop_thr 0.4 only 0\n",
      "Bad image 0e696a_1 crop_thr 0.30000000000000004 only 3\n",
      "Done 0e696a_1 in 5.184209108352661 seconds\n"
     ]
    },
    {
     "name": "stderr",
     "output_type": "stream",
     "text": [
      "  7%|▋         | 53/749 [23:39<5:54:37, 30.57s/it]"
     ]
    },
    {
     "name": "stdout",
     "output_type": "stream",
     "text": [
      "Rescaling done in 1.676924467086792 seconds. Image shape is (798, 262, 3)\n",
      "Bad image 0ed87f_0 crop_thr 0.6 only 0\n",
      "Bad image 0ed87f_0 crop_thr 0.5 only 0\n",
      "Bad image 0ed87f_0 crop_thr 0.4 only 0\n",
      "Bad image 0ed87f_0 crop_thr 0.30000000000000004 only 0\n",
      "Bad image 0ed87f_0 crop_thr 0.20000000000000007 only 2\n",
      "Done 0ed87f_0 in 1.7330420017242432 seconds\n"
     ]
    },
    {
     "name": "stderr",
     "output_type": "stream",
     "text": [
      "  7%|▋         | 54/749 [23:44<4:23:39, 22.76s/it]"
     ]
    },
    {
     "name": "stdout",
     "output_type": "stream",
     "text": [
      "Rescaling done in 4.410296678543091 seconds. Image shape is (1039, 505, 3)\n",
      "Bad image 0ed87f_1 crop_thr 0.6 only 0\n",
      "Bad image 0ed87f_1 crop_thr 0.5 only 0\n",
      "Bad image 0ed87f_1 crop_thr 0.4 only 0\n",
      "Bad image 0ed87f_1 crop_thr 0.30000000000000004 only 2\n",
      "Done 0ed87f_1 in 4.540105104446411 seconds\n"
     ]
    },
    {
     "name": "stderr",
     "output_type": "stream",
     "text": [
      "  7%|▋         | 55/749 [23:58<3:54:28, 20.27s/it]"
     ]
    },
    {
     "name": "stdout",
     "output_type": "stream",
     "text": [
      "Rescaling done in 14.373919486999512 seconds. Image shape is (1576, 825, 3)\n",
      "Done 0ee750_0 in 14.45689082145691 seconds\n"
     ]
    },
    {
     "name": "stderr",
     "output_type": "stream",
     "text": [
      "  7%|▋         | 56/749 [24:07<3:13:51, 16.78s/it]"
     ]
    },
    {
     "name": "stdout",
     "output_type": "stream",
     "text": [
      "Rescaling done in 8.603415250778198 seconds. Image shape is (1346, 688, 3)\n",
      "Done 0ee750_1 in 8.6482834815979 seconds\n"
     ]
    },
    {
     "name": "stderr",
     "output_type": "stream",
     "text": [
      "  8%|▊         | 57/749 [24:21<3:06:05, 16.14s/it]"
     ]
    },
    {
     "name": "stdout",
     "output_type": "stream",
     "text": [
      "Rescaling done in 14.528010845184326 seconds. Image shape is (2191, 638, 3)\n",
      "Done 0f2961_0 in 14.617318630218506 seconds\n"
     ]
    },
    {
     "name": "stderr",
     "output_type": "stream",
     "text": [
      "  8%|▊         | 58/749 [25:03<4:32:18, 23.64s/it]"
     ]
    },
    {
     "name": "stdout",
     "output_type": "stream",
     "text": [
      "Rescaling done in 41.00443387031555 seconds. Image shape is (1533, 1651, 3)\n",
      "Done 0fcfe9_0 in 41.162612438201904 seconds\n"
     ]
    },
    {
     "name": "stderr",
     "output_type": "stream",
     "text": [
      "  8%|▊         | 59/749 [25:15<3:52:55, 20.25s/it]"
     ]
    },
    {
     "name": "stdout",
     "output_type": "stream",
     "text": [
      "Rescaling done in 12.241998195648193 seconds. Image shape is (1614, 778, 3)\n",
      "Done 0ff6fc_0 in 12.341135501861572 seconds\n",
      "Rescaling done in 6.607283592224121 seconds. Image shape is (1898, 531, 3)\n",
      "Bad image 0ff890_0 crop_thr 0.6 only 0\n",
      "Bad image 0ff890_0 crop_thr 0.5 only 0\n",
      "Bad image 0ff890_0 crop_thr 0.4 only 0\n",
      "Bad image 0ff890_0 crop_thr 0.30000000000000004 only 0\n"
     ]
    },
    {
     "name": "stderr",
     "output_type": "stream",
     "text": [
      "  8%|▊         | 60/749 [25:22<3:06:49, 16.27s/it]"
     ]
    },
    {
     "name": "stdout",
     "output_type": "stream",
     "text": [
      "Bad image 0ff890_0 crop_thr 0.20000000000000007 only 0\n",
      "Bad image 0ff890_0 crop_thr 0.10000000000000009 only 0\n",
      "Done 0ff890_0 in 6.969460487365723 seconds\n"
     ]
    },
    {
     "name": "stderr",
     "output_type": "stream",
     "text": [
      "  8%|▊         | 61/749 [25:34<2:52:41, 15.06s/it]"
     ]
    },
    {
     "name": "stdout",
     "output_type": "stream",
     "text": [
      "Rescaling done in 12.189690589904785 seconds. Image shape is (883, 1149, 3)\n",
      "Done 112b6e_0 in 12.239503622055054 seconds\n"
     ]
    },
    {
     "name": "stderr",
     "output_type": "stream",
     "text": [
      "  8%|▊         | 62/749 [26:05<3:47:22, 19.86s/it]"
     ]
    },
    {
     "name": "stdout",
     "output_type": "stream",
     "text": [
      "Rescaling done in 30.905805826187134 seconds. Image shape is (2074, 1097, 3)\n",
      "Done 112b6e_1 in 31.052131175994873 seconds\n",
      "Rescaling done in 9.339547872543335 seconds. Image shape is (2822, 503, 3)\n",
      "Bad image 113bb3_0 crop_thr 0.6 only 0\n",
      "Bad image 113bb3_0 crop_thr 0.5 only 0\n",
      "Bad image 113bb3_0 crop_thr 0.4 only 0\n"
     ]
    },
    {
     "name": "stderr",
     "output_type": "stream",
     "text": [
      "  8%|▊         | 63/749 [26:15<3:12:20, 16.82s/it]"
     ]
    },
    {
     "name": "stdout",
     "output_type": "stream",
     "text": [
      "Bad image 113bb3_0 crop_thr 0.30000000000000004 only 0\n",
      "Bad image 113bb3_0 crop_thr 0.20000000000000007 only 0\n",
      "Done 113bb3_0 in 9.73728609085083 seconds\n"
     ]
    },
    {
     "name": "stderr",
     "output_type": "stream",
     "text": [
      "  9%|▊         | 64/749 [26:21<2:34:17, 13.51s/it]"
     ]
    },
    {
     "name": "stdout",
     "output_type": "stream",
     "text": [
      "Rescaling done in 5.751983404159546 seconds. Image shape is (886, 506, 3)\n",
      "Done 129102_0 in 5.792692184448242 seconds\n"
     ]
    },
    {
     "name": "stderr",
     "output_type": "stream",
     "text": [
      "  9%|▊         | 65/749 [26:27<2:07:40, 11.20s/it]"
     ]
    },
    {
     "name": "stdout",
     "output_type": "stream",
     "text": [
      "Rescaling done in 5.765610218048096 seconds. Image shape is (1347, 412, 3)\n",
      "Done 1295bb_0 in 5.797518491744995 seconds\n"
     ]
    },
    {
     "name": "stderr",
     "output_type": "stream",
     "text": [
      "  9%|▉         | 66/749 [26:36<2:02:53, 10.80s/it]"
     ]
    },
    {
     "name": "stdout",
     "output_type": "stream",
     "text": [
      "Rescaling done in 9.802151918411255 seconds. Image shape is (1279, 765, 3)\n",
      "Done 12c8c9_0 in 9.852924346923828 seconds\n",
      "Rescaling done in 191.29968643188477 seconds. Image shape is (1431, 3739, 3)\n"
     ]
    },
    {
     "name": "stderr",
     "output_type": "stream",
     "text": [
      "  9%|▉         | 67/749 [29:48<12:19:21, 65.05s/it]"
     ]
    },
    {
     "name": "stdout",
     "output_type": "stream",
     "text": [
      "Done 13f372_0 in 191.6270294189453 seconds\n"
     ]
    },
    {
     "name": "stderr",
     "output_type": "stream",
     "text": [
      "  9%|▉         | 68/749 [29:57<9:06:37, 48.16s/it] "
     ]
    },
    {
     "name": "stdout",
     "output_type": "stream",
     "text": [
      "Rescaling done in 8.703562259674072 seconds. Image shape is (2692, 360, 3)\n",
      "Done 140d1a_0 in 8.761385440826416 seconds\n"
     ]
    },
    {
     "name": "stderr",
     "output_type": "stream",
     "text": [
      "  9%|▉         | 69/749 [30:12<7:14:20, 38.32s/it]"
     ]
    },
    {
     "name": "stdout",
     "output_type": "stream",
     "text": [
      "Rescaling done in 15.292105674743652 seconds. Image shape is (1575, 824, 3)\n",
      "Done 14d2fa_0 in 15.372716903686523 seconds\n"
     ]
    },
    {
     "name": "stderr",
     "output_type": "stream",
     "text": [
      "  9%|▉         | 70/749 [30:15<5:12:44, 27.64s/it]"
     ]
    },
    {
     "name": "stdout",
     "output_type": "stream",
     "text": [
      "Rescaling done in 2.6664531230926514 seconds. Image shape is (386, 554, 3)\n",
      "Bad image 15aab4_0 crop_thr 0.6 only 2\n",
      "Done 15aab4_0 in 2.692858934402466 seconds\n"
     ]
    },
    {
     "name": "stderr",
     "output_type": "stream",
     "text": [
      "  9%|▉         | 71/749 [30:34<4:44:41, 25.19s/it]"
     ]
    },
    {
     "name": "stdout",
     "output_type": "stream",
     "text": [
      "Rescaling done in 19.309874057769775 seconds. Image shape is (1036, 1240, 3)\n",
      "Done 15de51_0 in 19.494211435317993 seconds\n",
      "Rescaling done in 25.89799213409424 seconds. Image shape is (2228, 959, 3)\n",
      "Bad image 162cad_0 crop_thr 0.6 only 0\n"
     ]
    },
    {
     "name": "stderr",
     "output_type": "stream",
     "text": [
      " 10%|▉         | 72/749 [31:01<4:47:40, 25.50s/it]"
     ]
    },
    {
     "name": "stdout",
     "output_type": "stream",
     "text": [
      "Done 162cad_0 in 26.196556091308594 seconds\n"
     ]
    },
    {
     "name": "stderr",
     "output_type": "stream",
     "text": [
      " 10%|▉         | 73/749 [31:09<3:50:38, 20.47s/it]"
     ]
    },
    {
     "name": "stdout",
     "output_type": "stream",
     "text": [
      "Rescaling done in 8.692613124847412 seconds. Image shape is (653, 828, 3)\n",
      "Done 1764ff_0 in 8.74571180343628 seconds\n"
     ]
    },
    {
     "name": "stderr",
     "output_type": "stream",
     "text": [
      " 10%|▉         | 74/749 [31:15<3:01:30, 16.13s/it]"
     ]
    },
    {
     "name": "stdout",
     "output_type": "stream",
     "text": [
      "Rescaling done in 5.963867664337158 seconds. Image shape is (1270, 504, 3)\n",
      "Done 194e3f_0 in 6.01420259475708 seconds\n"
     ]
    },
    {
     "name": "stderr",
     "output_type": "stream",
     "text": [
      " 10%|█         | 75/749 [31:25<2:39:58, 14.24s/it]"
     ]
    },
    {
     "name": "stdout",
     "output_type": "stream",
     "text": [
      "Rescaling done in 9.751442909240723 seconds. Image shape is (1193, 597, 3)\n",
      "Done 19b036_0 in 9.819780826568604 seconds\n"
     ]
    },
    {
     "name": "stderr",
     "output_type": "stream",
     "text": [
      " 10%|█         | 76/749 [31:43<2:52:07, 15.35s/it]"
     ]
    },
    {
     "name": "stdout",
     "output_type": "stream",
     "text": [
      "Rescaling done in 17.791081428527832 seconds. Image shape is (2421, 774, 3)\n",
      "Done 19b036_1 in 17.92371916770935 seconds\n"
     ]
    },
    {
     "name": "stderr",
     "output_type": "stream",
     "text": [
      " 10%|█         | 77/749 [31:56<2:42:43, 14.53s/it]"
     ]
    },
    {
     "name": "stdout",
     "output_type": "stream",
     "text": [
      "Rescaling done in 12.530713081359863 seconds. Image shape is (2384, 499, 3)\n",
      "Done 19dd95_0 in 12.620957136154175 seconds\n"
     ]
    },
    {
     "name": "stderr",
     "output_type": "stream",
     "text": [
      " 10%|█         | 78/749 [32:15<2:57:16, 15.85s/it]"
     ]
    },
    {
     "name": "stdout",
     "output_type": "stream",
     "text": [
      "Rescaling done in 18.824761867523193 seconds. Image shape is (1536, 1054, 3)\n",
      "Done 1a2e9e_0 in 18.935558557510376 seconds\n"
     ]
    },
    {
     "name": "stderr",
     "output_type": "stream",
     "text": [
      " 11%|█         | 79/749 [32:19<2:18:51, 12.43s/it]"
     ]
    },
    {
     "name": "stdout",
     "output_type": "stream",
     "text": [
      "Rescaling done in 4.4339540004730225 seconds. Image shape is (1039, 413, 3)\n",
      "Done 1b86c5_0 in 4.4614715576171875 seconds\n"
     ]
    },
    {
     "name": "stderr",
     "output_type": "stream",
     "text": [
      " 11%|█         | 80/749 [32:28<2:05:26, 11.25s/it]"
     ]
    },
    {
     "name": "stdout",
     "output_type": "stream",
     "text": [
      "Rescaling done in 8.419534921646118 seconds. Image shape is (1462, 503, 3)\n",
      "Done 1bbcba_0 in 8.485180854797363 seconds\n"
     ]
    },
    {
     "name": "stderr",
     "output_type": "stream",
     "text": [
      " 11%|█         | 81/749 [32:39<2:05:18, 11.25s/it]"
     ]
    },
    {
     "name": "stdout",
     "output_type": "stream",
     "text": [
      "Rescaling done in 11.133240938186646 seconds. Image shape is (999, 919, 3)\n",
      "Bad image 1d0518_0 crop_thr 0.6 only 0\n",
      "Bad image 1d0518_0 crop_thr 0.5 only 0\n",
      "Done 1d0518_0 in 11.263885498046875 seconds\n"
     ]
    },
    {
     "name": "stderr",
     "output_type": "stream",
     "text": [
      " 11%|█         | 82/749 [32:51<2:07:28, 11.47s/it]"
     ]
    },
    {
     "name": "stdout",
     "output_type": "stream",
     "text": [
      "Rescaling done in 11.884993314743042 seconds. Image shape is (1422, 733, 3)\n",
      "Done 1d1bf0_0 in 11.961599826812744 seconds\n"
     ]
    },
    {
     "name": "stderr",
     "output_type": "stream",
     "text": [
      " 11%|█         | 83/749 [32:57<1:50:05,  9.92s/it]"
     ]
    },
    {
     "name": "stdout",
     "output_type": "stream",
     "text": [
      "Rescaling done in 6.140141248703003 seconds. Image shape is (1308, 596, 3)\n",
      "Bad image 1d5335_0 crop_thr 0.6 only 0\n",
      "Bad image 1d5335_0 crop_thr 0.5 only 0\n",
      "Bad image 1d5335_0 crop_thr 0.4 only 1\n",
      "Done 1d5335_0 in 6.30449366569519 seconds\n"
     ]
    },
    {
     "name": "stderr",
     "output_type": "stream",
     "text": [
      " 11%|█         | 84/749 [33:10<2:00:32, 10.88s/it]"
     ]
    },
    {
     "name": "stdout",
     "output_type": "stream",
     "text": [
      "Rescaling done in 13.024935960769653 seconds. Image shape is (1615, 733, 3)\n",
      "Done 1d6d4f_0 in 13.107314348220825 seconds\n"
     ]
    },
    {
     "name": "stderr",
     "output_type": "stream",
     "text": [
      " 11%|█▏        | 85/749 [33:22<2:03:15, 11.14s/it]"
     ]
    },
    {
     "name": "stdout",
     "output_type": "stream",
     "text": [
      "Rescaling done in 11.67214846611023 seconds. Image shape is (1461, 733, 3)\n",
      "Done 1db82d_0 in 11.74776005744934 seconds\n"
     ]
    },
    {
     "name": "stderr",
     "output_type": "stream",
     "text": [
      " 11%|█▏        | 86/749 [33:43<2:36:02, 14.12s/it]"
     ]
    },
    {
     "name": "stdout",
     "output_type": "stream",
     "text": [
      "Rescaling done in 20.913066387176514 seconds. Image shape is (2190, 914, 3)\n",
      "Done 1db82d_1 in 21.084357261657715 seconds\n"
     ]
    },
    {
     "name": "stderr",
     "output_type": "stream",
     "text": [
      " 12%|█▏        | 87/749 [34:03<2:54:32, 15.82s/it]"
     ]
    },
    {
     "name": "stdout",
     "output_type": "stream",
     "text": [
      "Rescaling done in 19.650224924087524 seconds. Image shape is (2228, 866, 3)\n",
      "Done 1ec69e_0 in 19.779126405715942 seconds\n",
      "Rescaling done in 37.045135736465454 seconds. Image shape is (2458, 1096, 3)\n"
     ]
    },
    {
     "name": "stderr",
     "output_type": "stream",
     "text": [
      " 12%|█▏        | 88/749 [34:40<4:05:08, 22.25s/it]"
     ]
    },
    {
     "name": "stdout",
     "output_type": "stream",
     "text": [
      "Done 1ef6da_0 in 37.260966062545776 seconds\n"
     ]
    },
    {
     "name": "stderr",
     "output_type": "stream",
     "text": [
      " 12%|█▏        | 89/749 [34:44<3:04:03, 16.73s/it]"
     ]
    },
    {
     "name": "stdout",
     "output_type": "stream",
     "text": [
      "Rescaling done in 3.763906955718994 seconds. Image shape is (1378, 357, 3)\n",
      "Bad image 1f018f_0 crop_thr 0.6 only 0\n",
      "Bad image 1f018f_0 crop_thr 0.5 only 0\n",
      "Done 1f018f_0 in 3.8503212928771973 seconds\n",
      "Rescaling done in 72.52839684486389 seconds. Image shape is (3609, 1412, 3)\n"
     ]
    },
    {
     "name": "stderr",
     "output_type": "stream",
     "text": [
      " 12%|█▏        | 90/749 [35:57<6:08:40, 33.57s/it]"
     ]
    },
    {
     "name": "stdout",
     "output_type": "stream",
     "text": [
      "Done 1f9d4f_0 in 72.84454226493835 seconds\n"
     ]
    },
    {
     "name": "stderr",
     "output_type": "stream",
     "text": [
      " 12%|█▏        | 91/749 [36:13<5:12:17, 28.48s/it]"
     ]
    },
    {
     "name": "stdout",
     "output_type": "stream",
     "text": [
      "Rescaling done in 16.49285912513733 seconds. Image shape is (1883, 823, 3)\n",
      "Done 1f9d4f_1 in 16.600109815597534 seconds\n"
     ]
    },
    {
     "name": "stderr",
     "output_type": "stream",
     "text": [
      " 12%|█▏        | 92/749 [36:21<4:03:26, 22.23s/it]"
     ]
    },
    {
     "name": "stdout",
     "output_type": "stream",
     "text": [
      "Rescaling done in 7.601053476333618 seconds. Image shape is (1231, 550, 3)\n",
      "Done 1fe0c4_0 in 7.661347150802612 seconds\n"
     ]
    },
    {
     "name": "stderr",
     "output_type": "stream",
     "text": [
      " 12%|█▏        | 93/749 [36:50<4:24:15, 24.17s/it]"
     ]
    },
    {
     "name": "stdout",
     "output_type": "stream",
     "text": [
      "Rescaling done in 28.537167072296143 seconds. Image shape is (2919, 956, 3)\n",
      "Done 1ffc5d_0 in 28.691056489944458 seconds\n",
      "Rescaling done in 51.80985498428345 seconds. Image shape is (1226, 1994, 3)\n",
      "Bad image 205025_0 crop_thr 0.6 only 2\n"
     ]
    },
    {
     "name": "stderr",
     "output_type": "stream",
     "text": [
      " 13%|█▎        | 94/749 [37:42<5:55:16, 32.54s/it]"
     ]
    },
    {
     "name": "stdout",
     "output_type": "stream",
     "text": [
      "Done 205025_0 in 52.07981824874878 seconds\n"
     ]
    },
    {
     "name": "stderr",
     "output_type": "stream",
     "text": [
      " 13%|█▎        | 95/749 [38:07<5:30:55, 30.36s/it]"
     ]
    },
    {
     "name": "stdout",
     "output_type": "stream",
     "text": [
      "Rescaling done in 25.073474168777466 seconds. Image shape is (907, 1579, 3)\n",
      "Bad image 20914b_0 crop_thr 0.6 only 3\n",
      "Done 20914b_0 in 25.263891220092773 seconds\n"
     ]
    },
    {
     "name": "stderr",
     "output_type": "stream",
     "text": [
      " 13%|█▎        | 96/749 [38:11<4:05:17, 22.54s/it]"
     ]
    },
    {
     "name": "stdout",
     "output_type": "stream",
     "text": [
      "Rescaling done in 4.220053195953369 seconds. Image shape is (1039, 460, 3)\n",
      "Bad image 20d5cf_0 crop_thr 0.6 only 0\n",
      "Bad image 20d5cf_0 crop_thr 0.5 only 0\n",
      "Done 20d5cf_0 in 4.287956476211548 seconds\n"
     ]
    },
    {
     "name": "stderr",
     "output_type": "stream",
     "text": [
      " 13%|█▎        | 97/749 [38:23<3:30:44, 19.39s/it]"
     ]
    },
    {
     "name": "stdout",
     "output_type": "stream",
     "text": [
      "Rescaling done in 11.902887344360352 seconds. Image shape is (1384, 779, 3)\n",
      "Bad image 214cfa_0 crop_thr 0.6 only 3\n",
      "Done 214cfa_0 in 12.051896095275879 seconds\n"
     ]
    },
    {
     "name": "stderr",
     "output_type": "stream",
     "text": [
      " 13%|█▎        | 98/749 [39:01<4:29:53, 24.87s/it]"
     ]
    },
    {
     "name": "stdout",
     "output_type": "stream",
     "text": [
      "Rescaling done in 37.46279335021973 seconds. Image shape is (3534, 952, 3)\n",
      "Done 214cfa_1 in 37.660680055618286 seconds\n"
     ]
    },
    {
     "name": "stderr",
     "output_type": "stream",
     "text": [
      " 13%|█▎        | 99/749 [39:11<3:41:15, 20.42s/it]"
     ]
    },
    {
     "name": "stdout",
     "output_type": "stream",
     "text": [
      "Rescaling done in 9.987886905670166 seconds. Image shape is (1115, 780, 3)\n",
      "Done 21726e_0 in 10.03843641281128 seconds\n"
     ]
    },
    {
     "name": "stderr",
     "output_type": "stream",
     "text": [
      " 13%|█▎        | 100/749 [39:20<3:03:44, 16.99s/it]"
     ]
    },
    {
     "name": "stdout",
     "output_type": "stream",
     "text": [
      "Rescaling done in 8.911063194274902 seconds. Image shape is (1846, 501, 3)\n",
      "Done 217b27_0 in 8.964014768600464 seconds\n"
     ]
    },
    {
     "name": "stderr",
     "output_type": "stream",
     "text": [
      " 13%|█▎        | 101/749 [39:26<2:27:37, 13.67s/it]"
     ]
    },
    {
     "name": "stdout",
     "output_type": "stream",
     "text": [
      "Rescaling done in 5.856206178665161 seconds. Image shape is (1270, 551, 3)\n",
      "Bad image 21b106_0 crop_thr 0.6 only 2\n",
      "Done 21b106_0 in 5.927277326583862 seconds\n",
      "Rescaling done in 76.3407633304596 seconds. Image shape is (2456, 1555, 3)\n"
     ]
    },
    {
     "name": "stderr",
     "output_type": "stream",
     "text": [
      " 14%|█▎        | 102/749 [40:43<5:53:27, 32.78s/it]"
     ]
    },
    {
     "name": "stdout",
     "output_type": "stream",
     "text": [
      "Done 2244d2_0 in 77.36499238014221 seconds\n",
      "Rescaling done in 16.73362421989441 seconds. Image shape is (2075, 684, 3)\n",
      "Bad image 2268cf_0 crop_thr 0.6 only 0\n",
      "Bad image 2268cf_0 crop_thr 0.5 only 0\n",
      "Bad image 2268cf_0 crop_thr 0.4 only 0\n"
     ]
    },
    {
     "name": "stderr",
     "output_type": "stream",
     "text": [
      " 14%|█▍        | 103/749 [41:00<5:02:08, 28.06s/it]"
     ]
    },
    {
     "name": "stdout",
     "output_type": "stream",
     "text": [
      "Bad image 2268cf_0 crop_thr 0.30000000000000004 only 0\n",
      "Done 2268cf_0 in 17.058425903320312 seconds\n"
     ]
    },
    {
     "name": "stderr",
     "output_type": "stream",
     "text": [
      " 14%|█▍        | 104/749 [41:34<5:19:59, 29.77s/it]"
     ]
    },
    {
     "name": "stdout",
     "output_type": "stream",
     "text": [
      "Rescaling done in 33.550453186035156 seconds. Image shape is (1457, 1514, 3)\n",
      "Done 2394f6_0 in 33.74041271209717 seconds\n",
      "Rescaling done in 8.672403335571289 seconds. Image shape is (2622, 503, 3)\n",
      "Bad image 23b492_0 crop_thr 0.6 only 0\n",
      "Bad image 23b492_0 crop_thr 0.5 only 0\n",
      "Bad image 23b492_0 crop_thr 0.4 only 0\n",
      "Bad image 23b492_0 crop_thr 0.30000000000000004 only 0\n",
      "Bad image 23b492_0 crop_thr 0.20000000000000007 only 0\n"
     ]
    },
    {
     "name": "stderr",
     "output_type": "stream",
     "text": [
      " 14%|█▍        | 105/749 [41:43<4:13:03, 23.58s/it]"
     ]
    },
    {
     "name": "stdout",
     "output_type": "stream",
     "text": [
      "Done 23b492_0 in 9.135039567947388 seconds\n"
     ]
    },
    {
     "name": "stderr",
     "output_type": "stream",
     "text": [
      " 14%|█▍        | 106/749 [42:00<3:51:56, 21.64s/it]"
     ]
    },
    {
     "name": "stdout",
     "output_type": "stream",
     "text": [
      "Rescaling done in 17.008858680725098 seconds. Image shape is (2075, 730, 3)\n",
      "Done 23d2c1_0 in 17.126349925994873 seconds\n"
     ]
    },
    {
     "name": "stderr",
     "output_type": "stream",
     "text": [
      " 14%|█▍        | 107/749 [42:27<4:06:01, 22.99s/it]"
     ]
    },
    {
     "name": "stdout",
     "output_type": "stream",
     "text": [
      "Rescaling done in 25.995517253875732 seconds. Image shape is (2420, 1004, 3)\n",
      "Done 23d2c1_1 in 26.144959926605225 seconds\n"
     ]
    },
    {
     "name": "stderr",
     "output_type": "stream",
     "text": [
      " 14%|█▍        | 108/749 [42:39<3:30:22, 19.69s/it]"
     ]
    },
    {
     "name": "stdout",
     "output_type": "stream",
     "text": [
      "Rescaling done in 11.902509689331055 seconds. Image shape is (1576, 640, 3)\n",
      "Done 23d2c1_2 in 11.986287355422974 seconds\n"
     ]
    },
    {
     "name": "stderr",
     "output_type": "stream",
     "text": [
      " 15%|█▍        | 109/749 [42:49<3:00:50, 16.95s/it]"
     ]
    },
    {
     "name": "stdout",
     "output_type": "stream",
     "text": [
      "Rescaling done in 10.502105474472046 seconds. Image shape is (1345, 780, 3)\n",
      "Done 2446b8_0 in 10.566033124923706 seconds\n"
     ]
    },
    {
     "name": "stderr",
     "output_type": "stream",
     "text": [
      " 15%|█▍        | 110/749 [42:50<2:09:07, 12.12s/it]"
     ]
    },
    {
     "name": "stdout",
     "output_type": "stream",
     "text": [
      "Rescaling done in 0.8322865962982178 seconds. Image shape is (207, 326, 3)\n",
      "Bad image 244aeb_0 crop_thr 0.6 only 0\n",
      "Bad image 244aeb_0 crop_thr 0.5 only 0\n",
      "Bad image 244aeb_0 crop_thr 0.4 only 0\n",
      "Bad image 244aeb_0 crop_thr 0.30000000000000004 only 0\n",
      "Bad image 244aeb_0 crop_thr 0.20000000000000007 only 0\n",
      "Bad image 244aeb_0 crop_thr 0.10000000000000009 only 0\n",
      "Bad image 244aeb_0 crop_thr 1.1102230246251565e-16 only 0\n",
      "No crops was found\n",
      "Done 244aeb_0 in 0.8514809608459473 seconds\n"
     ]
    },
    {
     "name": "stderr",
     "output_type": "stream",
     "text": [
      " 15%|█▍        | 111/749 [42:51<1:32:55,  8.74s/it]"
     ]
    },
    {
     "name": "stdout",
     "output_type": "stream",
     "text": [
      "Rescaling done in 0.8215432167053223 seconds. Image shape is (225, 273, 3)\n",
      "Bad image 244aeb_1 crop_thr 0.6 only 0\n",
      "Bad image 244aeb_1 crop_thr 0.5 only 0\n",
      "Bad image 244aeb_1 crop_thr 0.4 only 0\n",
      "Bad image 244aeb_1 crop_thr 0.30000000000000004 only 2\n",
      "Bad image 244aeb_1 crop_thr 0.20000000000000007 only 2\n",
      "Bad image 244aeb_1 crop_thr 0.10000000000000009 only 2\n",
      "Bad image 244aeb_1 crop_thr 1.1102230246251565e-16 only 2\n",
      "No crops was found\n",
      "Done 244aeb_1 in 0.8395371437072754 seconds\n"
     ]
    },
    {
     "name": "stderr",
     "output_type": "stream",
     "text": [
      " 15%|█▍        | 112/749 [42:52<1:08:45,  6.48s/it]"
     ]
    },
    {
     "name": "stdout",
     "output_type": "stream",
     "text": [
      "Rescaling done in 1.177781343460083 seconds. Image shape is (218, 287, 3)\n",
      "Bad image 244aeb_2 crop_thr 0.6 only 0\n",
      "Bad image 244aeb_2 crop_thr 0.5 only 0\n",
      "Bad image 244aeb_2 crop_thr 0.4 only 0\n",
      "Bad image 244aeb_2 crop_thr 0.30000000000000004 only 0\n",
      "Bad image 244aeb_2 crop_thr 0.20000000000000007 only 0\n",
      "Bad image 244aeb_2 crop_thr 0.10000000000000009 only 0\n",
      "Bad image 244aeb_2 crop_thr 1.1102230246251565e-16 only 0\n",
      "No crops was found\n",
      "Done 244aeb_2 in 1.1954174041748047 seconds\n",
      "Rescaling done in 116.45152258872986 seconds. Image shape is (1423, 2908, 3)\n"
     ]
    },
    {
     "name": "stderr",
     "output_type": "stream",
     "text": [
      " 15%|█▌        | 113/749 [44:49<6:59:08, 39.54s/it]"
     ]
    },
    {
     "name": "stdout",
     "output_type": "stream",
     "text": [
      "Done 245758_0 in 116.69161009788513 seconds\n"
     ]
    },
    {
     "name": "stderr",
     "output_type": "stream",
     "text": [
      " 15%|█▌        | 114/749 [45:08<5:55:41, 33.61s/it]"
     ]
    },
    {
     "name": "stdout",
     "output_type": "stream",
     "text": [
      "Rescaling done in 19.64914846420288 seconds. Image shape is (1498, 1055, 3)\n",
      "Done 24f8f5_0 in 19.7655611038208 seconds\n"
     ]
    },
    {
     "name": "stderr",
     "output_type": "stream",
     "text": [
      " 15%|█▌        | 115/749 [45:10<4:12:53, 23.93s/it]"
     ]
    },
    {
     "name": "stdout",
     "output_type": "stream",
     "text": [
      "Rescaling done in 1.3283545970916748 seconds. Image shape is (334, 255, 3)\n",
      "Bad image 250944_0 crop_thr 0.6 only 2\n",
      "Bad image 250944_0 crop_thr 0.5 only 2\n",
      "Bad image 250944_0 crop_thr 0.4 only 2\n",
      "Bad image 250944_0 crop_thr 0.30000000000000004 only 2\n",
      "Bad image 250944_0 crop_thr 0.20000000000000007 only 2\n",
      "Bad image 250944_0 crop_thr 0.10000000000000009 only 2\n",
      "Bad image 250944_0 crop_thr 1.1102230246251565e-16 only 2\n",
      "No crops was found\n",
      "Done 250944_0 in 1.3531827926635742 seconds\n"
     ]
    },
    {
     "name": "stderr",
     "output_type": "stream",
     "text": [
      " 15%|█▌        | 116/749 [45:18<3:21:00, 19.05s/it]"
     ]
    },
    {
     "name": "stdout",
     "output_type": "stream",
     "text": [
      "Rescaling done in 7.61725378036499 seconds. Image shape is (2028, 439, 3)\n",
      "Done 251bfc_0 in 7.667816162109375 seconds\n"
     ]
    },
    {
     "name": "stderr",
     "output_type": "stream",
     "text": [
      " 16%|█▌        | 117/749 [45:28<2:54:27, 16.56s/it]"
     ]
    },
    {
     "name": "stdout",
     "output_type": "stream",
     "text": [
      "Rescaling done in 10.63959002494812 seconds. Image shape is (1307, 780, 3)\n",
      "Bad image 251c77_0 crop_thr 0.6 only 0\n",
      "Done 251c77_0 in 10.746192693710327 seconds\n"
     ]
    },
    {
     "name": "stderr",
     "output_type": "stream",
     "text": [
      " 16%|█▌        | 118/749 [45:47<3:01:49, 17.29s/it]"
     ]
    },
    {
     "name": "stdout",
     "output_type": "stream",
     "text": [
      "Rescaling done in 18.891944646835327 seconds. Image shape is (1883, 915, 3)\n",
      "Done 2745fc_0 in 18.984914541244507 seconds\n"
     ]
    },
    {
     "name": "stderr",
     "output_type": "stream",
     "text": [
      " 16%|█▌        | 119/749 [45:50<2:16:33, 13.01s/it]"
     ]
    },
    {
     "name": "stdout",
     "output_type": "stream",
     "text": [
      "Rescaling done in 2.9909543991088867 seconds. Image shape is (463, 508, 3)\n",
      "Done 27afc7_0 in 3.0080175399780273 seconds\n"
     ]
    },
    {
     "name": "stderr",
     "output_type": "stream",
     "text": [
      " 16%|█▌        | 120/749 [45:56<1:54:20, 10.91s/it]"
     ]
    },
    {
     "name": "stdout",
     "output_type": "stream",
     "text": [
      "Rescaling done in 5.816348552703857 seconds. Image shape is (1402, 531, 3)\n",
      "Bad image 280c26_1 crop_thr 0.6 only 0\n",
      "Bad image 280c26_1 crop_thr 0.5 only 0\n",
      "Bad image 280c26_1 crop_thr 0.4 only 0\n",
      "Bad image 280c26_1 crop_thr 0.30000000000000004 only 0\n",
      "Done 280c26_1 in 6.007826089859009 seconds\n"
     ]
    },
    {
     "name": "stderr",
     "output_type": "stream",
     "text": [
      " 16%|█▌        | 121/749 [46:03<1:40:18,  9.58s/it]"
     ]
    },
    {
     "name": "stdout",
     "output_type": "stream",
     "text": [
      "Rescaling done in 6.4554057121276855 seconds. Image shape is (1423, 504, 3)\n",
      "Done 282d0a_0 in 6.493169784545898 seconds\n"
     ]
    },
    {
     "name": "stderr",
     "output_type": "stream",
     "text": [
      " 16%|█▋        | 122/749 [46:11<1:37:08,  9.30s/it]"
     ]
    },
    {
     "name": "stdout",
     "output_type": "stream",
     "text": [
      "Rescaling done in 8.516748189926147 seconds. Image shape is (1461, 642, 3)\n",
      "Bad image 283f35_0 crop_thr 0.6 only 3\n",
      "Done 283f35_0 in 8.626160383224487 seconds\n",
      "Rescaling done in 213.0434923171997 seconds. Image shape is (1329, 4071, 3)\n"
     ]
    },
    {
     "name": "stderr",
     "output_type": "stream",
     "text": [
      " 16%|█▋        | 123/749 [49:45<12:15:56, 70.54s/it]"
     ]
    },
    {
     "name": "stdout",
     "output_type": "stream",
     "text": [
      "Done 288156_0 in 213.43367743492126 seconds\n"
     ]
    },
    {
     "name": "stderr",
     "output_type": "stream",
     "text": [
      " 17%|█▋        | 124/749 [49:55<9:06:37, 52.48s/it] "
     ]
    },
    {
     "name": "stdout",
     "output_type": "stream",
     "text": [
      "Rescaling done in 10.276297330856323 seconds. Image shape is (1384, 687, 3)\n",
      "Done 291099_0 in 10.331945896148682 seconds\n"
     ]
    },
    {
     "name": "stderr",
     "output_type": "stream",
     "text": [
      " 17%|█▋        | 125/749 [50:10<7:07:52, 41.14s/it]"
     ]
    },
    {
     "name": "stdout",
     "output_type": "stream",
     "text": [
      "Rescaling done in 14.602553606033325 seconds. Image shape is (1576, 824, 3)\n",
      "Done 29a4f6_0 in 14.691418170928955 seconds\n"
     ]
    },
    {
     "name": "stderr",
     "output_type": "stream",
     "text": [
      " 17%|█▋        | 126/749 [50:24<5:41:53, 32.93s/it]"
     ]
    },
    {
     "name": "stdout",
     "output_type": "stream",
     "text": [
      "Rescaling done in 13.695402145385742 seconds. Image shape is (1421, 917, 3)\n",
      "Done 29b1b7_0 in 13.759362697601318 seconds\n"
     ]
    },
    {
     "name": "stderr",
     "output_type": "stream",
     "text": [
      " 17%|█▋        | 127/749 [50:29<4:14:48, 24.58s/it]"
     ]
    },
    {
     "name": "stdout",
     "output_type": "stream",
     "text": [
      "Rescaling done in 4.959382772445679 seconds. Image shape is (1000, 597, 3)\n",
      "Bad image 2a25b9_0 crop_thr 0.6 only 0\n",
      "Bad image 2a25b9_0 crop_thr 0.5 only 0\n",
      "Bad image 2a25b9_0 crop_thr 0.4 only 0\n",
      "Bad image 2a25b9_0 crop_thr 0.30000000000000004 only 0\n",
      "Done 2a25b9_0 in 5.0977783203125 seconds\n",
      "Rescaling done in 68.15388250350952 seconds. Image shape is (3225, 1368, 3)\n"
     ]
    },
    {
     "name": "stderr",
     "output_type": "stream",
     "text": [
      " 17%|█▋        | 128/749 [51:37<6:30:29, 37.73s/it]"
     ]
    },
    {
     "name": "stdout",
     "output_type": "stream",
     "text": [
      "Done 2a25cf_0 in 68.41205787658691 seconds\n"
     ]
    },
    {
     "name": "stderr",
     "output_type": "stream",
     "text": [
      " 17%|█▋        | 129/749 [51:38<4:36:57, 26.80s/it]"
     ]
    },
    {
     "name": "stdout",
     "output_type": "stream",
     "text": [
      "Rescaling done in 1.2760865688323975 seconds. Image shape is (330, 357, 3)\n",
      "Bad image 2b49d6_0 crop_thr 0.6 only 0\n",
      "Bad image 2b49d6_0 crop_thr 0.5 only 0\n",
      "Bad image 2b49d6_0 crop_thr 0.4 only 0\n",
      "Bad image 2b49d6_0 crop_thr 0.30000000000000004 only 2\n",
      "Done 2b49d6_0 in 1.3061535358428955 seconds\n"
     ]
    },
    {
     "name": "stderr",
     "output_type": "stream",
     "text": [
      " 17%|█▋        | 130/749 [52:00<4:21:47, 25.38s/it]"
     ]
    },
    {
     "name": "stdout",
     "output_type": "stream",
     "text": [
      "Rescaling done in 21.931443691253662 seconds. Image shape is (2651, 774, 3)\n",
      "Done 2b7304_0 in 22.045870065689087 seconds\n"
     ]
    },
    {
     "name": "stderr",
     "output_type": "stream",
     "text": [
      " 17%|█▋        | 131/749 [52:22<4:09:08, 24.19s/it]"
     ]
    },
    {
     "name": "stdout",
     "output_type": "stream",
     "text": [
      "Rescaling done in 21.32449221611023 seconds. Image shape is (1844, 1007, 3)\n",
      "Done 2b7304_1 in 21.41858744621277 seconds\n",
      "Rescaling done in 31.93779468536377 seconds. Image shape is (2881, 1002, 3)\n",
      "Bad image 2b7304_2 crop_thr 0.6 only 0\n"
     ]
    },
    {
     "name": "stderr",
     "output_type": "stream",
     "text": [
      " 18%|█▊        | 132/749 [52:54<4:34:01, 26.65s/it]"
     ]
    },
    {
     "name": "stdout",
     "output_type": "stream",
     "text": [
      "Bad image 2b7304_2 crop_thr 0.5 only 0\n",
      "Done 2b7304_2 in 32.380396127700806 seconds\n"
     ]
    },
    {
     "name": "stderr",
     "output_type": "stream",
     "text": [
      " 18%|█▊        | 133/749 [53:26<4:49:37, 28.21s/it]"
     ]
    },
    {
     "name": "stdout",
     "output_type": "stream",
     "text": [
      "Rescaling done in 31.719555139541626 seconds. Image shape is (2497, 958, 3)\n",
      "Done 2bcdd9_0 in 31.8574435710907 seconds\n",
      "Rescaling done in 91.22300791740417 seconds. Image shape is (3339, 1597, 3)\n"
     ]
    },
    {
     "name": "stderr",
     "output_type": "stream",
     "text": [
      " 18%|█▊        | 134/749 [54:58<8:03:59, 47.22s/it]"
     ]
    },
    {
     "name": "stdout",
     "output_type": "stream",
     "text": [
      "Done 2bd8fe_0 in 91.56550025939941 seconds\n"
     ]
    },
    {
     "name": "stderr",
     "output_type": "stream",
     "text": [
      " 18%|█▊        | 135/749 [55:20<6:47:16, 39.80s/it]"
     ]
    },
    {
     "name": "stdout",
     "output_type": "stream",
     "text": [
      "Rescaling done in 22.381651878356934 seconds. Image shape is (1959, 1006, 3)\n",
      "Done 2c64b2_0 in 22.485106945037842 seconds\n"
     ]
    },
    {
     "name": "stderr",
     "output_type": "stream",
     "text": [
      " 18%|█▊        | 136/749 [55:24<4:57:47, 29.15s/it]"
     ]
    },
    {
     "name": "stdout",
     "output_type": "stream",
     "text": [
      "Rescaling done in 4.1861412525177 seconds. Image shape is (1367, 393, 3)\n",
      "Bad image 2c8b18_0 crop_thr 0.6 only 0\n",
      "Bad image 2c8b18_0 crop_thr 0.5 only 0\n",
      "Bad image 2c8b18_0 crop_thr 0.4 only 3\n",
      "Done 2c8b18_0 in 4.290460586547852 seconds\n",
      "Rescaling done in 110.73320198059082 seconds. Image shape is (3607, 1732, 3)\n"
     ]
    },
    {
     "name": "stderr",
     "output_type": "stream",
     "text": [
      " 18%|█▊        | 137/749 [57:16<9:08:08, 53.74s/it]"
     ]
    },
    {
     "name": "stdout",
     "output_type": "stream",
     "text": [
      "Done 2db520_0 in 111.1180489063263 seconds\n"
     ]
    },
    {
     "name": "stderr",
     "output_type": "stream",
     "text": [
      " 18%|█▊        | 138/749 [57:22<6:41:29, 39.43s/it]"
     ]
    },
    {
     "name": "stdout",
     "output_type": "stream",
     "text": [
      "Rescaling done in 5.969953298568726 seconds. Image shape is (1038, 643, 3)\n",
      "Bad image 2e3749_0 crop_thr 0.6 only 0\n",
      "Done 2e3749_0 in 6.031441926956177 seconds\n"
     ]
    },
    {
     "name": "stderr",
     "output_type": "stream",
     "text": [
      " 19%|█▊        | 139/749 [57:28<4:58:40, 29.38s/it]"
     ]
    },
    {
     "name": "stdout",
     "output_type": "stream",
     "text": [
      "Rescaling done in 5.838135242462158 seconds. Image shape is (1077, 551, 3)\n",
      "Bad image 2e725a_0 crop_thr 0.6 only 0\n",
      "Bad image 2e725a_0 crop_thr 0.5 only 3\n",
      "Done 2e725a_0 in 5.928239583969116 seconds\n"
     ]
    },
    {
     "name": "stderr",
     "output_type": "stream",
     "text": [
      " 19%|█▊        | 140/749 [58:25<6:23:49, 37.82s/it]"
     ]
    },
    {
     "name": "stdout",
     "output_type": "stream",
     "text": [
      "Rescaling done in 57.31162357330322 seconds. Image shape is (2303, 1464, 3)\n",
      "Done 2e7d16_0 in 57.50300979614258 seconds\n"
     ]
    },
    {
     "name": "stderr",
     "output_type": "stream",
     "text": [
      " 19%|█▉        | 141/749 [58:31<4:46:23, 28.26s/it]"
     ]
    },
    {
     "name": "stdout",
     "output_type": "stream",
     "text": [
      "Rescaling done in 5.925058364868164 seconds. Image shape is (1115, 550, 3)\n",
      "Done 2e8763_0 in 5.96962571144104 seconds\n"
     ]
    },
    {
     "name": "stderr",
     "output_type": "stream",
     "text": [
      " 19%|█▉        | 142/749 [58:43<3:57:47, 23.50s/it]"
     ]
    },
    {
     "name": "stdout",
     "output_type": "stream",
     "text": [
      "Rescaling done in 12.324754476547241 seconds. Image shape is (1537, 733, 3)\n",
      "Done 2eb2d7_0 in 12.40035891532898 seconds\n"
     ]
    },
    {
     "name": "stderr",
     "output_type": "stream",
     "text": [
      " 19%|█▉        | 143/749 [58:49<3:03:18, 18.15s/it]"
     ]
    },
    {
     "name": "stdout",
     "output_type": "stream",
     "text": [
      "Rescaling done in 5.61985182762146 seconds. Image shape is (539, 737, 3)\n",
      "Done 2ecb46_0 in 5.653403282165527 seconds\n"
     ]
    },
    {
     "name": "stderr",
     "output_type": "stream",
     "text": [
      " 19%|█▉        | 144/749 [59:06<2:59:34, 17.81s/it]"
     ]
    },
    {
     "name": "stdout",
     "output_type": "stream",
     "text": [
      "Rescaling done in 16.966132640838623 seconds. Image shape is (626, 1495, 3)\n",
      "Done 2f4974_0 in 17.01621985435486 seconds\n"
     ]
    },
    {
     "name": "stderr",
     "output_type": "stream",
     "text": [
      " 19%|█▉        | 145/749 [59:29<3:14:49, 19.35s/it]"
     ]
    },
    {
     "name": "stdout",
     "output_type": "stream",
     "text": [
      "Rescaling done in 22.849967002868652 seconds. Image shape is (1459, 1146, 3)\n",
      "Done 2f73a2_0 in 22.95531177520752 seconds\n"
     ]
    },
    {
     "name": "stderr",
     "output_type": "stream",
     "text": [
      " 19%|█▉        | 146/749 [59:50<3:17:51, 19.69s/it]"
     ]
    },
    {
     "name": "stdout",
     "output_type": "stream",
     "text": [
      "Rescaling done in 20.378133058547974 seconds. Image shape is (1190, 1101, 3)\n",
      "Done 300145_0 in 20.463731288909912 seconds\n",
      "Rescaling done in 206.25586533546448 seconds. Image shape is (1578, 3573, 3)\n"
     ]
    },
    {
     "name": "stderr",
     "output_type": "stream",
     "text": [
      " 20%|█▉        | 147/749 [1:03:16<12:40:16, 75.77s/it]"
     ]
    },
    {
     "name": "stdout",
     "output_type": "stream",
     "text": [
      "Done 3020ef_0 in 206.6433424949646 seconds\n"
     ]
    },
    {
     "name": "stderr",
     "output_type": "stream",
     "text": [
      " 20%|█▉        | 148/749 [1:03:31<9:36:27, 57.55s/it] "
     ]
    },
    {
     "name": "stdout",
     "output_type": "stream",
     "text": [
      "Rescaling done in 14.948907375335693 seconds. Image shape is (2345, 637, 3)\n",
      "Done 313d30_0 in 15.026995658874512 seconds\n"
     ]
    },
    {
     "name": "stderr",
     "output_type": "stream",
     "text": [
      " 20%|█▉        | 149/749 [1:03:34<6:52:23, 41.24s/it]"
     ]
    },
    {
     "name": "stdout",
     "output_type": "stream",
     "text": [
      "Rescaling done in 3.14380145072937 seconds. Image shape is (1178, 280, 3)\n",
      "Bad image 3152c0_0 crop_thr 0.6 only 0\n",
      "Done 3152c0_0 in 3.17551589012146 seconds\n",
      "Rescaling done in 15.295320749282837 seconds. Image shape is (2130, 651, 3)\n",
      "Bad image 31588e_0 crop_thr 0.6 only 0\n",
      "Bad image 31588e_0 crop_thr 0.5 only 0\n",
      "Bad image 31588e_0 crop_thr 0.4 only 3\n"
     ]
    },
    {
     "name": "stderr",
     "output_type": "stream",
     "text": [
      " 20%|██        | 150/749 [1:03:50<5:34:47, 33.53s/it]"
     ]
    },
    {
     "name": "stdout",
     "output_type": "stream",
     "text": [
      "Done 31588e_0 in 15.557533025741577 seconds\n"
     ]
    },
    {
     "name": "stderr",
     "output_type": "stream",
     "text": [
      " 20%|██        | 151/749 [1:03:57<4:16:20, 25.72s/it]"
     ]
    },
    {
     "name": "stdout",
     "output_type": "stream",
     "text": [
      "Rescaling done in 7.453142166137695 seconds. Image shape is (615, 829, 3)\n",
      "Done 31adaa_0 in 7.486229658126831 seconds\n"
     ]
    },
    {
     "name": "stderr",
     "output_type": "stream",
     "text": [
      " 20%|██        | 152/749 [1:04:05<3:22:35, 20.36s/it]"
     ]
    },
    {
     "name": "stdout",
     "output_type": "stream",
     "text": [
      "Rescaling done in 7.809429168701172 seconds. Image shape is (730, 782, 3)\n",
      "Done 31adaa_1 in 7.85435152053833 seconds\n"
     ]
    },
    {
     "name": "stderr",
     "output_type": "stream",
     "text": [
      " 20%|██        | 153/749 [1:04:09<2:32:10, 15.32s/it]"
     ]
    },
    {
     "name": "stdout",
     "output_type": "stream",
     "text": [
      "Rescaling done in 3.4958136081695557 seconds. Image shape is (1357, 319, 3)\n",
      "Bad image 329006_0 crop_thr 0.6 only 0\n",
      "Bad image 329006_0 crop_thr 0.5 only 0\n",
      "Done 329006_0 in 3.556814670562744 seconds\n"
     ]
    },
    {
     "name": "stderr",
     "output_type": "stream",
     "text": [
      " 21%|██        | 154/749 [1:04:10<1:49:03, 11.00s/it]"
     ]
    },
    {
     "name": "stdout",
     "output_type": "stream",
     "text": [
      "Rescaling done in 0.8899905681610107 seconds. Image shape is (186, 326, 3)\n",
      "Bad image 32e44f_0 crop_thr 0.6 only 0\n",
      "Bad image 32e44f_0 crop_thr 0.5 only 0\n",
      "Bad image 32e44f_0 crop_thr 0.4 only 0\n",
      "Bad image 32e44f_0 crop_thr 0.30000000000000004 only 0\n",
      "Bad image 32e44f_0 crop_thr 0.20000000000000007 only 0\n",
      "Bad image 32e44f_0 crop_thr 0.10000000000000009 only 0\n",
      "Bad image 32e44f_0 crop_thr 1.1102230246251565e-16 only 0\n",
      "No crops was found\n",
      "Done 32e44f_0 in 0.9079506397247314 seconds\n"
     ]
    },
    {
     "name": "stderr",
     "output_type": "stream",
     "text": [
      " 21%|██        | 155/749 [1:04:18<1:40:00, 10.10s/it]"
     ]
    },
    {
     "name": "stdout",
     "output_type": "stream",
     "text": [
      "Rescaling done in 7.958219766616821 seconds. Image shape is (1846, 410, 3)\n",
      "Done 33d071_0 in 8.012185096740723 seconds\n"
     ]
    },
    {
     "name": "stderr",
     "output_type": "stream",
     "text": [
      " 21%|██        | 156/749 [1:04:36<2:03:51, 12.53s/it]"
     ]
    },
    {
     "name": "stdout",
     "output_type": "stream",
     "text": [
      "Rescaling done in 18.106943368911743 seconds. Image shape is (1575, 916, 3)\n",
      "Done 33d2a7_0 in 18.202982187271118 seconds\n"
     ]
    },
    {
     "name": "stderr",
     "output_type": "stream",
     "text": [
      " 21%|██        | 157/749 [1:04:43<1:46:52, 10.83s/it]"
     ]
    },
    {
     "name": "stdout",
     "output_type": "stream",
     "text": [
      "Rescaling done in 6.823956251144409 seconds. Image shape is (1692, 456, 3)\n",
      "Done 33da32_0 in 6.86124849319458 seconds\n"
     ]
    },
    {
     "name": "stderr",
     "output_type": "stream",
     "text": [
      " 21%|██        | 158/749 [1:04:44<1:18:37,  7.98s/it]"
     ]
    },
    {
     "name": "stdout",
     "output_type": "stream",
     "text": [
      "Rescaling done in 1.309758186340332 seconds. Image shape is (214, 357, 3)\n",
      "Bad image 34a278_0 crop_thr 0.6 only 0\n",
      "Bad image 34a278_0 crop_thr 0.5 only 0\n",
      "Bad image 34a278_0 crop_thr 0.4 only 0\n",
      "Bad image 34a278_0 crop_thr 0.30000000000000004 only 0\n",
      "Bad image 34a278_0 crop_thr 0.20000000000000007 only 0\n",
      "Bad image 34a278_0 crop_thr 0.10000000000000009 only 0\n",
      "Bad image 34a278_0 crop_thr 1.1102230246251565e-16 only 0\n",
      "No crops was found\n",
      "Done 34a278_0 in 1.3310375213623047 seconds\n"
     ]
    },
    {
     "name": "stderr",
     "output_type": "stream",
     "text": [
      " 21%|██        | 159/749 [1:04:59<1:39:51, 10.15s/it]"
     ]
    },
    {
     "name": "stdout",
     "output_type": "stream",
     "text": [
      "Rescaling done in 15.15301513671875 seconds. Image shape is (1306, 918, 3)\n",
      "Done 34c9bc_0 in 15.224079132080078 seconds\n"
     ]
    },
    {
     "name": "stderr",
     "output_type": "stream",
     "text": [
      " 21%|██▏       | 160/749 [1:05:29<2:38:19, 16.13s/it]"
     ]
    },
    {
     "name": "stdout",
     "output_type": "stream",
     "text": [
      "Rescaling done in 29.902619123458862 seconds. Image shape is (877, 1745, 3)\n",
      "Bad image 354f74_0 crop_thr 0.6 only 2\n",
      "Done 354f74_0 in 30.066888093948364 seconds\n"
     ]
    },
    {
     "name": "stderr",
     "output_type": "stream",
     "text": [
      " 21%|██▏       | 161/749 [1:05:47<2:43:14, 16.66s/it]"
     ]
    },
    {
     "name": "stdout",
     "output_type": "stream",
     "text": [
      "Rescaling done in 17.790751457214355 seconds. Image shape is (1036, 1056, 3)\n",
      "Done 355354_0 in 17.882550477981567 seconds\n"
     ]
    },
    {
     "name": "stderr",
     "output_type": "stream",
     "text": [
      " 22%|██▏       | 162/749 [1:06:05<2:46:21, 17.00s/it]"
     ]
    },
    {
     "name": "stdout",
     "output_type": "stream",
     "text": [
      "Rescaling done in 17.725073099136353 seconds. Image shape is (1114, 1011, 3)\n",
      "Done 355354_1 in 17.81241750717163 seconds\n"
     ]
    },
    {
     "name": "stderr",
     "output_type": "stream",
     "text": [
      " 22%|██▏       | 163/749 [1:06:12<2:16:00, 13.93s/it]"
     ]
    },
    {
     "name": "stdout",
     "output_type": "stream",
     "text": [
      "Rescaling done in 6.6985108852386475 seconds. Image shape is (1500, 411, 3)\n",
      "Done 35b75a_0 in 6.740779876708984 seconds\n"
     ]
    },
    {
     "name": "stderr",
     "output_type": "stream",
     "text": [
      " 22%|██▏       | 164/749 [1:06:34<2:40:11, 16.43s/it]"
     ]
    },
    {
     "name": "stdout",
     "output_type": "stream",
     "text": [
      "Rescaling done in 22.160045385360718 seconds. Image shape is (1613, 1054, 3)\n",
      "Done 366fd0_0 in 22.26998543739319 seconds\n",
      "Rescaling done in 9.716829061508179 seconds. Image shape is (1353, 796, 3)\n",
      "Bad image 369366_0 crop_thr 0.6 only 0\n",
      "Bad image 369366_0 crop_thr 0.5 only 0\n",
      "Bad image 369366_0 crop_thr 0.4 only 0\n",
      "Bad image 369366_0 crop_thr 0.30000000000000004 only 0\n"
     ]
    },
    {
     "name": "stderr",
     "output_type": "stream",
     "text": [
      " 22%|██▏       | 165/749 [1:06:44<2:21:02, 14.49s/it]"
     ]
    },
    {
     "name": "stdout",
     "output_type": "stream",
     "text": [
      "Done 369366_0 in 9.965268850326538 seconds\n",
      "Rescaling done in 65.19640970230103 seconds. Image shape is (1584, 1994, 3)\n",
      "Bad image 36a149_0 crop_thr 0.6 only 0\n"
     ]
    },
    {
     "name": "stderr",
     "output_type": "stream",
     "text": [
      " 22%|██▏       | 166/749 [1:07:50<4:49:37, 29.81s/it]"
     ]
    },
    {
     "name": "stdout",
     "output_type": "stream",
     "text": [
      "Done 36a149_0 in 65.5422945022583 seconds\n"
     ]
    },
    {
     "name": "stderr",
     "output_type": "stream",
     "text": [
      " 22%|██▏       | 167/749 [1:08:09<4:18:47, 26.68s/it]"
     ]
    },
    {
     "name": "stdout",
     "output_type": "stream",
     "text": [
      "Rescaling done in 19.247072458267212 seconds. Image shape is (1613, 1008, 3)\n",
      "Done 37258c_0 in 19.384028911590576 seconds\n"
     ]
    },
    {
     "name": "stderr",
     "output_type": "stream",
     "text": [
      " 22%|██▏       | 168/749 [1:08:14<3:15:29, 20.19s/it]"
     ]
    },
    {
     "name": "stdout",
     "output_type": "stream",
     "text": [
      "Rescaling done in 4.99688196182251 seconds. Image shape is (1347, 412, 3)\n",
      "Done 376cf6_0 in 5.038485527038574 seconds\n"
     ]
    },
    {
     "name": "stderr",
     "output_type": "stream",
     "text": [
      " 23%|██▎       | 169/749 [1:08:22<2:38:57, 16.44s/it]"
     ]
    },
    {
     "name": "stdout",
     "output_type": "stream",
     "text": [
      "Rescaling done in 7.6518213748931885 seconds. Image shape is (1846, 410, 3)\n",
      "Done 379f1c_0 in 7.708635330200195 seconds\n"
     ]
    },
    {
     "name": "stderr",
     "output_type": "stream",
     "text": [
      " 23%|██▎       | 170/749 [1:08:43<2:51:33, 17.78s/it]"
     ]
    },
    {
     "name": "stdout",
     "output_type": "stream",
     "text": [
      "Rescaling done in 20.760769844055176 seconds. Image shape is (1729, 916, 3)\n",
      "Done 383f05_0 in 20.888027906417847 seconds\n"
     ]
    },
    {
     "name": "stderr",
     "output_type": "stream",
     "text": [
      " 23%|██▎       | 171/749 [1:08:55<2:35:34, 16.15s/it]"
     ]
    },
    {
     "name": "stdout",
     "output_type": "stream",
     "text": [
      "Rescaling done in 12.262885093688965 seconds. Image shape is (1960, 639, 3)\n",
      "Done 384052_0 in 12.347053527832031 seconds\n"
     ]
    },
    {
     "name": "stderr",
     "output_type": "stream",
     "text": [
      " 23%|██▎       | 172/749 [1:09:31<3:33:03, 22.15s/it]"
     ]
    },
    {
     "name": "stdout",
     "output_type": "stream",
     "text": [
      "Rescaling done in 35.98040413856506 seconds. Image shape is (1765, 1421, 3)\n",
      "Done 392b24_0 in 36.16477918624878 seconds\n"
     ]
    },
    {
     "name": "stderr",
     "output_type": "stream",
     "text": [
      " 23%|██▎       | 173/749 [1:09:40<2:54:41, 18.20s/it]"
     ]
    },
    {
     "name": "stdout",
     "output_type": "stream",
     "text": [
      "Rescaling done in 8.896756887435913 seconds. Image shape is (1538, 594, 3)\n",
      "Done 395ea0_0 in 8.960713863372803 seconds\n",
      "Rescaling done in 229.3590760231018 seconds. Image shape is (1556, 3822, 3)\n"
     ]
    },
    {
     "name": "stderr",
     "output_type": "stream",
     "text": [
      " 23%|██▎       | 174/749 [1:13:30<13:02:29, 81.65s/it]"
     ]
    },
    {
     "name": "stdout",
     "output_type": "stream",
     "text": [
      "Done 3982bf_0 in 229.7113857269287 seconds\n",
      "Rescaling done in 23.706785202026367 seconds. Image shape is (2305, 912, 3)\n",
      "Bad image 3a230b_0 crop_thr 0.6 only 1\n"
     ]
    },
    {
     "name": "stderr",
     "output_type": "stream",
     "text": [
      " 23%|██▎       | 175/749 [1:13:54<10:15:29, 64.34s/it]"
     ]
    },
    {
     "name": "stdout",
     "output_type": "stream",
     "text": [
      "Done 3a230b_0 in 23.936352729797363 seconds\n"
     ]
    },
    {
     "name": "stderr",
     "output_type": "stream",
     "text": [
      " 23%|██▎       | 176/749 [1:14:00<7:28:42, 46.98s/it] "
     ]
    },
    {
     "name": "stdout",
     "output_type": "stream",
     "text": [
      "Rescaling done in 6.413507461547852 seconds. Image shape is (1346, 504, 3)\n",
      "Bad image 3ab087_0 crop_thr 0.6 only 0\n",
      "Done 3ab087_0 in 6.492447853088379 seconds\n"
     ]
    },
    {
     "name": "stderr",
     "output_type": "stream",
     "text": [
      " 24%|██▎       | 177/749 [1:14:06<5:30:00, 34.62s/it]"
     ]
    },
    {
     "name": "stdout",
     "output_type": "stream",
     "text": [
      "Rescaling done in 5.627723455429077 seconds. Image shape is (1613, 428, 3)\n",
      "Bad image 3ad0bb_0 crop_thr 0.6 only 0\n",
      "Bad image 3ad0bb_0 crop_thr 0.5 only 0\n",
      "Done 3ad0bb_0 in 5.754295825958252 seconds\n"
     ]
    },
    {
     "name": "stderr",
     "output_type": "stream",
     "text": [
      " 24%|██▍       | 178/749 [1:14:33<5:06:06, 32.17s/it]"
     ]
    },
    {
     "name": "stdout",
     "output_type": "stream",
     "text": [
      "Rescaling done in 26.313936948776245 seconds. Image shape is (2420, 912, 3)\n",
      "Done 3b2c59_0 in 26.44498109817505 seconds\n",
      "Rescaling done in 121.48148703575134 seconds. Image shape is (3376, 1917, 3)\n"
     ]
    },
    {
     "name": "stderr",
     "output_type": "stream",
     "text": [
      " 24%|██▍       | 179/749 [1:16:34<9:21:23, 59.09s/it]"
     ]
    },
    {
     "name": "stdout",
     "output_type": "stream",
     "text": [
      "Done 3b7d81_0 in 121.92345571517944 seconds\n",
      "Rescaling done in 45.09584665298462 seconds. Image shape is (2687, 1278, 3)\n"
     ]
    },
    {
     "name": "stderr",
     "output_type": "stream",
     "text": [
      " 24%|██▍       | 180/749 [1:17:20<8:41:13, 54.96s/it]"
     ]
    },
    {
     "name": "stdout",
     "output_type": "stream",
     "text": [
      "Done 3bc9c9_0 in 45.3233540058136 seconds\n",
      "Rescaling done in 24.25916624069214 seconds. Image shape is (2759, 903, 3)\n",
      "Bad image 3bfe64_0 crop_thr 0.6 only 2\n"
     ]
    },
    {
     "name": "stderr",
     "output_type": "stream",
     "text": [
      " 24%|██▍       | 181/749 [1:17:44<7:13:53, 45.83s/it]"
     ]
    },
    {
     "name": "stdout",
     "output_type": "stream",
     "text": [
      "Done 3bfe64_0 in 24.53172516822815 seconds\n",
      "Rescaling done in 141.58730244636536 seconds. Image shape is (3607, 1917, 3)\n"
     ]
    },
    {
     "name": "stderr",
     "output_type": "stream",
     "text": [
      " 24%|██▍       | 182/749 [1:20:07<11:47:31, 74.87s/it]"
     ]
    },
    {
     "name": "stdout",
     "output_type": "stream",
     "text": [
      "Done 3c2c23_0 in 142.6189239025116 seconds\n"
     ]
    },
    {
     "name": "stderr",
     "output_type": "stream",
     "text": [
      " 24%|██▍       | 183/749 [1:20:29<9:17:12, 59.07s/it] "
     ]
    },
    {
     "name": "stdout",
     "output_type": "stream",
     "text": [
      "Rescaling done in 22.040746212005615 seconds. Image shape is (364, 2326, 3)\n",
      "Bad image 3cbdf3_0 crop_thr 0.6 only 0\n",
      "Bad image 3cbdf3_0 crop_thr 0.5 only 0\n",
      "Bad image 3cbdf3_0 crop_thr 0.4 only 0\n",
      "Done 3cbdf3_0 in 22.193109035491943 seconds\n"
     ]
    },
    {
     "name": "stderr",
     "output_type": "stream",
     "text": [
      " 25%|██▍       | 184/749 [1:20:32<6:36:50, 42.14s/it]"
     ]
    },
    {
     "name": "stdout",
     "output_type": "stream",
     "text": [
      "Rescaling done in 2.61647629737854 seconds. Image shape is (502, 462, 3)\n",
      "Bad image 3d10be_0 crop_thr 0.6 only 0\n",
      "Bad image 3d10be_0 crop_thr 0.5 only 1\n",
      "Done 3d10be_0 in 2.652836799621582 seconds\n"
     ]
    },
    {
     "name": "stderr",
     "output_type": "stream",
     "text": [
      " 25%|██▍       | 185/749 [1:20:34<4:44:51, 30.30s/it]"
     ]
    },
    {
     "name": "stdout",
     "output_type": "stream",
     "text": [
      "Rescaling done in 2.6339690685272217 seconds. Image shape is (694, 415, 3)\n",
      "Bad image 3d10be_1 crop_thr 0.6 only 0\n",
      "Bad image 3d10be_1 crop_thr 0.5 only 2\n",
      "Done 3d10be_1 in 2.6801531314849854 seconds\n"
     ]
    },
    {
     "name": "stderr",
     "output_type": "stream",
     "text": [
      " 25%|██▍       | 186/749 [1:20:39<3:31:09, 22.50s/it]"
     ]
    },
    {
     "name": "stdout",
     "output_type": "stream",
     "text": [
      "Rescaling done in 4.188438177108765 seconds. Image shape is (577, 737, 3)\n",
      "Bad image 3d10be_2 crop_thr 0.6 only 0\n",
      "Bad image 3d10be_2 crop_thr 0.5 only 0\n",
      "Bad image 3d10be_2 crop_thr 0.4 only 0\n",
      "Bad image 3d10be_2 crop_thr 0.30000000000000004 only 2\n",
      "Done 3d10be_2 in 4.302156925201416 seconds\n"
     ]
    },
    {
     "name": "stderr",
     "output_type": "stream",
     "text": [
      " 25%|██▍       | 187/749 [1:20:42<2:36:43, 16.73s/it]"
     ]
    },
    {
     "name": "stdout",
     "output_type": "stream",
     "text": [
      "Rescaling done in 3.1982409954071045 seconds. Image shape is (699, 439, 3)\n",
      "Bad image 3d10be_3 crop_thr 0.6 only 0\n",
      "Bad image 3d10be_3 crop_thr 0.5 only 0\n",
      "Done 3d10be_3 in 3.252607822418213 seconds\n"
     ]
    },
    {
     "name": "stderr",
     "output_type": "stream",
     "text": [
      " 25%|██▌       | 188/749 [1:20:43<1:53:25, 12.13s/it]"
     ]
    },
    {
     "name": "stdout",
     "output_type": "stream",
     "text": [
      "Rescaling done in 1.3655850887298584 seconds. Image shape is (415, 319, 3)\n",
      "Bad image 3d10be_4 crop_thr 0.6 only 0\n",
      "Bad image 3d10be_4 crop_thr 0.5 only 0\n",
      "Bad image 3d10be_4 crop_thr 0.4 only 0\n",
      "Done 3d10be_4 in 1.3928639888763428 seconds\n"
     ]
    },
    {
     "name": "stderr",
     "output_type": "stream",
     "text": [
      " 25%|██▌       | 189/749 [1:20:55<1:52:08, 12.01s/it]"
     ]
    },
    {
     "name": "stdout",
     "output_type": "stream",
     "text": [
      "Rescaling done in 11.642711400985718 seconds. Image shape is (1499, 779, 3)\n",
      "Done 3d80c7_0 in 11.743719816207886 seconds\n",
      "Rescaling done in 37.173834562301636 seconds. Image shape is (2765, 1002, 3)\n"
     ]
    },
    {
     "name": "stderr",
     "output_type": "stream",
     "text": [
      " 25%|██▌       | 190/749 [1:21:33<3:02:53, 19.63s/it]"
     ]
    },
    {
     "name": "stdout",
     "output_type": "stream",
     "text": [
      "Done 3ee426_0 in 37.399248123168945 seconds\n"
     ]
    },
    {
     "name": "stderr",
     "output_type": "stream",
     "text": [
      " 26%|██▌       | 191/749 [1:21:56<3:11:59, 20.64s/it]"
     ]
    },
    {
     "name": "stdout",
     "output_type": "stream",
     "text": [
      "Rescaling done in 22.868641138076782 seconds. Image shape is (1767, 1007, 3)\n",
      "Done 3fe88b_0 in 23.00547432899475 seconds\n"
     ]
    },
    {
     "name": "stderr",
     "output_type": "stream",
     "text": [
      " 26%|██▌       | 192/749 [1:22:09<2:51:37, 18.49s/it]"
     ]
    },
    {
     "name": "stdout",
     "output_type": "stream",
     "text": [
      "Rescaling done in 13.349889039993286 seconds. Image shape is (2345, 545, 3)\n",
      "Done 3fe8a3_0 in 13.456023931503296 seconds\n"
     ]
    },
    {
     "name": "stderr",
     "output_type": "stream",
     "text": [
      " 26%|██▌       | 193/749 [1:22:37<3:18:10, 21.39s/it]"
     ]
    },
    {
     "name": "stdout",
     "output_type": "stream",
     "text": [
      "Rescaling done in 27.99480938911438 seconds. Image shape is (2305, 959, 3)\n",
      "Done 4094c4_0 in 28.148158073425293 seconds\n"
     ]
    },
    {
     "name": "stderr",
     "output_type": "stream",
     "text": [
      " 26%|██▌       | 194/749 [1:23:05<3:35:40, 23.32s/it]"
     ]
    },
    {
     "name": "stdout",
     "output_type": "stream",
     "text": [
      "Rescaling done in 27.651084661483765 seconds. Image shape is (2458, 958, 3)\n",
      "Done 4188be_0 in 27.818005800247192 seconds\n",
      "Rescaling done in 38.40747547149658 seconds. Image shape is (2150, 1327, 3)\n"
     ]
    },
    {
     "name": "stderr",
     "output_type": "stream",
     "text": [
      " 26%|██▌       | 195/749 [1:23:44<4:17:44, 27.91s/it]"
     ]
    },
    {
     "name": "stdout",
     "output_type": "stream",
     "text": [
      "Done 41b23c_0 in 38.64025378227234 seconds\n"
     ]
    },
    {
     "name": "stderr",
     "output_type": "stream",
     "text": [
      " 26%|██▌       | 196/749 [1:23:51<3:21:14, 21.83s/it]"
     ]
    },
    {
     "name": "stdout",
     "output_type": "stream",
     "text": [
      "Rescaling done in 7.590332508087158 seconds. Image shape is (1385, 596, 3)\n",
      "Done 41b4ea_0 in 7.645940780639648 seconds\n",
      "Rescaling done in 17.946533918380737 seconds. Image shape is (2575, 774, 3)\n",
      "Bad image 41b4ea_1 crop_thr 0.6 only 0\n",
      "Bad image 41b4ea_1 crop_thr 0.5 only 0\n",
      "Bad image 41b4ea_1 crop_thr 0.4 only 3\n"
     ]
    },
    {
     "name": "stderr",
     "output_type": "stream",
     "text": [
      " 26%|██▋       | 197/749 [1:24:10<3:11:25, 20.81s/it]"
     ]
    },
    {
     "name": "stdout",
     "output_type": "stream",
     "text": [
      "Done 41b4ea_1 in 18.410753965377808 seconds\n"
     ]
    },
    {
     "name": "stderr",
     "output_type": "stream",
     "text": [
      " 26%|██▋       | 198/749 [1:24:27<3:00:16, 19.63s/it]"
     ]
    },
    {
     "name": "stdout",
     "output_type": "stream",
     "text": [
      "Rescaling done in 16.774789571762085 seconds. Image shape is (1652, 778, 3)\n",
      "Done 41db5b_0 in 16.881295442581177 seconds\n",
      "Rescaling done in 49.85506343841553 seconds. Image shape is (3341, 1138, 3)\n"
     ]
    },
    {
     "name": "stderr",
     "output_type": "stream",
     "text": [
      " 27%|██▋       | 199/749 [1:25:17<4:23:55, 28.79s/it]"
     ]
    },
    {
     "name": "stdout",
     "output_type": "stream",
     "text": [
      "Done 424c9d_0 in 50.16724705696106 seconds\n"
     ]
    },
    {
     "name": "stderr",
     "output_type": "stream",
     "text": [
      " 27%|██▋       | 200/749 [1:25:29<3:38:50, 23.92s/it]"
     ]
    },
    {
     "name": "stdout",
     "output_type": "stream",
     "text": [
      "Rescaling done in 12.454373359680176 seconds. Image shape is (1576, 733, 3)\n",
      "Done 42529f_0 in 12.539579153060913 seconds\n"
     ]
    },
    {
     "name": "stderr",
     "output_type": "stream",
     "text": [
      " 27%|██▋       | 201/749 [1:25:34<2:46:43, 18.25s/it]"
     ]
    },
    {
     "name": "stdout",
     "output_type": "stream",
     "text": [
      "Rescaling done in 4.896366834640503 seconds. Image shape is (1206, 517, 3)\n",
      "Bad image 437435_0 crop_thr 0.6 only 0\n",
      "Bad image 437435_0 crop_thr 0.5 only 0\n",
      "Bad image 437435_0 crop_thr 0.4 only 0\n",
      "Done 437435_0 in 5.041598320007324 seconds\n"
     ]
    },
    {
     "name": "stderr",
     "output_type": "stream",
     "text": [
      " 27%|██▋       | 202/749 [1:25:44<2:23:08, 15.70s/it]"
     ]
    },
    {
     "name": "stdout",
     "output_type": "stream",
     "text": [
      "Rescaling done in 9.576178789138794 seconds. Image shape is (1153, 734, 3)\n",
      "Bad image 437435_1 crop_thr 0.6 only 0\n",
      "Bad image 437435_1 crop_thr 0.5 only 3\n",
      "Done 437435_1 in 9.739693641662598 seconds\n",
      "Rescaling done in 10.637099981307983 seconds. Image shape is (1922, 639, 3)\n",
      "Bad image 43c62b_0 crop_thr 0.6 only 0\n",
      "Bad image 43c62b_0 crop_thr 0.5 only 0\n"
     ]
    },
    {
     "name": "stderr",
     "output_type": "stream",
     "text": [
      " 27%|██▋       | 203/749 [1:25:55<2:09:55, 14.28s/it]"
     ]
    },
    {
     "name": "stdout",
     "output_type": "stream",
     "text": [
      "Bad image 43c62b_0 crop_thr 0.4 only 0\n",
      "Done 43c62b_0 in 10.95384931564331 seconds\n"
     ]
    },
    {
     "name": "stderr",
     "output_type": "stream",
     "text": [
      " 27%|██▋       | 204/749 [1:26:04<1:56:13, 12.80s/it]"
     ]
    },
    {
     "name": "stdout",
     "output_type": "stream",
     "text": [
      "Rescaling done in 9.287571430206299 seconds. Image shape is (1346, 596, 3)\n",
      "Done 43eacb_0 in 9.337841987609863 seconds\n"
     ]
    },
    {
     "name": "stderr",
     "output_type": "stream",
     "text": [
      " 27%|██▋       | 205/749 [1:26:18<1:58:20, 13.05s/it]"
     ]
    },
    {
     "name": "stdout",
     "output_type": "stream",
     "text": [
      "Rescaling done in 13.539204120635986 seconds. Image shape is (920, 1195, 3)\n",
      "Bad image 4550fb_0 crop_thr 0.6 only 0\n",
      "Done 4550fb_0 in 13.652968645095825 seconds\n"
     ]
    },
    {
     "name": "stderr",
     "output_type": "stream",
     "text": [
      " 28%|██▊       | 206/749 [1:26:26<1:45:03, 11.61s/it]"
     ]
    },
    {
     "name": "stdout",
     "output_type": "stream",
     "text": [
      "Rescaling done in 8.173893690109253 seconds. Image shape is (1231, 642, 3)\n",
      "Done 45a0e5_0 in 8.236705303192139 seconds\n"
     ]
    },
    {
     "name": "stderr",
     "output_type": "stream",
     "text": [
      " 28%|██▊       | 207/749 [1:26:33<1:32:19, 10.22s/it]"
     ]
    },
    {
     "name": "stdout",
     "output_type": "stream",
     "text": [
      "Rescaling done in 6.799104928970337 seconds. Image shape is (1231, 642, 3)\n",
      "Bad image 45a0e5_1 crop_thr 0.6 only 0\n",
      "Bad image 45a0e5_1 crop_thr 0.5 only 0\n",
      "Bad image 45a0e5_1 crop_thr 0.4 only 0\n",
      "Done 45a0e5_1 in 6.982028484344482 seconds\n"
     ]
    },
    {
     "name": "stderr",
     "output_type": "stream",
     "text": [
      " 28%|██▊       | 208/749 [1:26:44<1:33:46, 10.40s/it]"
     ]
    },
    {
     "name": "stdout",
     "output_type": "stream",
     "text": [
      "Rescaling done in 10.756667852401733 seconds. Image shape is (1576, 595, 3)\n",
      "Done 45c6ce_0 in 10.816829442977905 seconds\n"
     ]
    },
    {
     "name": "stderr",
     "output_type": "stream",
     "text": [
      " 28%|██▊       | 209/749 [1:26:55<1:35:20, 10.59s/it]"
     ]
    },
    {
     "name": "stdout",
     "output_type": "stream",
     "text": [
      "Rescaling done in 10.906333923339844 seconds. Image shape is (1499, 779, 3)\n",
      "Bad image 45e3e0_0 crop_thr 0.6 only 0\n",
      "Done 45e3e0_0 in 11.04467248916626 seconds\n"
     ]
    },
    {
     "name": "stderr",
     "output_type": "stream",
     "text": [
      " 28%|██▊       | 210/749 [1:26:58<1:14:23,  8.28s/it]"
     ]
    },
    {
     "name": "stdout",
     "output_type": "stream",
     "text": [
      "Rescaling done in 2.867750644683838 seconds. Image shape is (408, 510, 3)\n",
      "Done 464289_0 in 2.8816745281219482 seconds\n"
     ]
    },
    {
     "name": "stderr",
     "output_type": "stream",
     "text": [
      " 28%|██▊       | 211/749 [1:27:08<1:18:55,  8.80s/it]"
     ]
    },
    {
     "name": "stdout",
     "output_type": "stream",
     "text": [
      "Rescaling done in 9.947418689727783 seconds. Image shape is (1538, 641, 3)\n",
      "Done 4647d7_0 in 10.019227266311646 seconds\n"
     ]
    },
    {
     "name": "stderr",
     "output_type": "stream",
     "text": [
      " 28%|██▊       | 212/749 [1:27:31<1:58:07, 13.20s/it]"
     ]
    },
    {
     "name": "stdout",
     "output_type": "stream",
     "text": [
      "Rescaling done in 23.322265148162842 seconds. Image shape is (1689, 1191, 3)\n",
      "Done 4667f6_0 in 23.452208757400513 seconds\n"
     ]
    },
    {
     "name": "stderr",
     "output_type": "stream",
     "text": [
      " 28%|██▊       | 213/749 [1:27:38<1:39:25, 11.13s/it]"
     ]
    },
    {
     "name": "stdout",
     "output_type": "stream",
     "text": [
      "Rescaling done in 6.247989177703857 seconds. Image shape is (1654, 409, 3)\n",
      "Done 46def4_0 in 6.3013951778411865 seconds\n"
     ]
    },
    {
     "name": "stderr",
     "output_type": "stream",
     "text": [
      " 29%|██▊       | 214/749 [1:28:01<2:12:40, 14.88s/it]"
     ]
    },
    {
     "name": "stdout",
     "output_type": "stream",
     "text": [
      "Rescaling done in 23.452805042266846 seconds. Image shape is (1728, 1099, 3)\n",
      "Done 46e479_0 in 23.626762628555298 seconds\n"
     ]
    },
    {
     "name": "stderr",
     "output_type": "stream",
     "text": [
      " 29%|██▊       | 215/749 [1:28:05<1:43:29, 11.63s/it]"
     ]
    },
    {
     "name": "stdout",
     "output_type": "stream",
     "text": [
      "Rescaling done in 3.989229917526245 seconds. Image shape is (1193, 366, 3)\n",
      "Bad image 4763a7_0 crop_thr 0.6 only 0\n",
      "Done 4763a7_0 in 4.038667440414429 seconds\n"
     ]
    },
    {
     "name": "stderr",
     "output_type": "stream",
     "text": [
      " 29%|██▉       | 216/749 [1:28:09<1:22:37,  9.30s/it]"
     ]
    },
    {
     "name": "stdout",
     "output_type": "stream",
     "text": [
      "Rescaling done in 3.8336989879608154 seconds. Image shape is (770, 460, 3)\n",
      "Bad image 481ba8_0 crop_thr 0.6 only 1\n",
      "Done 481ba8_0 in 3.869731903076172 seconds\n",
      "Rescaling done in 38.00001072883606 seconds. Image shape is (2496, 1188, 3)\n"
     ]
    },
    {
     "name": "stderr",
     "output_type": "stream",
     "text": [
      " 29%|██▉       | 217/749 [1:28:48<2:39:36, 18.00s/it]"
     ]
    },
    {
     "name": "stdout",
     "output_type": "stream",
     "text": [
      "Done 488cd4_0 in 38.29817581176758 seconds\n",
      "Rescaling done in 26.46403670310974 seconds. Image shape is (2766, 819, 3)\n"
     ]
    },
    {
     "name": "stderr",
     "output_type": "stream",
     "text": [
      " 29%|██▉       | 218/749 [1:29:14<3:02:28, 20.62s/it]"
     ]
    },
    {
     "name": "stdout",
     "output_type": "stream",
     "text": [
      "Done 48af1a_0 in 26.72649359703064 seconds\n",
      "Rescaling done in 45.514612436294556 seconds. Image shape is (3111, 1093, 3)\n"
     ]
    },
    {
     "name": "stderr",
     "output_type": "stream",
     "text": [
      " 29%|██▉       | 219/749 [1:30:00<4:08:48, 28.17s/it]"
     ]
    },
    {
     "name": "stdout",
     "output_type": "stream",
     "text": [
      "Done 4919a7_0 in 45.777037382125854 seconds\n"
     ]
    },
    {
     "name": "stderr",
     "output_type": "stream",
     "text": [
      " 29%|██▉       | 220/749 [1:30:18<3:41:03, 25.07s/it]"
     ]
    },
    {
     "name": "stdout",
     "output_type": "stream",
     "text": [
      "Rescaling done in 17.7497296333313 seconds. Image shape is (1152, 1010, 3)\n",
      "Done 4929cd_0 in 17.854453325271606 seconds\n"
     ]
    },
    {
     "name": "stderr",
     "output_type": "stream",
     "text": [
      " 30%|██▉       | 221/749 [1:30:24<2:50:29, 19.37s/it]"
     ]
    },
    {
     "name": "stdout",
     "output_type": "stream",
     "text": [
      "Rescaling done in 6.014983654022217 seconds. Image shape is (1386, 366, 3)\n",
      "Bad image 497c27_0 crop_thr 0.6 only 0\n",
      "Done 497c27_0 in 6.074538707733154 seconds\n",
      "Rescaling done in 58.11580300331116 seconds. Image shape is (2609, 1554, 3)\n",
      "Bad image 49ea39_0 crop_thr 0.6 only 0\n",
      "Bad image 49ea39_0 crop_thr 0.5 only 0\n"
     ]
    },
    {
     "name": "stderr",
     "output_type": "stream",
     "text": [
      " 30%|██▉       | 222/749 [1:31:23<4:34:36, 31.26s/it]"
     ]
    },
    {
     "name": "stdout",
     "output_type": "stream",
     "text": [
      "Done 49ea39_0 in 59.008657455444336 seconds\n"
     ]
    },
    {
     "name": "stderr",
     "output_type": "stream",
     "text": [
      " 30%|██▉       | 223/749 [1:31:55<4:36:47, 31.57s/it]"
     ]
    },
    {
     "name": "stdout",
     "output_type": "stream",
     "text": [
      "Rescaling done in 32.16701626777649 seconds. Image shape is (1343, 1193, 3)\n",
      "Done 4a1152_0 in 32.29383611679077 seconds\n"
     ]
    },
    {
     "name": "stderr",
     "output_type": "stream",
     "text": [
      " 30%|██▉       | 224/749 [1:32:25<4:30:47, 30.95s/it]"
     ]
    },
    {
     "name": "stdout",
     "output_type": "stream",
     "text": [
      "Rescaling done in 29.341253519058228 seconds. Image shape is (1958, 1098, 3)\n",
      "Done 4a4043_0 in 29.482077598571777 seconds\n"
     ]
    },
    {
     "name": "stderr",
     "output_type": "stream",
     "text": [
      " 30%|███       | 225/749 [1:32:45<4:01:31, 27.66s/it]"
     ]
    },
    {
     "name": "stdout",
     "output_type": "stream",
     "text": [
      "Rescaling done in 19.885558128356934 seconds. Image shape is (1844, 915, 3)\n",
      "Done 4b8777_0 in 19.977027416229248 seconds\n"
     ]
    },
    {
     "name": "stderr",
     "output_type": "stream",
     "text": [
      " 30%|███       | 226/749 [1:33:09<3:51:14, 26.53s/it]"
     ]
    },
    {
     "name": "stdout",
     "output_type": "stream",
     "text": [
      "Rescaling done in 23.762779712677002 seconds. Image shape is (2382, 912, 3)\n",
      "Done 4bfb94_0 in 23.893399953842163 seconds\n"
     ]
    },
    {
     "name": "stderr",
     "output_type": "stream",
     "text": [
      " 30%|███       | 227/749 [1:33:22<3:16:11, 22.55s/it]"
     ]
    },
    {
     "name": "stdout",
     "output_type": "stream",
     "text": [
      "Rescaling done in 13.177441120147705 seconds. Image shape is (1691, 686, 3)\n",
      "Done 4c284f_0 in 13.27038311958313 seconds\n"
     ]
    },
    {
     "name": "stderr",
     "output_type": "stream",
     "text": [
      " 30%|███       | 228/749 [1:33:27<2:29:39, 17.24s/it]"
     ]
    },
    {
     "name": "stdout",
     "output_type": "stream",
     "text": [
      "Rescaling done in 4.797052621841431 seconds. Image shape is (1155, 413, 3)\n",
      "Done 4d15a9_0 in 4.829428434371948 seconds\n"
     ]
    },
    {
     "name": "stderr",
     "output_type": "stream",
     "text": [
      " 31%|███       | 229/749 [1:33:29<1:51:09, 12.83s/it]"
     ]
    },
    {
     "name": "stdout",
     "output_type": "stream",
     "text": [
      "Rescaling done in 2.402541160583496 seconds. Image shape is (1367, 301, 3)\n",
      "Bad image 4ded24_0 crop_thr 0.6 only 0\n",
      "Bad image 4ded24_0 crop_thr 0.5 only 0\n",
      "Bad image 4ded24_0 crop_thr 0.4 only 0\n",
      "Bad image 4ded24_0 crop_thr 0.30000000000000004 only 0\n",
      "Bad image 4ded24_0 crop_thr 0.20000000000000007 only 0\n",
      "Bad image 4ded24_0 crop_thr 0.10000000000000009 only 0\n",
      "Done 4ded24_0 in 2.538731813430786 seconds\n"
     ]
    },
    {
     "name": "stderr",
     "output_type": "stream",
     "text": [
      " 31%|███       | 230/749 [1:33:38<1:40:48, 11.65s/it]"
     ]
    },
    {
     "name": "stdout",
     "output_type": "stream",
     "text": [
      "Rescaling done in 8.870943069458008 seconds. Image shape is (1423, 641, 3)\n",
      "Done 4dfe1e_0 in 8.919138193130493 seconds\n"
     ]
    },
    {
     "name": "stderr",
     "output_type": "stream",
     "text": [
      " 31%|███       | 231/749 [1:33:42<1:19:20,  9.19s/it]"
     ]
    },
    {
     "name": "stdout",
     "output_type": "stream",
     "text": [
      "Rescaling done in 3.4203367233276367 seconds. Image shape is (424, 646, 3)\n",
      "Done 4e30e9_0 in 3.4374241828918457 seconds\n"
     ]
    },
    {
     "name": "stderr",
     "output_type": "stream",
     "text": [
      " 31%|███       | 232/749 [1:33:43<58:05,  6.74s/it]  "
     ]
    },
    {
     "name": "stdout",
     "output_type": "stream",
     "text": [
      "Rescaling done in 1.003566026687622 seconds. Image shape is (306, 283, 3)\n",
      "Bad image 4f49c1_0 crop_thr 0.6 only 0\n",
      "Bad image 4f49c1_0 crop_thr 0.5 only 0\n",
      "Bad image 4f49c1_0 crop_thr 0.4 only 0\n",
      "Bad image 4f49c1_0 crop_thr 0.30000000000000004 only 3\n",
      "Bad image 4f49c1_0 crop_thr 0.20000000000000007 only 2\n",
      "Bad image 4f49c1_0 crop_thr 0.10000000000000009 only 2\n",
      "Bad image 4f49c1_0 crop_thr 1.1102230246251565e-16 only 2\n",
      "No crops was found\n",
      "Done 4f49c1_0 in 1.028285026550293 seconds\n"
     ]
    },
    {
     "name": "stderr",
     "output_type": "stream",
     "text": [
      " 31%|███       | 233/749 [1:33:55<1:12:11,  8.39s/it]"
     ]
    },
    {
     "name": "stdout",
     "output_type": "stream",
     "text": [
      "Rescaling done in 12.185796022415161 seconds. Image shape is (1537, 733, 3)\n",
      "Done 4f6fb1_0 in 12.248747110366821 seconds\n"
     ]
    },
    {
     "name": "stderr",
     "output_type": "stream",
     "text": [
      " 31%|███       | 234/749 [1:33:59<59:31,  6.93s/it]  "
     ]
    },
    {
     "name": "stdout",
     "output_type": "stream",
     "text": [
      "Rescaling done in 3.4507694244384766 seconds. Image shape is (1083, 379, 3)\n",
      "Bad image 4f6fb1_1 crop_thr 0.6 only 0\n",
      "Bad image 4f6fb1_1 crop_thr 0.5 only 0\n",
      "Bad image 4f6fb1_1 crop_thr 0.4 only 0\n",
      "Done 4f6fb1_1 in 3.5274555683135986 seconds\n"
     ]
    },
    {
     "name": "stderr",
     "output_type": "stream",
     "text": [
      " 31%|███▏      | 235/749 [1:34:13<1:17:44,  9.07s/it]"
     ]
    },
    {
     "name": "stdout",
     "output_type": "stream",
     "text": [
      "Rescaling done in 13.972629308700562 seconds. Image shape is (1845, 640, 3)\n",
      "Done 4f6fb1_2 in 14.064373016357422 seconds\n"
     ]
    },
    {
     "name": "stderr",
     "output_type": "stream",
     "text": [
      " 32%|███▏      | 236/749 [1:34:20<1:12:37,  8.49s/it]"
     ]
    },
    {
     "name": "stdout",
     "output_type": "stream",
     "text": [
      "Rescaling done in 7.093831300735474 seconds. Image shape is (1462, 457, 3)\n",
      "Done 4f6fb1_3 in 7.139753103256226 seconds\n",
      "Rescaling done in 31.831556797027588 seconds. Image shape is (2381, 1096, 3)\n"
     ]
    },
    {
     "name": "stderr",
     "output_type": "stream",
     "text": [
      " 32%|███▏      | 237/749 [1:34:52<2:12:49, 15.57s/it]"
     ]
    },
    {
     "name": "stdout",
     "output_type": "stream",
     "text": [
      "Done 4f7d1c_0 in 32.064939737319946 seconds\n",
      "Rescaling done in 22.527249336242676 seconds. Image shape is (2113, 913, 3)\n",
      "Bad image 4f9678_0 crop_thr 0.6 only 0\n"
     ]
    },
    {
     "name": "stderr",
     "output_type": "stream",
     "text": [
      " 32%|███▏      | 238/749 [1:35:15<2:31:05, 17.74s/it]"
     ]
    },
    {
     "name": "stdout",
     "output_type": "stream",
     "text": [
      "Done 4f9678_0 in 22.814043045043945 seconds\n"
     ]
    },
    {
     "name": "stderr",
     "output_type": "stream",
     "text": [
      " 32%|███▏      | 239/749 [1:35:17<1:50:46, 13.03s/it]"
     ]
    },
    {
     "name": "stdout",
     "output_type": "stream",
     "text": [
      "Rescaling done in 1.9770731925964355 seconds. Image shape is (1111, 219, 3)\n",
      "Bad image 4f9ac6_0 crop_thr 0.6 only 0\n",
      "Bad image 4f9ac6_0 crop_thr 0.5 only 0\n",
      "Bad image 4f9ac6_0 crop_thr 0.4 only 0\n",
      "Bad image 4f9ac6_0 crop_thr 0.30000000000000004 only 0\n",
      "Bad image 4f9ac6_0 crop_thr 0.20000000000000007 only 0\n",
      "Bad image 4f9ac6_0 crop_thr 0.10000000000000009 only 0\n",
      "Bad image 4f9ac6_0 crop_thr 1.1102230246251565e-16 only 0\n",
      "No crops was found\n",
      "Done 4f9ac6_0 in 2.0482699871063232 seconds\n"
     ]
    },
    {
     "name": "stderr",
     "output_type": "stream",
     "text": [
      " 32%|███▏      | 240/749 [1:35:30<1:50:47, 13.06s/it]"
     ]
    },
    {
     "name": "stdout",
     "output_type": "stream",
     "text": [
      "Rescaling done in 13.039399147033691 seconds. Image shape is (1307, 734, 3)\n",
      "Done 507ac9_0 in 13.117682218551636 seconds\n",
      "Rescaling done in 15.929363250732422 seconds. Image shape is (1537, 963, 3)\n",
      "Bad image 508589_0 crop_thr 0.6 only 0\n",
      "Bad image 508589_0 crop_thr 0.5 only 0\n"
     ]
    },
    {
     "name": "stderr",
     "output_type": "stream",
     "text": [
      " 32%|███▏      | 241/749 [1:35:46<1:58:32, 14.00s/it]"
     ]
    },
    {
     "name": "stdout",
     "output_type": "stream",
     "text": [
      "Done 508589_0 in 16.194299459457397 seconds\n",
      "Rescaling done in 50.734458446502686 seconds. Image shape is (2994, 1322, 3)\n"
     ]
    },
    {
     "name": "stderr",
     "output_type": "stream",
     "text": [
      " 32%|███▏      | 242/749 [1:36:37<3:32:15, 25.12s/it]"
     ]
    },
    {
     "name": "stdout",
     "output_type": "stream",
     "text": [
      "Done 509042_0 in 51.05886220932007 seconds\n",
      "Rescaling done in 30.01629614830017 seconds. Image shape is (2611, 1048, 3)\n"
     ]
    },
    {
     "name": "stderr",
     "output_type": "stream",
     "text": [
      " 32%|███▏      | 243/749 [1:37:07<3:44:46, 26.65s/it]"
     ]
    },
    {
     "name": "stdout",
     "output_type": "stream",
     "text": [
      "Done 50ba15_0 in 30.232819318771362 seconds\n",
      "Rescaling done in 11.69459342956543 seconds. Image shape is (1306, 918, 3)\n",
      "Bad image 510d2e_0 crop_thr 0.6 only 0\n",
      "Bad image 510d2e_0 crop_thr 0.5 only 0\n"
     ]
    },
    {
     "name": "stderr",
     "output_type": "stream",
     "text": [
      " 33%|███▎      | 244/749 [1:37:19<3:07:20, 22.26s/it]"
     ]
    },
    {
     "name": "stdout",
     "output_type": "stream",
     "text": [
      "Bad image 510d2e_0 crop_thr 0.4 only 2\n",
      "Done 510d2e_0 in 12.004546880722046 seconds\n",
      "Rescaling done in 43.233837366104126 seconds. Image shape is (2342, 1326, 3)\n"
     ]
    },
    {
     "name": "stderr",
     "output_type": "stream",
     "text": [
      " 33%|███▎      | 245/749 [1:38:03<4:00:51, 28.67s/it]"
     ]
    },
    {
     "name": "stdout",
     "output_type": "stream",
     "text": [
      "Done 512856_0 in 43.639244079589844 seconds\n"
     ]
    },
    {
     "name": "stderr",
     "output_type": "stream",
     "text": [
      " 33%|███▎      | 246/749 [1:38:10<3:05:43, 22.15s/it]"
     ]
    },
    {
     "name": "stdout",
     "output_type": "stream",
     "text": [
      "Rescaling done in 6.892899036407471 seconds. Image shape is (1077, 597, 3)\n",
      "Done 516e18_0 in 6.941292762756348 seconds\n"
     ]
    },
    {
     "name": "stderr",
     "output_type": "stream",
     "text": [
      " 33%|███▎      | 247/749 [1:38:12<2:16:03, 16.26s/it]"
     ]
    },
    {
     "name": "stdout",
     "output_type": "stream",
     "text": [
      "Rescaling done in 2.458636999130249 seconds. Image shape is (942, 322, 3)\n",
      "Bad image 516e18_1 crop_thr 0.6 only 0\n",
      "Bad image 516e18_1 crop_thr 0.5 only 0\n",
      "Bad image 516e18_1 crop_thr 0.4 only 1\n",
      "Done 516e18_1 in 2.514960289001465 seconds\n",
      "Rescaling done in 15.44102168083191 seconds. Image shape is (2498, 637, 3)\n"
     ]
    },
    {
     "name": "stderr",
     "output_type": "stream",
     "text": [
      " 33%|███▎      | 248/749 [1:38:28<2:14:46, 16.14s/it]"
     ]
    },
    {
     "name": "stdout",
     "output_type": "stream",
     "text": [
      "Bad image 526dba_0 crop_thr 0.6 only 0\n",
      "Bad image 526dba_0 crop_thr 0.5 only 2\n",
      "Done 526dba_0 in 15.854118585586548 seconds\n",
      "Rescaling done in 37.00076723098755 seconds. Image shape is (2073, 1327, 3)\n"
     ]
    },
    {
     "name": "stderr",
     "output_type": "stream",
     "text": [
      " 33%|███▎      | 249/749 [1:39:06<3:07:46, 22.53s/it]"
     ]
    },
    {
     "name": "stdout",
     "output_type": "stream",
     "text": [
      "Bad image 52bc2d_0 crop_thr 0.6 only 2\n",
      "Done 52bc2d_0 in 37.44473457336426 seconds\n"
     ]
    },
    {
     "name": "stderr",
     "output_type": "stream",
     "text": [
      " 33%|███▎      | 250/749 [1:39:20<2:46:42, 20.04s/it]"
     ]
    },
    {
     "name": "stdout",
     "output_type": "stream",
     "text": [
      "Rescaling done in 14.143075466156006 seconds. Image shape is (1345, 917, 3)\n",
      "Done 52d106_0 in 14.239058494567871 seconds\n"
     ]
    },
    {
     "name": "stderr",
     "output_type": "stream",
     "text": [
      " 34%|███▎      | 251/749 [1:39:23<2:04:20, 14.98s/it]"
     ]
    },
    {
     "name": "stdout",
     "output_type": "stream",
     "text": [
      "Rescaling done in 3.0113377571105957 seconds. Image shape is (844, 496, 3)\n",
      "Bad image 533081_0 crop_thr 0.6 only 0\n",
      "Bad image 533081_0 crop_thr 0.5 only 0\n",
      "Bad image 533081_0 crop_thr 0.4 only 0\n",
      "Bad image 533081_0 crop_thr 0.30000000000000004 only 0\n",
      "Bad image 533081_0 crop_thr 0.20000000000000007 only 0\n",
      "Done 533081_0 in 3.164091110229492 seconds\n"
     ]
    },
    {
     "name": "stderr",
     "output_type": "stream",
     "text": [
      " 34%|███▎      | 252/749 [1:39:51<2:36:23, 18.88s/it]"
     ]
    },
    {
     "name": "stdout",
     "output_type": "stream",
     "text": [
      "Rescaling done in 27.778130769729614 seconds. Image shape is (1805, 1145, 3)\n",
      "Done 533081_1 in 27.9748375415802 seconds\n"
     ]
    },
    {
     "name": "stderr",
     "output_type": "stream",
     "text": [
      " 34%|███▍      | 253/749 [1:39:59<2:10:05, 15.74s/it]"
     ]
    },
    {
     "name": "stdout",
     "output_type": "stream",
     "text": [
      "Rescaling done in 8.29368805885315 seconds. Image shape is (1307, 688, 3)\n",
      "Bad image 533081_2 crop_thr 0.6 only 0\n",
      "Done 533081_2 in 8.399647235870361 seconds\n"
     ]
    },
    {
     "name": "stderr",
     "output_type": "stream",
     "text": [
      " 34%|███▍      | 254/749 [1:40:06<1:45:49, 12.83s/it]"
     ]
    },
    {
     "name": "stdout",
     "output_type": "stream",
     "text": [
      "Rescaling done in 5.955172061920166 seconds. Image shape is (1231, 504, 3)\n",
      "Bad image 533a49_0 crop_thr 0.6 only 2\n",
      "Done 533a49_0 in 6.035780906677246 seconds\n",
      "Rescaling done in 114.92851614952087 seconds. Image shape is (3493, 1642, 3)\n"
     ]
    },
    {
     "name": "stderr",
     "output_type": "stream",
     "text": [
      " 34%|███▍      | 255/749 [1:42:01<5:58:55, 43.59s/it]"
     ]
    },
    {
     "name": "stdout",
     "output_type": "stream",
     "text": [
      "Done 53845a_0 in 115.3828113079071 seconds\n"
     ]
    },
    {
     "name": "stderr",
     "output_type": "stream",
     "text": [
      " 34%|███▍      | 256/749 [1:42:19<4:55:02, 35.91s/it]"
     ]
    },
    {
     "name": "stdout",
     "output_type": "stream",
     "text": [
      "Rescaling done in 17.863989114761353 seconds. Image shape is (1729, 823, 3)\n",
      "Done 53845a_1 in 17.97320318222046 seconds\n"
     ]
    },
    {
     "name": "stderr",
     "output_type": "stream",
     "text": [
      " 34%|███▍      | 257/749 [1:42:27<3:45:27, 27.49s/it]"
     ]
    },
    {
     "name": "stdout",
     "output_type": "stream",
     "text": [
      "Rescaling done in 7.7097108364105225 seconds. Image shape is (1230, 641, 3)\n",
      "Bad image 53e0d7_0 crop_thr 0.6 only 0\n",
      "Bad image 53e0d7_0 crop_thr 0.5 only 0\n",
      "Done 53e0d7_0 in 7.861123323440552 seconds\n"
     ]
    },
    {
     "name": "stderr",
     "output_type": "stream",
     "text": [
      " 34%|███▍      | 258/749 [1:42:29<2:42:44, 19.89s/it]"
     ]
    },
    {
     "name": "stdout",
     "output_type": "stream",
     "text": [
      "Rescaling done in 2.102609634399414 seconds. Image shape is (541, 370, 3)\n",
      "Bad image 540410_0 crop_thr 0.6 only 0\n",
      "Bad image 540410_0 crop_thr 0.5 only 2\n",
      "Done 540410_0 in 2.132272958755493 seconds\n"
     ]
    },
    {
     "name": "stderr",
     "output_type": "stream",
     "text": [
      " 35%|███▍      | 259/749 [1:42:35<2:07:37, 15.63s/it]"
     ]
    },
    {
     "name": "stdout",
     "output_type": "stream",
     "text": [
      "Rescaling done in 5.53209924697876 seconds. Image shape is (1347, 504, 3)\n",
      "Bad image 5415fe_0 crop_thr 0.6 only 0\n",
      "Bad image 5415fe_0 crop_thr 0.5 only 0\n",
      "Bad image 5415fe_0 crop_thr 0.4 only 3\n",
      "Done 5415fe_0 in 5.690572261810303 seconds\n"
     ]
    },
    {
     "name": "stderr",
     "output_type": "stream",
     "text": [
      " 35%|███▍      | 260/749 [1:43:21<3:23:37, 24.98s/it]"
     ]
    },
    {
     "name": "stdout",
     "output_type": "stream",
     "text": [
      "Rescaling done in 46.70017170906067 seconds. Image shape is (925, 2160, 3)\n",
      "Done 547474_0 in 46.8144428730011 seconds\n"
     ]
    },
    {
     "name": "stderr",
     "output_type": "stream",
     "text": [
      " 35%|███▍      | 261/749 [1:43:27<2:36:47, 19.28s/it]"
     ]
    },
    {
     "name": "stdout",
     "output_type": "stream",
     "text": [
      "Rescaling done in 5.922768592834473 seconds. Image shape is (1385, 412, 3)\n",
      "Done 54838a_0 in 5.957745313644409 seconds\n"
     ]
    },
    {
     "name": "stderr",
     "output_type": "stream",
     "text": [
      " 35%|███▍      | 262/749 [1:43:40<2:20:46, 17.34s/it]"
     ]
    },
    {
     "name": "stdout",
     "output_type": "stream",
     "text": [
      "Rescaling done in 12.75842022895813 seconds. Image shape is (1576, 686, 3)\n",
      "Done 54ddc7_0 in 12.831246614456177 seconds\n"
     ]
    },
    {
     "name": "stderr",
     "output_type": "stream",
     "text": [
      " 35%|███▌      | 263/749 [1:43:50<2:01:19, 14.98s/it]"
     ]
    },
    {
     "name": "stdout",
     "output_type": "stream",
     "text": [
      "Rescaling done in 9.405402421951294 seconds. Image shape is (1846, 547, 3)\n",
      "Done 557c4b_0 in 9.460635900497437 seconds\n"
     ]
    },
    {
     "name": "stderr",
     "output_type": "stream",
     "text": [
      " 35%|███▌      | 264/749 [1:44:02<1:54:10, 14.12s/it]"
     ]
    },
    {
     "name": "stdout",
     "output_type": "stream",
     "text": [
      "Rescaling done in 12.056905269622803 seconds. Image shape is (1461, 595, 3)\n",
      "Done 55809c_0 in 12.12723708152771 seconds\n",
      "Rescaling done in 23.38414716720581 seconds. Image shape is (1266, 1377, 3)\n",
      "Bad image 5588f9_0 crop_thr 0.6 only 2\n",
      "Done 5588f9_0 in 23.58503031730652 seconds\n"
     ]
    },
    {
     "name": "stderr",
     "output_type": "stream",
     "text": [
      " 36%|███▌      | 266/749 [1:44:32<1:50:53, 13.77s/it]"
     ]
    },
    {
     "name": "stdout",
     "output_type": "stream",
     "text": [
      "Rescaling done in 6.170293569564819 seconds. Image shape is (1533, 520, 3)\n",
      "Bad image 5619c3_0 crop_thr 0.6 only 0\n",
      "Bad image 5619c3_0 crop_thr 0.5 only 0\n",
      "Bad image 5619c3_0 crop_thr 0.4 only 0\n",
      "Done 5619c3_0 in 6.334438323974609 seconds\n"
     ]
    },
    {
     "name": "stderr",
     "output_type": "stream",
     "text": [
      " 36%|███▌      | 267/749 [1:44:40<1:36:30, 12.01s/it]"
     ]
    },
    {
     "name": "stdout",
     "output_type": "stream",
     "text": [
      "Rescaling done in 7.828938007354736 seconds. Image shape is (884, 782, 3)\n",
      "Bad image 5671c1_0 crop_thr 0.6 only 2\n",
      "Done 5671c1_0 in 7.905932426452637 seconds\n"
     ]
    },
    {
     "name": "stderr",
     "output_type": "stream",
     "text": [
      " 36%|███▌      | 268/749 [1:44:44<1:16:52,  9.59s/it]"
     ]
    },
    {
     "name": "stdout",
     "output_type": "stream",
     "text": [
      "Rescaling done in 3.787647247314453 seconds. Image shape is (854, 591, 3)\n",
      "Bad image 56d177_0 crop_thr 0.6 only 0\n",
      "Bad image 56d177_0 crop_thr 0.5 only 0\n",
      "Bad image 56d177_0 crop_thr 0.4 only 0\n",
      "Bad image 56d177_0 crop_thr 0.30000000000000004 only 0\n",
      "Bad image 56d177_0 crop_thr 0.20000000000000007 only 0\n",
      "Done 56d177_0 in 3.927898406982422 seconds\n",
      "Rescaling done in 8.420371294021606 seconds. Image shape is (1422, 687, 3)\n",
      "Bad image 56d177_1 crop_thr 0.6 only 0\n",
      "Bad image 56d177_1 crop_thr 0.5 only 0\n",
      "Bad image 56d177_1 crop_thr 0.4 only 0\n"
     ]
    },
    {
     "name": "stderr",
     "output_type": "stream",
     "text": [
      " 36%|███▌      | 269/749 [1:44:52<1:14:26,  9.30s/it]"
     ]
    },
    {
     "name": "stdout",
     "output_type": "stream",
     "text": [
      "Done 56d177_1 in 8.64094090461731 seconds\n"
     ]
    },
    {
     "name": "stderr",
     "output_type": "stream",
     "text": [
      " 36%|███▌      | 270/749 [1:44:54<55:34,  6.96s/it]  "
     ]
    },
    {
     "name": "stdout",
     "output_type": "stream",
     "text": [
      "Rescaling done in 1.41774320602417 seconds. Image shape is (527, 368, 3)\n",
      "Bad image 56d177_2 crop_thr 0.6 only 0\n",
      "Bad image 56d177_2 crop_thr 0.5 only 0\n",
      "Bad image 56d177_2 crop_thr 0.4 only 0\n",
      "Bad image 56d177_2 crop_thr 0.30000000000000004 only 0\n",
      "Bad image 56d177_2 crop_thr 0.20000000000000007 only 0\n",
      "Bad image 56d177_2 crop_thr 0.10000000000000009 only 2\n",
      "Done 56d177_2 in 1.4902997016906738 seconds\n",
      "Rescaling done in 6.7363269329071045 seconds. Image shape is (2292, 439, 3)\n",
      "Bad image 56d177_3 crop_thr 0.6 only 0\n",
      "Bad image 56d177_3 crop_thr 0.5 only 0\n",
      "Bad image 56d177_3 crop_thr 0.4 only 0\n",
      "Bad image 56d177_3 crop_thr 0.30000000000000004 only 0\n"
     ]
    },
    {
     "name": "stderr",
     "output_type": "stream",
     "text": [
      " 36%|███▌      | 271/749 [1:45:01<55:41,  6.99s/it]"
     ]
    },
    {
     "name": "stdout",
     "output_type": "stream",
     "text": [
      "Bad image 56d177_3 crop_thr 0.20000000000000007 only 2\n",
      "Done 56d177_3 in 7.061041593551636 seconds\n",
      "Rescaling done in 6.008139371871948 seconds. Image shape is (1167, 641, 3)\n",
      "Bad image 56d177_4 crop_thr 0.6 only 0\n",
      "Bad image 56d177_4 crop_thr 0.5 only 0\n",
      "Bad image 56d177_4 crop_thr 0.4 only 0\n",
      "Bad image 56d177_4 crop_thr 0.30000000000000004 only 0\n"
     ]
    },
    {
     "name": "stderr",
     "output_type": "stream",
     "text": [
      " 36%|███▋      | 272/749 [1:45:07<53:51,  6.77s/it]"
     ]
    },
    {
     "name": "stdout",
     "output_type": "stream",
     "text": [
      "Bad image 56d177_4 crop_thr 0.20000000000000007 only 0\n",
      "Done 56d177_4 in 6.264808416366577 seconds\n"
     ]
    },
    {
     "name": "stderr",
     "output_type": "stream",
     "text": [
      " 36%|███▋      | 273/749 [1:45:20<1:08:14,  8.60s/it]"
     ]
    },
    {
     "name": "stdout",
     "output_type": "stream",
     "text": [
      "Rescaling done in 12.793496370315552 seconds. Image shape is (1460, 825, 3)\n",
      "Done 579988_0 in 12.867194652557373 seconds\n"
     ]
    },
    {
     "name": "stderr",
     "output_type": "stream",
     "text": [
      " 37%|███▋      | 274/749 [1:45:27<1:05:44,  8.30s/it]"
     ]
    },
    {
     "name": "stdout",
     "output_type": "stream",
     "text": [
      "Rescaling done in 7.525302410125732 seconds. Image shape is (1206, 626, 3)\n",
      "Bad image 588e11_0 crop_thr 0.6 only 0\n",
      "Done 588e11_0 in 7.609177589416504 seconds\n"
     ]
    },
    {
     "name": "stderr",
     "output_type": "stream",
     "text": [
      " 37%|███▋      | 275/749 [1:45:42<1:20:26, 10.18s/it]"
     ]
    },
    {
     "name": "stdout",
     "output_type": "stream",
     "text": [
      "Rescaling done in 14.476436614990234 seconds. Image shape is (1229, 918, 3)\n",
      "Done 59441e_0 in 14.563722610473633 seconds\n",
      "Rescaling done in 7.735444068908691 seconds. Image shape is (1346, 688, 3)\n",
      "Bad image 5987c0_0 crop_thr 0.6 only 0\n",
      "Bad image 5987c0_0 crop_thr 0.5 only 0\n",
      "Bad image 5987c0_0 crop_thr 0.4 only 0\n"
     ]
    },
    {
     "name": "stderr",
     "output_type": "stream",
     "text": [
      " 37%|███▋      | 276/749 [1:45:50<1:14:58,  9.51s/it]"
     ]
    },
    {
     "name": "stdout",
     "output_type": "stream",
     "text": [
      "Done 5987c0_0 in 7.938290357589722 seconds\n",
      "Rescaling done in 10.546882629394531 seconds. Image shape is (1576, 733, 3)\n",
      "Bad image 5987c0_1 crop_thr 0.6 only 0\n",
      "Bad image 5987c0_1 crop_thr 0.5 only 0\n"
     ]
    },
    {
     "name": "stderr",
     "output_type": "stream",
     "text": [
      " 37%|███▋      | 277/749 [1:46:01<1:17:46,  9.89s/it]"
     ]
    },
    {
     "name": "stdout",
     "output_type": "stream",
     "text": [
      "Done 5987c0_1 in 10.762895584106445 seconds\n",
      "Rescaling done in 14.047477960586548 seconds. Image shape is (1383, 871, 3)\n",
      "Bad image 5987c0_2 crop_thr 0.6 only 2\n"
     ]
    },
    {
     "name": "stderr",
     "output_type": "stream",
     "text": [
      " 37%|███▋      | 278/749 [1:46:15<1:28:04, 11.22s/it]"
     ]
    },
    {
     "name": "stdout",
     "output_type": "stream",
     "text": [
      "Done 5987c0_2 in 14.328391313552856 seconds\n",
      "Rescaling done in 17.379558801651 seconds. Image shape is (958, 1378, 3)\n",
      "Bad image 5987c0_3 crop_thr 0.6 only 0\n",
      "Bad image 5987c0_3 crop_thr 0.5 only 2\n"
     ]
    },
    {
     "name": "stderr",
     "output_type": "stream",
     "text": [
      " 37%|███▋      | 279/749 [1:46:33<1:42:55, 13.14s/it]"
     ]
    },
    {
     "name": "stdout",
     "output_type": "stream",
     "text": [
      "Done 5987c0_3 in 17.61371397972107 seconds\n",
      "Rescaling done in 94.58219051361084 seconds. Image shape is (3300, 1643, 3)\n"
     ]
    },
    {
     "name": "stderr",
     "output_type": "stream",
     "text": [
      " 37%|███▋      | 280/749 [1:48:08<4:55:04, 37.75s/it]"
     ]
    },
    {
     "name": "stdout",
     "output_type": "stream",
     "text": [
      "Done 599e16_0 in 95.1733295917511 seconds\n"
     ]
    },
    {
     "name": "stderr",
     "output_type": "stream",
     "text": [
      " 38%|███▊      | 281/749 [1:48:45<4:53:58, 37.69s/it]"
     ]
    },
    {
     "name": "stdout",
     "output_type": "stream",
     "text": [
      "Rescaling done in 37.4602746963501 seconds. Image shape is (735, 2160, 3)\n",
      "Done 5ae30a_0 in 37.544965744018555 seconds\n"
     ]
    },
    {
     "name": "stderr",
     "output_type": "stream",
     "text": [
      " 38%|███▊      | 282/749 [1:48:56<3:50:52, 29.66s/it]"
     ]
    },
    {
     "name": "stdout",
     "output_type": "stream",
     "text": [
      "Rescaling done in 10.828659772872925 seconds. Image shape is (601, 1163, 3)\n",
      "Bad image 5aec9b_0 crop_thr 0.6 only 0\n",
      "Bad image 5aec9b_0 crop_thr 0.5 only 0\n",
      "Done 5aec9b_0 in 10.93454909324646 seconds\n",
      "Rescaling done in 118.41563320159912 seconds. Image shape is (1255, 2825, 3)\n",
      "Bad image 5bfaf8_0 crop_thr 0.6 only 0\n"
     ]
    },
    {
     "name": "stderr",
     "output_type": "stream",
     "text": [
      " 38%|███▊      | 283/749 [1:50:55<7:18:25, 56.45s/it]"
     ]
    },
    {
     "name": "stdout",
     "output_type": "stream",
     "text": [
      "Done 5bfaf8_0 in 118.95330786705017 seconds\n",
      "Rescaling done in 42.64004182815552 seconds. Image shape is (2418, 1279, 3)\n",
      "Bad image 5c30ec_0 crop_thr 0.6 only 0\n",
      "Bad image 5c30ec_0 crop_thr 0.5 only 0\n"
     ]
    },
    {
     "name": "stderr",
     "output_type": "stream",
     "text": [
      " 38%|███▊      | 284/749 [1:51:39<6:46:50, 52.49s/it]"
     ]
    },
    {
     "name": "stdout",
     "output_type": "stream",
     "text": [
      "Done 5c30ec_0 in 43.263094902038574 seconds\n",
      "Rescaling done in 35.50193643569946 seconds. Image shape is (1650, 1283, 3)\n",
      "Bad image 5c92f8_0 crop_thr 0.6 only 1\n"
     ]
    },
    {
     "name": "stderr",
     "output_type": "stream",
     "text": [
      " 38%|███▊      | 285/749 [1:52:14<6:07:15, 47.49s/it]"
     ]
    },
    {
     "name": "stdout",
     "output_type": "stream",
     "text": [
      "Done 5c92f8_0 in 35.81334042549133 seconds\n"
     ]
    },
    {
     "name": "stderr",
     "output_type": "stream",
     "text": [
      " 38%|███▊      | 286/749 [1:52:18<4:24:54, 34.33s/it]"
     ]
    },
    {
     "name": "stdout",
     "output_type": "stream",
     "text": [
      "Rescaling done in 3.603088617324829 seconds. Image shape is (425, 462, 3)\n",
      "Done 5cae18_0 in 3.6209585666656494 seconds\n"
     ]
    },
    {
     "name": "stderr",
     "output_type": "stream",
     "text": [
      " 38%|███▊      | 287/749 [1:52:21<3:12:43, 25.03s/it]"
     ]
    },
    {
     "name": "stdout",
     "output_type": "stream",
     "text": [
      "Rescaling done in 3.3055968284606934 seconds. Image shape is (579, 416, 3)\n",
      "Done 5cae18_1 in 3.3233988285064697 seconds\n"
     ]
    },
    {
     "name": "stderr",
     "output_type": "stream",
     "text": [
      " 38%|███▊      | 288/749 [1:52:34<2:43:29, 21.28s/it]"
     ]
    },
    {
     "name": "stdout",
     "output_type": "stream",
     "text": [
      "Rescaling done in 12.332110166549683 seconds. Image shape is (1576, 686, 3)\n",
      "Bad image 5d3738_0 crop_thr 0.6 only 0\n",
      "Bad image 5d3738_0 crop_thr 0.5 only 3\n",
      "Done 5d3738_0 in 12.527570486068726 seconds\n"
     ]
    },
    {
     "name": "stderr",
     "output_type": "stream",
     "text": [
      " 39%|███▊      | 289/749 [1:52:49<2:28:21, 19.35s/it]"
     ]
    },
    {
     "name": "stdout",
     "output_type": "stream",
     "text": [
      "Rescaling done in 14.75994348526001 seconds. Image shape is (2436, 697, 3)\n",
      "Done 5d4b88_0 in 14.851402521133423 seconds\n"
     ]
    },
    {
     "name": "stderr",
     "output_type": "stream",
     "text": [
      " 39%|███▊      | 290/749 [1:52:55<1:58:04, 15.43s/it]"
     ]
    },
    {
     "name": "stdout",
     "output_type": "stream",
     "text": [
      "Rescaling done in 6.114896059036255 seconds. Image shape is (1251, 573, 3)\n",
      "Bad image 5d4b88_1 crop_thr 0.6 only 0\n",
      "Bad image 5d4b88_1 crop_thr 0.5 only 0\n",
      "Bad image 5d4b88_1 crop_thr 0.4 only 2\n",
      "Done 5d4b88_1 in 6.294027328491211 seconds\n"
     ]
    },
    {
     "name": "stderr",
     "output_type": "stream",
     "text": [
      " 39%|███▉      | 291/749 [1:53:22<2:23:46, 18.83s/it]"
     ]
    },
    {
     "name": "stdout",
     "output_type": "stream",
     "text": [
      "Rescaling done in 26.642641305923462 seconds. Image shape is (1959, 1052, 3)\n",
      "Done 5d819a_0 in 26.767889738082886 seconds\n"
     ]
    },
    {
     "name": "stderr",
     "output_type": "stream",
     "text": [
      " 39%|███▉      | 292/749 [1:53:29<1:57:17, 15.40s/it]"
     ]
    },
    {
     "name": "stdout",
     "output_type": "stream",
     "text": [
      "Rescaling done in 7.260197401046753 seconds. Image shape is (1231, 643, 3)\n",
      "Bad image 5d819a_1 crop_thr 0.6 only 0\n",
      "Bad image 5d819a_1 crop_thr 0.5 only 0\n",
      "Done 5d819a_1 in 7.383322477340698 seconds\n"
     ]
    },
    {
     "name": "stderr",
     "output_type": "stream",
     "text": [
      " 39%|███▉      | 293/749 [1:53:35<1:34:59, 12.50s/it]"
     ]
    },
    {
     "name": "stdout",
     "output_type": "stream",
     "text": [
      "Rescaling done in 5.5526251792907715 seconds. Image shape is (1193, 551, 3)\n",
      "Bad image 5f0b6f_0 crop_thr 0.6 only 0\n",
      "Bad image 5f0b6f_0 crop_thr 0.5 only 0\n",
      "Bad image 5f0b6f_0 crop_thr 0.4 only 3\n",
      "Done 5f0b6f_0 in 5.727045059204102 seconds\n"
     ]
    },
    {
     "name": "stderr",
     "output_type": "stream",
     "text": [
      " 39%|███▉      | 294/749 [1:53:57<1:56:58, 15.43s/it]"
     ]
    },
    {
     "name": "stdout",
     "output_type": "stream",
     "text": [
      "Rescaling done in 22.11845302581787 seconds. Image shape is (2728, 772, 3)\n",
      "Done 5f3f01_0 in 22.25648069381714 seconds\n",
      "Rescaling done in 37.90929579734802 seconds. Image shape is (2958, 1002, 3)\n"
     ]
    },
    {
     "name": "stderr",
     "output_type": "stream",
     "text": [
      " 39%|███▉      | 295/749 [1:54:35<2:48:18, 22.24s/it]"
     ]
    },
    {
     "name": "stdout",
     "output_type": "stream",
     "text": [
      "Done 5f4bd3_0 in 38.15120005607605 seconds\n"
     ]
    },
    {
     "name": "stderr",
     "output_type": "stream",
     "text": [
      " 40%|███▉      | 296/749 [1:54:36<1:59:54, 15.88s/it]"
     ]
    },
    {
     "name": "stdout",
     "output_type": "stream",
     "text": [
      "Rescaling done in 1.0139250755310059 seconds. Image shape is (271, 276, 3)\n",
      "Bad image 5f520a_0 crop_thr 0.6 only 0\n",
      "Bad image 5f520a_0 crop_thr 0.5 only 0\n",
      "Bad image 5f520a_0 crop_thr 0.4 only 2\n",
      "Bad image 5f520a_0 crop_thr 0.30000000000000004 only 2\n",
      "Bad image 5f520a_0 crop_thr 0.20000000000000007 only 2\n",
      "Bad image 5f520a_0 crop_thr 0.10000000000000009 only 2\n",
      "Bad image 5f520a_0 crop_thr 1.1102230246251565e-16 only 2\n",
      "No crops was found\n",
      "Done 5f520a_0 in 1.0359854698181152 seconds\n"
     ]
    },
    {
     "name": "stderr",
     "output_type": "stream",
     "text": [
      " 40%|███▉      | 297/749 [1:54:38<1:26:41, 11.51s/it]"
     ]
    },
    {
     "name": "stdout",
     "output_type": "stream",
     "text": [
      "Rescaling done in 1.2794084548950195 seconds. Image shape is (264, 280, 3)\n",
      "Bad image 5f520a_1 crop_thr 0.6 only 0\n",
      "Bad image 5f520a_1 crop_thr 0.5 only 0\n",
      "Bad image 5f520a_1 crop_thr 0.4 only 2\n",
      "Bad image 5f520a_1 crop_thr 0.30000000000000004 only 2\n",
      "Bad image 5f520a_1 crop_thr 0.20000000000000007 only 2\n",
      "Bad image 5f520a_1 crop_thr 0.10000000000000009 only 2\n",
      "Bad image 5f520a_1 crop_thr 1.1102230246251565e-16 only 2\n",
      "No crops was found\n",
      "Done 5f520a_1 in 1.3014302253723145 seconds\n"
     ]
    },
    {
     "name": "stderr",
     "output_type": "stream",
     "text": [
      " 40%|███▉      | 298/749 [1:54:42<1:10:46,  9.41s/it]"
     ]
    },
    {
     "name": "stdout",
     "output_type": "stream",
     "text": [
      "Rescaling done in 4.500149250030518 seconds. Image shape is (655, 507, 3)\n",
      "Done 5f5dc0_0 in 4.529629945755005 seconds\n"
     ]
    },
    {
     "name": "stderr",
     "output_type": "stream",
     "text": [
      " 40%|███▉      | 299/749 [1:54:49<1:03:49,  8.51s/it]"
     ]
    },
    {
     "name": "stdout",
     "output_type": "stream",
     "text": [
      "Rescaling done in 6.214748382568359 seconds. Image shape is (1885, 410, 3)\n",
      "Bad image 5fde88_0 crop_thr 0.6 only 0\n",
      "Bad image 5fde88_0 crop_thr 0.5 only 0\n",
      "Bad image 5fde88_0 crop_thr 0.4 only 2\n",
      "Done 5fde88_0 in 6.396723508834839 seconds\n"
     ]
    },
    {
     "name": "stderr",
     "output_type": "stream",
     "text": [
      " 40%|████      | 300/749 [1:55:12<1:37:21, 13.01s/it]"
     ]
    },
    {
     "name": "stdout",
     "output_type": "stream",
     "text": [
      "Rescaling done in 23.351975202560425 seconds. Image shape is (2151, 1005, 3)\n",
      "Done 5fdff2_0 in 23.511335134506226 seconds\n"
     ]
    },
    {
     "name": "stderr",
     "output_type": "stream",
     "text": [
      " 40%|████      | 301/749 [1:55:50<2:32:41, 20.45s/it]"
     ]
    },
    {
     "name": "stdout",
     "output_type": "stream",
     "text": [
      "Rescaling done in 37.607659578323364 seconds. Image shape is (2112, 1235, 3)\n",
      "Done 6015f7_0 in 37.80429649353027 seconds\n",
      "Rescaling done in 49.72524428367615 seconds. Image shape is (2726, 1278, 3)\n"
     ]
    },
    {
     "name": "stderr",
     "output_type": "stream",
     "text": [
      " 40%|████      | 302/749 [1:56:40<3:38:31, 29.33s/it]"
     ]
    },
    {
     "name": "stdout",
     "output_type": "stream",
     "text": [
      "Done 60a950_0 in 50.057782888412476 seconds\n"
     ]
    },
    {
     "name": "stderr",
     "output_type": "stream",
     "text": [
      " 40%|████      | 303/749 [1:56:55<3:05:28, 24.95s/it]"
     ]
    },
    {
     "name": "stdout",
     "output_type": "stream",
     "text": [
      "Rescaling done in 14.619676351547241 seconds. Image shape is (1960, 731, 3)\n",
      "Done 611a50_0 in 14.72569227218628 seconds\n"
     ]
    },
    {
     "name": "stderr",
     "output_type": "stream",
     "text": [
      " 41%|████      | 304/749 [1:57:06<2:35:51, 21.01s/it]"
     ]
    },
    {
     "name": "stdout",
     "output_type": "stream",
     "text": [
      "Rescaling done in 11.706443548202515 seconds. Image shape is (1037, 965, 3)\n",
      "Bad image 615d87_0 crop_thr 0.6 only 0\n",
      "Done 615d87_0 in 11.826329231262207 seconds\n",
      "Rescaling done in 18.333168029785156 seconds. Image shape is (2075, 868, 3)\n",
      "Bad image 616c62_0 crop_thr 0.6 only 0\n",
      "Bad image 616c62_0 crop_thr 0.5 only 0\n",
      "Bad image 616c62_0 crop_thr 0.4 only 2\n"
     ]
    },
    {
     "name": "stderr",
     "output_type": "stream",
     "text": [
      " 41%|████      | 305/749 [1:57:25<2:30:31, 20.34s/it]"
     ]
    },
    {
     "name": "stdout",
     "output_type": "stream",
     "text": [
      "Done 616c62_0 in 18.770796060562134 seconds\n"
     ]
    },
    {
     "name": "stderr",
     "output_type": "stream",
     "text": [
      " 41%|████      | 306/749 [1:57:53<2:45:32, 22.42s/it]"
     ]
    },
    {
     "name": "stdout",
     "output_type": "stream",
     "text": [
      "Rescaling done in 27.11197066307068 seconds. Image shape is (1997, 1052, 3)\n",
      "Done 616c62_1 in 27.273557901382446 seconds\n"
     ]
    },
    {
     "name": "stderr",
     "output_type": "stream",
     "text": [
      " 41%|████      | 307/749 [1:58:18<2:52:26, 23.41s/it]"
     ]
    },
    {
     "name": "stdout",
     "output_type": "stream",
     "text": [
      "Rescaling done in 25.64990735054016 seconds. Image shape is (533, 2077, 3)\n",
      "Done 623f89_0 in 25.706939458847046 seconds\n"
     ]
    },
    {
     "name": "stderr",
     "output_type": "stream",
     "text": [
      " 41%|████      | 308/749 [1:58:21<2:06:03, 17.15s/it]"
     ]
    },
    {
     "name": "stdout",
     "output_type": "stream",
     "text": [
      "Rescaling done in 2.4893133640289307 seconds. Image shape is (1199, 248, 3)\n",
      "Bad image 62dd90_0 crop_thr 0.6 only 0\n",
      "Bad image 62dd90_0 crop_thr 0.5 only 0\n",
      "Bad image 62dd90_0 crop_thr 0.4 only 1\n",
      "Done 62dd90_0 in 2.547356128692627 seconds\n",
      "Rescaling done in 129.74987411499023 seconds. Image shape is (1246, 3074, 3)\n"
     ]
    },
    {
     "name": "stderr",
     "output_type": "stream",
     "text": [
      " 41%|████▏     | 309/749 [2:00:31<6:14:12, 51.03s/it]"
     ]
    },
    {
     "name": "stdout",
     "output_type": "stream",
     "text": [
      "Done 634e2f_0 in 130.0741205215454 seconds\n"
     ]
    },
    {
     "name": "stderr",
     "output_type": "stream",
     "text": [
      " 41%|████▏     | 310/749 [2:00:44<4:50:02, 39.64s/it]"
     ]
    },
    {
     "name": "stdout",
     "output_type": "stream",
     "text": [
      "Rescaling done in 12.984919786453247 seconds. Image shape is (1576, 640, 3)\n",
      "Done 63f341_0 in 13.075008630752563 seconds\n"
     ]
    },
    {
     "name": "stderr",
     "output_type": "stream",
     "text": [
      " 42%|████▏     | 311/749 [2:00:51<3:38:44, 29.96s/it]"
     ]
    },
    {
     "name": "stdout",
     "output_type": "stream",
     "text": [
      "Rescaling done in 7.339381456375122 seconds. Image shape is (885, 598, 3)\n",
      "Done 64d167_0 in 7.380293846130371 seconds\n"
     ]
    },
    {
     "name": "stderr",
     "output_type": "stream",
     "text": [
      " 42%|████▏     | 312/749 [2:01:00<2:51:46, 23.58s/it]"
     ]
    },
    {
     "name": "stdout",
     "output_type": "stream",
     "text": [
      "Rescaling done in 8.637441635131836 seconds. Image shape is (1384, 642, 3)\n",
      "Done 652471_0 in 8.696230411529541 seconds\n"
     ]
    },
    {
     "name": "stderr",
     "output_type": "stream",
     "text": [
      " 42%|████▏     | 313/749 [2:01:08<2:16:29, 18.78s/it]"
     ]
    },
    {
     "name": "stdout",
     "output_type": "stream",
     "text": [
      "Rescaling done in 7.461871862411499 seconds. Image shape is (807, 874, 3)\n",
      "Bad image 6569ba_0 crop_thr 0.6 only 0\n",
      "Bad image 6569ba_0 crop_thr 0.5 only 2\n",
      "Done 6569ba_0 in 7.577772617340088 seconds\n",
      "Rescaling done in 26.12725567817688 seconds. Image shape is (1573, 1283, 3)\n",
      "Bad image 658beb_0 crop_thr 0.6 only 0\n",
      "Bad image 658beb_0 crop_thr 0.5 only 0\n",
      "Bad image 658beb_0 crop_thr 0.4 only 0\n"
     ]
    },
    {
     "name": "stderr",
     "output_type": "stream",
     "text": [
      " 42%|████▏     | 314/749 [2:01:34<2:33:15, 21.14s/it]"
     ]
    },
    {
     "name": "stdout",
     "output_type": "stream",
     "text": [
      "Done 658beb_0 in 26.633288383483887 seconds\n"
     ]
    },
    {
     "name": "stderr",
     "output_type": "stream",
     "text": [
      " 42%|████▏     | 315/749 [2:02:02<2:47:26, 23.15s/it]"
     ]
    },
    {
     "name": "stdout",
     "output_type": "stream",
     "text": [
      "Rescaling done in 27.716769456863403 seconds. Image shape is (1304, 1423, 3)\n",
      "Done 658beb_1 in 27.83421492576599 seconds\n"
     ]
    },
    {
     "name": "stderr",
     "output_type": "stream",
     "text": [
      " 42%|████▏     | 316/749 [2:02:31<2:58:43, 24.77s/it]"
     ]
    },
    {
     "name": "stdout",
     "output_type": "stream",
     "text": [
      "Rescaling done in 28.416252613067627 seconds. Image shape is (1613, 962, 3)\n",
      "Done 65aadd_0 in 28.53831720352173 seconds\n"
     ]
    },
    {
     "name": "stderr",
     "output_type": "stream",
     "text": [
      " 42%|████▏     | 317/749 [2:02:39<2:22:31, 19.79s/it]"
     ]
    },
    {
     "name": "stdout",
     "output_type": "stream",
     "text": [
      "Rescaling done in 8.135836362838745 seconds. Image shape is (1308, 550, 3)\n",
      "Done 65d1b4_0 in 8.192738056182861 seconds\n"
     ]
    },
    {
     "name": "stderr",
     "output_type": "stream",
     "text": [
      " 42%|████▏     | 318/749 [2:02:43<1:48:38, 15.12s/it]"
     ]
    },
    {
     "name": "stdout",
     "output_type": "stream",
     "text": [
      "Rescaling done in 4.037288188934326 seconds. Image shape is (851, 612, 3)\n",
      "Bad image 65fe16_0 crop_thr 0.6 only 0\n",
      "Bad image 65fe16_0 crop_thr 0.5 only 0\n",
      "Bad image 65fe16_0 crop_thr 0.4 only 0\n",
      "Bad image 65fe16_0 crop_thr 0.30000000000000004 only 0\n",
      "Bad image 65fe16_0 crop_thr 0.20000000000000007 only 0\n",
      "Bad image 65fe16_0 crop_thr 0.10000000000000009 only 0\n",
      "Done 65fe16_0 in 4.225926399230957 seconds\n",
      "Rescaling done in 58.45295000076294 seconds. Image shape is (789, 2659, 3)\n",
      "Bad image 6670b9_0 crop_thr 0.6 only 0\n"
     ]
    },
    {
     "name": "stderr",
     "output_type": "stream",
     "text": [
      " 43%|████▎     | 319/749 [2:03:42<3:22:15, 28.22s/it]"
     ]
    },
    {
     "name": "stdout",
     "output_type": "stream",
     "text": [
      "Bad image 6670b9_0 crop_thr 0.5 only 0\n",
      "Done 6670b9_0 in 58.78604078292847 seconds\n",
      "Rescaling done in 33.97573900222778 seconds. Image shape is (2573, 1049, 3)\n"
     ]
    },
    {
     "name": "stderr",
     "output_type": "stream",
     "text": [
      " 43%|████▎     | 320/749 [2:04:16<3:34:37, 30.02s/it]"
     ]
    },
    {
     "name": "stdout",
     "output_type": "stream",
     "text": [
      "Done 6674a4_0 in 34.20539093017578 seconds\n"
     ]
    },
    {
     "name": "stderr",
     "output_type": "stream",
     "text": [
      " 43%|████▎     | 321/749 [2:04:21<2:41:28, 22.64s/it]"
     ]
    },
    {
     "name": "stdout",
     "output_type": "stream",
     "text": [
      "Rescaling done in 5.272514343261719 seconds. Image shape is (1038, 550, 3)\n",
      "Bad image 673181_0 crop_thr 0.6 only 0\n",
      "Bad image 673181_0 crop_thr 0.5 only 0\n",
      "Bad image 673181_0 crop_thr 0.4 only 0\n",
      "Done 673181_0 in 5.411285877227783 seconds\n",
      "Rescaling done in 16.33895993232727 seconds. Image shape is (1652, 916, 3)\n",
      "Bad image 6747be_0 crop_thr 0.6 only 0\n",
      "Bad image 6747be_0 crop_thr 0.5 only 0\n"
     ]
    },
    {
     "name": "stderr",
     "output_type": "stream",
     "text": [
      " 43%|████▎     | 322/749 [2:04:38<2:28:27, 20.86s/it]"
     ]
    },
    {
     "name": "stdout",
     "output_type": "stream",
     "text": [
      "Bad image 6747be_0 crop_thr 0.4 only 0\n",
      "Done 6747be_0 in 16.716484308242798 seconds\n"
     ]
    },
    {
     "name": "stderr",
     "output_type": "stream",
     "text": [
      " 43%|████▎     | 323/749 [2:04:46<2:01:08, 17.06s/it]"
     ]
    },
    {
     "name": "stdout",
     "output_type": "stream",
     "text": [
      "Rescaling done in 8.0524320602417 seconds. Image shape is (1269, 596, 3)\n",
      "Bad image 6747be_1 crop_thr 0.6 only 0\n",
      "Bad image 6747be_1 crop_thr 0.5 only 0\n",
      "Done 6747be_1 in 8.194694995880127 seconds\n"
     ]
    },
    {
     "name": "stderr",
     "output_type": "stream",
     "text": [
      " 43%|████▎     | 324/749 [2:04:51<1:33:44, 13.23s/it]"
     ]
    },
    {
     "name": "stdout",
     "output_type": "stream",
     "text": [
      "Rescaling done in 4.2308738231658936 seconds. Image shape is (1065, 343, 3)\n",
      "Bad image 68eb0e_0 crop_thr 0.6 only 0\n",
      "Bad image 68eb0e_0 crop_thr 0.5 only 0\n",
      "Bad image 68eb0e_0 crop_thr 0.4 only 1\n",
      "Done 68eb0e_0 in 4.300537109375 seconds\n"
     ]
    },
    {
     "name": "stderr",
     "output_type": "stream",
     "text": [
      " 43%|████▎     | 325/749 [2:05:05<1:36:20, 13.63s/it]"
     ]
    },
    {
     "name": "stdout",
     "output_type": "stream",
     "text": [
      "Rescaling done in 14.473469257354736 seconds. Image shape is (1422, 779, 3)\n",
      "Done 690b81_0 in 14.56369161605835 seconds\n"
     ]
    },
    {
     "name": "stderr",
     "output_type": "stream",
     "text": [
      " 44%|████▎     | 326/749 [2:05:16<1:29:20, 12.67s/it]"
     ]
    },
    {
     "name": "stdout",
     "output_type": "stream",
     "text": [
      "Rescaling done in 10.365774869918823 seconds. Image shape is (1307, 780, 3)\n",
      "Done 69450f_0 in 10.431023120880127 seconds\n"
     ]
    },
    {
     "name": "stderr",
     "output_type": "stream",
     "text": [
      " 44%|████▎     | 327/749 [2:05:39<1:51:24, 15.84s/it]"
     ]
    },
    {
     "name": "stdout",
     "output_type": "stream",
     "text": [
      "Rescaling done in 23.07480263710022 seconds. Image shape is (2305, 913, 3)\n",
      "Done 69d655_0 in 23.232173919677734 seconds\n",
      "Rescaling done in 182.65270137786865 seconds. Image shape is (4225, 2012, 3)\n"
     ]
    },
    {
     "name": "stderr",
     "output_type": "stream",
     "text": [
      " 44%|████▍     | 328/749 [2:08:43<7:44:24, 66.19s/it]"
     ]
    },
    {
     "name": "stdout",
     "output_type": "stream",
     "text": [
      "Done 6baf51_0 in 183.65410375595093 seconds\n",
      "Rescaling done in 116.99039769172668 seconds. Image shape is (1918, 2297, 3)\n"
     ]
    },
    {
     "name": "stderr",
     "output_type": "stream",
     "text": [
      " 44%|████▍     | 329/749 [2:10:40<9:30:58, 81.57s/it]"
     ]
    },
    {
     "name": "stdout",
     "output_type": "stream",
     "text": [
      "Done 6baf51_1 in 117.45780444145203 seconds\n"
     ]
    },
    {
     "name": "stderr",
     "output_type": "stream",
     "text": [
      " 44%|████▍     | 330/749 [2:10:56<7:13:16, 62.04s/it]"
     ]
    },
    {
     "name": "stdout",
     "output_type": "stream",
     "text": [
      "Rescaling done in 16.37221360206604 seconds. Image shape is (2306, 729, 3)\n",
      "Done 6c4b62_0 in 16.48677110671997 seconds\n"
     ]
    },
    {
     "name": "stderr",
     "output_type": "stream",
     "text": [
      " 44%|████▍     | 331/749 [2:11:20<5:52:07, 50.55s/it]"
     ]
    },
    {
     "name": "stdout",
     "output_type": "stream",
     "text": [
      "Rescaling done in 23.57464289665222 seconds. Image shape is (2574, 866, 3)\n",
      "Done 6ce894_0 in 23.714597463607788 seconds\n",
      "Rescaling done in 28.199025869369507 seconds. Image shape is (1458, 1376, 3)\n",
      "Bad image 6e08cb_0 crop_thr 0.6 only 0\n"
     ]
    },
    {
     "name": "stderr",
     "output_type": "stream",
     "text": [
      " 44%|████▍     | 332/749 [2:11:49<5:05:30, 43.96s/it]"
     ]
    },
    {
     "name": "stdout",
     "output_type": "stream",
     "text": [
      "Bad image 6e08cb_0 crop_thr 0.5 only 0\n",
      "Done 6e08cb_0 in 28.582804441452026 seconds\n"
     ]
    },
    {
     "name": "stderr",
     "output_type": "stream",
     "text": [
      " 44%|████▍     | 333/749 [2:11:57<3:50:02, 33.18s/it]"
     ]
    },
    {
     "name": "stdout",
     "output_type": "stream",
     "text": [
      "Rescaling done in 7.877105236053467 seconds. Image shape is (1423, 596, 3)\n",
      "Bad image 6e211d_0 crop_thr 0.6 only 0\n",
      "Bad image 6e211d_0 crop_thr 0.5 only 2\n",
      "Done 6e211d_0 in 8.031203746795654 seconds\n"
     ]
    },
    {
     "name": "stderr",
     "output_type": "stream",
     "text": [
      " 45%|████▍     | 334/749 [2:11:59<2:44:32, 23.79s/it]"
     ]
    },
    {
     "name": "stdout",
     "output_type": "stream",
     "text": [
      "Rescaling done in 1.828537940979004 seconds. Image shape is (868, 241, 3)\n",
      "Bad image 6e6d49_0 crop_thr 0.6 only 0\n",
      "Bad image 6e6d49_0 crop_thr 0.5 only 0\n",
      "Bad image 6e6d49_0 crop_thr 0.4 only 0\n",
      "Bad image 6e6d49_0 crop_thr 0.30000000000000004 only 3\n",
      "Done 6e6d49_0 in 1.8753912448883057 seconds\n"
     ]
    },
    {
     "name": "stderr",
     "output_type": "stream",
     "text": [
      " 45%|████▍     | 335/749 [2:12:05<2:08:21, 18.60s/it]"
     ]
    },
    {
     "name": "stdout",
     "output_type": "stream",
     "text": [
      "Rescaling done in 6.459695100784302 seconds. Image shape is (730, 782, 3)\n",
      "Done 6f6e0c_0 in 6.498234510421753 seconds\n"
     ]
    },
    {
     "name": "stderr",
     "output_type": "stream",
     "text": [
      " 45%|████▍     | 336/749 [2:12:38<2:38:14, 22.99s/it]"
     ]
    },
    {
     "name": "stdout",
     "output_type": "stream",
     "text": [
      "Rescaling done in 33.06392693519592 seconds. Image shape is (2354, 1037, 3)\n",
      "Done 6f9575_0 in 33.22581171989441 seconds\n"
     ]
    },
    {
     "name": "stderr",
     "output_type": "stream",
     "text": [
      " 45%|████▍     | 337/749 [2:12:40<1:53:15, 16.49s/it]"
     ]
    },
    {
     "name": "stdout",
     "output_type": "stream",
     "text": [
      "Rescaling done in 1.2981224060058594 seconds. Image shape is (699, 198, 3)\n",
      "Bad image 6fac27_0 crop_thr 0.6 only 0\n",
      "Bad image 6fac27_0 crop_thr 0.5 only 0\n",
      "Bad image 6fac27_0 crop_thr 0.4 only 0\n",
      "Bad image 6fac27_0 crop_thr 0.30000000000000004 only 0\n",
      "Bad image 6fac27_0 crop_thr 0.20000000000000007 only 0\n",
      "Bad image 6fac27_0 crop_thr 0.10000000000000009 only 0\n",
      "Bad image 6fac27_0 crop_thr 1.1102230246251565e-16 only 0\n",
      "No crops was found\n",
      "Done 6fac27_0 in 1.3379414081573486 seconds\n",
      "Rescaling done in 193.48162174224854 seconds. Image shape is (1641, 3240, 3)\n"
     ]
    },
    {
     "name": "stderr",
     "output_type": "stream",
     "text": [
      " 45%|████▌     | 338/749 [2:15:54<7:57:41, 69.74s/it]"
     ]
    },
    {
     "name": "stdout",
     "output_type": "stream",
     "text": [
      "Done 6fce60_0 in 193.96585249900818 seconds\n"
     ]
    },
    {
     "name": "stderr",
     "output_type": "stream",
     "text": [
      " 45%|████▌     | 339/749 [2:16:26<6:39:34, 58.47s/it]"
     ]
    },
    {
     "name": "stdout",
     "output_type": "stream",
     "text": [
      "Rescaling done in 32.01466083526611 seconds. Image shape is (2535, 1049, 3)\n",
      "Done 6fe1f2_0 in 32.1962456703186 seconds\n",
      "Rescaling done in 45.435346364974976 seconds. Image shape is (2111, 1419, 3)\n"
     ]
    },
    {
     "name": "stderr",
     "output_type": "stream",
     "text": [
      " 45%|████▌     | 340/749 [2:17:12<6:12:23, 54.63s/it]"
     ]
    },
    {
     "name": "stdout",
     "output_type": "stream",
     "text": [
      "Done 709b79_0 in 45.65989303588867 seconds\n"
     ]
    },
    {
     "name": "stderr",
     "output_type": "stream",
     "text": [
      " 46%|████▌     | 341/749 [2:17:16<4:28:13, 39.45s/it]"
     ]
    },
    {
     "name": "stdout",
     "output_type": "stream",
     "text": [
      "Rescaling done in 3.9683995246887207 seconds. Image shape is (539, 645, 3)\n",
      "Bad image 70c523_0 crop_thr 0.6 only 2\n",
      "Done 70c523_0 in 4.0109169483184814 seconds\n"
     ]
    },
    {
     "name": "stderr",
     "output_type": "stream",
     "text": [
      " 46%|████▌     | 342/749 [2:17:17<3:09:53, 27.99s/it]"
     ]
    },
    {
     "name": "stdout",
     "output_type": "stream",
     "text": [
      "Rescaling done in 1.2249846458435059 seconds. Image shape is (844, 216, 3)\n",
      "Bad image 70c523_1 crop_thr 0.6 only 0\n",
      "Bad image 70c523_1 crop_thr 0.5 only 0\n",
      "Bad image 70c523_1 crop_thr 0.4 only 0\n",
      "Bad image 70c523_1 crop_thr 0.30000000000000004 only 0\n",
      "Bad image 70c523_1 crop_thr 0.20000000000000007 only 0\n",
      "Bad image 70c523_1 crop_thr 0.10000000000000009 only 0\n",
      "Bad image 70c523_1 crop_thr 1.1102230246251565e-16 only 0\n",
      "No crops was found\n",
      "Done 70c523_1 in 1.27579665184021 seconds\n",
      "Rescaling done in 20.44562840461731 seconds. Image shape is (1690, 1053, 3)\n",
      "Bad image 70c523_2 crop_thr 0.6 only 2\n"
     ]
    },
    {
     "name": "stderr",
     "output_type": "stream",
     "text": [
      " 46%|████▌     | 343/749 [2:17:38<2:54:34, 25.80s/it]"
     ]
    },
    {
     "name": "stdout",
     "output_type": "stream",
     "text": [
      "Done 70c523_2 in 20.67767596244812 seconds\n"
     ]
    },
    {
     "name": "stderr",
     "output_type": "stream",
     "text": [
      " 46%|████▌     | 344/749 [2:18:17<3:22:33, 30.01s/it]"
     ]
    },
    {
     "name": "stdout",
     "output_type": "stream",
     "text": [
      "Rescaling done in 39.63644218444824 seconds. Image shape is (1303, 1514, 3)\n",
      "Done 70f515_0 in 39.83006024360657 seconds\n"
     ]
    },
    {
     "name": "stderr",
     "output_type": "stream",
     "text": [
      " 46%|████▌     | 345/749 [2:18:37<3:00:24, 26.79s/it]"
     ]
    },
    {
     "name": "stdout",
     "output_type": "stream",
     "text": [
      "Rescaling done in 19.189575672149658 seconds. Image shape is (1614, 732, 3)\n",
      "Done 719165_0 in 19.284071922302246 seconds\n"
     ]
    },
    {
     "name": "stderr",
     "output_type": "stream",
     "text": [
      " 46%|████▌     | 346/749 [2:18:45<2:23:27, 21.36s/it]"
     ]
    },
    {
     "name": "stdout",
     "output_type": "stream",
     "text": [
      "Rescaling done in 8.62739634513855 seconds. Image shape is (1423, 549, 3)\n",
      "Done 72df9e_0 in 8.682236671447754 seconds\n"
     ]
    },
    {
     "name": "stderr",
     "output_type": "stream",
     "text": [
      " 46%|████▋     | 347/749 [2:19:04<2:16:48, 20.42s/it]"
     ]
    },
    {
     "name": "stdout",
     "output_type": "stream",
     "text": [
      "Rescaling done in 18.120192289352417 seconds. Image shape is (1728, 960, 3)\n",
      "Done 72df9e_1 in 18.222480058670044 seconds\n"
     ]
    },
    {
     "name": "stderr",
     "output_type": "stream",
     "text": [
      " 46%|████▋     | 348/749 [2:19:21<2:10:01, 19.45s/it]"
     ]
    },
    {
     "name": "stdout",
     "output_type": "stream",
     "text": [
      "Rescaling done in 17.09953284263611 seconds. Image shape is (1614, 824, 3)\n",
      "Done 72ead5_0 in 17.200921535491943 seconds\n"
     ]
    },
    {
     "name": "stderr",
     "output_type": "stream",
     "text": [
      " 47%|████▋     | 349/749 [2:19:38<2:06:01, 18.90s/it]"
     ]
    },
    {
     "name": "stdout",
     "output_type": "stream",
     "text": [
      "Rescaling done in 17.495386838912964 seconds. Image shape is (2691, 590, 3)\n",
      "Done 73c9a4_0 in 17.616249322891235 seconds\n"
     ]
    },
    {
     "name": "stderr",
     "output_type": "stream",
     "text": [
      " 47%|████▋     | 350/749 [2:19:45<1:41:42, 15.29s/it]"
     ]
    },
    {
     "name": "stdout",
     "output_type": "stream",
     "text": [
      "Rescaling done in 6.739224433898926 seconds. Image shape is (1038, 689, 3)\n",
      "Bad image 7428fc_0 crop_thr 0.6 only 0\n",
      "Bad image 7428fc_0 crop_thr 0.5 only 2\n",
      "Done 7428fc_0 in 6.870653867721558 seconds\n"
     ]
    },
    {
     "name": "stderr",
     "output_type": "stream",
     "text": [
      " 47%|████▋     | 351/749 [2:19:50<1:19:29, 11.98s/it]"
     ]
    },
    {
     "name": "stdout",
     "output_type": "stream",
     "text": [
      "Rescaling done in 4.235066175460815 seconds. Image shape is (501, 646, 3)\n",
      "Done 75e090_0 in 4.2595837116241455 seconds\n"
     ]
    },
    {
     "name": "stderr",
     "output_type": "stream",
     "text": [
      " 47%|████▋     | 352/749 [2:19:57<1:11:09, 10.76s/it]"
     ]
    },
    {
     "name": "stdout",
     "output_type": "stream",
     "text": [
      "Rescaling done in 7.828177452087402 seconds. Image shape is (1346, 595, 3)\n",
      "Done 75ee44_0 in 7.886380434036255 seconds\n",
      "Rescaling done in 5.178529262542725 seconds. Image shape is (1923, 411, 3)\n",
      "Bad image 7633ea_0 crop_thr 0.6 only 0\n",
      "Bad image 7633ea_0 crop_thr 0.5 only 0\n",
      "Bad image 7633ea_0 crop_thr 0.4 only 0\n",
      "Bad image 7633ea_0 crop_thr 0.30000000000000004 only 0\n"
     ]
    },
    {
     "name": "stderr",
     "output_type": "stream",
     "text": [
      " 47%|████▋     | 353/749 [2:20:03<1:00:33,  9.17s/it]"
     ]
    },
    {
     "name": "stdout",
     "output_type": "stream",
     "text": [
      "Bad image 7633ea_0 crop_thr 0.20000000000000007 only 0\n",
      "Bad image 7633ea_0 crop_thr 0.10000000000000009 only 2\n",
      "Done 7633ea_0 in 5.483237028121948 seconds\n"
     ]
    },
    {
     "name": "stderr",
     "output_type": "stream",
     "text": [
      " 47%|████▋     | 354/749 [2:20:12<59:30,  9.04s/it]  "
     ]
    },
    {
     "name": "stdout",
     "output_type": "stream",
     "text": [
      "Rescaling done in 8.660789728164673 seconds. Image shape is (1231, 596, 3)\n",
      "Done 777311_0 in 8.72070574760437 seconds\n"
     ]
    },
    {
     "name": "stderr",
     "output_type": "stream",
     "text": [
      " 47%|████▋     | 355/749 [2:20:17<52:22,  7.97s/it]"
     ]
    },
    {
     "name": "stdout",
     "output_type": "stream",
     "text": [
      "Rescaling done in 5.449501276016235 seconds. Image shape is (1308, 459, 3)\n",
      "Done 777311_1 in 5.4916627407073975 seconds\n"
     ]
    },
    {
     "name": "stderr",
     "output_type": "stream",
     "text": [
      " 48%|████▊     | 356/749 [2:20:24<50:59,  7.78s/it]"
     ]
    },
    {
     "name": "stdout",
     "output_type": "stream",
     "text": [
      "Rescaling done in 7.253389596939087 seconds. Image shape is (653, 874, 3)\n",
      "Bad image 78c1c9_0 crop_thr 0.6 only 0\n",
      "Bad image 78c1c9_0 crop_thr 0.5 only 0\n",
      "Done 78c1c9_0 in 7.3397216796875 seconds\n"
     ]
    },
    {
     "name": "stderr",
     "output_type": "stream",
     "text": [
      " 48%|████▊     | 357/749 [2:20:34<55:02,  8.42s/it]"
     ]
    },
    {
     "name": "stdout",
     "output_type": "stream",
     "text": [
      "Rescaling done in 9.87024474143982 seconds. Image shape is (807, 920, 3)\n",
      "Done 79753f_0 in 9.916918516159058 seconds\n"
     ]
    },
    {
     "name": "stderr",
     "output_type": "stream",
     "text": [
      " 48%|████▊     | 358/749 [2:20:55<1:19:25, 12.19s/it]"
     ]
    },
    {
     "name": "stdout",
     "output_type": "stream",
     "text": [
      "Rescaling done in 20.881227493286133 seconds. Image shape is (843, 1287, 3)\n",
      "Done 79ae8d_0 in 20.964006423950195 seconds\n"
     ]
    },
    {
     "name": "stderr",
     "output_type": "stream",
     "text": [
      " 48%|████▊     | 359/749 [2:21:14<1:32:09, 14.18s/it]"
     ]
    },
    {
     "name": "stdout",
     "output_type": "stream",
     "text": [
      "Rescaling done in 18.73279619216919 seconds. Image shape is (883, 1241, 3)\n",
      "Done 79ae8d_1 in 18.81939673423767 seconds\n"
     ]
    },
    {
     "name": "stderr",
     "output_type": "stream",
     "text": [
      " 48%|████▊     | 360/749 [2:21:21<1:17:13, 11.91s/it]"
     ]
    },
    {
     "name": "stdout",
     "output_type": "stream",
     "text": [
      "Rescaling done in 6.535487413406372 seconds. Image shape is (1961, 409, 3)\n",
      "Bad image 79d1c1_0 crop_thr 0.6 only 0\n",
      "Done 79d1c1_0 in 6.626567840576172 seconds\n",
      "Rescaling done in 10.95233941078186 seconds. Image shape is (1999, 639, 3)\n",
      "Bad image 79d1c1_1 crop_thr 0.6 only 0\n",
      "Bad image 79d1c1_1 crop_thr 0.5 only 0\n"
     ]
    },
    {
     "name": "stderr",
     "output_type": "stream",
     "text": [
      " 48%|████▊     | 361/749 [2:21:32<1:15:38, 11.70s/it]"
     ]
    },
    {
     "name": "stdout",
     "output_type": "stream",
     "text": [
      "Done 79d1c1_1 in 11.194260835647583 seconds\n",
      "Rescaling done in 31.305055141448975 seconds. Image shape is (1919, 1282, 3)\n"
     ]
    },
    {
     "name": "stderr",
     "output_type": "stream",
     "text": [
      " 48%|████▊     | 362/749 [2:22:04<1:53:47, 17.64s/it]"
     ]
    },
    {
     "name": "stdout",
     "output_type": "stream",
     "text": [
      "Done 79d52a_0 in 31.51433253288269 seconds\n"
     ]
    },
    {
     "name": "stderr",
     "output_type": "stream",
     "text": [
      " 48%|████▊     | 363/749 [2:22:37<2:24:04, 22.39s/it]"
     ]
    },
    {
     "name": "stdout",
     "output_type": "stream",
     "text": [
      "Rescaling done in 33.29322004318237 seconds. Image shape is (447, 2326, 3)\n",
      "Bad image 79d52a_1 crop_thr 0.6 only 0\n",
      "Bad image 79d52a_1 crop_thr 0.5 only 0\n",
      "Bad image 79d52a_1 crop_thr 0.4 only 0\n",
      "Done 79d52a_1 in 33.481900215148926 seconds\n"
     ]
    },
    {
     "name": "stderr",
     "output_type": "stream",
     "text": [
      " 49%|████▊     | 364/749 [2:22:50<2:06:08, 19.66s/it]"
     ]
    },
    {
     "name": "stdout",
     "output_type": "stream",
     "text": [
      "Rescaling done in 13.117573738098145 seconds. Image shape is (1576, 732, 3)\n",
      "Bad image 79e30d_0 crop_thr 0.6 only 0\n",
      "Done 79e30d_0 in 13.271833896636963 seconds\n"
     ]
    },
    {
     "name": "stderr",
     "output_type": "stream",
     "text": [
      " 49%|████▊     | 365/749 [2:23:08<2:01:57, 19.06s/it]"
     ]
    },
    {
     "name": "stdout",
     "output_type": "stream",
     "text": [
      "Rescaling done in 17.51671314239502 seconds. Image shape is (2075, 822, 3)\n",
      "Done 7a9bc8_0 in 17.649086713790894 seconds\n"
     ]
    },
    {
     "name": "stderr",
     "output_type": "stream",
     "text": [
      " 49%|████▉     | 366/749 [2:23:31<2:09:06, 20.22s/it]"
     ]
    },
    {
     "name": "stdout",
     "output_type": "stream",
     "text": [
      "Rescaling done in 22.807541608810425 seconds. Image shape is (2036, 914, 3)\n",
      "Done 7bc484_0 in 22.951152324676514 seconds\n"
     ]
    },
    {
     "name": "stderr",
     "output_type": "stream",
     "text": [
      " 49%|████▉     | 367/749 [2:23:46<1:59:48, 18.82s/it]"
     ]
    },
    {
     "name": "stdout",
     "output_type": "stream",
     "text": [
      "Rescaling done in 15.429923295974731 seconds. Image shape is (1614, 824, 3)\n",
      "Done 7c2739_0 in 15.530673265457153 seconds\n"
     ]
    },
    {
     "name": "stderr",
     "output_type": "stream",
     "text": [
      " 49%|████▉     | 368/749 [2:24:07<2:02:36, 19.31s/it]"
     ]
    },
    {
     "name": "stdout",
     "output_type": "stream",
     "text": [
      "Rescaling done in 20.328726291656494 seconds. Image shape is (1959, 915, 3)\n",
      "Done 7cf058_0 in 20.454107522964478 seconds\n"
     ]
    },
    {
     "name": "stderr",
     "output_type": "stream",
     "text": [
      " 49%|████▉     | 369/749 [2:24:36<2:21:21, 22.32s/it]"
     ]
    },
    {
     "name": "stdout",
     "output_type": "stream",
     "text": [
      "Rescaling done in 29.184722185134888 seconds. Image shape is (2073, 1143, 3)\n",
      "Done 7dd82f_0 in 29.345990657806396 seconds\n"
     ]
    },
    {
     "name": "stderr",
     "output_type": "stream",
     "text": [
      " 49%|████▉     | 370/749 [2:24:38<1:41:53, 16.13s/it]"
     ]
    },
    {
     "name": "stdout",
     "output_type": "stream",
     "text": [
      "Rescaling done in 1.6468632221221924 seconds. Image shape is (692, 251, 3)\n",
      "Bad image 7dd82f_1 crop_thr 0.6 only 0\n",
      "Bad image 7dd82f_1 crop_thr 0.5 only 0\n",
      "Bad image 7dd82f_1 crop_thr 0.4 only 0\n",
      "Bad image 7dd82f_1 crop_thr 0.30000000000000004 only 3\n",
      "Done 7dd82f_1 in 1.6871716976165771 seconds\n"
     ]
    },
    {
     "name": "stderr",
     "output_type": "stream",
     "text": [
      " 50%|████▉     | 371/749 [2:24:41<1:16:53, 12.21s/it]"
     ]
    },
    {
     "name": "stdout",
     "output_type": "stream",
     "text": [
      "Rescaling done in 2.995249032974243 seconds. Image shape is (848, 415, 3)\n",
      "Bad image 7e9a65_0 crop_thr 0.6 only 0\n",
      "Bad image 7e9a65_0 crop_thr 0.5 only 0\n",
      "Done 7e9a65_0 in 3.044649124145508 seconds\n"
     ]
    },
    {
     "name": "stderr",
     "output_type": "stream",
     "text": [
      " 50%|████▉     | 372/749 [2:24:44<59:18,  9.44s/it]  "
     ]
    },
    {
     "name": "stdout",
     "output_type": "stream",
     "text": [
      "Rescaling done in 2.968630790710449 seconds. Image shape is (269, 692, 3)\n",
      "Done 7f2ee2_0 in 2.9817817211151123 seconds\n"
     ]
    },
    {
     "name": "stderr",
     "output_type": "stream",
     "text": [
      " 50%|████▉     | 373/749 [2:24:50<53:04,  8.47s/it]"
     ]
    },
    {
     "name": "stdout",
     "output_type": "stream",
     "text": [
      "Rescaling done in 6.073615074157715 seconds. Image shape is (364, 1246, 3)\n",
      "Bad image 7f343b_0 crop_thr 0.6 only 0\n",
      "Bad image 7f343b_0 crop_thr 0.5 only 0\n",
      "Bad image 7f343b_0 crop_thr 0.4 only 0\n",
      "Bad image 7f343b_0 crop_thr 0.30000000000000004 only 0\n",
      "Bad image 7f343b_0 crop_thr 0.20000000000000007 only 0\n",
      "Done 7f343b_0 in 6.208869695663452 seconds\n",
      "Rescaling done in 44.512343406677246 seconds. Image shape is (2457, 1280, 3)\n"
     ]
    },
    {
     "name": "stderr",
     "output_type": "stream",
     "text": [
      " 50%|████▉     | 374/749 [2:25:35<2:01:01, 19.36s/it]"
     ]
    },
    {
     "name": "stdout",
     "output_type": "stream",
     "text": [
      "Done 7f3781_0 in 44.783050537109375 seconds\n"
     ]
    },
    {
     "name": "stderr",
     "output_type": "stream",
     "text": [
      " 50%|█████     | 375/749 [2:25:43<1:40:20, 16.10s/it]"
     ]
    },
    {
     "name": "stdout",
     "output_type": "stream",
     "text": [
      "Rescaling done in 8.411869764328003 seconds. Image shape is (1153, 688, 3)\n",
      "Done 7fa91f_0 in 8.471099853515625 seconds\n"
     ]
    },
    {
     "name": "stderr",
     "output_type": "stream",
     "text": [
      " 50%|█████     | 376/749 [2:25:45<1:13:49, 11.88s/it]"
     ]
    },
    {
     "name": "stdout",
     "output_type": "stream",
     "text": [
      "Rescaling done in 2.013693332672119 seconds. Image shape is (425, 324, 3)\n",
      "Done 7fa91f_1 in 2.026560068130493 seconds\n"
     ]
    },
    {
     "name": "stderr",
     "output_type": "stream",
     "text": [
      " 50%|█████     | 377/749 [2:25:58<1:14:32, 12.02s/it]"
     ]
    },
    {
     "name": "stdout",
     "output_type": "stream",
     "text": [
      "Rescaling done in 12.27160120010376 seconds. Image shape is (1306, 779, 3)\n",
      "Done 7fd9f4_0 in 12.367668151855469 seconds\n"
     ]
    },
    {
     "name": "stderr",
     "output_type": "stream",
     "text": [
      " 50%|█████     | 378/749 [2:26:15<1:24:12, 13.62s/it]"
     ]
    },
    {
     "name": "stdout",
     "output_type": "stream",
     "text": [
      "Rescaling done in 17.208043098449707 seconds. Image shape is (2613, 682, 3)\n",
      "Done 802de5_0 in 17.340900182724 seconds\n"
     ]
    },
    {
     "name": "stderr",
     "output_type": "stream",
     "text": [
      " 51%|█████     | 379/749 [2:26:26<1:18:41, 12.76s/it]"
     ]
    },
    {
     "name": "stdout",
     "output_type": "stream",
     "text": [
      "Rescaling done in 10.682864427566528 seconds. Image shape is (1230, 734, 3)\n",
      "Done 804f15_0 in 10.754795789718628 seconds\n"
     ]
    },
    {
     "name": "stderr",
     "output_type": "stream",
     "text": [
      " 51%|█████     | 380/749 [2:26:29<1:01:06,  9.94s/it]"
     ]
    },
    {
     "name": "stdout",
     "output_type": "stream",
     "text": [
      "Rescaling done in 3.2952475547790527 seconds. Image shape is (1117, 321, 3)\n",
      "Bad image 80cc1b_0 crop_thr 0.6 only 0\n",
      "Bad image 80cc1b_0 crop_thr 0.5 only 2\n",
      "Done 80cc1b_0 in 3.3456928730010986 seconds\n",
      "Rescaling done in 23.84433150291443 seconds. Image shape is (1805, 1099, 3)\n",
      "Bad image 81092a_0 crop_thr 0.6 only 0\n"
     ]
    },
    {
     "name": "stderr",
     "output_type": "stream",
     "text": [
      " 51%|█████     | 381/749 [2:26:53<1:27:12, 14.22s/it]"
     ]
    },
    {
     "name": "stdout",
     "output_type": "stream",
     "text": [
      "Bad image 81092a_0 crop_thr 0.5 only 2\n",
      "Done 81092a_0 in 24.206810474395752 seconds\n"
     ]
    },
    {
     "name": "stderr",
     "output_type": "stream",
     "text": [
      " 51%|█████     | 382/749 [2:27:04<1:19:45, 13.04s/it]"
     ]
    },
    {
     "name": "stdout",
     "output_type": "stream",
     "text": [
      "Rescaling done in 10.21580958366394 seconds. Image shape is (2192, 408, 3)\n",
      "Done 81eb29_0 in 10.291228532791138 seconds\n",
      "Rescaling done in 46.96147871017456 seconds. Image shape is (2149, 1373, 3)\n"
     ]
    },
    {
     "name": "stderr",
     "output_type": "stream",
     "text": [
      " 51%|█████     | 383/749 [2:27:51<2:22:08, 23.30s/it]"
     ]
    },
    {
     "name": "stdout",
     "output_type": "stream",
     "text": [
      "Done 820c9f_0 in 47.24282121658325 seconds\n"
     ]
    },
    {
     "name": "stderr",
     "output_type": "stream",
     "text": [
      " 51%|█████▏    | 384/749 [2:28:09<2:12:55, 21.85s/it]"
     ]
    },
    {
     "name": "stdout",
     "output_type": "stream",
     "text": [
      "Rescaling done in 18.284701824188232 seconds. Image shape is (2306, 684, 3)\n",
      "Done 821964_0 in 18.46345329284668 seconds\n",
      "Rescaling done in 6.489515542984009 seconds. Image shape is (2039, 457, 3)\n",
      "Bad image 82399d_0 crop_thr 0.6 only 0\n",
      "Bad image 82399d_0 crop_thr 0.5 only 0\n",
      "Bad image 82399d_0 crop_thr 0.4 only 0\n",
      "Bad image 82399d_0 crop_thr 0.30000000000000004 only 0\n"
     ]
    },
    {
     "name": "stderr",
     "output_type": "stream",
     "text": [
      " 51%|█████▏    | 385/749 [2:28:16<1:45:07, 17.33s/it]"
     ]
    },
    {
     "name": "stdout",
     "output_type": "stream",
     "text": [
      "Bad image 82399d_0 crop_thr 0.20000000000000007 only 0\n",
      "Done 82399d_0 in 6.774723529815674 seconds\n"
     ]
    },
    {
     "name": "stderr",
     "output_type": "stream",
     "text": [
      " 52%|█████▏    | 386/749 [2:28:45<2:05:36, 20.76s/it]"
     ]
    },
    {
     "name": "stdout",
     "output_type": "stream",
     "text": [
      "Rescaling done in 28.56996488571167 seconds. Image shape is (2420, 958, 3)\n",
      "Done 82399d_1 in 28.770411491394043 seconds\n"
     ]
    },
    {
     "name": "stderr",
     "output_type": "stream",
     "text": [
      " 52%|█████▏    | 387/749 [2:28:48<1:32:30, 15.33s/it]"
     ]
    },
    {
     "name": "stdout",
     "output_type": "stream",
     "text": [
      "Rescaling done in 2.6084868907928467 seconds. Image shape is (956, 294, 3)\n",
      "Bad image 82399d_2 crop_thr 0.6 only 0\n",
      "Bad image 82399d_2 crop_thr 0.5 only 0\n",
      "Bad image 82399d_2 crop_thr 0.4 only 2\n",
      "Done 82399d_2 in 2.6616921424865723 seconds\n",
      "Rescaling done in 23.185349464416504 seconds. Image shape is (2613, 773, 3)\n"
     ]
    },
    {
     "name": "stderr",
     "output_type": "stream",
     "text": [
      " 52%|█████▏    | 388/749 [2:29:11<1:46:48, 17.75s/it]"
     ]
    },
    {
     "name": "stdout",
     "output_type": "stream",
     "text": [
      "Done 82653f_0 in 23.402150869369507 seconds\n",
      "Rescaling done in 48.02529048919678 seconds. Image shape is (2226, 1372, 3)\n"
     ]
    },
    {
     "name": "stderr",
     "output_type": "stream",
     "text": [
      " 52%|█████▏    | 389/749 [2:29:59<2:41:24, 26.90s/it]"
     ]
    },
    {
     "name": "stdout",
     "output_type": "stream",
     "text": [
      "Done 827928_0 in 48.244752168655396 seconds\n",
      "Rescaling done in 45.786914110183716 seconds. Image shape is (2496, 1188, 3)\n"
     ]
    },
    {
     "name": "stderr",
     "output_type": "stream",
     "text": [
      " 52%|█████▏    | 390/749 [2:30:45<3:15:19, 32.64s/it]"
     ]
    },
    {
     "name": "stdout",
     "output_type": "stream",
     "text": [
      "Done 827928_1 in 46.04512977600098 seconds\n",
      "Rescaling done in 46.33639883995056 seconds. Image shape is (2457, 1233, 3)\n"
     ]
    },
    {
     "name": "stderr",
     "output_type": "stream",
     "text": [
      " 52%|█████▏    | 391/749 [2:31:32<3:39:40, 36.82s/it]"
     ]
    },
    {
     "name": "stdout",
     "output_type": "stream",
     "text": [
      "Done 83198b_0 in 46.5515353679657 seconds\n"
     ]
    },
    {
     "name": "stderr",
     "output_type": "stream",
     "text": [
      " 52%|█████▏    | 392/749 [2:31:35<2:38:55, 26.71s/it]"
     ]
    },
    {
     "name": "stdout",
     "output_type": "stream",
     "text": [
      "Rescaling done in 3.0138661861419678 seconds. Image shape is (1800, 216, 3)\n",
      "Bad image 83ae16_0 crop_thr 0.6 only 0\n",
      "Bad image 83ae16_0 crop_thr 0.5 only 0\n",
      "Bad image 83ae16_0 crop_thr 0.4 only 0\n",
      "Bad image 83ae16_0 crop_thr 0.30000000000000004 only 0\n",
      "Bad image 83ae16_0 crop_thr 0.20000000000000007 only 0\n",
      "Bad image 83ae16_0 crop_thr 0.10000000000000009 only 0\n",
      "Bad image 83ae16_0 crop_thr 1.1102230246251565e-16 only 0\n",
      "No crops was found\n",
      "Done 83ae16_0 in 3.1243135929107666 seconds\n"
     ]
    },
    {
     "name": "stderr",
     "output_type": "stream",
     "text": [
      " 52%|█████▏    | 393/749 [2:31:46<2:09:40, 21.86s/it]"
     ]
    },
    {
     "name": "stdout",
     "output_type": "stream",
     "text": [
      "Rescaling done in 10.44502854347229 seconds. Image shape is (1807, 640, 3)\n",
      "Done 83bfad_0 in 10.528391122817993 seconds\n",
      "Rescaling done in 149.52061653137207 seconds. Image shape is (1216, 3157, 3)\n"
     ]
    },
    {
     "name": "stderr",
     "output_type": "stream",
     "text": [
      " 53%|█████▎    | 394/749 [2:34:15<5:56:29, 60.25s/it]"
     ]
    },
    {
     "name": "stdout",
     "output_type": "stream",
     "text": [
      "Done 83cedb_0 in 149.83814406394958 seconds\n"
     ]
    },
    {
     "name": "stderr",
     "output_type": "stream",
     "text": [
      " 53%|█████▎    | 395/749 [2:34:18<4:13:07, 42.90s/it]"
     ]
    },
    {
     "name": "stdout",
     "output_type": "stream",
     "text": [
      "Rescaling done in 2.4084925651550293 seconds. Image shape is (425, 370, 3)\n",
      "Done 8408a6_0 in 2.4208996295928955 seconds\n",
      "Rescaling done in 81.22438549995422 seconds. Image shape is (2994, 1461, 3)\n"
     ]
    },
    {
     "name": "stderr",
     "output_type": "stream",
     "text": [
      " 53%|█████▎    | 396/749 [2:35:39<5:20:42, 54.51s/it]"
     ]
    },
    {
     "name": "stdout",
     "output_type": "stream",
     "text": [
      "Done 845d82_0 in 81.60136723518372 seconds\n",
      "Rescaling done in 30.90314245223999 seconds. Image shape is (2120, 1200, 3)\n",
      "Bad image 84f77e_0 crop_thr 0.6 only 0\n",
      "Bad image 84f77e_0 crop_thr 0.5 only 0\n",
      "Bad image 84f77e_0 crop_thr 0.4 only 0\n"
     ]
    },
    {
     "name": "stderr",
     "output_type": "stream",
     "text": [
      " 53%|█████▎    | 397/749 [2:36:11<4:39:44, 47.68s/it]"
     ]
    },
    {
     "name": "stdout",
     "output_type": "stream",
     "text": [
      "Bad image 84f77e_0 crop_thr 0.30000000000000004 only 0\n",
      "Done 84f77e_0 in 31.75024175643921 seconds\n"
     ]
    },
    {
     "name": "stderr",
     "output_type": "stream",
     "text": [
      " 53%|█████▎    | 398/749 [2:36:17<3:24:47, 35.01s/it]"
     ]
    },
    {
     "name": "stdout",
     "output_type": "stream",
     "text": [
      "Rescaling done in 5.238907337188721 seconds. Image shape is (1149, 549, 3)\n",
      "Bad image 856ae6_0 crop_thr 0.6 only 0\n",
      "Bad image 856ae6_0 crop_thr 0.5 only 0\n",
      "Bad image 856ae6_0 crop_thr 0.4 only 0\n",
      "Bad image 856ae6_0 crop_thr 0.30000000000000004 only 0\n",
      "Done 856ae6_0 in 5.425781726837158 seconds\n"
     ]
    },
    {
     "name": "stderr",
     "output_type": "stream",
     "text": [
      " 53%|█████▎    | 399/749 [2:36:27<2:40:29, 27.51s/it]"
     ]
    },
    {
     "name": "stdout",
     "output_type": "stream",
     "text": [
      "Rescaling done in 9.834913492202759 seconds. Image shape is (833, 1026, 3)\n",
      "Bad image 85868f_0 crop_thr 0.6 only 0\n",
      "Bad image 85868f_0 crop_thr 0.5 only 0\n",
      "Bad image 85868f_0 crop_thr 0.4 only 2\n",
      "Done 85868f_0 in 10.023056268692017 seconds\n"
     ]
    },
    {
     "name": "stderr",
     "output_type": "stream",
     "text": [
      " 53%|█████▎    | 400/749 [2:36:51<2:34:09, 26.50s/it]"
     ]
    },
    {
     "name": "stdout",
     "output_type": "stream",
     "text": [
      "Rescaling done in 24.006067037582397 seconds. Image shape is (2344, 867, 3)\n",
      "Done 862501_0 in 24.148988485336304 seconds\n"
     ]
    },
    {
     "name": "stderr",
     "output_type": "stream",
     "text": [
      " 54%|█████▎    | 401/749 [2:37:07<2:16:17, 23.50s/it]"
     ]
    },
    {
     "name": "stdout",
     "output_type": "stream",
     "text": [
      "Rescaling done in 16.37154459953308 seconds. Image shape is (2537, 636, 3)\n",
      "Done 862501_1 in 16.48145890235901 seconds\n",
      "Rescaling done in 47.702356815338135 seconds. Image shape is (2496, 1234, 3)\n"
     ]
    },
    {
     "name": "stderr",
     "output_type": "stream",
     "text": [
      " 54%|█████▎    | 402/749 [2:37:55<2:58:19, 30.83s/it]"
     ]
    },
    {
     "name": "stdout",
     "output_type": "stream",
     "text": [
      "Done 86696d_0 in 47.9482684135437 seconds\n",
      "Rescaling done in 67.15992522239685 seconds. Image shape is (1344, 2160, 3)\n",
      "Bad image 868720_0 crop_thr 0.6 only 0\n",
      "Bad image 868720_0 crop_thr 0.5 only 2\n"
     ]
    },
    {
     "name": "stderr",
     "output_type": "stream",
     "text": [
      " 54%|█████▍    | 403/749 [2:39:03<4:01:54, 41.95s/it]"
     ]
    },
    {
     "name": "stdout",
     "output_type": "stream",
     "text": [
      "Done 868720_0 in 67.89045643806458 seconds\n"
     ]
    },
    {
     "name": "stderr",
     "output_type": "stream",
     "text": [
      " 54%|█████▍    | 404/749 [2:39:07<2:56:25, 30.68s/it]"
     ]
    },
    {
     "name": "stdout",
     "output_type": "stream",
     "text": [
      "Rescaling done in 4.195011377334595 seconds. Image shape is (962, 552, 3)\n",
      "Bad image 86e319_0 crop_thr 0.6 only 0\n",
      "Bad image 86e319_0 crop_thr 0.5 only 0\n",
      "Bad image 86e319_0 crop_thr 0.4 only 0\n",
      "Bad image 86e319_0 crop_thr 0.30000000000000004 only 0\n",
      "Bad image 86e319_0 crop_thr 0.20000000000000007 only 0\n",
      "Done 86e319_0 in 4.38477349281311 seconds\n",
      "Rescaling done in 47.33635115623474 seconds. Image shape is (2688, 1233, 3)\n",
      "Bad image 86e319_1 crop_thr 0.6 only 0\n"
     ]
    },
    {
     "name": "stderr",
     "output_type": "stream",
     "text": [
      " 54%|█████▍    | 405/749 [2:39:55<3:25:25, 35.83s/it]"
     ]
    },
    {
     "name": "stdout",
     "output_type": "stream",
     "text": [
      "Done 86e319_1 in 47.83985376358032 seconds\n"
     ]
    },
    {
     "name": "stderr",
     "output_type": "stream",
     "text": [
      " 54%|█████▍    | 406/749 [2:40:00<2:31:20, 26.47s/it]"
     ]
    },
    {
     "name": "stdout",
     "output_type": "stream",
     "text": [
      "Rescaling done in 4.4436609745025635 seconds. Image shape is (988, 566, 3)\n",
      "Bad image 86e319_2 crop_thr 0.6 only 0\n",
      "Bad image 86e319_2 crop_thr 0.5 only 0\n",
      "Bad image 86e319_2 crop_thr 0.4 only 0\n",
      "Bad image 86e319_2 crop_thr 0.30000000000000004 only 0\n",
      "Bad image 86e319_2 crop_thr 0.20000000000000007 only 0\n",
      "Done 86e319_2 in 4.640677213668823 seconds\n",
      "Rescaling done in 9.846433877944946 seconds. Image shape is (1740, 651, 3)\n",
      "Bad image 8768db_0 crop_thr 0.6 only 0\n",
      "Bad image 8768db_0 crop_thr 0.5 only 0\n",
      "Bad image 8768db_0 crop_thr 0.4 only 0\n"
     ]
    },
    {
     "name": "stderr",
     "output_type": "stream",
     "text": [
      " 54%|█████▍    | 407/749 [2:40:10<2:02:55, 21.57s/it]"
     ]
    },
    {
     "name": "stdout",
     "output_type": "stream",
     "text": [
      "Done 8768db_0 in 10.1141037940979 seconds\n"
     ]
    },
    {
     "name": "stderr",
     "output_type": "stream",
     "text": [
      " 54%|█████▍    | 408/749 [2:40:21<1:44:15, 18.35s/it]"
     ]
    },
    {
     "name": "stdout",
     "output_type": "stream",
     "text": [
      "Rescaling done in 10.703968524932861 seconds. Image shape is (1538, 687, 3)\n",
      "Bad image 8781e2_0 crop_thr 0.6 only 2\n",
      "Done 8781e2_0 in 10.829789400100708 seconds\n",
      "Rescaling done in 84.44870686531067 seconds. Image shape is (3263, 1506, 3)\n"
     ]
    },
    {
     "name": "stderr",
     "output_type": "stream",
     "text": [
      " 55%|█████▍    | 409/749 [2:41:46<3:37:03, 38.30s/it]"
     ]
    },
    {
     "name": "stdout",
     "output_type": "stream",
     "text": [
      "Done 880f54_0 in 84.87265062332153 seconds\n",
      "Rescaling done in 27.708563089370728 seconds. Image shape is (2151, 1051, 3)\n",
      "Bad image 88623d_0 crop_thr 0.6 only 0\n"
     ]
    },
    {
     "name": "stderr",
     "output_type": "stream",
     "text": [
      " 55%|█████▍    | 410/749 [2:42:14<3:18:55, 35.21s/it]"
     ]
    },
    {
     "name": "stdout",
     "output_type": "stream",
     "text": [
      "Done 88623d_0 in 27.983853816986084 seconds\n"
     ]
    },
    {
     "name": "stderr",
     "output_type": "stream",
     "text": [
      " 55%|█████▍    | 411/749 [2:42:21<2:31:21, 26.87s/it]"
     ]
    },
    {
     "name": "stdout",
     "output_type": "stream",
     "text": [
      "Rescaling done in 7.275013446807861 seconds. Image shape is (1231, 596, 3)\n",
      "Bad image 89933b_0 crop_thr 0.6 only 0\n",
      "Bad image 89933b_0 crop_thr 0.5 only 0\n",
      "Done 89933b_0 in 7.407997131347656 seconds\n"
     ]
    },
    {
     "name": "stderr",
     "output_type": "stream",
     "text": [
      " 55%|█████▌    | 412/749 [2:42:28<1:57:15, 20.88s/it]"
     ]
    },
    {
     "name": "stdout",
     "output_type": "stream",
     "text": [
      "Rescaling done in 6.701395273208618 seconds. Image shape is (1539, 503, 3)\n",
      "Bad image 8a17b7_0 crop_thr 0.6 only 0\n",
      "Bad image 8a17b7_0 crop_thr 0.5 only 0\n",
      "Bad image 8a17b7_0 crop_thr 0.4 only 0\n",
      "Done 8a17b7_0 in 6.897762060165405 seconds\n"
     ]
    },
    {
     "name": "stderr",
     "output_type": "stream",
     "text": [
      " 55%|█████▌    | 413/749 [2:42:30<1:25:08, 15.20s/it]"
     ]
    },
    {
     "name": "stdout",
     "output_type": "stream",
     "text": [
      "Rescaling done in 1.9111003875732422 seconds. Image shape is (875, 262, 3)\n",
      "Bad image 8b3323_0 crop_thr 0.6 only 0\n",
      "Bad image 8b3323_0 crop_thr 0.5 only 0\n",
      "Bad image 8b3323_0 crop_thr 0.4 only 0\n",
      "Bad image 8b3323_0 crop_thr 0.30000000000000004 only 0\n",
      "Done 8b3323_0 in 1.9628729820251465 seconds\n",
      "Rescaling done in 25.622392177581787 seconds. Image shape is (2382, 775, 3)\n"
     ]
    },
    {
     "name": "stderr",
     "output_type": "stream",
     "text": [
      " 55%|█████▌    | 414/749 [2:42:56<1:42:52, 18.43s/it]"
     ]
    },
    {
     "name": "stdout",
     "output_type": "stream",
     "text": [
      "Done 8b90fa_0 in 25.939935445785522 seconds\n",
      "Rescaling done in 43.530370235443115 seconds. Image shape is (2418, 1280, 3)\n"
     ]
    },
    {
     "name": "stderr",
     "output_type": "stream",
     "text": [
      " 55%|█████▌    | 415/749 [2:43:40<2:24:55, 26.03s/it]"
     ]
    },
    {
     "name": "stdout",
     "output_type": "stream",
     "text": [
      "Done 8be762_0 in 43.776105642318726 seconds\n",
      "Rescaling done in 10.948936700820923 seconds. Image shape is (2467, 510, 3)\n",
      "Bad image 8c24eb_0 crop_thr 0.6 only 0\n",
      "Bad image 8c24eb_0 crop_thr 0.5 only 0\n"
     ]
    },
    {
     "name": "stderr",
     "output_type": "stream",
     "text": [
      " 56%|█████▌    | 416/749 [2:43:51<1:59:54, 21.61s/it]"
     ]
    },
    {
     "name": "stdout",
     "output_type": "stream",
     "text": [
      "Bad image 8c24eb_0 crop_thr 0.4 only 3\n",
      "Done 8c24eb_0 in 11.271381378173828 seconds\n"
     ]
    },
    {
     "name": "stderr",
     "output_type": "stream",
     "text": [
      " 56%|█████▌    | 417/749 [2:43:55<1:29:48, 16.23s/it]"
     ]
    },
    {
     "name": "stdout",
     "output_type": "stream",
     "text": [
      "Rescaling done in 3.6536569595336914 seconds. Image shape is (664, 442, 3)\n",
      "Bad image 8cf32b_0 crop_thr 0.6 only 2\n",
      "Done 8cf32b_0 in 3.686530113220215 seconds\n"
     ]
    },
    {
     "name": "stderr",
     "output_type": "stream",
     "text": [
      " 56%|█████▌    | 418/749 [2:44:11<1:29:50, 16.28s/it]"
     ]
    },
    {
     "name": "stdout",
     "output_type": "stream",
     "text": [
      "Rescaling done in 16.31120991706848 seconds. Image shape is (1614, 824, 3)\n",
      "Done 8d60c1_0 in 16.410440683364868 seconds\n"
     ]
    },
    {
     "name": "stderr",
     "output_type": "stream",
     "text": [
      " 56%|█████▌    | 419/749 [2:44:20<1:16:44, 13.95s/it]"
     ]
    },
    {
     "name": "stdout",
     "output_type": "stream",
     "text": [
      "Rescaling done in 8.47355604171753 seconds. Image shape is (846, 736, 3)\n",
      "Done 8e0244_0 in 8.51458215713501 seconds\n"
     ]
    },
    {
     "name": "stderr",
     "output_type": "stream",
     "text": [
      " 56%|█████▌    | 420/749 [2:44:24<1:00:18, 11.00s/it]"
     ]
    },
    {
     "name": "stdout",
     "output_type": "stream",
     "text": [
      "Rescaling done in 4.082496643066406 seconds. Image shape is (578, 553, 3)\n",
      "Done 8e0684_0 in 4.101574182510376 seconds\n"
     ]
    },
    {
     "name": "stderr",
     "output_type": "stream",
     "text": [
      " 56%|█████▌    | 421/749 [2:44:42<1:12:04, 13.18s/it]"
     ]
    },
    {
     "name": "stdout",
     "output_type": "stream",
     "text": [
      "Rescaling done in 18.161121129989624 seconds. Image shape is (1768, 824, 3)\n",
      "Done 8ebb0c_0 in 18.278859853744507 seconds\n"
     ]
    },
    {
     "name": "stderr",
     "output_type": "stream",
     "text": [
      " 56%|█████▋    | 422/749 [2:45:11<1:38:10, 18.01s/it]"
     ]
    },
    {
     "name": "stdout",
     "output_type": "stream",
     "text": [
      "Rescaling done in 29.112157106399536 seconds. Image shape is (1920, 1098, 3)\n",
      "Done 8f71df_0 in 29.281874179840088 seconds\n"
     ]
    },
    {
     "name": "stderr",
     "output_type": "stream",
     "text": [
      " 56%|█████▋    | 423/749 [2:45:16<1:16:26, 14.07s/it]"
     ]
    },
    {
     "name": "stdout",
     "output_type": "stream",
     "text": [
      "Rescaling done in 4.827258825302124 seconds. Image shape is (616, 599, 3)\n",
      "Done 8fa951_0 in 4.860093355178833 seconds\n"
     ]
    },
    {
     "name": "stderr",
     "output_type": "stream",
     "text": [
      " 57%|█████▋    | 424/749 [2:45:17<55:25, 10.23s/it]  "
     ]
    },
    {
     "name": "stdout",
     "output_type": "stream",
     "text": [
      "Rescaling done in 1.2614238262176514 seconds. Image shape is (313, 223, 3)\n",
      "Bad image 8fc6d5_0 crop_thr 0.6 only 0\n",
      "Bad image 8fc6d5_0 crop_thr 0.5 only 0\n",
      "Bad image 8fc6d5_0 crop_thr 0.4 only 0\n",
      "Bad image 8fc6d5_0 crop_thr 0.30000000000000004 only 0\n",
      "Bad image 8fc6d5_0 crop_thr 0.20000000000000007 only 0\n",
      "Bad image 8fc6d5_0 crop_thr 0.10000000000000009 only 0\n",
      "Bad image 8fc6d5_0 crop_thr 1.1102230246251565e-16 only 0\n",
      "No crops was found\n",
      "Done 8fc6d5_0 in 1.2810790538787842 seconds\n"
     ]
    },
    {
     "name": "stderr",
     "output_type": "stream",
     "text": [
      " 57%|█████▋    | 425/749 [2:45:40<1:15:33, 13.99s/it]"
     ]
    },
    {
     "name": "stdout",
     "output_type": "stream",
     "text": [
      "Rescaling done in 22.640625953674316 seconds. Image shape is (1728, 1007, 3)\n",
      "Done 8fe2eb_0 in 22.760120391845703 seconds\n"
     ]
    },
    {
     "name": "stderr",
     "output_type": "stream",
     "text": [
      " 57%|█████▋    | 426/749 [2:45:58<1:21:13, 15.09s/it]"
     ]
    },
    {
     "name": "stdout",
     "output_type": "stream",
     "text": [
      "Rescaling done in 17.543256521224976 seconds. Image shape is (2037, 777, 3)\n",
      "Done 9010a1_0 in 17.643993377685547 seconds\n"
     ]
    },
    {
     "name": "stderr",
     "output_type": "stream",
     "text": [
      " 57%|█████▋    | 427/749 [2:46:16<1:26:36, 16.14s/it]"
     ]
    },
    {
     "name": "stdout",
     "output_type": "stream",
     "text": [
      "Rescaling done in 18.48051404953003 seconds. Image shape is (1806, 732, 3)\n",
      "Done 907f7b_0 in 18.590587615966797 seconds\n"
     ]
    },
    {
     "name": "stderr",
     "output_type": "stream",
     "text": [
      " 57%|█████▋    | 428/749 [2:46:28<1:18:08, 14.61s/it]"
     ]
    },
    {
     "name": "stdout",
     "output_type": "stream",
     "text": [
      "Rescaling done in 10.852676630020142 seconds. Image shape is (1383, 778, 3)\n",
      "Bad image 90ffa4_0 crop_thr 0.6 only 0\n",
      "Bad image 90ffa4_0 crop_thr 0.5 only 0\n",
      "Done 90ffa4_0 in 11.028899908065796 seconds\n"
     ]
    },
    {
     "name": "stderr",
     "output_type": "stream",
     "text": [
      " 57%|█████▋    | 429/749 [2:46:36<1:07:44, 12.70s/it]"
     ]
    },
    {
     "name": "stdout",
     "output_type": "stream",
     "text": [
      "Rescaling done in 8.086519718170166 seconds. Image shape is (1345, 687, 3)\n",
      "Bad image 90ffa4_1 crop_thr 0.6 only 0\n",
      "Bad image 90ffa4_1 crop_thr 0.5 only 0\n",
      "Bad image 90ffa4_1 crop_thr 0.4 only 0\n",
      "Done 90ffa4_1 in 8.254317045211792 seconds\n"
     ]
    },
    {
     "name": "stderr",
     "output_type": "stream",
     "text": [
      " 57%|█████▋    | 430/749 [2:46:58<1:23:15, 15.66s/it]"
     ]
    },
    {
     "name": "stdout",
     "output_type": "stream",
     "text": [
      "Rescaling done in 22.41307544708252 seconds. Image shape is (2459, 820, 3)\n",
      "Done 915264_0 in 22.558696269989014 seconds\n"
     ]
    },
    {
     "name": "stderr",
     "output_type": "stream",
     "text": [
      " 58%|█████▊    | 431/749 [2:47:01<1:02:17, 11.75s/it]"
     ]
    },
    {
     "name": "stdout",
     "output_type": "stream",
     "text": [
      "Rescaling done in 2.567261219024658 seconds. Image shape is (302, 835, 3)\n",
      "Bad image 91b9d3_0 crop_thr 0.6 only 0\n",
      "Bad image 91b9d3_0 crop_thr 0.5 only 0\n",
      "Bad image 91b9d3_0 crop_thr 0.4 only 0\n",
      "Bad image 91b9d3_0 crop_thr 0.30000000000000004 only 0\n",
      "Bad image 91b9d3_0 crop_thr 0.20000000000000007 only 3\n",
      "Done 91b9d3_0 in 2.6413650512695312 seconds\n",
      "Rescaling done in 8.764865636825562 seconds. Image shape is (1930, 545, 3)\n",
      "Bad image 91b9d3_1 crop_thr 0.6 only 0\n",
      "Bad image 91b9d3_1 crop_thr 0.5 only 0\n",
      "Bad image 91b9d3_1 crop_thr 0.4 only 0\n"
     ]
    },
    {
     "name": "stderr",
     "output_type": "stream",
     "text": [
      " 58%|█████▊    | 432/749 [2:47:10<57:47, 10.94s/it]  "
     ]
    },
    {
     "name": "stdout",
     "output_type": "stream",
     "text": [
      "Done 91b9d3_1 in 9.029622554779053 seconds\n"
     ]
    },
    {
     "name": "stderr",
     "output_type": "stream",
     "text": [
      " 58%|█████▊    | 433/749 [2:47:19<54:33, 10.36s/it]"
     ]
    },
    {
     "name": "stdout",
     "output_type": "stream",
     "text": [
      "Rescaling done in 8.940368175506592 seconds. Image shape is (613, 1196, 3)\n",
      "Bad image 91b9d3_2 crop_thr 0.6 only 0\n",
      "Done 91b9d3_2 in 9.009190082550049 seconds\n",
      "Rescaling done in 32.02792954444885 seconds. Image shape is (2112, 1143, 3)\n"
     ]
    },
    {
     "name": "stderr",
     "output_type": "stream",
     "text": [
      " 58%|█████▊    | 434/749 [2:47:51<1:28:52, 16.93s/it]"
     ]
    },
    {
     "name": "stdout",
     "output_type": "stream",
     "text": [
      "Done 91b9d3_3 in 32.25460648536682 seconds\n"
     ]
    },
    {
     "name": "stderr",
     "output_type": "stream",
     "text": [
      " 58%|█████▊    | 435/749 [2:48:08<1:27:37, 16.74s/it]"
     ]
    },
    {
     "name": "stdout",
     "output_type": "stream",
     "text": [
      "Rescaling done in 16.2046000957489 seconds. Image shape is (960, 1149, 3)\n",
      "Done 91b9d3_4 in 16.306135892868042 seconds\n"
     ]
    },
    {
     "name": "stderr",
     "output_type": "stream",
     "text": [
      " 58%|█████▊    | 436/749 [2:48:10<1:05:04, 12.47s/it]"
     ]
    },
    {
     "name": "stdout",
     "output_type": "stream",
     "text": [
      "Rescaling done in 2.4276647567749023 seconds. Image shape is (692, 464, 3)\n",
      "Bad image 91fee7_0 crop_thr 0.6 only 0\n",
      "Bad image 91fee7_0 crop_thr 0.5 only 0\n",
      "Bad image 91fee7_0 crop_thr 0.4 only 0\n",
      "Bad image 91fee7_0 crop_thr 0.30000000000000004 only 0\n",
      "Bad image 91fee7_0 crop_thr 0.20000000000000007 only 0\n",
      "Done 91fee7_0 in 2.5135998725891113 seconds\n"
     ]
    },
    {
     "name": "stderr",
     "output_type": "stream",
     "text": [
      " 58%|█████▊    | 437/749 [2:48:14<51:42,  9.94s/it]  "
     ]
    },
    {
     "name": "stdout",
     "output_type": "stream",
     "text": [
      "Rescaling done in 4.018804550170898 seconds. Image shape is (539, 553, 3)\n",
      "Done 931cea_0 in 4.040603399276733 seconds\n"
     ]
    },
    {
     "name": "stderr",
     "output_type": "stream",
     "text": [
      " 58%|█████▊    | 438/749 [2:48:17<40:49,  7.88s/it]"
     ]
    },
    {
     "name": "stdout",
     "output_type": "stream",
     "text": [
      "Rescaling done in 3.020625352859497 seconds. Image shape is (540, 462, 3)\n",
      "Bad image 931cea_1 crop_thr 0.6 only 2\n",
      "Done 931cea_1 in 3.0479736328125 seconds\n",
      "Rescaling done in 61.97328782081604 seconds. Image shape is (3533, 1229, 3)\n"
     ]
    },
    {
     "name": "stderr",
     "output_type": "stream",
     "text": [
      " 59%|█████▊    | 439/749 [2:49:20<2:05:12, 24.23s/it]"
     ]
    },
    {
     "name": "stdout",
     "output_type": "stream",
     "text": [
      "Done 9452da_0 in 62.40450668334961 seconds\n"
     ]
    },
    {
     "name": "stderr",
     "output_type": "stream",
     "text": [
      " 59%|█████▊    | 440/749 [2:49:29<1:41:53, 19.79s/it]"
     ]
    },
    {
     "name": "stdout",
     "output_type": "stream",
     "text": [
      "Rescaling done in 9.332154035568237 seconds. Image shape is (1500, 549, 3)\n",
      "Done 949107_0 in 9.401042938232422 seconds\n"
     ]
    },
    {
     "name": "stderr",
     "output_type": "stream",
     "text": [
      " 59%|█████▉    | 441/749 [2:49:34<1:19:06, 15.41s/it]"
     ]
    },
    {
     "name": "stdout",
     "output_type": "stream",
     "text": [
      "Rescaling done in 5.173176288604736 seconds. Image shape is (1347, 412, 3)\n",
      "Done 957643_0 in 5.207258701324463 seconds\n"
     ]
    },
    {
     "name": "stderr",
     "output_type": "stream",
     "text": [
      " 59%|█████▉    | 442/749 [2:50:02<1:38:20, 19.22s/it]"
     ]
    },
    {
     "name": "stdout",
     "output_type": "stream",
     "text": [
      "Rescaling done in 27.921391487121582 seconds. Image shape is (1650, 1191, 3)\n",
      "Done 977a49_0 in 28.099920511245728 seconds\n"
     ]
    },
    {
     "name": "stderr",
     "output_type": "stream",
     "text": [
      " 59%|█████▉    | 443/749 [2:50:26<1:45:36, 20.71s/it]"
     ]
    },
    {
     "name": "stdout",
     "output_type": "stream",
     "text": [
      "Rescaling done in 24.036670684814453 seconds. Image shape is (2228, 913, 3)\n",
      "Done 98123e_0 in 24.183157444000244 seconds\n"
     ]
    },
    {
     "name": "stderr",
     "output_type": "stream",
     "text": [
      " 59%|█████▉    | 444/749 [2:50:59<2:02:43, 24.14s/it]"
     ]
    },
    {
     "name": "stdout",
     "output_type": "stream",
     "text": [
      "Rescaling done in 31.996979236602783 seconds. Image shape is (1419, 1468, 3)\n",
      "Done 983df1_0 in 32.15059685707092 seconds\n",
      "Rescaling done in 83.75262379646301 seconds. Image shape is (4690, 1275, 3)\n"
     ]
    },
    {
     "name": "stderr",
     "output_type": "stream",
     "text": [
      " 59%|█████▉    | 445/749 [2:52:23<3:33:55, 42.22s/it]"
     ]
    },
    {
     "name": "stdout",
     "output_type": "stream",
     "text": [
      "Done 9874eb_0 in 84.41250085830688 seconds\n"
     ]
    },
    {
     "name": "stderr",
     "output_type": "stream",
     "text": [
      " 60%|█████▉    | 446/749 [2:52:37<2:50:11, 33.70s/it]"
     ]
    },
    {
     "name": "stdout",
     "output_type": "stream",
     "text": [
      "Rescaling done in 13.659743547439575 seconds. Image shape is (1421, 917, 3)\n",
      "Bad image 988131_0 crop_thr 0.6 only 0\n",
      "Done 988131_0 in 13.810287475585938 seconds\n"
     ]
    },
    {
     "name": "stderr",
     "output_type": "stream",
     "text": [
      " 60%|█████▉    | 447/749 [2:52:48<2:15:47, 26.98s/it]"
     ]
    },
    {
     "name": "stdout",
     "output_type": "stream",
     "text": [
      "Rescaling done in 11.246893644332886 seconds. Image shape is (652, 1196, 3)\n",
      "Done 98db2b_0 in 11.296865463256836 seconds\n"
     ]
    },
    {
     "name": "stderr",
     "output_type": "stream",
     "text": [
      " 60%|█████▉    | 448/749 [2:52:51<1:38:36, 19.66s/it]"
     ]
    },
    {
     "name": "stdout",
     "output_type": "stream",
     "text": [
      "Rescaling done in 2.439248561859131 seconds. Image shape is (967, 382, 3)\n",
      "Bad image 991ad1_0 crop_thr 0.6 only 0\n",
      "Bad image 991ad1_0 crop_thr 0.5 only 0\n",
      "Bad image 991ad1_0 crop_thr 0.4 only 0\n",
      "Bad image 991ad1_0 crop_thr 0.30000000000000004 only 0\n",
      "Bad image 991ad1_0 crop_thr 0.20000000000000007 only 0\n",
      "Bad image 991ad1_0 crop_thr 0.10000000000000009 only 2\n",
      "Done 991ad1_0 in 2.5666909217834473 seconds\n",
      "Rescaling done in 125.72411012649536 seconds. Image shape is (1013, 3489, 3)\n"
     ]
    },
    {
     "name": "stderr",
     "output_type": "stream",
     "text": [
      " 60%|█████▉    | 449/749 [2:54:57<4:17:45, 51.55s/it]"
     ]
    },
    {
     "name": "stdout",
     "output_type": "stream",
     "text": [
      "Done 992abf_0 in 125.9782145023346 seconds\n"
     ]
    },
    {
     "name": "stderr",
     "output_type": "stream",
     "text": [
      " 60%|██████    | 450/749 [2:55:01<3:06:53, 37.50s/it]"
     ]
    },
    {
     "name": "stdout",
     "output_type": "stream",
     "text": [
      "Rescaling done in 4.6486146450042725 seconds. Image shape is (1220, 403, 3)\n",
      "Bad image 9961af_0 crop_thr 0.6 only 0\n",
      "Done 9961af_0 in 4.720644474029541 seconds\n",
      "Rescaling done in 102.03490209579468 seconds. Image shape is (3151, 1648, 3)\n"
     ]
    },
    {
     "name": "stderr",
     "output_type": "stream",
     "text": [
      " 60%|██████    | 451/749 [2:56:44<4:43:17, 57.04s/it]"
     ]
    },
    {
     "name": "stdout",
     "output_type": "stream",
     "text": [
      "Done 99c5c8_0 in 102.61396551132202 seconds\n",
      "Rescaling done in 33.057663679122925 seconds. Image shape is (3112, 955, 3)\n",
      "Bad image 9a807e_0 crop_thr 0.6 only 3\n"
     ]
    },
    {
     "name": "stderr",
     "output_type": "stream",
     "text": [
      " 60%|██████    | 452/749 [2:57:18<4:07:18, 49.96s/it]"
     ]
    },
    {
     "name": "stdout",
     "output_type": "stream",
     "text": [
      "Done 9a807e_0 in 33.45058822631836 seconds\n"
     ]
    },
    {
     "name": "stderr",
     "output_type": "stream",
     "text": [
      " 60%|██████    | 453/749 [2:57:26<3:04:29, 37.40s/it]"
     ]
    },
    {
     "name": "stdout",
     "output_type": "stream",
     "text": [
      "Rescaling done in 8.02001690864563 seconds. Image shape is (1500, 457, 3)\n",
      "Done 9cc010_0 in 8.074126482009888 seconds\n"
     ]
    },
    {
     "name": "stderr",
     "output_type": "stream",
     "text": [
      " 61%|██████    | 454/749 [2:57:35<2:22:54, 29.07s/it]"
     ]
    },
    {
     "name": "stdout",
     "output_type": "stream",
     "text": [
      "Rescaling done in 9.568349361419678 seconds. Image shape is (1461, 595, 3)\n",
      "Done 9d609a_0 in 9.626255750656128 seconds\n",
      "Rescaling done in 18.49952507019043 seconds. Image shape is (2152, 821, 3)\n",
      "Bad image 9d71ef_0 crop_thr 0.6 only 0\n"
     ]
    },
    {
     "name": "stderr",
     "output_type": "stream",
     "text": [
      " 61%|██████    | 455/749 [2:57:54<2:07:24, 26.00s/it]"
     ]
    },
    {
     "name": "stdout",
     "output_type": "stream",
     "text": [
      "Bad image 9d71ef_0 crop_thr 0.5 only 0\n",
      "Done 9d71ef_0 in 18.85442328453064 seconds\n",
      "Rescaling done in 11.074257135391235 seconds. Image shape is (651, 1242, 3)\n",
      "Bad image 9dd7d8_0 crop_thr 0.6 only 0\n",
      "Bad image 9dd7d8_0 crop_thr 0.5 only 0\n",
      "Bad image 9dd7d8_0 crop_thr 0.4 only 0\n",
      "Bad image 9dd7d8_0 crop_thr 0.30000000000000004 only 3\n"
     ]
    },
    {
     "name": "stderr",
     "output_type": "stream",
     "text": [
      " 61%|██████    | 456/749 [2:58:05<1:45:24, 21.59s/it]"
     ]
    },
    {
     "name": "stdout",
     "output_type": "stream",
     "text": [
      "Done 9dd7d8_0 in 11.280420541763306 seconds\n"
     ]
    },
    {
     "name": "stderr",
     "output_type": "stream",
     "text": [
      " 61%|██████    | 457/749 [2:58:12<1:22:37, 16.98s/it]"
     ]
    },
    {
     "name": "stdout",
     "output_type": "stream",
     "text": [
      "Rescaling done in 6.180553436279297 seconds. Image shape is (1270, 412, 3)\n",
      "Done 9de0fa_0 in 6.218533515930176 seconds\n"
     ]
    },
    {
     "name": "stderr",
     "output_type": "stream",
     "text": [
      " 61%|██████    | 458/749 [2:58:15<1:02:32, 12.89s/it]"
     ]
    },
    {
     "name": "stdout",
     "output_type": "stream",
     "text": [
      "Rescaling done in 3.2599358558654785 seconds. Image shape is (889, 464, 3)\n",
      "Bad image 9e06cb_0 crop_thr 0.6 only 0\n",
      "Bad image 9e06cb_0 crop_thr 0.5 only 0\n",
      "Bad image 9e06cb_0 crop_thr 0.4 only 0\n",
      "Bad image 9e06cb_0 crop_thr 0.30000000000000004 only 0\n",
      "Done 9e06cb_0 in 3.3671133518218994 seconds\n",
      "Rescaling done in 14.423246622085571 seconds. Image shape is (2152, 684, 3)\n",
      "Bad image 9eda1d_0 crop_thr 0.6 only 0\n",
      "Bad image 9eda1d_0 crop_thr 0.5 only 3\n"
     ]
    },
    {
     "name": "stderr",
     "output_type": "stream",
     "text": [
      " 61%|██████▏   | 459/749 [2:58:30<1:04:56, 13.43s/it]"
     ]
    },
    {
     "name": "stdout",
     "output_type": "stream",
     "text": [
      "Done 9eda1d_0 in 14.695841312408447 seconds\n"
     ]
    },
    {
     "name": "stderr",
     "output_type": "stream",
     "text": [
      " 61%|██████▏   | 460/749 [2:58:37<55:34, 11.54s/it]  "
     ]
    },
    {
     "name": "stdout",
     "output_type": "stream",
     "text": [
      "Rescaling done in 7.050681114196777 seconds. Image shape is (731, 690, 3)\n",
      "Bad image 9ee0e2_0 crop_thr 0.6 only 1\n",
      "Done 9ee0e2_0 in 7.1098997592926025 seconds\n"
     ]
    },
    {
     "name": "stderr",
     "output_type": "stream",
     "text": [
      " 62%|██████▏   | 461/749 [2:58:46<52:19, 10.90s/it]"
     ]
    },
    {
     "name": "stdout",
     "output_type": "stream",
     "text": [
      "Rescaling done in 9.354236841201782 seconds. Image shape is (1307, 642, 3)\n",
      "Done 9efc03_0 in 9.410703659057617 seconds\n"
     ]
    },
    {
     "name": "stderr",
     "output_type": "stream",
     "text": [
      " 62%|██████▏   | 462/749 [2:58:59<55:22, 11.58s/it]"
     ]
    },
    {
     "name": "stdout",
     "output_type": "stream",
     "text": [
      "Rescaling done in 13.081481456756592 seconds. Image shape is (1768, 685, 3)\n",
      "Done 9f0f05_0 in 13.157297134399414 seconds\n"
     ]
    },
    {
     "name": "stderr",
     "output_type": "stream",
     "text": [
      " 62%|██████▏   | 463/749 [2:59:01<41:42,  8.75s/it]"
     ]
    },
    {
     "name": "stdout",
     "output_type": "stream",
     "text": [
      "Rescaling done in 2.1359400749206543 seconds. Image shape is (397, 439, 3)\n",
      "Bad image 9f305c_0 crop_thr 0.6 only 2\n",
      "Done 9f305c_0 in 2.155579090118408 seconds\n"
     ]
    },
    {
     "name": "stderr",
     "output_type": "stream",
     "text": [
      " 62%|██████▏   | 464/749 [2:59:12<43:41,  9.20s/it]"
     ]
    },
    {
     "name": "stdout",
     "output_type": "stream",
     "text": [
      "Rescaling done in 10.168195247650146 seconds. Image shape is (2268, 500, 3)\n",
      "Done 9f7649_0 in 10.239073753356934 seconds\n"
     ]
    },
    {
     "name": "stderr",
     "output_type": "stream",
     "text": [
      " 62%|██████▏   | 465/749 [2:59:24<47:50, 10.11s/it]"
     ]
    },
    {
     "name": "stdout",
     "output_type": "stream",
     "text": [
      "Rescaling done in 12.08207631111145 seconds. Image shape is (2345, 545, 3)\n",
      "Bad image 9f7649_1 crop_thr 0.6 only 0\n",
      "Done 9f7649_1 in 12.228256225585938 seconds\n",
      "Rescaling done in 14.2522132396698 seconds. Image shape is (1267, 963, 3)\n",
      "Bad image 9f84c0_0 crop_thr 0.6 only 0\n",
      "Bad image 9f84c0_0 crop_thr 0.5 only 0\n"
     ]
    },
    {
     "name": "stderr",
     "output_type": "stream",
     "text": [
      " 62%|██████▏   | 466/749 [2:59:38<53:52, 11.42s/it]"
     ]
    },
    {
     "name": "stdout",
     "output_type": "stream",
     "text": [
      "Done 9f84c0_0 in 14.483914136886597 seconds\n"
     ]
    },
    {
     "name": "stderr",
     "output_type": "stream",
     "text": [
      " 62%|██████▏   | 467/749 [2:59:41<41:15,  8.78s/it]"
     ]
    },
    {
     "name": "stdout",
     "output_type": "stream",
     "text": [
      "Rescaling done in 2.5566065311431885 seconds. Image shape is (1019, 308, 3)\n",
      "Bad image 9fa03a_0 crop_thr 0.6 only 0\n",
      "Bad image 9fa03a_0 crop_thr 0.5 only 0\n",
      "Bad image 9fa03a_0 crop_thr 0.4 only 0\n",
      "Done 9fa03a_0 in 2.6157584190368652 seconds\n"
     ]
    },
    {
     "name": "stderr",
     "output_type": "stream",
     "text": [
      " 62%|██████▏   | 468/749 [3:00:07<1:05:46, 14.04s/it]"
     ]
    },
    {
     "name": "stdout",
     "output_type": "stream",
     "text": [
      "Rescaling done in 26.14613127708435 seconds. Image shape is (2458, 912, 3)\n",
      "Done 9fc787_0 in 26.326104879379272 seconds\n",
      "Rescaling done in 37.14325308799744 seconds. Image shape is (2842, 1139, 3)\n",
      "Bad image 9fd56b_0 crop_thr 0.6 only 0\n",
      "Bad image 9fd56b_0 crop_thr 0.5 only 0\n"
     ]
    },
    {
     "name": "stderr",
     "output_type": "stream",
     "text": [
      " 63%|██████▎   | 469/749 [3:00:45<1:38:54, 21.20s/it]"
     ]
    },
    {
     "name": "stdout",
     "output_type": "stream",
     "text": [
      "Done 9fd56b_0 in 37.882269620895386 seconds\n"
     ]
    },
    {
     "name": "stderr",
     "output_type": "stream",
     "text": [
      " 63%|██████▎   | 470/749 [3:00:54<1:21:08, 17.45s/it]"
     ]
    },
    {
     "name": "stdout",
     "output_type": "stream",
     "text": [
      "Rescaling done in 8.641970157623291 seconds. Image shape is (1269, 596, 3)\n",
      "Done 9fdc31_0 in 8.705872535705566 seconds\n"
     ]
    },
    {
     "name": "stderr",
     "output_type": "stream",
     "text": [
      " 63%|██████▎   | 471/749 [3:01:00<1:05:21, 14.11s/it]"
     ]
    },
    {
     "name": "stdout",
     "output_type": "stream",
     "text": [
      "Rescaling done in 6.1818225383758545 seconds. Image shape is (1154, 551, 3)\n",
      "Bad image a1f13b_0 crop_thr 0.6 only 0\n",
      "Bad image a1f13b_0 crop_thr 0.5 only 0\n",
      "Done a1f13b_0 in 6.301738739013672 seconds\n",
      "Rescaling done in 103.31814002990723 seconds. Image shape is (1038, 3074, 3)\n"
     ]
    },
    {
     "name": "stderr",
     "output_type": "stream",
     "text": [
      " 63%|██████▎   | 472/749 [3:02:44<3:09:04, 40.95s/it]"
     ]
    },
    {
     "name": "stdout",
     "output_type": "stream",
     "text": [
      "Done a22718_0 in 103.59709310531616 seconds\n"
     ]
    },
    {
     "name": "stderr",
     "output_type": "stream",
     "text": [
      " 63%|██████▎   | 473/749 [3:02:55<2:26:33, 31.86s/it]"
     ]
    },
    {
     "name": "stdout",
     "output_type": "stream",
     "text": [
      "Rescaling done in 10.602762937545776 seconds. Image shape is (654, 875, 3)\n",
      "Done a24fac_0 in 10.648370742797852 seconds\n",
      "Rescaling done in 25.457177877426147 seconds. Image shape is (2359, 754, 3)\n",
      "Bad image a26055_0 crop_thr 0.6 only 0\n"
     ]
    },
    {
     "name": "stderr",
     "output_type": "stream",
     "text": [
      " 63%|██████▎   | 474/749 [3:03:20<2:17:44, 30.05s/it]"
     ]
    },
    {
     "name": "stdout",
     "output_type": "stream",
     "text": [
      "Bad image a26055_0 crop_thr 0.5 only 2\n",
      "Done a26055_0 in 25.827046632766724 seconds\n"
     ]
    },
    {
     "name": "stderr",
     "output_type": "stream",
     "text": [
      " 63%|██████▎   | 475/749 [3:03:45<2:09:43, 28.41s/it]"
     ]
    },
    {
     "name": "stdout",
     "output_type": "stream",
     "text": [
      "Rescaling done in 24.421489477157593 seconds. Image shape is (2382, 866, 3)\n",
      "Done a26055_1 in 24.56529712677002 seconds\n",
      "Rescaling done in 46.68996262550354 seconds. Image shape is (2765, 1232, 3)\n",
      "Bad image a26055_2 crop_thr 0.6 only 0\n"
     ]
    },
    {
     "name": "stderr",
     "output_type": "stream",
     "text": [
      " 64%|██████▎   | 476/749 [3:04:32<2:34:49, 34.03s/it]"
     ]
    },
    {
     "name": "stdout",
     "output_type": "stream",
     "text": [
      "Done a26055_2 in 47.136080741882324 seconds\n"
     ]
    },
    {
     "name": "stderr",
     "output_type": "stream",
     "text": [
      " 64%|██████▎   | 477/749 [3:04:45<2:05:03, 27.59s/it]"
     ]
    },
    {
     "name": "stdout",
     "output_type": "stream",
     "text": [
      "Rescaling done in 12.472541809082031 seconds. Image shape is (1499, 779, 3)\n",
      "Done a2b566_0 in 12.558789014816284 seconds\n"
     ]
    },
    {
     "name": "stderr",
     "output_type": "stream",
     "text": [
      " 64%|██████▍   | 478/749 [3:04:49<1:33:06, 20.62s/it]"
     ]
    },
    {
     "name": "stdout",
     "output_type": "stream",
     "text": [
      "Rescaling done in 4.20124077796936 seconds. Image shape is (1002, 506, 3)\n",
      "Bad image a2c497_0 crop_thr 0.6 only 0\n",
      "Bad image a2c497_0 crop_thr 0.5 only 0\n",
      "Bad image a2c497_0 crop_thr 0.4 only 0\n",
      "Bad image a2c497_0 crop_thr 0.30000000000000004 only 0\n",
      "Done a2c497_0 in 4.351792335510254 seconds\n"
     ]
    },
    {
     "name": "stderr",
     "output_type": "stream",
     "text": [
      " 64%|██████▍   | 479/749 [3:04:55<1:12:48, 16.18s/it]"
     ]
    },
    {
     "name": "stdout",
     "output_type": "stream",
     "text": [
      "Rescaling done in 5.63016414642334 seconds. Image shape is (1077, 597, 3)\n",
      "Bad image a3a4cb_0 crop_thr 0.6 only 0\n",
      "Bad image a3a4cb_0 crop_thr 0.5 only 0\n",
      "Bad image a3a4cb_0 crop_thr 0.4 only 0\n",
      "Bad image a3a4cb_0 crop_thr 0.30000000000000004 only 0\n",
      "Done a3a4cb_0 in 5.82176947593689 seconds\n"
     ]
    },
    {
     "name": "stderr",
     "output_type": "stream",
     "text": [
      " 64%|██████▍   | 480/749 [3:05:02<1:00:33, 13.51s/it]"
     ]
    },
    {
     "name": "stdout",
     "output_type": "stream",
     "text": [
      "Rescaling done in 7.2284016609191895 seconds. Image shape is (1231, 550, 3)\n",
      "Done a45b72_0 in 7.26936149597168 seconds\n"
     ]
    },
    {
     "name": "stderr",
     "output_type": "stream",
     "text": [
      " 64%|██████▍   | 481/749 [3:05:28<1:17:07, 17.27s/it]"
     ]
    },
    {
     "name": "stdout",
     "output_type": "stream",
     "text": [
      "Rescaling done in 25.965348720550537 seconds. Image shape is (786, 1579, 3)\n",
      "Done a45bac_0 in 26.035377025604248 seconds\n",
      "Rescaling done in 40.9434118270874 seconds. Image shape is (2303, 1281, 3)\n"
     ]
    },
    {
     "name": "stderr",
     "output_type": "stream",
     "text": [
      " 64%|██████▍   | 482/749 [3:06:09<1:48:44, 24.44s/it]"
     ]
    },
    {
     "name": "stdout",
     "output_type": "stream",
     "text": [
      "Done a4c7df_0 in 41.1685094833374 seconds\n",
      "Rescaling done in 38.0246787071228 seconds. Image shape is (2919, 1001, 3)\n"
     ]
    },
    {
     "name": "stderr",
     "output_type": "stream",
     "text": [
      " 64%|██████▍   | 483/749 [3:06:48<2:06:43, 28.59s/it]"
     ]
    },
    {
     "name": "stdout",
     "output_type": "stream",
     "text": [
      "Done a4c877_0 in 38.266852140426636 seconds\n",
      "Rescaling done in 8.129111528396606 seconds. Image shape is (2337, 471, 3)\n",
      "Bad image a4c877_1 crop_thr 0.6 only 0\n",
      "Bad image a4c877_1 crop_thr 0.5 only 0\n",
      "Bad image a4c877_1 crop_thr 0.4 only 0\n"
     ]
    },
    {
     "name": "stderr",
     "output_type": "stream",
     "text": [
      " 65%|██████▍   | 484/749 [3:06:56<1:39:35, 22.55s/it]"
     ]
    },
    {
     "name": "stdout",
     "output_type": "stream",
     "text": [
      "Bad image a4c877_1 crop_thr 0.30000000000000004 only 0\n",
      "Done a4c877_1 in 8.461195230484009 seconds\n",
      "Rescaling done in 67.33978319168091 seconds. Image shape is (2764, 1416, 3)\n"
     ]
    },
    {
     "name": "stderr",
     "output_type": "stream",
     "text": [
      " 65%|██████▍   | 485/749 [3:08:04<2:38:49, 36.10s/it]"
     ]
    },
    {
     "name": "stdout",
     "output_type": "stream",
     "text": [
      "Done a4c877_2 in 67.70910930633545 seconds\n",
      "Rescaling done in 31.082274198532104 seconds. Image shape is (2381, 1005, 3)\n"
     ]
    },
    {
     "name": "stderr",
     "output_type": "stream",
     "text": [
      " 65%|██████▍   | 486/749 [3:08:35<2:31:58, 34.67s/it]"
     ]
    },
    {
     "name": "stdout",
     "output_type": "stream",
     "text": [
      "Done a4c877_3 in 31.34162926673889 seconds\n"
     ]
    },
    {
     "name": "stderr",
     "output_type": "stream",
     "text": [
      " 65%|██████▌   | 487/749 [3:08:44<1:57:29, 26.91s/it]"
     ]
    },
    {
     "name": "stdout",
     "output_type": "stream",
     "text": [
      "Rescaling done in 8.720757246017456 seconds. Image shape is (1231, 550, 3)\n",
      "Done a4e918_0 in 8.787379264831543 seconds\n",
      "Rescaling done in 36.88497972488403 seconds. Image shape is (2919, 1002, 3)\n"
     ]
    },
    {
     "name": "stderr",
     "output_type": "stream",
     "text": [
      " 65%|██████▌   | 488/749 [3:09:21<2:10:29, 30.00s/it]"
     ]
    },
    {
     "name": "stdout",
     "output_type": "stream",
     "text": [
      "Done a59c0d_0 in 37.20924997329712 seconds\n",
      "Rescaling done in 30.500685453414917 seconds. Image shape is (2689, 957, 3)\n"
     ]
    },
    {
     "name": "stderr",
     "output_type": "stream",
     "text": [
      " 65%|██████▌   | 489/749 [3:09:52<2:10:57, 30.22s/it]"
     ]
    },
    {
     "name": "stdout",
     "output_type": "stream",
     "text": [
      "Done a59c0d_1 in 30.74264645576477 seconds\n",
      "Rescaling done in 11.327955961227417 seconds. Image shape is (1229, 918, 3)\n",
      "Bad image a6f5ae_0 crop_thr 0.6 only 0\n",
      "Bad image a6f5ae_0 crop_thr 0.5 only 0\n",
      "Bad image a6f5ae_0 crop_thr 0.4 only 3\n"
     ]
    },
    {
     "name": "stderr",
     "output_type": "stream",
     "text": [
      " 65%|██████▌   | 490/749 [3:10:03<1:46:20, 24.64s/it]"
     ]
    },
    {
     "name": "stdout",
     "output_type": "stream",
     "text": [
      "Done a6f5ae_0 in 11.599092721939087 seconds\n",
      "Rescaling done in 24.3781156539917 seconds. Image shape is (1420, 1284, 3)\n",
      "Bad image a95219_0 crop_thr 0.6 only 2\n"
     ]
    },
    {
     "name": "stderr",
     "output_type": "stream",
     "text": [
      " 66%|██████▌   | 491/749 [3:10:28<1:45:54, 24.63s/it]"
     ]
    },
    {
     "name": "stdout",
     "output_type": "stream",
     "text": [
      "Done a95219_0 in 24.613523244857788 seconds\n",
      "Rescaling done in 16.068378686904907 seconds. Image shape is (1805, 914, 3)\n",
      "Bad image a9573c_0 crop_thr 0.6 only 0\n",
      "Bad image a9573c_0 crop_thr 0.5 only 0\n"
     ]
    },
    {
     "name": "stderr",
     "output_type": "stream",
     "text": [
      " 66%|██████▌   | 492/749 [3:10:44<1:34:58, 22.17s/it]"
     ]
    },
    {
     "name": "stdout",
     "output_type": "stream",
     "text": [
      "Bad image a9573c_0 crop_thr 0.4 only 0\n",
      "Done a9573c_0 in 16.446620225906372 seconds\n"
     ]
    },
    {
     "name": "stderr",
     "output_type": "stream",
     "text": [
      " 66%|██████▌   | 493/749 [3:11:14<1:44:28, 24.49s/it]"
     ]
    },
    {
     "name": "stdout",
     "output_type": "stream",
     "text": [
      "Rescaling done in 29.697885990142822 seconds. Image shape is (2381, 1050, 3)\n",
      "Done a96be4_0 in 29.884347677230835 seconds\n"
     ]
    },
    {
     "name": "stderr",
     "output_type": "stream",
     "text": [
      " 66%|██████▌   | 494/749 [3:11:20<1:19:27, 18.70s/it]"
     ]
    },
    {
     "name": "stdout",
     "output_type": "stream",
     "text": [
      "Rescaling done in 5.0762553215026855 seconds. Image shape is (1005, 573, 3)\n",
      "Bad image a975ab_0 crop_thr 0.6 only 0\n",
      "Bad image a975ab_0 crop_thr 0.5 only 2\n",
      "Done a975ab_0 in 5.1804070472717285 seconds\n",
      "Rescaling done in 10.217108726501465 seconds. Image shape is (2239, 598, 3)\n",
      "Bad image a975ab_1 crop_thr 0.6 only 0\n",
      "Bad image a975ab_1 crop_thr 0.5 only 0\n"
     ]
    },
    {
     "name": "stderr",
     "output_type": "stream",
     "text": [
      " 66%|██████▌   | 495/749 [3:11:30<1:08:53, 16.27s/it]"
     ]
    },
    {
     "name": "stdout",
     "output_type": "stream",
     "text": [
      "Bad image a975ab_1 crop_thr 0.4 only 0\n",
      "Bad image a975ab_1 crop_thr 0.30000000000000004 only 0\n",
      "Done a975ab_1 in 10.616609573364258 seconds\n"
     ]
    },
    {
     "name": "stderr",
     "output_type": "stream",
     "text": [
      " 66%|██████▌   | 496/749 [3:11:35<53:41, 12.73s/it]  "
     ]
    },
    {
     "name": "stdout",
     "output_type": "stream",
     "text": [
      "Rescaling done in 4.444784164428711 seconds. Image shape is (693, 599, 3)\n",
      "Done a9c427_0 in 4.467960596084595 seconds\n",
      "Rescaling done in 17.74073600769043 seconds. Image shape is (1690, 962, 3)\n",
      "Bad image aa2f56_0 crop_thr 0.6 only 0\n",
      "Bad image aa2f56_0 crop_thr 0.5 only 0\n"
     ]
    },
    {
     "name": "stderr",
     "output_type": "stream",
     "text": [
      " 66%|██████▋   | 497/749 [3:11:53<1:00:10, 14.33s/it]"
     ]
    },
    {
     "name": "stdout",
     "output_type": "stream",
     "text": [
      "Done aa2f56_0 in 18.047473669052124 seconds\n",
      "Rescaling done in 75.03697419166565 seconds. Image shape is (1518, 2160, 3)\n"
     ]
    },
    {
     "name": "stderr",
     "output_type": "stream",
     "text": [
      " 66%|██████▋   | 498/749 [3:13:08<2:16:30, 32.63s/it]"
     ]
    },
    {
     "name": "stdout",
     "output_type": "stream",
     "text": [
      "Done ab1b6e_0 in 75.33411741256714 seconds\n",
      "Rescaling done in 12.11865758895874 seconds. Image shape is (1768, 731, 3)\n",
      "Bad image abc4a3_0 crop_thr 0.6 only 0\n",
      "Bad image abc4a3_0 crop_thr 0.5 only 0\n",
      "Bad image abc4a3_0 crop_thr 0.4 only 0\n",
      "Bad image abc4a3_0 crop_thr 0.30000000000000004 only 2\n"
     ]
    },
    {
     "name": "stderr",
     "output_type": "stream",
     "text": [
      " 67%|██████▋   | 499/749 [3:13:21<1:51:12, 26.69s/it]"
     ]
    },
    {
     "name": "stdout",
     "output_type": "stream",
     "text": [
      "Done abc4a3_0 in 12.830887794494629 seconds\n",
      "Rescaling done in 30.24620294570923 seconds. Image shape is (2189, 1005, 3)\n",
      "Bad image abc4a3_1 crop_thr 0.6 only 0\n",
      "Bad image abc4a3_1 crop_thr 0.5 only 0\n",
      "Bad image abc4a3_1 crop_thr 0.4 only 0\n"
     ]
    },
    {
     "name": "stderr",
     "output_type": "stream",
     "text": [
      " 67%|██████▋   | 500/749 [3:13:52<1:55:51, 27.92s/it]"
     ]
    },
    {
     "name": "stdout",
     "output_type": "stream",
     "text": [
      "Done abc4a3_1 in 30.780739784240723 seconds\n",
      "Rescaling done in 19.612154006958008 seconds. Image shape is (1690, 1053, 3)\n",
      "Bad image abc4a3_2 crop_thr 0.6 only 0\n",
      "Bad image abc4a3_2 crop_thr 0.5 only 0\n"
     ]
    },
    {
     "name": "stderr",
     "output_type": "stream",
     "text": [
      " 67%|██████▋   | 501/749 [3:14:12<1:45:36, 25.55s/it]"
     ]
    },
    {
     "name": "stdout",
     "output_type": "stream",
     "text": [
      "Bad image abc4a3_2 crop_thr 0.4 only 0\n",
      "Done abc4a3_2 in 20.020371913909912 seconds\n"
     ]
    },
    {
     "name": "stderr",
     "output_type": "stream",
     "text": [
      " 67%|██████▋   | 502/749 [3:14:18<1:20:56, 19.66s/it]"
     ]
    },
    {
     "name": "stdout",
     "output_type": "stream",
     "text": [
      "Rescaling done in 5.817677021026611 seconds. Image shape is (2112, 329, 3)\n",
      "Bad image abc682_0 crop_thr 0.6 only 0\n",
      "Bad image abc682_0 crop_thr 0.5 only 0\n",
      "Done abc682_0 in 5.928965330123901 seconds\n"
     ]
    },
    {
     "name": "stderr",
     "output_type": "stream",
     "text": [
      " 67%|██████▋   | 503/749 [3:14:41<1:25:34, 20.87s/it]"
     ]
    },
    {
     "name": "stdout",
     "output_type": "stream",
     "text": [
      "Rescaling done in 23.538978099822998 seconds. Image shape is (2537, 682, 3)\n",
      "Done abfcb7_0 in 23.688834190368652 seconds\n"
     ]
    },
    {
     "name": "stderr",
     "output_type": "stream",
     "text": [
      " 67%|██████▋   | 504/749 [3:14:44<1:02:39, 15.35s/it]"
     ]
    },
    {
     "name": "stdout",
     "output_type": "stream",
     "text": [
      "Rescaling done in 2.414306402206421 seconds. Image shape is (693, 368, 3)\n",
      "Bad image ac2147_0 crop_thr 0.6 only 0\n",
      "Bad image ac2147_0 crop_thr 0.5 only 0\n",
      "Done ac2147_0 in 2.4519805908203125 seconds\n"
     ]
    },
    {
     "name": "stderr",
     "output_type": "stream",
     "text": [
      " 67%|██████▋   | 505/749 [3:14:52<53:12, 13.08s/it]  "
     ]
    },
    {
     "name": "stdout",
     "output_type": "stream",
     "text": [
      "Rescaling done in 7.748501300811768 seconds. Image shape is (1115, 597, 3)\n",
      "Done adc6e3_0 in 7.8022072315216064 seconds\n"
     ]
    },
    {
     "name": "stderr",
     "output_type": "stream",
     "text": [
      " 68%|██████▊   | 506/749 [3:14:58<44:33, 11.00s/it]"
     ]
    },
    {
     "name": "stdout",
     "output_type": "stream",
     "text": [
      "Rescaling done in 6.097268104553223 seconds. Image shape is (1116, 459, 3)\n",
      "Done ae0487_0 in 6.141813516616821 seconds\n"
     ]
    },
    {
     "name": "stderr",
     "output_type": "stream",
     "text": [
      " 68%|██████▊   | 507/749 [3:15:27<1:06:52, 16.58s/it]"
     ]
    },
    {
     "name": "stdout",
     "output_type": "stream",
     "text": [
      "Rescaling done in 29.444552183151245 seconds. Image shape is (2189, 1005, 3)\n",
      "Done ae26ae_0 in 29.60183596611023 seconds\n"
     ]
    },
    {
     "name": "stderr",
     "output_type": "stream",
     "text": [
      " 68%|██████▊   | 508/749 [3:15:35<55:41, 13.86s/it]  "
     ]
    },
    {
     "name": "stdout",
     "output_type": "stream",
     "text": [
      "Rescaling done in 7.470494747161865 seconds. Image shape is (1270, 504, 3)\n",
      "Done aeb3bd_0 in 7.5204102993011475 seconds\n"
     ]
    },
    {
     "name": "stderr",
     "output_type": "stream",
     "text": [
      " 68%|██████▊   | 509/749 [3:15:37<41:42, 10.43s/it]"
     ]
    },
    {
     "name": "stdout",
     "output_type": "stream",
     "text": [
      "Rescaling done in 2.377678394317627 seconds. Image shape is (366, 450, 3)\n",
      "Bad image af4dd6_0 crop_thr 0.6 only 0\n",
      "Bad image af4dd6_0 crop_thr 0.5 only 3\n",
      "Done af4dd6_0 in 2.406533718109131 seconds\n"
     ]
    },
    {
     "name": "stderr",
     "output_type": "stream",
     "text": [
      " 68%|██████▊   | 510/749 [3:15:40<32:29,  8.16s/it]"
     ]
    },
    {
     "name": "stdout",
     "output_type": "stream",
     "text": [
      "Rescaling done in 2.8268837928771973 seconds. Image shape is (694, 369, 3)\n",
      "Bad image af7a93_0 crop_thr 0.6 only 0\n",
      "Done af7a93_0 in 2.8558552265167236 seconds\n"
     ]
    },
    {
     "name": "stderr",
     "output_type": "stream",
     "text": [
      " 68%|██████▊   | 511/749 [3:15:52<37:14,  9.39s/it]"
     ]
    },
    {
     "name": "stdout",
     "output_type": "stream",
     "text": [
      "Rescaling done in 12.199119329452515 seconds. Image shape is (574, 1196, 3)\n",
      "Done b01110_0 in 12.257580757141113 seconds\n",
      "Rescaling done in 250.0402626991272 seconds. Image shape is (1997, 3489, 3)\n"
     ]
    },
    {
     "name": "stderr",
     "output_type": "stream",
     "text": [
      " 68%|██████▊   | 512/749 [3:20:03<5:22:59, 81.77s/it]"
     ]
    },
    {
     "name": "stdout",
     "output_type": "stream",
     "text": [
      "Done b07b42_0 in 250.66471362113953 seconds\n",
      "Rescaling done in 161.41931700706482 seconds. Image shape is (1994, 2576, 3)\n"
     ]
    },
    {
     "name": "stderr",
     "output_type": "stream",
     "text": [
      " 68%|██████▊   | 513/749 [3:22:45<6:56:10, 105.81s/it]"
     ]
    },
    {
     "name": "stdout",
     "output_type": "stream",
     "text": [
      "Done b1e363_0 in 161.88918209075928 seconds\n",
      "Rescaling done in 226.96896171569824 seconds. Image shape is (1508, 3489, 3)\n"
     ]
    },
    {
     "name": "stderr",
     "output_type": "stream",
     "text": [
      " 69%|██████▊   | 514/749 [3:26:32<9:17:13, 142.27s/it]"
     ]
    },
    {
     "name": "stdout",
     "output_type": "stream",
     "text": [
      "Done b1e363_1 in 227.3520119190216 seconds\n"
     ]
    },
    {
     "name": "stderr",
     "output_type": "stream",
     "text": [
      " 69%|██████▉   | 515/749 [3:26:37<6:34:07, 101.06s/it]"
     ]
    },
    {
     "name": "stdout",
     "output_type": "stream",
     "text": [
      "Rescaling done in 4.860915184020996 seconds. Image shape is (617, 508, 3)\n",
      "Done b1f248_0 in 4.892959356307983 seconds\n",
      "Rescaling done in 6.4114415645599365 seconds. Image shape is (2460, 375, 3)\n",
      "Bad image b21b87_0 crop_thr 0.6 only 0\n",
      "Bad image b21b87_0 crop_thr 0.5 only 0\n",
      "Bad image b21b87_0 crop_thr 0.4 only 0\n",
      "Bad image b21b87_0 crop_thr 0.30000000000000004 only 0\n"
     ]
    },
    {
     "name": "stderr",
     "output_type": "stream",
     "text": [
      " 69%|██████▉   | 516/749 [3:26:44<4:42:28, 72.74s/it] "
     ]
    },
    {
     "name": "stdout",
     "output_type": "stream",
     "text": [
      "Done b21b87_0 in 6.661008834838867 seconds\n"
     ]
    },
    {
     "name": "stderr",
     "output_type": "stream",
     "text": [
      " 69%|██████▉   | 517/749 [3:27:36<4:17:20, 66.55s/it]"
     ]
    },
    {
     "name": "stdout",
     "output_type": "stream",
     "text": [
      "Rescaling done in 51.94718837738037 seconds. Image shape is (1803, 1512, 3)\n",
      "Done b25f2b_0 in 52.12333059310913 seconds\n",
      "Rescaling done in 78.77016258239746 seconds. Image shape is (2956, 1507, 3)\n"
     ]
    },
    {
     "name": "stderr",
     "output_type": "stream",
     "text": [
      " 69%|██████▉   | 518/749 [3:28:55<4:30:44, 70.32s/it]"
     ]
    },
    {
     "name": "stdout",
     "output_type": "stream",
     "text": [
      "Done b342b0_0 in 79.11656904220581 seconds\n"
     ]
    },
    {
     "name": "stderr",
     "output_type": "stream",
     "text": [
      " 69%|██████▉   | 519/749 [3:29:00<3:13:59, 50.61s/it]"
     ]
    },
    {
     "name": "stdout",
     "output_type": "stream",
     "text": [
      "Rescaling done in 4.578685760498047 seconds. Image shape is (694, 461, 3)\n",
      "Done b3c755_0 in 4.60365104675293 seconds\n"
     ]
    },
    {
     "name": "stderr",
     "output_type": "stream",
     "text": [
      " 69%|██████▉   | 520/749 [3:29:00<2:15:52, 35.60s/it]"
     ]
    },
    {
     "name": "stdout",
     "output_type": "stream",
     "text": [
      "Rescaling done in 0.564471960067749 seconds. Image shape is (221, 184, 3)\n",
      "Bad image b43ebe_0 crop_thr 0.6 only 0\n",
      "Bad image b43ebe_0 crop_thr 0.5 only 0\n",
      "Bad image b43ebe_0 crop_thr 0.4 only 0\n",
      "Bad image b43ebe_0 crop_thr 0.30000000000000004 only 0\n",
      "Bad image b43ebe_0 crop_thr 0.20000000000000007 only 0\n",
      "Bad image b43ebe_0 crop_thr 0.10000000000000009 only 0\n",
      "Bad image b43ebe_0 crop_thr 1.1102230246251565e-16 only 0\n",
      "No crops was found\n",
      "Done b43ebe_0 in 0.5770621299743652 seconds\n",
      "Rescaling done in 35.470816135406494 seconds. Image shape is (2804, 1003, 3)\n",
      "Bad image b43ebe_1 crop_thr 0.6 only 3\n"
     ]
    },
    {
     "name": "stderr",
     "output_type": "stream",
     "text": [
      " 70%|██████▉   | 521/749 [3:29:36<2:15:33, 35.67s/it]"
     ]
    },
    {
     "name": "stdout",
     "output_type": "stream",
     "text": [
      "Done b43ebe_1 in 35.8478524684906 seconds\n"
     ]
    },
    {
     "name": "stderr",
     "output_type": "stream",
     "text": [
      " 70%|██████▉   | 522/749 [3:30:35<2:41:10, 42.60s/it]"
     ]
    },
    {
     "name": "stdout",
     "output_type": "stream",
     "text": [
      "Rescaling done in 58.63757061958313 seconds. Image shape is (742, 2326, 3)\n",
      "Done b46f3b_0 in 58.769397497177124 seconds\n"
     ]
    },
    {
     "name": "stderr",
     "output_type": "stream",
     "text": [
      " 70%|██████▉   | 523/749 [3:30:48<2:07:45, 33.92s/it]"
     ]
    },
    {
     "name": "stdout",
     "output_type": "stream",
     "text": [
      "Rescaling done in 13.57176399230957 seconds. Image shape is (1538, 687, 3)\n",
      "Done b4a34d_0 in 13.658159255981445 seconds\n"
     ]
    },
    {
     "name": "stderr",
     "output_type": "stream",
     "text": [
      " 70%|██████▉   | 524/749 [3:31:30<2:15:39, 36.18s/it]"
     ]
    },
    {
     "name": "stdout",
     "output_type": "stream",
     "text": [
      "Rescaling done in 41.26700139045715 seconds. Image shape is (1957, 1373, 3)\n",
      "Done b525a8_0 in 41.442811489105225 seconds\n"
     ]
    },
    {
     "name": "stderr",
     "output_type": "stream",
     "text": [
      " 70%|███████   | 525/749 [3:31:50<1:57:01, 31.35s/it]"
     ]
    },
    {
     "name": "stdout",
     "output_type": "stream",
     "text": [
      "Rescaling done in 19.937466621398926 seconds. Image shape is (1614, 962, 3)\n",
      "Done b5aece_0 in 20.073220014572144 seconds\n"
     ]
    },
    {
     "name": "stderr",
     "output_type": "stream",
     "text": [
      " 70%|███████   | 526/749 [3:31:54<1:26:28, 23.27s/it]"
     ]
    },
    {
     "name": "stdout",
     "output_type": "stream",
     "text": [
      "Rescaling done in 4.327089786529541 seconds. Image shape is (1001, 460, 3)\n",
      "Bad image b6cfea_0 crop_thr 0.6 only 0\n",
      "Bad image b6cfea_0 crop_thr 0.5 only 0\n",
      "Done b6cfea_0 in 4.408544540405273 seconds\n",
      "Rescaling done in 48.60235786437988 seconds. Image shape is (2803, 1232, 3)\n",
      "Bad image b6f1e9_0 crop_thr 0.6 only 2\n"
     ]
    },
    {
     "name": "stderr",
     "output_type": "stream",
     "text": [
      " 70%|███████   | 527/749 [3:32:44<1:54:47, 31.03s/it]"
     ]
    },
    {
     "name": "stdout",
     "output_type": "stream",
     "text": [
      "Done b6f1e9_0 in 49.13032054901123 seconds\n"
     ]
    },
    {
     "name": "stderr",
     "output_type": "stream",
     "text": [
      " 70%|███████   | 528/749 [3:32:51<1:27:56, 23.88s/it]"
     ]
    },
    {
     "name": "stdout",
     "output_type": "stream",
     "text": [
      "Rescaling done in 7.145725965499878 seconds. Image shape is (1347, 412, 3)\n",
      "Done b6fffe_0 in 7.194360733032227 seconds\n"
     ]
    },
    {
     "name": "stderr",
     "output_type": "stream",
     "text": [
      " 71%|███████   | 529/749 [3:33:10<1:22:00, 22.37s/it]"
     ]
    },
    {
     "name": "stdout",
     "output_type": "stream",
     "text": [
      "Rescaling done in 18.701308727264404 seconds. Image shape is (1613, 962, 3)\n",
      "Done b7f78e_0 in 18.840500831604004 seconds\n",
      "Rescaling done in 304.4486470222473 seconds. Image shape is (1877, 3822, 3)\n"
     ]
    },
    {
     "name": "stderr",
     "output_type": "stream",
     "text": [
      " 71%|███████   | 530/749 [3:38:15<6:31:09, 107.17s/it]"
     ]
    },
    {
     "name": "stdout",
     "output_type": "stream",
     "text": [
      "Done b894f4_0 in 305.03386974334717 seconds\n"
     ]
    },
    {
     "name": "stderr",
     "output_type": "stream",
     "text": [
      " 71%|███████   | 531/749 [3:38:30<4:48:53, 79.51s/it] "
     ]
    },
    {
     "name": "stdout",
     "output_type": "stream",
     "text": [
      "Rescaling done in 14.900015115737915 seconds. Image shape is (1692, 640, 3)\n",
      "Done b8ef90_0 in 14.975041389465332 seconds\n"
     ]
    },
    {
     "name": "stderr",
     "output_type": "stream",
     "text": [
      " 71%|███████   | 532/749 [3:38:41<3:33:19, 58.98s/it]"
     ]
    },
    {
     "name": "stdout",
     "output_type": "stream",
     "text": [
      "Rescaling done in 11.000199794769287 seconds. Image shape is (806, 965, 3)\n",
      "Bad image b948e8_0 crop_thr 0.6 only 2\n",
      "Done b948e8_0 in 11.081591606140137 seconds\n"
     ]
    },
    {
     "name": "stderr",
     "output_type": "stream",
     "text": [
      " 71%|███████   | 533/749 [3:39:08<2:58:29, 49.58s/it]"
     ]
    },
    {
     "name": "stdout",
     "output_type": "stream",
     "text": [
      "Rescaling done in 27.51062321662903 seconds. Image shape is (1920, 1006, 3)\n",
      "Done ba8305_0 in 27.638139486312866 seconds\n"
     ]
    },
    {
     "name": "stderr",
     "output_type": "stream",
     "text": [
      " 71%|███████▏  | 534/749 [3:39:11<2:07:21, 35.54s/it]"
     ]
    },
    {
     "name": "stdout",
     "output_type": "stream",
     "text": [
      "Rescaling done in 2.7565464973449707 seconds. Image shape is (710, 340, 3)\n",
      "Bad image baa4c4_0 crop_thr 0.6 only 0\n",
      "Bad image baa4c4_0 crop_thr 0.5 only 0\n",
      "Done baa4c4_0 in 2.7930476665496826 seconds\n"
     ]
    },
    {
     "name": "stderr",
     "output_type": "stream",
     "text": [
      " 71%|███████▏  | 535/749 [3:39:33<1:52:38, 31.58s/it]"
     ]
    },
    {
     "name": "stdout",
     "output_type": "stream",
     "text": [
      "Rescaling done in 22.224344968795776 seconds. Image shape is (2267, 775, 3)\n",
      "Done bbc5b1_0 in 22.337525129318237 seconds\n",
      "Rescaling done in 14.134395599365234 seconds. Image shape is (1460, 871, 3)\n",
      "Bad image bc9536_0 crop_thr 0.6 only 0\n",
      "Bad image bc9536_0 crop_thr 0.5 only 0\n"
     ]
    },
    {
     "name": "stderr",
     "output_type": "stream",
     "text": [
      " 72%|███████▏  | 536/749 [3:39:48<1:33:47, 26.42s/it]"
     ]
    },
    {
     "name": "stdout",
     "output_type": "stream",
     "text": [
      "Done bc9536_0 in 14.371237993240356 seconds\n",
      "Rescaling done in 31.961606979370117 seconds. Image shape is (2960, 1012, 3)\n"
     ]
    },
    {
     "name": "stderr",
     "output_type": "stream",
     "text": [
      " 72%|███████▏  | 537/749 [3:40:20<1:39:30, 28.16s/it]"
     ]
    },
    {
     "name": "stdout",
     "output_type": "stream",
     "text": [
      "Done bd0cea_0 in 32.22596549987793 seconds\n"
     ]
    },
    {
     "name": "stderr",
     "output_type": "stream",
     "text": [
      " 72%|███████▏  | 538/749 [3:40:28<1:17:30, 22.04s/it]"
     ]
    },
    {
     "name": "stdout",
     "output_type": "stream",
     "text": [
      "Rescaling done in 7.697897911071777 seconds. Image shape is (1269, 596, 3)\n",
      "Done bd783d_0 in 7.754616975784302 seconds\n"
     ]
    },
    {
     "name": "stderr",
     "output_type": "stream",
     "text": [
      " 72%|███████▏  | 539/749 [3:40:34<1:00:00, 17.15s/it]"
     ]
    },
    {
     "name": "stdout",
     "output_type": "stream",
     "text": [
      "Rescaling done in 5.602529287338257 seconds. Image shape is (1231, 504, 3)\n",
      "Bad image bd783d_1 crop_thr 0.6 only 0\n",
      "Bad image bd783d_1 crop_thr 0.5 only 3\n",
      "Done bd783d_1 in 5.726471185684204 seconds\n"
     ]
    },
    {
     "name": "stderr",
     "output_type": "stream",
     "text": [
      " 72%|███████▏  | 540/749 [3:40:46<54:23, 15.62s/it]  "
     ]
    },
    {
     "name": "stdout",
     "output_type": "stream",
     "text": [
      "Rescaling done in 11.962486743927002 seconds. Image shape is (1230, 780, 3)\n",
      "Done bdf3c2_0 in 12.042604207992554 seconds\n"
     ]
    },
    {
     "name": "stderr",
     "output_type": "stream",
     "text": [
      " 72%|███████▏  | 541/749 [3:40:49<41:49, 12.06s/it]"
     ]
    },
    {
     "name": "stdout",
     "output_type": "stream",
     "text": [
      "Rescaling done in 3.7557384967803955 seconds. Image shape is (386, 646, 3)\n",
      "Done bec7ca_0 in 3.7767090797424316 seconds\n"
     ]
    },
    {
     "name": "stderr",
     "output_type": "stream",
     "text": [
      " 72%|███████▏  | 542/749 [3:40:54<34:06,  9.89s/it]"
     ]
    },
    {
     "name": "stdout",
     "output_type": "stream",
     "text": [
      "Rescaling done in 4.712651491165161 seconds. Image shape is (1039, 459, 3)\n",
      "Bad image bf1599_0 crop_thr 0.6 only 0\n",
      "Bad image bf1599_0 crop_thr 0.5 only 2\n",
      "Done bf1599_0 in 4.80105996131897 seconds\n",
      "Rescaling done in 31.082653522491455 seconds. Image shape is (1996, 1235, 3)\n"
     ]
    },
    {
     "name": "stderr",
     "output_type": "stream",
     "text": [
      " 72%|███████▏  | 543/749 [3:41:26<56:04, 16.33s/it]"
     ]
    },
    {
     "name": "stdout",
     "output_type": "stream",
     "text": [
      "Done bff862_0 in 31.36883234977722 seconds\n"
     ]
    },
    {
     "name": "stderr",
     "output_type": "stream",
     "text": [
      " 73%|███████▎  | 544/749 [3:41:43<57:00, 16.69s/it]"
     ]
    },
    {
     "name": "stdout",
     "output_type": "stream",
     "text": [
      "Rescaling done in 17.420695304870605 seconds. Image shape is (1229, 1010, 3)\n",
      "Done c01d28_0 in 17.516557693481445 seconds\n",
      "Rescaling done in 34.43465971946716 seconds. Image shape is (1264, 1606, 3)\n",
      "Bad image c01d28_1 crop_thr 0.6 only 0\n"
     ]
    },
    {
     "name": "stderr",
     "output_type": "stream",
     "text": [
      " 73%|███████▎  | 545/749 [3:42:18<1:15:14, 22.13s/it]"
     ]
    },
    {
     "name": "stdout",
     "output_type": "stream",
     "text": [
      "Bad image c01d28_1 crop_thr 0.5 only 2\n",
      "Done c01d28_1 in 34.82300806045532 seconds\n",
      "Rescaling done in 124.54394960403442 seconds. Image shape is (1189, 3157, 3)\n"
     ]
    },
    {
     "name": "stderr",
     "output_type": "stream",
     "text": [
      " 73%|███████▎  | 546/749 [3:44:23<2:59:04, 52.93s/it]"
     ]
    },
    {
     "name": "stdout",
     "output_type": "stream",
     "text": [
      "Done c07ca9_0 in 124.79938697814941 seconds\n"
     ]
    },
    {
     "name": "stderr",
     "output_type": "stream",
     "text": [
      " 73%|███████▎  | 547/749 [3:44:27<2:09:00, 38.32s/it]"
     ]
    },
    {
     "name": "stdout",
     "output_type": "stream",
     "text": [
      "Rescaling done in 4.145968914031982 seconds. Image shape is (847, 506, 3)\n",
      "Bad image c12836_0 crop_thr 0.6 only 0\n",
      "Bad image c12836_0 crop_thr 0.5 only 2\n",
      "Done c12836_0 in 4.22334098815918 seconds\n"
     ]
    },
    {
     "name": "stderr",
     "output_type": "stream",
     "text": [
      " 73%|███████▎  | 548/749 [3:44:47<1:49:42, 32.75s/it]"
     ]
    },
    {
     "name": "stdout",
     "output_type": "stream",
     "text": [
      "Rescaling done in 19.63172149658203 seconds. Image shape is (1344, 1055, 3)\n",
      "Done c12836_1 in 19.751452922821045 seconds\n",
      "Rescaling done in 11.85323166847229 seconds. Image shape is (959, 1056, 3)\n",
      "Bad image c1b288_0 crop_thr 0.6 only 0\n",
      "Bad image c1b288_0 crop_thr 0.5 only 0\n",
      "Bad image c1b288_0 crop_thr 0.4 only 0\n"
     ]
    },
    {
     "name": "stderr",
     "output_type": "stream",
     "text": [
      " 73%|███████▎  | 549/749 [3:44:59<1:28:38, 26.59s/it]"
     ]
    },
    {
     "name": "stdout",
     "output_type": "stream",
     "text": [
      "Bad image c1b288_0 crop_thr 0.30000000000000004 only 2\n",
      "Bad image c1b288_0 crop_thr 0.20000000000000007 only 3\n",
      "Done c1b288_0 in 12.222015619277954 seconds\n"
     ]
    },
    {
     "name": "stderr",
     "output_type": "stream",
     "text": [
      " 73%|███████▎  | 550/749 [3:45:12<1:14:20, 22.42s/it]"
     ]
    },
    {
     "name": "stdout",
     "output_type": "stream",
     "text": [
      "Rescaling done in 12.514098167419434 seconds. Image shape is (2037, 592, 3)\n",
      "Bad image c1b699_0 crop_thr 0.6 only 3\n",
      "Done c1b699_0 in 12.670843362808228 seconds\n"
     ]
    },
    {
     "name": "stderr",
     "output_type": "stream",
     "text": [
      " 74%|███████▎  | 551/749 [3:45:18<58:19, 17.67s/it]  "
     ]
    },
    {
     "name": "stdout",
     "output_type": "stream",
     "text": [
      "Rescaling done in 6.575306177139282 seconds. Image shape is (731, 645, 3)\n",
      "Done c1cf0d_0 in 6.605449199676514 seconds\n"
     ]
    },
    {
     "name": "stderr",
     "output_type": "stream",
     "text": [
      " 74%|███████▎  | 552/749 [3:45:30<52:40, 16.04s/it]"
     ]
    },
    {
     "name": "stdout",
     "output_type": "stream",
     "text": [
      "Rescaling done in 12.171509265899658 seconds. Image shape is (1191, 918, 3)\n",
      "Done c30f14_0 in 12.239361763000488 seconds\n"
     ]
    },
    {
     "name": "stderr",
     "output_type": "stream",
     "text": [
      " 74%|███████▍  | 553/749 [3:45:42<47:49, 14.64s/it]"
     ]
    },
    {
     "name": "stdout",
     "output_type": "stream",
     "text": [
      "Rescaling done in 11.304880857467651 seconds. Image shape is (1384, 733, 3)\n",
      "Done c30f14_1 in 11.37090802192688 seconds\n",
      "Rescaling done in 4.166483640670776 seconds. Image shape is (1318, 467, 3)\n",
      "Bad image c31442_0 crop_thr 0.6 only 0\n",
      "Bad image c31442_0 crop_thr 0.5 only 0\n",
      "Bad image c31442_0 crop_thr 0.4 only 0\n",
      "Bad image c31442_0 crop_thr 0.30000000000000004 only 0\n",
      "Bad image c31442_0 crop_thr 0.20000000000000007 only 0\n"
     ]
    },
    {
     "name": "stderr",
     "output_type": "stream",
     "text": [
      " 74%|███████▍  | 554/749 [3:45:46<37:37, 11.58s/it]"
     ]
    },
    {
     "name": "stdout",
     "output_type": "stream",
     "text": [
      "Bad image c31442_0 crop_thr 0.10000000000000009 only 0\n",
      "Done c31442_0 in 4.42318058013916 seconds\n",
      "Rescaling done in 78.13029313087463 seconds. Image shape is (2531, 1738, 3)\n"
     ]
    },
    {
     "name": "stderr",
     "output_type": "stream",
     "text": [
      " 74%|███████▍  | 555/749 [3:47:05<1:42:18, 31.64s/it]"
     ]
    },
    {
     "name": "stdout",
     "output_type": "stream",
     "text": [
      "Done c32d76_0 in 78.46309852600098 seconds\n"
     ]
    },
    {
     "name": "stderr",
     "output_type": "stream",
     "text": [
      " 74%|███████▍  | 556/749 [3:47:17<1:23:23, 25.92s/it]"
     ]
    },
    {
     "name": "stdout",
     "output_type": "stream",
     "text": [
      "Rescaling done in 12.434087991714478 seconds. Image shape is (1306, 917, 3)\n",
      "Bad image c32d76_1 crop_thr 0.6 only 0\n",
      "Done c32d76_1 in 12.57565689086914 seconds\n",
      "Rescaling done in 10.467270851135254 seconds. Image shape is (1265, 867, 3)\n",
      "Bad image c32d76_2 crop_thr 0.6 only 0\n",
      "Bad image c32d76_2 crop_thr 0.5 only 0\n",
      "Bad image c32d76_2 crop_thr 0.4 only 0\n"
     ]
    },
    {
     "name": "stderr",
     "output_type": "stream",
     "text": [
      " 74%|███████▍  | 557/749 [3:47:28<1:08:25, 21.38s/it]"
     ]
    },
    {
     "name": "stdout",
     "output_type": "stream",
     "text": [
      "Bad image c32d76_2 crop_thr 0.30000000000000004 only 2\n",
      "Done c32d76_2 in 10.789116859436035 seconds\n"
     ]
    },
    {
     "name": "stderr",
     "output_type": "stream",
     "text": [
      " 74%|███████▍  | 558/749 [3:47:32<51:42, 16.25s/it]  "
     ]
    },
    {
     "name": "stdout",
     "output_type": "stream",
     "text": [
      "Rescaling done in 4.201586008071899 seconds. Image shape is (578, 599, 3)\n",
      "Bad image c3a1a5_0 crop_thr 0.6 only 0\n",
      "Bad image c3a1a5_0 crop_thr 0.5 only 0\n",
      "Done c3a1a5_0 in 4.2570061683654785 seconds\n"
     ]
    },
    {
     "name": "stderr",
     "output_type": "stream",
     "text": [
      " 75%|███████▍  | 559/749 [3:47:48<51:05, 16.13s/it]"
     ]
    },
    {
     "name": "stdout",
     "output_type": "stream",
     "text": [
      "Rescaling done in 15.773821353912354 seconds. Image shape is (1460, 825, 3)\n",
      "Done c3f2f8_0 in 15.873023748397827 seconds\n"
     ]
    },
    {
     "name": "stderr",
     "output_type": "stream",
     "text": [
      " 75%|███████▍  | 560/749 [3:47:53<39:58, 12.69s/it]"
     ]
    },
    {
     "name": "stdout",
     "output_type": "stream",
     "text": [
      "Rescaling done in 4.560191631317139 seconds. Image shape is (1374, 403, 3)\n",
      "Bad image c42387_0 crop_thr 0.6 only 0\n",
      "Bad image c42387_0 crop_thr 0.5 only 0\n",
      "Done c42387_0 in 4.651487350463867 seconds\n"
     ]
    },
    {
     "name": "stderr",
     "output_type": "stream",
     "text": [
      " 75%|███████▍  | 561/749 [3:48:18<51:47, 16.53s/it]"
     ]
    },
    {
     "name": "stdout",
     "output_type": "stream",
     "text": [
      "Rescaling done in 25.337361097335815 seconds. Image shape is (2151, 913, 3)\n",
      "Done c4a601_0 in 25.49052333831787 seconds\n"
     ]
    },
    {
     "name": "stderr",
     "output_type": "stream",
     "text": [
      " 75%|███████▌  | 562/749 [3:48:38<54:25, 17.46s/it]"
     ]
    },
    {
     "name": "stdout",
     "output_type": "stream",
     "text": [
      "Rescaling done in 19.516252994537354 seconds. Image shape is (1883, 777, 3)\n",
      "Done c4da19_0 in 19.62787652015686 seconds\n",
      "Rescaling done in 64.82800483703613 seconds. Image shape is (1955, 1787, 3)\n"
     ]
    },
    {
     "name": "stderr",
     "output_type": "stream",
     "text": [
      " 75%|███████▌  | 563/749 [3:49:43<1:38:25, 31.75s/it]"
     ]
    },
    {
     "name": "stdout",
     "output_type": "stream",
     "text": [
      "Done c5d171_0 in 65.08828830718994 seconds\n",
      "Rescaling done in 67.1043701171875 seconds. Image shape is (2493, 1600, 3)\n"
     ]
    },
    {
     "name": "stderr",
     "output_type": "stream",
     "text": [
      " 75%|███████▌  | 564/749 [3:50:50<2:10:55, 42.46s/it]"
     ]
    },
    {
     "name": "stdout",
     "output_type": "stream",
     "text": [
      "Done c5e687_0 in 67.46315050125122 seconds\n"
     ]
    },
    {
     "name": "stderr",
     "output_type": "stream",
     "text": [
      " 75%|███████▌  | 565/749 [3:50:52<1:32:56, 30.30s/it]"
     ]
    },
    {
     "name": "stdout",
     "output_type": "stream",
     "text": [
      "Rescaling done in 1.9140160083770752 seconds. Image shape is (309, 417, 3)\n",
      "Bad image c61b26_0 crop_thr 0.6 only 2\n",
      "Done c61b26_0 in 1.9313123226165771 seconds\n"
     ]
    },
    {
     "name": "stderr",
     "output_type": "stream",
     "text": [
      " 76%|███████▌  | 566/749 [3:50:57<1:09:03, 22.64s/it]"
     ]
    },
    {
     "name": "stdout",
     "output_type": "stream",
     "text": [
      "Rescaling done in 4.65709662437439 seconds. Image shape is (1269, 409, 3)\n",
      "Bad image c63918_0 crop_thr 0.6 only 0\n",
      "Bad image c63918_0 crop_thr 0.5 only 3\n",
      "Done c63918_0 in 4.7605907917022705 seconds\n"
     ]
    },
    {
     "name": "stderr",
     "output_type": "stream",
     "text": [
      " 76%|███████▌  | 567/749 [3:51:09<59:17, 19.55s/it]  "
     ]
    },
    {
     "name": "stdout",
     "output_type": "stream",
     "text": [
      "Rescaling done in 12.220957279205322 seconds. Image shape is (1653, 640, 3)\n",
      "Done c65db4_0 in 12.320591449737549 seconds\n"
     ]
    },
    {
     "name": "stderr",
     "output_type": "stream",
     "text": [
      " 76%|███████▌  | 568/749 [3:51:20<50:39, 16.79s/it]"
     ]
    },
    {
     "name": "stdout",
     "output_type": "stream",
     "text": [
      "Rescaling done in 10.29824686050415 seconds. Image shape is (1576, 641, 3)\n",
      "Done c65db4_1 in 10.374891519546509 seconds\n"
     ]
    },
    {
     "name": "stderr",
     "output_type": "stream",
     "text": [
      " 76%|███████▌  | 569/749 [3:51:34<48:20, 16.11s/it]"
     ]
    },
    {
     "name": "stdout",
     "output_type": "stream",
     "text": [
      "Rescaling done in 14.356878995895386 seconds. Image shape is (1614, 778, 3)\n",
      "Bad image c68551_0 crop_thr 0.6 only 0\n",
      "Done c68551_0 in 14.520073413848877 seconds\n",
      "Rescaling done in 60.99027132987976 seconds. Image shape is (1840, 1788, 3)\n"
     ]
    },
    {
     "name": "stderr",
     "output_type": "stream",
     "text": [
      " 76%|███████▌  | 570/749 [3:52:36<1:28:28, 29.66s/it]"
     ]
    },
    {
     "name": "stdout",
     "output_type": "stream",
     "text": [
      "Done c6c758_0 in 61.26308631896973 seconds\n"
     ]
    },
    {
     "name": "stderr",
     "output_type": "stream",
     "text": [
      " 76%|███████▌  | 571/749 [3:52:40<1:05:31, 22.08s/it]"
     ]
    },
    {
     "name": "stdout",
     "output_type": "stream",
     "text": [
      "Rescaling done in 4.2374866008758545 seconds. Image shape is (1248, 450, 3)\n",
      "Bad image c78d6b_0 crop_thr 0.6 only 0\n",
      "Bad image c78d6b_0 crop_thr 0.5 only 0\n",
      "Bad image c78d6b_0 crop_thr 0.4 only 0\n",
      "Bad image c78d6b_0 crop_thr 0.30000000000000004 only 0\n",
      "Done c78d6b_0 in 4.411741256713867 seconds\n",
      "Rescaling done in 57.213796615600586 seconds. Image shape is (3495, 1045, 3)\n"
     ]
    },
    {
     "name": "stderr",
     "output_type": "stream",
     "text": [
      " 76%|███████▋  | 572/749 [3:53:38<1:36:39, 32.76s/it]"
     ]
    },
    {
     "name": "stdout",
     "output_type": "stream",
     "text": [
      "Done c8912e_0 in 57.678253412246704 seconds\n"
     ]
    },
    {
     "name": "stderr",
     "output_type": "stream",
     "text": [
      " 77%|███████▋  | 573/749 [3:53:43<1:11:53, 24.51s/it]"
     ]
    },
    {
     "name": "stdout",
     "output_type": "stream",
     "text": [
      "Rescaling done in 5.138302803039551 seconds. Image shape is (1347, 458, 3)\n",
      "Bad image c92b51_0 crop_thr 0.6 only 0\n",
      "Bad image c92b51_0 crop_thr 0.5 only 0\n",
      "Done c92b51_0 in 5.252286195755005 seconds\n"
     ]
    },
    {
     "name": "stderr",
     "output_type": "stream",
     "text": [
      " 77%|███████▋  | 574/749 [3:54:00<1:04:43, 22.19s/it]"
     ]
    },
    {
     "name": "stdout",
     "output_type": "stream",
     "text": [
      "Rescaling done in 16.691951274871826 seconds. Image shape is (1498, 916, 3)\n",
      "Done c97365_0 in 16.784711599349976 seconds\n",
      "Rescaling done in 74.52661991119385 seconds. Image shape is (2840, 1368, 3)\n"
     ]
    },
    {
     "name": "stderr",
     "output_type": "stream",
     "text": [
      " 77%|███████▋  | 575/749 [3:55:15<1:50:13, 38.01s/it]"
     ]
    },
    {
     "name": "stdout",
     "output_type": "stream",
     "text": [
      "Done c9ab6c_0 in 74.90519261360168 seconds\n",
      "Rescaling done in 41.864031076431274 seconds. Image shape is (2418, 1279, 3)\n"
     ]
    },
    {
     "name": "stderr",
     "output_type": "stream",
     "text": [
      " 77%|███████▋  | 576/749 [3:55:57<1:53:06, 39.23s/it]"
     ]
    },
    {
     "name": "stdout",
     "output_type": "stream",
     "text": [
      "Done c9d53d_0 in 42.08111000061035 seconds\n"
     ]
    },
    {
     "name": "stderr",
     "output_type": "stream",
     "text": [
      " 77%|███████▋  | 577/749 [3:56:06<1:26:27, 30.16s/it]"
     ]
    },
    {
     "name": "stdout",
     "output_type": "stream",
     "text": [
      "Rescaling done in 8.808915615081787 seconds. Image shape is (2102, 503, 3)\n",
      "Bad image ca2f66_0 crop_thr 0.6 only 0\n",
      "Bad image ca2f66_0 crop_thr 0.5 only 0\n",
      "Done ca2f66_0 in 9.001867532730103 seconds\n"
     ]
    },
    {
     "name": "stderr",
     "output_type": "stream",
     "text": [
      " 77%|███████▋  | 578/749 [3:56:08<1:01:47, 21.68s/it]"
     ]
    },
    {
     "name": "stdout",
     "output_type": "stream",
     "text": [
      "Rescaling done in 1.8329637050628662 seconds. Image shape is (478, 396, 3)\n",
      "Bad image ca7b57_0 crop_thr 0.6 only 0\n",
      "Bad image ca7b57_0 crop_thr 0.5 only 0\n",
      "Bad image ca7b57_0 crop_thr 0.4 only 0\n",
      "Bad image ca7b57_0 crop_thr 0.30000000000000004 only 0\n",
      "Done ca7b57_0 in 1.8822824954986572 seconds\n",
      "Rescaling done in 11.768211603164673 seconds. Image shape is (1075, 1010, 3)\n",
      "Bad image caf901_0 crop_thr 0.6 only 0\n",
      "Bad image caf901_0 crop_thr 0.5 only 0\n",
      "Bad image caf901_0 crop_thr 0.4 only 0\n"
     ]
    },
    {
     "name": "stderr",
     "output_type": "stream",
     "text": [
      " 77%|███████▋  | 579/749 [3:56:20<53:13, 18.78s/it]  "
     ]
    },
    {
     "name": "stdout",
     "output_type": "stream",
     "text": [
      "Done caf901_0 in 12.028811931610107 seconds\n",
      "Rescaling done in 204.82314229011536 seconds. Image shape is (1379, 3905, 3)\n"
     ]
    },
    {
     "name": "stderr",
     "output_type": "stream",
     "text": [
      " 77%|███████▋  | 580/749 [3:59:45<3:30:33, 74.76s/it]"
     ]
    },
    {
     "name": "stdout",
     "output_type": "stream",
     "text": [
      "Done cb1293_0 in 205.35767722129822 seconds\n",
      "Rescaling done in 29.307891368865967 seconds. Image shape is (1266, 1331, 3)\n",
      "Bad image cb2534_0 crop_thr 0.6 only 2\n"
     ]
    },
    {
     "name": "stderr",
     "output_type": "stream",
     "text": [
      " 78%|███████▊  | 581/749 [4:00:15<2:51:19, 61.18s/it]"
     ]
    },
    {
     "name": "stdout",
     "output_type": "stream",
     "text": [
      "Done cb2534_0 in 29.515639543533325 seconds\n"
     ]
    },
    {
     "name": "stderr",
     "output_type": "stream",
     "text": [
      " 78%|███████▊  | 582/749 [4:00:41<2:21:01, 50.67s/it]"
     ]
    },
    {
     "name": "stdout",
     "output_type": "stream",
     "text": [
      "Rescaling done in 26.010541677474976 seconds. Image shape is (1266, 1193, 3)\n",
      "Done cb2534_1 in 26.119181156158447 seconds\n",
      "Rescaling done in 34.94477677345276 seconds. Image shape is (2728, 911, 3)\n"
     ]
    },
    {
     "name": "stderr",
     "output_type": "stream",
     "text": [
      " 78%|███████▊  | 583/749 [4:01:16<2:07:18, 46.01s/it]"
     ]
    },
    {
     "name": "stdout",
     "output_type": "stream",
     "text": [
      "Done cb4f8e_0 in 35.15860176086426 seconds\n"
     ]
    },
    {
     "name": "stderr",
     "output_type": "stream",
     "text": [
      " 78%|███████▊  | 584/749 [4:02:01<2:05:29, 45.63s/it]"
     ]
    },
    {
     "name": "stdout",
     "output_type": "stream",
     "text": [
      "Rescaling done in 44.54295039176941 seconds. Image shape is (658, 2409, 3)\n",
      "Bad image cb4f8e_1 crop_thr 0.6 only 3\n",
      "Done cb4f8e_1 in 44.738561391830444 seconds\n",
      "Rescaling done in 47.668296575546265 seconds. Image shape is (558, 2492, 3)\n",
      "Bad image cc73c0_0 crop_thr 0.6 only 0\n",
      "Bad image cc73c0_0 crop_thr 0.5 only 0\n",
      "Bad image cc73c0_0 crop_thr 0.4 only 3\n"
     ]
    },
    {
     "name": "stderr",
     "output_type": "stream",
     "text": [
      " 78%|███████▊  | 585/749 [4:02:49<2:06:37, 46.33s/it]"
     ]
    },
    {
     "name": "stdout",
     "output_type": "stream",
     "text": [
      "Done cc73c0_0 in 47.94296312332153 seconds\n"
     ]
    },
    {
     "name": "stderr",
     "output_type": "stream",
     "text": [
      " 78%|███████▊  | 586/749 [4:03:01<1:37:55, 36.04s/it]"
     ]
    },
    {
     "name": "stdout",
     "output_type": "stream",
     "text": [
      "Rescaling done in 12.006358861923218 seconds. Image shape is (690, 1196, 3)\n",
      "Done cde001_0 in 12.05301308631897 seconds\n"
     ]
    },
    {
     "name": "stderr",
     "output_type": "stream",
     "text": [
      " 78%|███████▊  | 587/749 [4:03:03<1:10:11, 25.99s/it]"
     ]
    },
    {
     "name": "stdout",
     "output_type": "stream",
     "text": [
      "Rescaling done in 2.530559778213501 seconds. Image shape is (463, 370, 3)\n",
      "Done cff1ce_0 in 2.5435545444488525 seconds\n"
     ]
    },
    {
     "name": "stderr",
     "output_type": "stream",
     "text": [
      " 79%|███████▊  | 588/749 [4:03:16<58:51, 21.93s/it]  "
     ]
    },
    {
     "name": "stdout",
     "output_type": "stream",
     "text": [
      "Rescaling done in 12.305739879608154 seconds. Image shape is (2653, 452, 3)\n",
      "Bad image d03362_0 crop_thr 0.6 only 2\n",
      "Done d03362_0 in 12.45889663696289 seconds\n"
     ]
    },
    {
     "name": "stderr",
     "output_type": "stream",
     "text": [
      " 79%|███████▊  | 589/749 [4:03:28<50:44, 19.03s/it]"
     ]
    },
    {
     "name": "stdout",
     "output_type": "stream",
     "text": [
      "Rescaling done in 12.176988124847412 seconds. Image shape is (999, 781, 3)\n",
      "Done d13031_0 in 12.254671335220337 seconds\n"
     ]
    },
    {
     "name": "stderr",
     "output_type": "stream",
     "text": [
      " 79%|███████▉  | 590/749 [4:03:38<43:22, 16.37s/it]"
     ]
    },
    {
     "name": "stdout",
     "output_type": "stream",
     "text": [
      "Rescaling done in 10.08591103553772 seconds. Image shape is (1846, 502, 3)\n",
      "Done d1da59_0 in 10.161019563674927 seconds\n",
      "Rescaling done in 11.87214732170105 seconds. Image shape is (2879, 503, 3)\n",
      "Bad image d20177_0 crop_thr 0.6 only 0\n",
      "Bad image d20177_0 crop_thr 0.5 only 0\n"
     ]
    },
    {
     "name": "stderr",
     "output_type": "stream",
     "text": [
      " 79%|███████▉  | 591/749 [4:03:50<39:45, 15.10s/it]"
     ]
    },
    {
     "name": "stdout",
     "output_type": "stream",
     "text": [
      "Done d20177_0 in 12.13809609413147 seconds\n",
      "Rescaling done in 17.23089838027954 seconds. Image shape is (2729, 635, 3)\n",
      "Bad image d23cd1_0 crop_thr 0.6 only 1\n"
     ]
    },
    {
     "name": "stderr",
     "output_type": "stream",
     "text": [
      " 79%|███████▉  | 592/749 [4:04:08<41:21, 15.81s/it]"
     ]
    },
    {
     "name": "stdout",
     "output_type": "stream",
     "text": [
      "Done d23cd1_0 in 17.456164598464966 seconds\n",
      "Rescaling done in 72.8627142906189 seconds. Image shape is (2725, 1554, 3)\n"
     ]
    },
    {
     "name": "stderr",
     "output_type": "stream",
     "text": [
      " 79%|███████▉  | 593/749 [4:05:21<1:25:50, 33.02s/it]"
     ]
    },
    {
     "name": "stdout",
     "output_type": "stream",
     "text": [
      "Done d24672_0 in 73.17085266113281 seconds\n",
      "Rescaling done in 19.570260524749756 seconds. Image shape is (616, 1579, 3)\n",
      "Bad image d25a2f_0 crop_thr 0.6 only 0\n",
      "Bad image d25a2f_0 crop_thr 0.5 only 0\n",
      "Bad image d25a2f_0 crop_thr 0.4 only 0\n",
      "Bad image d25a2f_0 crop_thr 0.30000000000000004 only 0\n"
     ]
    },
    {
     "name": "stderr",
     "output_type": "stream",
     "text": [
      " 79%|███████▉  | 594/749 [4:05:41<1:15:04, 29.06s/it]"
     ]
    },
    {
     "name": "stdout",
     "output_type": "stream",
     "text": [
      "Bad image d25a2f_0 crop_thr 0.20000000000000007 only 0\n",
      "Done d25a2f_0 in 19.835642099380493 seconds\n"
     ]
    },
    {
     "name": "stderr",
     "output_type": "stream",
     "text": [
      " 79%|███████▉  | 595/749 [4:06:01<1:07:47, 26.41s/it]"
     ]
    },
    {
     "name": "stdout",
     "output_type": "stream",
     "text": [
      "Rescaling done in 20.03840923309326 seconds. Image shape is (1498, 1008, 3)\n",
      "Bad image d2c18a_0 crop_thr 0.6 only 3\n",
      "Done d2c18a_0 in 20.225099086761475 seconds\n"
     ]
    },
    {
     "name": "stderr",
     "output_type": "stream",
     "text": [
      " 80%|███████▉  | 596/749 [4:06:05<50:09, 19.67s/it]  "
     ]
    },
    {
     "name": "stdout",
     "output_type": "stream",
     "text": [
      "Rescaling done in 3.8839097023010254 seconds. Image shape is (578, 645, 3)\n",
      "Bad image d2e447_0 crop_thr 0.6 only 0\n",
      "Bad image d2e447_0 crop_thr 0.5 only 0\n",
      "Done d2e447_0 in 3.9375312328338623 seconds\n",
      "Rescaling done in 14.610511302947998 seconds. Image shape is (1537, 825, 3)\n",
      "Bad image d33b23_0 crop_thr 0.6 only 0\n",
      "Bad image d33b23_0 crop_thr 0.5 only 2\n"
     ]
    },
    {
     "name": "stderr",
     "output_type": "stream",
     "text": [
      " 80%|███████▉  | 597/749 [4:06:20<46:10, 18.22s/it]"
     ]
    },
    {
     "name": "stdout",
     "output_type": "stream",
     "text": [
      "Done d33b23_0 in 14.847305297851562 seconds\n",
      "Rescaling done in 64.99598407745361 seconds. Image shape is (2302, 1648, 3)\n"
     ]
    },
    {
     "name": "stderr",
     "output_type": "stream",
     "text": [
      " 80%|███████▉  | 598/749 [4:07:25<1:21:23, 32.34s/it]"
     ]
    },
    {
     "name": "stdout",
     "output_type": "stream",
     "text": [
      "Done d346ca_0 in 65.28386449813843 seconds\n"
     ]
    },
    {
     "name": "stderr",
     "output_type": "stream",
     "text": [
      " 80%|███████▉  | 599/749 [4:07:39<1:07:22, 26.95s/it]"
     ]
    },
    {
     "name": "stdout",
     "output_type": "stream",
     "text": [
      "Rescaling done in 14.269521236419678 seconds. Image shape is (1421, 870, 3)\n",
      "Done d36b5f_0 in 14.35828447341919 seconds\n",
      "Rescaling done in 43.95347547531128 seconds. Image shape is (518, 2492, 3)\n",
      "Bad image d380dc_0 crop_thr 0.6 only 0\n",
      "Bad image d380dc_0 crop_thr 0.5 only 0\n",
      "Bad image d380dc_0 crop_thr 0.4 only 0\n"
     ]
    },
    {
     "name": "stderr",
     "output_type": "stream",
     "text": [
      " 80%|████████  | 600/749 [4:08:24<1:19:49, 32.15s/it]"
     ]
    },
    {
     "name": "stdout",
     "output_type": "stream",
     "text": [
      "Bad image d380dc_0 crop_thr 0.30000000000000004 only 0\n",
      "Done d380dc_0 in 44.276700496673584 seconds\n"
     ]
    },
    {
     "name": "stderr",
     "output_type": "stream",
     "text": [
      " 80%|████████  | 601/749 [4:08:38<1:06:04, 26.79s/it]"
     ]
    },
    {
     "name": "stdout",
     "output_type": "stream",
     "text": [
      "Rescaling done in 14.208319902420044 seconds. Image shape is (1152, 918, 3)\n",
      "Done d3d21b_0 in 14.29103136062622 seconds\n",
      "Rescaling done in 19.464426517486572 seconds. Image shape is (2882, 726, 3)\n",
      "Bad image d44b91_0 crop_thr 0.6 only 1\n"
     ]
    },
    {
     "name": "stderr",
     "output_type": "stream",
     "text": [
      " 80%|████████  | 602/749 [4:08:58<1:00:27, 24.68s/it]"
     ]
    },
    {
     "name": "stdout",
     "output_type": "stream",
     "text": [
      "Done d44b91_0 in 19.74626064300537 seconds\n"
     ]
    },
    {
     "name": "stderr",
     "output_type": "stream",
     "text": [
      " 81%|████████  | 603/749 [4:09:30<1:05:24, 26.88s/it]"
     ]
    },
    {
     "name": "stdout",
     "output_type": "stream",
     "text": [
      "Rescaling done in 31.84773564338684 seconds. Image shape is (2112, 1143, 3)\n",
      "Done d44b91_1 in 32.02653408050537 seconds\n"
     ]
    },
    {
     "name": "stderr",
     "output_type": "stream",
     "text": [
      " 81%|████████  | 604/749 [4:09:31<46:29, 19.24s/it]  "
     ]
    },
    {
     "name": "stdout",
     "output_type": "stream",
     "text": [
      "Rescaling done in 1.3833744525909424 seconds. Image shape is (306, 230, 3)\n",
      "Bad image d4791c_0 crop_thr 0.6 only 3\n",
      "Bad image d4791c_0 crop_thr 0.5 only 3\n",
      "Bad image d4791c_0 crop_thr 0.4 only 3\n",
      "Bad image d4791c_0 crop_thr 0.30000000000000004 only 3\n",
      "Bad image d4791c_0 crop_thr 0.20000000000000007 only 3\n",
      "Bad image d4791c_0 crop_thr 0.10000000000000009 only 3\n",
      "Bad image d4791c_0 crop_thr 1.1102230246251565e-16 only 3\n",
      "No crops was found\n",
      "Done d4791c_0 in 1.4050509929656982 seconds\n"
     ]
    },
    {
     "name": "stderr",
     "output_type": "stream",
     "text": [
      " 81%|████████  | 605/749 [4:09:41<39:48, 16.59s/it]"
     ]
    },
    {
     "name": "stdout",
     "output_type": "stream",
     "text": [
      "Rescaling done in 10.198509931564331 seconds. Image shape is (1461, 641, 3)\n",
      "Bad image d4ac9a_0 crop_thr 0.6 only 0\n",
      "Bad image d4ac9a_0 crop_thr 0.5 only 0\n",
      "Done d4ac9a_0 in 10.392678260803223 seconds\n",
      "Rescaling done in 4.255078554153442 seconds. Image shape is (2070, 326, 3)\n",
      "Bad image d4c955_0 crop_thr 0.6 only 0\n",
      "Bad image d4c955_0 crop_thr 0.5 only 0\n",
      "Bad image d4c955_0 crop_thr 0.4 only 0\n",
      "Bad image d4c955_0 crop_thr 0.30000000000000004 only 0\n",
      "Bad image d4c955_0 crop_thr 0.20000000000000007 only 0\n",
      "Bad image d4c955_0 crop_thr 0.10000000000000009 only 0\n"
     ]
    },
    {
     "name": "stderr",
     "output_type": "stream",
     "text": [
      " 81%|████████  | 606/749 [4:09:46<30:53, 12.96s/it]"
     ]
    },
    {
     "name": "stdout",
     "output_type": "stream",
     "text": [
      "Done d4c955_0 in 4.50354528427124 seconds\n"
     ]
    },
    {
     "name": "stderr",
     "output_type": "stream",
     "text": [
      " 81%|████████  | 607/749 [4:09:49<23:47, 10.05s/it]"
     ]
    },
    {
     "name": "stdout",
     "output_type": "stream",
     "text": [
      "Rescaling done in 3.2004032135009766 seconds. Image shape is (1097, 340, 3)\n",
      "Bad image d4c955_1 crop_thr 0.6 only 0\n",
      "Bad image d4c955_1 crop_thr 0.5 only 0\n",
      "Bad image d4c955_1 crop_thr 0.4 only 0\n",
      "Done d4c955_1 in 3.2690601348876953 seconds\n",
      "Rescaling done in 93.05471658706665 seconds. Image shape is (947, 2825, 3)\n"
     ]
    },
    {
     "name": "stderr",
     "output_type": "stream",
     "text": [
      " 81%|████████  | 608/749 [4:11:23<1:22:22, 35.05s/it]"
     ]
    },
    {
     "name": "stdout",
     "output_type": "stream",
     "text": [
      "Done d4dc4f_0 in 93.37251162528992 seconds\n"
     ]
    },
    {
     "name": "stderr",
     "output_type": "stream",
     "text": [
      " 81%|████████▏ | 609/749 [4:11:34<1:05:34, 28.10s/it]"
     ]
    },
    {
     "name": "stdout",
     "output_type": "stream",
     "text": [
      "Rescaling done in 11.792630672454834 seconds. Image shape is (1461, 641, 3)\n",
      "Done d53809_0 in 11.884982109069824 seconds\n",
      "Rescaling done in 105.04578804969788 seconds. Image shape is (2954, 1736, 3)\n"
     ]
    },
    {
     "name": "stderr",
     "output_type": "stream",
     "text": [
      " 81%|████████▏ | 610/749 [4:13:20<1:58:59, 51.36s/it]"
     ]
    },
    {
     "name": "stdout",
     "output_type": "stream",
     "text": [
      "Done d53ab7_0 in 105.64193940162659 seconds\n",
      "Rescaling done in 35.76811337471008 seconds. Image shape is (2497, 1004, 3)\n"
     ]
    },
    {
     "name": "stderr",
     "output_type": "stream",
     "text": [
      " 82%|████████▏ | 611/749 [4:13:56<1:47:32, 46.76s/it]"
     ]
    },
    {
     "name": "stdout",
     "output_type": "stream",
     "text": [
      "Done d5c637_0 in 36.01669192314148 seconds\n",
      "Rescaling done in 142.53894591331482 seconds. Image shape is (1209, 3157, 3)\n"
     ]
    },
    {
     "name": "stderr",
     "output_type": "stream",
     "text": [
      " 82%|████████▏ | 612/749 [4:16:19<2:52:36, 75.59s/it]"
     ]
    },
    {
     "name": "stdout",
     "output_type": "stream",
     "text": [
      "Done d62b1d_0 in 142.86367082595825 seconds\n",
      "Rescaling done in 106.22227215766907 seconds. Image shape is (925, 3157, 3)\n"
     ]
    },
    {
     "name": "stderr",
     "output_type": "stream",
     "text": [
      " 82%|████████▏ | 613/749 [4:18:05<3:12:18, 84.84s/it]"
     ]
    },
    {
     "name": "stdout",
     "output_type": "stream",
     "text": [
      "Done d6525e_0 in 106.43040347099304 seconds\n"
     ]
    },
    {
     "name": "stderr",
     "output_type": "stream",
     "text": [
      " 82%|████████▏ | 614/749 [4:18:23<2:25:49, 64.81s/it]"
     ]
    },
    {
     "name": "stdout",
     "output_type": "stream",
     "text": [
      "Rescaling done in 17.970980882644653 seconds. Image shape is (1114, 1056, 3)\n",
      "Done d74701_0 in 18.074156761169434 seconds\n"
     ]
    },
    {
     "name": "stderr",
     "output_type": "stream",
     "text": [
      " 82%|████████▏ | 615/749 [4:18:37<1:50:36, 49.52s/it]"
     ]
    },
    {
     "name": "stdout",
     "output_type": "stream",
     "text": [
      "Rescaling done in 13.773519277572632 seconds. Image shape is (960, 965, 3)\n",
      "Done d74701_1 in 13.845414400100708 seconds\n"
     ]
    },
    {
     "name": "stderr",
     "output_type": "stream",
     "text": [
      " 82%|████████▏ | 616/749 [4:19:08<1:37:26, 43.96s/it]"
     ]
    },
    {
     "name": "stdout",
     "output_type": "stream",
     "text": [
      "Rescaling done in 30.86127781867981 seconds. Image shape is (1188, 1515, 3)\n",
      "Done d7a20d_0 in 30.978641748428345 seconds\n",
      "Rescaling done in 4.439265727996826 seconds. Image shape is (1575, 368, 3)\n",
      "Bad image d7dc3e_0 crop_thr 0.6 only 0\n",
      "Bad image d7dc3e_0 crop_thr 0.5 only 0\n",
      "Bad image d7dc3e_0 crop_thr 0.4 only 0\n"
     ]
    },
    {
     "name": "stderr",
     "output_type": "stream",
     "text": [
      " 82%|████████▏ | 617/749 [4:19:13<1:10:46, 32.17s/it]"
     ]
    },
    {
     "name": "stdout",
     "output_type": "stream",
     "text": [
      "Done d7dc3e_0 in 4.646814584732056 seconds\n",
      "Rescaling done in 28.509937047958374 seconds. Image shape is (2189, 1051, 3)\n",
      "Bad image d7dcea_0 crop_thr 0.6 only 2\n"
     ]
    },
    {
     "name": "stderr",
     "output_type": "stream",
     "text": [
      " 83%|████████▎ | 618/749 [4:19:42<1:08:02, 31.17s/it]"
     ]
    },
    {
     "name": "stdout",
     "output_type": "stream",
     "text": [
      "Done d7dcea_0 in 28.83269166946411 seconds\n",
      "Rescaling done in 14.680538892745972 seconds. Image shape is (1498, 916, 3)\n",
      "Bad image d862da_0 crop_thr 0.6 only 0\n",
      "Bad image d862da_0 crop_thr 0.5 only 0\n"
     ]
    },
    {
     "name": "stderr",
     "output_type": "stream",
     "text": [
      " 83%|████████▎ | 619/749 [4:19:57<57:02, 26.33s/it]  "
     ]
    },
    {
     "name": "stdout",
     "output_type": "stream",
     "text": [
      "Bad image d862da_0 crop_thr 0.4 only 0\n",
      "Done d862da_0 in 15.027778387069702 seconds\n"
     ]
    },
    {
     "name": "stderr",
     "output_type": "stream",
     "text": [
      " 83%|████████▎ | 620/749 [4:20:32<1:02:01, 28.85s/it]"
     ]
    },
    {
     "name": "stdout",
     "output_type": "stream",
     "text": [
      "Rescaling done in 34.60530114173889 seconds. Image shape is (1151, 1495, 3)\n",
      "Done d8a746_0 in 34.738685131073 seconds\n"
     ]
    },
    {
     "name": "stderr",
     "output_type": "stream",
     "text": [
      " 83%|████████▎ | 621/749 [4:20:50<55:11, 25.87s/it]  "
     ]
    },
    {
     "name": "stdout",
     "output_type": "stream",
     "text": [
      "Rescaling done in 18.82201099395752 seconds. Image shape is (1575, 1008, 3)\n",
      "Done d8db68_0 in 18.920703887939453 seconds\n"
     ]
    },
    {
     "name": "stderr",
     "output_type": "stream",
     "text": [
      " 83%|████████▎ | 622/749 [4:21:07<48:59, 23.14s/it]"
     ]
    },
    {
     "name": "stdout",
     "output_type": "stream",
     "text": [
      "Rescaling done in 16.674752473831177 seconds. Image shape is (1652, 824, 3)\n",
      "Done d91d0f_0 in 16.77636408805847 seconds\n"
     ]
    },
    {
     "name": "stderr",
     "output_type": "stream",
     "text": [
      " 83%|████████▎ | 623/749 [4:21:31<48:53, 23.28s/it]"
     ]
    },
    {
     "name": "stdout",
     "output_type": "stream",
     "text": [
      "Rescaling done in 23.459620237350464 seconds. Image shape is (2574, 774, 3)\n",
      "Done d923a7_0 in 23.601133346557617 seconds\n"
     ]
    },
    {
     "name": "stderr",
     "output_type": "stream",
     "text": [
      " 83%|████████▎ | 624/749 [4:21:43<41:45, 20.04s/it]"
     ]
    },
    {
     "name": "stdout",
     "output_type": "stream",
     "text": [
      "Rescaling done in 12.446603775024414 seconds. Image shape is (532, 1329, 3)\n",
      "Done d93fd8_0 in 12.487993240356445 seconds\n"
     ]
    },
    {
     "name": "stderr",
     "output_type": "stream",
     "text": [
      " 83%|████████▎ | 625/749 [4:22:01<39:37, 19.17s/it]"
     ]
    },
    {
     "name": "stdout",
     "output_type": "stream",
     "text": [
      "Rescaling done in 17.08503222465515 seconds. Image shape is (519, 1579, 3)\n",
      "Done d98dc9_0 in 17.136290788650513 seconds\n",
      "Rescaling done in 22.325281858444214 seconds. Image shape is (2267, 867, 3)\n",
      "Bad image da732b_0 crop_thr 0.6 only 0\n"
     ]
    },
    {
     "name": "stderr",
     "output_type": "stream",
     "text": [
      " 84%|████████▎ | 626/749 [4:22:23<41:25, 20.21s/it]"
     ]
    },
    {
     "name": "stdout",
     "output_type": "stream",
     "text": [
      "Done da732b_0 in 22.623326539993286 seconds\n"
     ]
    },
    {
     "name": "stderr",
     "output_type": "stream",
     "text": [
      " 84%|████████▎ | 627/749 [4:22:28<31:40, 15.58s/it]"
     ]
    },
    {
     "name": "stdout",
     "output_type": "stream",
     "text": [
      "Rescaling done in 4.6486053466796875 seconds. Image shape is (885, 552, 3)\n",
      "Bad image dae554_0 crop_thr 0.6 only 0\n",
      "Bad image dae554_0 crop_thr 0.5 only 0\n",
      "Bad image dae554_0 crop_thr 0.4 only 2\n",
      "Done dae554_0 in 4.769343376159668 seconds\n",
      "Rescaling done in 44.34041881561279 seconds. Image shape is (3111, 1139, 3)\n"
     ]
    },
    {
     "name": "stderr",
     "output_type": "stream",
     "text": [
      " 84%|████████▍ | 628/749 [4:23:13<48:59, 24.29s/it]"
     ]
    },
    {
     "name": "stdout",
     "output_type": "stream",
     "text": [
      "Done db268c_0 in 44.62817144393921 seconds\n"
     ]
    },
    {
     "name": "stderr",
     "output_type": "stream",
     "text": [
      " 84%|████████▍ | 629/749 [4:23:15<35:32, 17.77s/it]"
     ]
    },
    {
     "name": "stdout",
     "output_type": "stream",
     "text": [
      "Rescaling done in 2.5430335998535156 seconds. Image shape is (425, 416, 3)\n",
      "Done dba56f_0 in 2.559136390686035 seconds\n"
     ]
    },
    {
     "name": "stderr",
     "output_type": "stream",
     "text": [
      " 84%|████████▍ | 630/749 [4:23:16<25:30, 12.86s/it]"
     ]
    },
    {
     "name": "stdout",
     "output_type": "stream",
     "text": [
      "Rescaling done in 1.3626503944396973 seconds. Image shape is (327, 382, 3)\n",
      "Bad image dbd64b_0 crop_thr 0.6 only 0\n",
      "Bad image dbd64b_0 crop_thr 0.5 only 0\n",
      "Bad image dbd64b_0 crop_thr 0.4 only 0\n",
      "Bad image dbd64b_0 crop_thr 0.30000000000000004 only 3\n",
      "Done dbd64b_0 in 1.395813226699829 seconds\n",
      "Rescaling done in 97.48123264312744 seconds. Image shape is (1027, 2825, 3)\n"
     ]
    },
    {
     "name": "stderr",
     "output_type": "stream",
     "text": [
      " 84%|████████▍ | 631/749 [4:24:54<1:15:20, 38.31s/it]"
     ]
    },
    {
     "name": "stdout",
     "output_type": "stream",
     "text": [
      "Done dbecb3_0 in 97.68926095962524 seconds\n"
     ]
    },
    {
     "name": "stderr",
     "output_type": "stream",
     "text": [
      " 84%|████████▍ | 632/749 [4:25:04<58:06, 29.80s/it]  "
     ]
    },
    {
     "name": "stdout",
     "output_type": "stream",
     "text": [
      "Rescaling done in 9.856652736663818 seconds. Image shape is (1385, 549, 3)\n",
      "Done dc8f86_0 in 9.931368350982666 seconds\n"
     ]
    },
    {
     "name": "stderr",
     "output_type": "stream",
     "text": [
      " 85%|████████▍ | 633/749 [4:25:21<50:14, 25.99s/it]"
     ]
    },
    {
     "name": "stdout",
     "output_type": "stream",
     "text": [
      "Rescaling done in 16.979602575302124 seconds. Image shape is (2152, 684, 3)\n",
      "Done dc8f86_1 in 17.094427824020386 seconds\n",
      "Rescaling done in 52.410454988479614 seconds. Image shape is (2073, 1327, 3)\n"
     ]
    },
    {
     "name": "stderr",
     "output_type": "stream",
     "text": [
      " 85%|████████▍ | 634/749 [4:26:14<1:05:11, 34.01s/it]"
     ]
    },
    {
     "name": "stdout",
     "output_type": "stream",
     "text": [
      "Done dca376_0 in 52.74320983886719 seconds\n",
      "Rescaling done in 142.25448179244995 seconds. Image shape is (1640, 2659, 3)\n"
     ]
    },
    {
     "name": "stderr",
     "output_type": "stream",
     "text": [
      " 85%|████████▍ | 635/749 [4:28:37<2:06:32, 66.60s/it]"
     ]
    },
    {
     "name": "stdout",
     "output_type": "stream",
     "text": [
      "Done dca3b1_0 in 142.6289713382721 seconds\n"
     ]
    },
    {
     "name": "stderr",
     "output_type": "stream",
     "text": [
      " 85%|████████▍ | 636/749 [4:29:04<1:43:00, 54.70s/it]"
     ]
    },
    {
     "name": "stdout",
     "output_type": "stream",
     "text": [
      "Rescaling done in 26.77739381790161 seconds. Image shape is (1882, 1007, 3)\n",
      "Done dd05a2_0 in 26.922605991363525 seconds\n"
     ]
    },
    {
     "name": "stderr",
     "output_type": "stream",
     "text": [
      " 85%|████████▌ | 637/749 [4:29:13<1:16:51, 41.17s/it]"
     ]
    },
    {
     "name": "stdout",
     "output_type": "stream",
     "text": [
      "Rescaling done in 9.50885820388794 seconds. Image shape is (1346, 688, 3)\n",
      "Bad image dd6316_0 crop_thr 0.6 only 0\n",
      "Done dd6316_0 in 9.61939263343811 seconds\n"
     ]
    },
    {
     "name": "stderr",
     "output_type": "stream",
     "text": [
      " 85%|████████▌ | 638/749 [4:29:24<59:07, 31.96s/it]  "
     ]
    },
    {
     "name": "stdout",
     "output_type": "stream",
     "text": [
      "Rescaling done in 10.368665218353271 seconds. Image shape is (730, 1058, 3)\n",
      "Bad image de9e4c_0 crop_thr 0.6 only 2\n",
      "Done de9e4c_0 in 10.448128461837769 seconds\n"
     ]
    },
    {
     "name": "stderr",
     "output_type": "stream",
     "text": [
      " 85%|████████▌ | 639/749 [4:29:36<48:04, 26.22s/it]"
     ]
    },
    {
     "name": "stdout",
     "output_type": "stream",
     "text": [
      "Rescaling done in 12.766550064086914 seconds. Image shape is (1499, 686, 3)\n",
      "Done deec71_0 in 12.84585952758789 seconds\n",
      "Rescaling done in 60.05325627326965 seconds. Image shape is (3187, 1322, 3)\n"
     ]
    },
    {
     "name": "stderr",
     "output_type": "stream",
     "text": [
      " 85%|████████▌ | 640/749 [4:30:37<1:06:15, 36.47s/it]"
     ]
    },
    {
     "name": "stdout",
     "output_type": "stream",
     "text": [
      "Done defd00_0 in 60.38393568992615 seconds\n"
     ]
    },
    {
     "name": "stderr",
     "output_type": "stream",
     "text": [
      " 86%|████████▌ | 641/749 [4:30:40<47:47, 26.55s/it]  "
     ]
    },
    {
     "name": "stdout",
     "output_type": "stream",
     "text": [
      "Rescaling done in 3.368265151977539 seconds. Image shape is (1002, 322, 3)\n",
      "Bad image df2c0d_0 crop_thr 0.6 only 1\n",
      "Done df2c0d_0 in 3.401607036590576 seconds\n"
     ]
    },
    {
     "name": "stderr",
     "output_type": "stream",
     "text": [
      " 86%|████████▌ | 642/749 [4:30:44<35:26, 19.87s/it]"
     ]
    },
    {
     "name": "stdout",
     "output_type": "stream",
     "text": [
      "Rescaling done in 4.191442966461182 seconds. Image shape is (1001, 460, 3)\n",
      "Bad image df4c9c_0 crop_thr 0.6 only 0\n",
      "Bad image df4c9c_0 crop_thr 0.5 only 3\n",
      "Done df4c9c_0 in 4.276978492736816 seconds\n"
     ]
    },
    {
     "name": "stderr",
     "output_type": "stream",
     "text": [
      " 86%|████████▌ | 643/749 [4:30:59<32:15, 18.26s/it]"
     ]
    },
    {
     "name": "stdout",
     "output_type": "stream",
     "text": [
      "Rescaling done in 14.409543991088867 seconds. Image shape is (1922, 639, 3)\n",
      "Done df543d_0 in 14.505556583404541 seconds\n"
     ]
    },
    {
     "name": "stderr",
     "output_type": "stream",
     "text": [
      " 86%|████████▌ | 644/749 [4:31:05<25:29, 14.56s/it]"
     ]
    },
    {
     "name": "stdout",
     "output_type": "stream",
     "text": [
      "Rescaling done in 5.900582790374756 seconds. Image shape is (1001, 459, 3)\n",
      "Done df543d_1 in 5.938619613647461 seconds\n",
      "Rescaling done in 20.150752544403076 seconds. Image shape is (2459, 820, 3)\n",
      "Bad image dfd99d_0 crop_thr 0.6 only 0\n"
     ]
    },
    {
     "name": "stderr",
     "output_type": "stream",
     "text": [
      " 86%|████████▌ | 645/749 [4:31:25<28:20, 16.35s/it]"
     ]
    },
    {
     "name": "stdout",
     "output_type": "stream",
     "text": [
      "Bad image dfd99d_0 crop_thr 0.5 only 0\n",
      "Done dfd99d_0 in 20.529003143310547 seconds\n"
     ]
    },
    {
     "name": "stderr",
     "output_type": "stream",
     "text": [
      " 86%|████████▌ | 646/749 [4:31:52<33:08, 19.31s/it]"
     ]
    },
    {
     "name": "stdout",
     "output_type": "stream",
     "text": [
      "Rescaling done in 26.099848985671997 seconds. Image shape is (820, 1579, 3)\n",
      "Done e0b829_0 in 26.191362380981445 seconds\n"
     ]
    },
    {
     "name": "stderr",
     "output_type": "stream",
     "text": [
      " 86%|████████▋ | 647/749 [4:32:05<29:52, 17.58s/it]"
     ]
    },
    {
     "name": "stdout",
     "output_type": "stream",
     "text": [
      "Rescaling done in 13.456892251968384 seconds. Image shape is (1499, 733, 3)\n",
      "Done e0cfd5_0 in 13.543444156646729 seconds\n",
      "Rescaling done in 15.918255805969238 seconds. Image shape is (2264, 750, 3)\n",
      "Bad image e10f49_0 crop_thr 0.6 only 0\n",
      "Bad image e10f49_0 crop_thr 0.5 only 0\n"
     ]
    },
    {
     "name": "stderr",
     "output_type": "stream",
     "text": [
      " 87%|████████▋ | 648/749 [4:32:22<28:57, 17.20s/it]"
     ]
    },
    {
     "name": "stdout",
     "output_type": "stream",
     "text": [
      "Bad image e10f49_0 crop_thr 0.4 only 2\n",
      "Done e10f49_0 in 16.322043657302856 seconds\n",
      "Rescaling done in 170.97858715057373 seconds. Image shape is (1557, 3074, 3)\n"
     ]
    },
    {
     "name": "stderr",
     "output_type": "stream",
     "text": [
      " 87%|████████▋ | 649/749 [4:35:13<1:45:45, 63.45s/it]"
     ]
    },
    {
     "name": "stdout",
     "output_type": "stream",
     "text": [
      "Done e10fdb_0 in 171.37456727027893 seconds\n"
     ]
    },
    {
     "name": "stderr",
     "output_type": "stream",
     "text": [
      " 87%|████████▋ | 650/749 [4:35:19<1:16:12, 46.19s/it]"
     ]
    },
    {
     "name": "stdout",
     "output_type": "stream",
     "text": [
      "Rescaling done in 5.8512163162231445 seconds. Image shape is (654, 737, 3)\n",
      "Done e251ff_0 in 5.891245365142822 seconds\n"
     ]
    },
    {
     "name": "stderr",
     "output_type": "stream",
     "text": [
      " 87%|████████▋ | 651/749 [4:35:25<56:04, 34.33s/it]  "
     ]
    },
    {
     "name": "stdout",
     "output_type": "stream",
     "text": [
      "Rescaling done in 6.46927285194397 seconds. Image shape is (931, 694, 3)\n",
      "Bad image e26a04_1 crop_thr 0.6 only 0\n",
      "Bad image e26a04_1 crop_thr 0.5 only 0\n",
      "Bad image e26a04_1 crop_thr 0.4 only 2\n",
      "Done e26a04_1 in 6.6602394580841064 seconds\n"
     ]
    },
    {
     "name": "stderr",
     "output_type": "stream",
     "text": [
      " 87%|████████▋ | 652/749 [4:35:41<46:30, 28.77s/it]"
     ]
    },
    {
     "name": "stdout",
     "output_type": "stream",
     "text": [
      "Rescaling done in 15.698197603225708 seconds. Image shape is (922, 1057, 3)\n",
      "Done e316dd_0 in 15.787214040756226 seconds\n"
     ]
    },
    {
     "name": "stderr",
     "output_type": "stream",
     "text": [
      " 87%|████████▋ | 653/749 [4:35:57<39:53, 24.93s/it]"
     ]
    },
    {
     "name": "stdout",
     "output_type": "stream",
     "text": [
      "Rescaling done in 15.90065598487854 seconds. Image shape is (1075, 918, 3)\n",
      "Done e316dd_1 in 15.98118257522583 seconds\n"
     ]
    },
    {
     "name": "stderr",
     "output_type": "stream",
     "text": [
      " 87%|████████▋ | 654/749 [4:36:03<30:32, 19.29s/it]"
     ]
    },
    {
     "name": "stdout",
     "output_type": "stream",
     "text": [
      "Rescaling done in 6.0915915966033936 seconds. Image shape is (1680, 375, 3)\n",
      "Done e3a230_0 in 6.137267112731934 seconds\n",
      "Rescaling done in 90.6050009727478 seconds. Image shape is (2800, 1737, 3)\n"
     ]
    },
    {
     "name": "stderr",
     "output_type": "stream",
     "text": [
      " 87%|████████▋ | 655/749 [4:37:34<1:03:54, 40.80s/it]"
     ]
    },
    {
     "name": "stdout",
     "output_type": "stream",
     "text": [
      "Done e3a24f_0 in 90.96423172950745 seconds\n",
      "Rescaling done in 167.00989437103271 seconds. Image shape is (971, 4154, 3)\n",
      "Bad image e3e850_0 crop_thr 0.6 only 0\n",
      "Bad image e3e850_0 crop_thr 0.5 only 2\n"
     ]
    },
    {
     "name": "stderr",
     "output_type": "stream",
     "text": [
      " 88%|████████▊ | 656/749 [4:40:22<2:02:18, 78.90s/it]"
     ]
    },
    {
     "name": "stdout",
     "output_type": "stream",
     "text": [
      "Done e3e850_0 in 167.82211780548096 seconds\n"
     ]
    },
    {
     "name": "stderr",
     "output_type": "stream",
     "text": [
      " 88%|████████▊ | 657/749 [4:40:37<1:31:18, 59.55s/it]"
     ]
    },
    {
     "name": "stdout",
     "output_type": "stream",
     "text": [
      "Rescaling done in 14.297674655914307 seconds. Image shape is (1461, 779, 3)\n",
      "Done e3f976_0 in 14.374439716339111 seconds\n"
     ]
    },
    {
     "name": "stderr",
     "output_type": "stream",
     "text": [
      " 88%|████████▊ | 658/749 [4:40:41<1:05:21, 43.09s/it]"
     ]
    },
    {
     "name": "stdout",
     "output_type": "stream",
     "text": [
      "Rescaling done in 4.672663450241089 seconds. Image shape is (1270, 320, 3)\n",
      "Done e5bd0b_0 in 4.698453903198242 seconds\n",
      "Rescaling done in 50.653728723526 seconds. Image shape is (2692, 1283, 3)\n"
     ]
    },
    {
     "name": "stderr",
     "output_type": "stream",
     "text": [
      " 88%|████████▊ | 659/749 [4:41:32<1:08:09, 45.44s/it]"
     ]
    },
    {
     "name": "stdout",
     "output_type": "stream",
     "text": [
      "Done e5f672_0 in 50.92340302467346 seconds\n"
     ]
    },
    {
     "name": "stderr",
     "output_type": "stream",
     "text": [
      " 88%|████████▊ | 660/749 [4:41:38<49:54, 33.65s/it]  "
     ]
    },
    {
     "name": "stdout",
     "output_type": "stream",
     "text": [
      "Rescaling done in 6.01280665397644 seconds. Image shape is (1308, 458, 3)\n",
      "Bad image e60ca1_0 crop_thr 0.6 only 0\n",
      "Bad image e60ca1_0 crop_thr 0.5 only 1\n",
      "Done e60ca1_0 in 6.119498014450073 seconds\n"
     ]
    },
    {
     "name": "stderr",
     "output_type": "stream",
     "text": [
      " 88%|████████▊ | 661/749 [4:41:44<37:12, 25.37s/it]"
     ]
    },
    {
     "name": "stdout",
     "output_type": "stream",
     "text": [
      "Rescaling done in 5.986401081085205 seconds. Image shape is (1308, 412, 3)\n",
      "Bad image e65811_0 crop_thr 0.6 only 0\n",
      "Done e65811_0 in 6.048861265182495 seconds\n",
      "Rescaling done in 39.94748067855835 seconds. Image shape is (2419, 1050, 3)\n"
     ]
    },
    {
     "name": "stderr",
     "output_type": "stream",
     "text": [
      " 88%|████████▊ | 662/749 [4:42:25<43:14, 29.83s/it]"
     ]
    },
    {
     "name": "stdout",
     "output_type": "stream",
     "text": [
      "Done e6764f_0 in 40.228057622909546 seconds\n"
     ]
    },
    {
     "name": "stderr",
     "output_type": "stream",
     "text": [
      " 89%|████████▊ | 663/749 [4:42:27<31:04, 21.68s/it]"
     ]
    },
    {
     "name": "stdout",
     "output_type": "stream",
     "text": [
      "Rescaling done in 2.606657028198242 seconds. Image shape is (924, 304, 3)\n",
      "Bad image e6ceb4_0 crop_thr 0.6 only 0\n",
      "Bad image e6ceb4_0 crop_thr 0.5 only 0\n",
      "Bad image e6ceb4_0 crop_thr 0.4 only 0\n",
      "Done e6ceb4_0 in 2.6582067012786865 seconds\n"
     ]
    },
    {
     "name": "stderr",
     "output_type": "stream",
     "text": [
      " 89%|████████▊ | 664/749 [4:42:33<24:01, 16.96s/it]"
     ]
    },
    {
     "name": "stdout",
     "output_type": "stream",
     "text": [
      "Rescaling done in 5.863577842712402 seconds. Image shape is (1154, 505, 3)\n",
      "Bad image e6ceb4_1 crop_thr 0.6 only 3\n",
      "Done e6ceb4_1 in 5.947683572769165 seconds\n",
      "Rescaling done in 19.011937379837036 seconds. Image shape is (2865, 757, 3)\n",
      "Bad image e72352_0 crop_thr 0.6 only 0\n",
      "Bad image e72352_0 crop_thr 0.5 only 0\n",
      "Bad image e72352_0 crop_thr 0.4 only 0\n",
      "Bad image e72352_0 crop_thr 0.30000000000000004 only 0\n",
      "Bad image e72352_0 crop_thr 0.20000000000000007 only 0\n"
     ]
    },
    {
     "name": "stderr",
     "output_type": "stream",
     "text": [
      " 89%|████████▉ | 665/749 [4:42:53<25:00, 17.86s/it]"
     ]
    },
    {
     "name": "stdout",
     "output_type": "stream",
     "text": [
      "Bad image e72352_0 crop_thr 0.10000000000000009 only 0\n",
      "Done e72352_0 in 19.972893953323364 seconds\n"
     ]
    },
    {
     "name": "stderr",
     "output_type": "stream",
     "text": [
      " 89%|████████▉ | 666/749 [4:43:27<31:13, 22.57s/it]"
     ]
    },
    {
     "name": "stdout",
     "output_type": "stream",
     "text": [
      "Rescaling done in 33.37322211265564 seconds. Image shape is (2035, 1052, 3)\n",
      "Done e732f6_0 in 33.55461883544922 seconds\n"
     ]
    },
    {
     "name": "stderr",
     "output_type": "stream",
     "text": [
      " 89%|████████▉ | 667/749 [4:43:41<27:21, 20.02s/it]"
     ]
    },
    {
     "name": "stdout",
     "output_type": "stream",
     "text": [
      "Rescaling done in 13.982006788253784 seconds. Image shape is (1922, 639, 3)\n",
      "Done e732f6_1 in 14.081350326538086 seconds\n"
     ]
    },
    {
     "name": "stderr",
     "output_type": "stream",
     "text": [
      " 89%|████████▉ | 668/749 [4:43:47<21:29, 15.92s/it]"
     ]
    },
    {
     "name": "stdout",
     "output_type": "stream",
     "text": [
      "Rescaling done in 6.227140426635742 seconds. Image shape is (1346, 504, 3)\n",
      "Bad image e7bec8_0 crop_thr 0.6 only 0\n",
      "Bad image e7bec8_0 crop_thr 0.5 only 0\n",
      "Done e7bec8_0 in 6.353808879852295 seconds\n",
      "Rescaling done in 16.12731432914734 seconds. Image shape is (1883, 823, 3)\n",
      "Bad image e7d583_0 crop_thr 0.6 only 0\n",
      "Bad image e7d583_0 crop_thr 0.5 only 3\n"
     ]
    },
    {
     "name": "stderr",
     "output_type": "stream",
     "text": [
      " 89%|████████▉ | 669/749 [4:44:04<21:25, 16.07s/it]"
     ]
    },
    {
     "name": "stdout",
     "output_type": "stream",
     "text": [
      "Done e7d583_0 in 16.41419267654419 seconds\n",
      "Rescaling done in 35.97471857070923 seconds. Image shape is (402, 2991, 3)\n",
      "Bad image e8dceb_0 crop_thr 0.6 only 0\n",
      "Bad image e8dceb_0 crop_thr 0.5 only 0\n",
      "Bad image e8dceb_0 crop_thr 0.4 only 0\n",
      "Bad image e8dceb_0 crop_thr 0.30000000000000004 only 0\n"
     ]
    },
    {
     "name": "stderr",
     "output_type": "stream",
     "text": [
      " 89%|████████▉ | 670/749 [4:44:40<29:09, 22.14s/it]"
     ]
    },
    {
     "name": "stdout",
     "output_type": "stream",
     "text": [
      "Bad image e8dceb_0 crop_thr 0.20000000000000007 only 0\n",
      "Done e8dceb_0 in 36.30038595199585 seconds\n",
      "Rescaling done in 81.94886112213135 seconds. Image shape is (2417, 1601, 3)\n"
     ]
    },
    {
     "name": "stderr",
     "output_type": "stream",
     "text": [
      " 90%|████████▉ | 671/749 [4:46:02<52:14, 40.18s/it]"
     ]
    },
    {
     "name": "stdout",
     "output_type": "stream",
     "text": [
      "Done e96bd3_0 in 82.28730726242065 seconds\n"
     ]
    },
    {
     "name": "stderr",
     "output_type": "stream",
     "text": [
      " 90%|████████▉ | 672/749 [4:46:10<39:02, 30.42s/it]"
     ]
    },
    {
     "name": "stdout",
     "output_type": "stream",
     "text": [
      "Rescaling done in 7.536276817321777 seconds. Image shape is (1424, 458, 3)\n",
      "Bad image e9c181_0 crop_thr 0.6 only 1\n",
      "Done e9c181_0 in 7.633946418762207 seconds\n"
     ]
    },
    {
     "name": "stderr",
     "output_type": "stream",
     "text": [
      " 90%|████████▉ | 673/749 [4:46:32<35:19, 27.88s/it]"
     ]
    },
    {
     "name": "stdout",
     "output_type": "stream",
     "text": [
      "Rescaling done in 21.8245747089386 seconds. Image shape is (2306, 775, 3)\n",
      "Done e9c181_1 in 21.957022666931152 seconds\n",
      "Rescaling done in 66.32121467590332 seconds. Image shape is (3109, 1460, 3)\n",
      "Bad image ea2aad_0 crop_thr 0.6 only 3\n"
     ]
    },
    {
     "name": "stderr",
     "output_type": "stream",
     "text": [
      " 90%|████████▉ | 674/749 [4:47:39<49:28, 39.58s/it]"
     ]
    },
    {
     "name": "stdout",
     "output_type": "stream",
     "text": [
      "Done ea2aad_0 in 66.8849503993988 seconds\n"
     ]
    },
    {
     "name": "stderr",
     "output_type": "stream",
     "text": [
      " 90%|█████████ | 675/749 [4:48:03<43:12, 35.04s/it]"
     ]
    },
    {
     "name": "stdout",
     "output_type": "stream",
     "text": [
      "Rescaling done in 24.3524751663208 seconds. Image shape is (830, 1495, 3)\n",
      "Done eb21f0_0 in 24.434373140335083 seconds\n"
     ]
    },
    {
     "name": "stderr",
     "output_type": "stream",
     "text": [
      " 90%|█████████ | 676/749 [4:48:16<34:30, 28.37s/it]"
     ]
    },
    {
     "name": "stdout",
     "output_type": "stream",
     "text": [
      "Rescaling done in 12.732558012008667 seconds. Image shape is (1306, 871, 3)\n",
      "Done eb6733_0 in 12.803736925125122 seconds\n"
     ]
    },
    {
     "name": "stderr",
     "output_type": "stream",
     "text": [
      " 90%|█████████ | 677/749 [4:48:40<32:21, 26.97s/it]"
     ]
    },
    {
     "name": "stdout",
     "output_type": "stream",
     "text": [
      "Rescaling done in 23.556941270828247 seconds. Image shape is (2267, 821, 3)\n",
      "Done ebb225_0 in 23.694153785705566 seconds\n"
     ]
    },
    {
     "name": "stderr",
     "output_type": "stream",
     "text": [
      " 91%|█████████ | 678/749 [4:48:46<24:47, 20.95s/it]"
     ]
    },
    {
     "name": "stdout",
     "output_type": "stream",
     "text": [
      "Rescaling done in 6.86326003074646 seconds. Image shape is (1231, 505, 3)\n",
      "Done ebce5d_0 in 6.911604404449463 seconds\n",
      "Rescaling done in 18.497106313705444 seconds. Image shape is (2618, 733, 3)\n",
      "Bad image ec3098_0 crop_thr 0.6 only 1\n"
     ]
    },
    {
     "name": "stderr",
     "output_type": "stream",
     "text": [
      " 91%|█████████ | 679/749 [4:49:05<23:39, 20.28s/it]"
     ]
    },
    {
     "name": "stdout",
     "output_type": "stream",
     "text": [
      "Done ec3098_0 in 18.7239511013031 seconds\n"
     ]
    },
    {
     "name": "stderr",
     "output_type": "stream",
     "text": [
      " 91%|█████████ | 680/749 [4:49:14<19:22, 16.84s/it]"
     ]
    },
    {
     "name": "stdout",
     "output_type": "stream",
     "text": [
      "Rescaling done in 8.655945539474487 seconds. Image shape is (1384, 642, 3)\n",
      "Bad image ed5006_0 crop_thr 0.6 only 0\n",
      "Bad image ed5006_0 crop_thr 0.5 only 2\n",
      "Done ed5006_0 in 8.819312810897827 seconds\n",
      "Rescaling done in 28.791278839111328 seconds. Image shape is (3458, 724, 3)\n"
     ]
    },
    {
     "name": "stderr",
     "output_type": "stream",
     "text": [
      " 91%|█████████ | 681/749 [4:49:43<23:13, 20.49s/it]"
     ]
    },
    {
     "name": "stdout",
     "output_type": "stream",
     "text": [
      "Done edc9a4_0 in 28.9988694190979 seconds\n"
     ]
    },
    {
     "name": "stderr",
     "output_type": "stream",
     "text": [
      " 91%|█████████ | 682/749 [4:50:02<22:21, 20.03s/it]"
     ]
    },
    {
     "name": "stdout",
     "output_type": "stream",
     "text": [
      "Rescaling done in 18.79908776283264 seconds. Image shape is (2036, 775, 3)\n",
      "Done eebf8d_0 in 18.939558029174805 seconds\n"
     ]
    },
    {
     "name": "stderr",
     "output_type": "stream",
     "text": [
      " 91%|█████████ | 683/749 [4:50:09<17:41, 16.08s/it]"
     ]
    },
    {
     "name": "stdout",
     "output_type": "stream",
     "text": [
      "Rescaling done in 6.838047742843628 seconds. Image shape is (1039, 597, 3)\n",
      "Done eebf8d_1 in 6.88301682472229 seconds\n"
     ]
    },
    {
     "name": "stderr",
     "output_type": "stream",
     "text": [
      " 91%|█████████▏| 684/749 [4:50:20<15:50, 14.62s/it]"
     ]
    },
    {
     "name": "stdout",
     "output_type": "stream",
     "text": [
      "Rescaling done in 11.121418714523315 seconds. Image shape is (1730, 594, 3)\n",
      "Done eebf8d_2 in 11.191076517105103 seconds\n"
     ]
    },
    {
     "name": "stderr",
     "output_type": "stream",
     "text": [
      " 91%|█████████▏| 685/749 [4:50:22<11:24, 10.69s/it]"
     ]
    },
    {
     "name": "stdout",
     "output_type": "stream",
     "text": [
      "Rescaling done in 1.5093028545379639 seconds. Image shape is (299, 326, 3)\n",
      "Bad image ef0c95_0 crop_thr 0.6 only 3\n",
      "Bad image ef0c95_0 crop_thr 0.5 only 2\n",
      "Bad image ef0c95_0 crop_thr 0.4 only 2\n",
      "Bad image ef0c95_0 crop_thr 0.30000000000000004 only 2\n",
      "Bad image ef0c95_0 crop_thr 0.20000000000000007 only 2\n",
      "Bad image ef0c95_0 crop_thr 0.10000000000000009 only 2\n",
      "Bad image ef0c95_0 crop_thr 1.1102230246251565e-16 only 2\n",
      "No crops was found\n",
      "Done ef0c95_0 in 1.5384669303894043 seconds\n"
     ]
    },
    {
     "name": "stderr",
     "output_type": "stream",
     "text": [
      " 92%|█████████▏| 686/749 [4:50:32<11:05, 10.57s/it]"
     ]
    },
    {
     "name": "stdout",
     "output_type": "stream",
     "text": [
      "Rescaling done in 10.206472158432007 seconds. Image shape is (1269, 642, 3)\n",
      "Done ef1b15_0 in 10.27640175819397 seconds\n"
     ]
    },
    {
     "name": "stderr",
     "output_type": "stream",
     "text": [
      " 92%|█████████▏| 687/749 [4:50:44<11:22, 11.01s/it]"
     ]
    },
    {
     "name": "stdout",
     "output_type": "stream",
     "text": [
      "Rescaling done in 11.972726583480835 seconds. Image shape is (1538, 687, 3)\n",
      "Done ef68ba_0 in 12.039763450622559 seconds\n",
      "Rescaling done in 145.5558443069458 seconds. Image shape is (1416, 2908, 3)\n"
     ]
    },
    {
     "name": "stderr",
     "output_type": "stream",
     "text": [
      " 92%|█████████▏| 688/749 [4:53:10<52:22, 51.51s/it]"
     ]
    },
    {
     "name": "stdout",
     "output_type": "stream",
     "text": [
      "Done f05449_0 in 146.00288701057434 seconds\n",
      "Rescaling done in 11.258905410766602 seconds. Image shape is (2191, 545, 3)\n",
      "Bad image f115aa_0 crop_thr 0.6 only 0\n",
      "Bad image f115aa_0 crop_thr 0.5 only 2\n"
     ]
    },
    {
     "name": "stderr",
     "output_type": "stream",
     "text": [
      " 92%|█████████▏| 689/749 [4:53:21<39:30, 39.50s/it]"
     ]
    },
    {
     "name": "stdout",
     "output_type": "stream",
     "text": [
      "Done f115aa_0 in 11.484788179397583 seconds\n"
     ]
    },
    {
     "name": "stderr",
     "output_type": "stream",
     "text": [
      " 92%|█████████▏| 690/749 [4:53:24<27:57, 28.43s/it]"
     ]
    },
    {
     "name": "stdout",
     "output_type": "stream",
     "text": [
      "Rescaling done in 2.5143582820892334 seconds. Image shape is (974, 336, 3)\n",
      "Bad image f1f952_0 crop_thr 0.6 only 0\n",
      "Bad image f1f952_0 crop_thr 0.5 only 0\n",
      "Bad image f1f952_0 crop_thr 0.4 only 0\n",
      "Bad image f1f952_0 crop_thr 0.30000000000000004 only 0\n",
      "Done f1f952_0 in 2.5876846313476562 seconds\n",
      "Rescaling done in 8.301381587982178 seconds. Image shape is (1441, 676, 3)\n",
      "Bad image f1f952_1 crop_thr 0.6 only 0\n",
      "Bad image f1f952_1 crop_thr 0.5 only 0\n",
      "Bad image f1f952_1 crop_thr 0.4 only 0\n"
     ]
    },
    {
     "name": "stderr",
     "output_type": "stream",
     "text": [
      " 92%|█████████▏| 691/749 [4:53:33<21:43, 22.48s/it]"
     ]
    },
    {
     "name": "stdout",
     "output_type": "stream",
     "text": [
      "Bad image f1f952_1 crop_thr 0.30000000000000004 only 0\n",
      "Done f1f952_1 in 8.588578701019287 seconds\n"
     ]
    },
    {
     "name": "stderr",
     "output_type": "stream",
     "text": [
      " 92%|█████████▏| 692/749 [4:53:35<15:41, 16.51s/it]"
     ]
    },
    {
     "name": "stdout",
     "output_type": "stream",
     "text": [
      "Rescaling done in 2.519691228866577 seconds. Image shape is (1097, 301, 3)\n",
      "Bad image f1f952_2 crop_thr 0.6 only 0\n",
      "Bad image f1f952_2 crop_thr 0.5 only 0\n",
      "Bad image f1f952_2 crop_thr 0.4 only 0\n",
      "Bad image f1f952_2 crop_thr 0.30000000000000004 only 0\n",
      "Done f1f952_2 in 2.594101905822754 seconds\n"
     ]
    },
    {
     "name": "stderr",
     "output_type": "stream",
     "text": [
      " 93%|█████████▎| 693/749 [4:53:54<15:56, 17.07s/it]"
     ]
    },
    {
     "name": "stdout",
     "output_type": "stream",
     "text": [
      "Rescaling done in 18.261033535003662 seconds. Image shape is (1575, 962, 3)\n",
      "Done f27c51_0 in 18.379527807235718 seconds\n",
      "Rescaling done in 14.687403678894043 seconds. Image shape is (1383, 963, 3)\n",
      "Bad image f2aba9_0 crop_thr 0.6 only 0\n",
      "Bad image f2aba9_0 crop_thr 0.5 only 0\n"
     ]
    },
    {
     "name": "stderr",
     "output_type": "stream",
     "text": [
      " 93%|█████████▎| 694/749 [4:54:08<15:03, 16.43s/it]"
     ]
    },
    {
     "name": "stdout",
     "output_type": "stream",
     "text": [
      "Done f2aba9_0 in 14.931334495544434 seconds\n"
     ]
    },
    {
     "name": "stderr",
     "output_type": "stream",
     "text": [
      " 93%|█████████▎| 695/749 [4:54:16<12:23, 13.77s/it]"
     ]
    },
    {
     "name": "stdout",
     "output_type": "stream",
     "text": [
      "Rescaling done in 7.5031328201293945 seconds. Image shape is (1539, 503, 3)\n",
      "Done f2c002_0 in 7.55391263961792 seconds\n"
     ]
    },
    {
     "name": "stderr",
     "output_type": "stream",
     "text": [
      " 93%|█████████▎| 696/749 [4:54:45<16:06, 18.23s/it]"
     ]
    },
    {
     "name": "stdout",
     "output_type": "stream",
     "text": [
      "Rescaling done in 28.454944849014282 seconds. Image shape is (2574, 866, 3)\n",
      "Done f322da_0 in 28.64934253692627 seconds\n"
     ]
    },
    {
     "name": "stderr",
     "output_type": "stream",
     "text": [
      " 93%|█████████▎| 697/749 [4:54:46<11:18, 13.05s/it]"
     ]
    },
    {
     "name": "stdout",
     "output_type": "stream",
     "text": [
      "Rescaling done in 0.9319658279418945 seconds. Image shape is (320, 248, 3)\n",
      "Bad image f3e9f6_0 crop_thr 0.6 only 0\n",
      "Bad image f3e9f6_0 crop_thr 0.5 only 0\n",
      "Bad image f3e9f6_0 crop_thr 0.4 only 0\n",
      "Bad image f3e9f6_0 crop_thr 0.30000000000000004 only 3\n",
      "Bad image f3e9f6_0 crop_thr 0.20000000000000007 only 2\n",
      "Bad image f3e9f6_0 crop_thr 0.10000000000000009 only 2\n",
      "Bad image f3e9f6_0 crop_thr 1.1102230246251565e-16 only 2\n",
      "No crops was found\n",
      "Done f3e9f6_0 in 0.956883430480957 seconds\n"
     ]
    },
    {
     "name": "stderr",
     "output_type": "stream",
     "text": [
      " 93%|█████████▎| 698/749 [4:54:49<08:40, 10.21s/it]"
     ]
    },
    {
     "name": "stdout",
     "output_type": "stream",
     "text": [
      "Rescaling done in 3.518603801727295 seconds. Image shape is (501, 646, 3)\n",
      "Bad image f3e9f6_1 crop_thr 0.6 only 0\n",
      "Bad image f3e9f6_1 crop_thr 0.5 only 2\n",
      "Done f3e9f6_1 in 3.5694210529327393 seconds\n",
      "Rescaling done in 12.548019409179688 seconds. Image shape is (1852, 718, 3)\n",
      "Bad image f40c69_0 crop_thr 0.6 only 0\n",
      "Bad image f40c69_0 crop_thr 0.5 only 0\n"
     ]
    },
    {
     "name": "stderr",
     "output_type": "stream",
     "text": [
      " 93%|█████████▎| 699/749 [4:55:02<09:09, 10.99s/it]"
     ]
    },
    {
     "name": "stdout",
     "output_type": "stream",
     "text": [
      "Done f40c69_0 in 12.812735795974731 seconds\n"
     ]
    },
    {
     "name": "stderr",
     "output_type": "stream",
     "text": [
      " 93%|█████████▎| 700/749 [4:55:08<07:51,  9.62s/it]"
     ]
    },
    {
     "name": "stdout",
     "output_type": "stream",
     "text": [
      "Rescaling done in 6.256929397583008 seconds. Image shape is (1462, 458, 3)\n",
      "Bad image f40c69_1 crop_thr 0.6 only 0\n",
      "Bad image f40c69_1 crop_thr 0.5 only 0\n",
      "Bad image f40c69_1 crop_thr 0.4 only 2\n",
      "Done f40c69_1 in 6.4126458168029785 seconds\n"
     ]
    },
    {
     "name": "stderr",
     "output_type": "stream",
     "text": [
      " 94%|█████████▎| 701/749 [4:55:46<14:18, 17.89s/it]"
     ]
    },
    {
     "name": "stdout",
     "output_type": "stream",
     "text": [
      "Rescaling done in 37.010318994522095 seconds. Image shape is (2228, 1051, 3)\n",
      "Done f40c69_2 in 37.18625855445862 seconds\n"
     ]
    },
    {
     "name": "stderr",
     "output_type": "stream",
     "text": [
      " 94%|█████████▎| 702/749 [4:56:03<13:53, 17.74s/it]"
     ]
    },
    {
     "name": "stdout",
     "output_type": "stream",
     "text": [
      "Rescaling done in 17.1883761882782 seconds. Image shape is (1344, 1055, 3)\n",
      "Bad image f40c69_3 crop_thr 0.6 only 2\n",
      "Done f40c69_3 in 17.38204574584961 seconds\n",
      "Rescaling done in 20.441690921783447 seconds. Image shape is (1040, 1246, 3)\n",
      "Bad image f4287c_0 crop_thr 0.6 only 0\n",
      "Bad image f4287c_0 crop_thr 0.5 only 0\n"
     ]
    },
    {
     "name": "stderr",
     "output_type": "stream",
     "text": [
      " 94%|█████████▍| 703/749 [4:56:24<14:17, 18.64s/it]"
     ]
    },
    {
     "name": "stdout",
     "output_type": "stream",
     "text": [
      "Bad image f4287c_0 crop_thr 0.4 only 0\n",
      "Done f4287c_0 in 20.74358630180359 seconds\n",
      "Rescaling done in 13.6088387966156 seconds. Image shape is (1691, 732, 3)\n",
      "Bad image f4c9ff_0 crop_thr 0.6 only 0\n",
      "Bad image f4c9ff_0 crop_thr 0.5 only 0\n"
     ]
    },
    {
     "name": "stderr",
     "output_type": "stream",
     "text": [
      " 94%|█████████▍| 704/749 [4:56:38<12:53, 17.20s/it]"
     ]
    },
    {
     "name": "stdout",
     "output_type": "stream",
     "text": [
      "Done f4c9ff_0 in 13.835536003112793 seconds\n"
     ]
    },
    {
     "name": "stderr",
     "output_type": "stream",
     "text": [
      " 94%|█████████▍| 705/749 [4:56:44<10:14, 13.98s/it]"
     ]
    },
    {
     "name": "stdout",
     "output_type": "stream",
     "text": [
      "Rescaling done in 6.331073760986328 seconds. Image shape is (1149, 612, 3)\n",
      "Bad image f4d8f8_0 crop_thr 0.6 only 0\n",
      "Bad image f4d8f8_0 crop_thr 0.5 only 0\n",
      "Done f4d8f8_0 in 6.458684682846069 seconds\n"
     ]
    },
    {
     "name": "stderr",
     "output_type": "stream",
     "text": [
      " 94%|█████████▍| 706/749 [4:56:51<08:36, 12.02s/it]"
     ]
    },
    {
     "name": "stdout",
     "output_type": "stream",
     "text": [
      "Rescaling done in 7.399942636489868 seconds. Image shape is (538, 875, 3)\n",
      "Done f56138_0 in 7.436626195907593 seconds\n",
      "Rescaling done in 46.23538398742676 seconds. Image shape is (2457, 1279, 3)\n"
     ]
    },
    {
     "name": "stderr",
     "output_type": "stream",
     "text": [
      " 94%|█████████▍| 707/749 [4:57:38<15:39, 22.36s/it]"
     ]
    },
    {
     "name": "stdout",
     "output_type": "stream",
     "text": [
      "Done f57f2e_0 in 46.496835708618164 seconds\n",
      "Rescaling done in 92.24212169647217 seconds. Image shape is (1138, 2659, 3)\n"
     ]
    },
    {
     "name": "stderr",
     "output_type": "stream",
     "text": [
      " 95%|█████████▍| 708/749 [4:59:11<29:40, 43.42s/it]"
     ]
    },
    {
     "name": "stdout",
     "output_type": "stream",
     "text": [
      "Done f58fcb_0 in 92.54640126228333 seconds\n",
      "Rescaling done in 107.67519783973694 seconds. Image shape is (878, 3323, 3)\n"
     ]
    },
    {
     "name": "stderr",
     "output_type": "stream",
     "text": [
      " 95%|█████████▍| 709/749 [5:00:58<41:50, 62.76s/it]"
     ]
    },
    {
     "name": "stdout",
     "output_type": "stream",
     "text": [
      "Done f5ce23_0 in 107.89157724380493 seconds\n",
      "Rescaling done in 17.88808298110962 seconds. Image shape is (1498, 1009, 3)\n",
      "Bad image f75146_0 crop_thr 0.6 only 0\n",
      "Bad image f75146_0 crop_thr 0.5 only 0\n"
     ]
    },
    {
     "name": "stderr",
     "output_type": "stream",
     "text": [
      " 95%|█████████▍| 710/749 [5:01:17<32:05, 49.38s/it]"
     ]
    },
    {
     "name": "stdout",
     "output_type": "stream",
     "text": [
      "Done f75146_0 in 18.166035175323486 seconds\n",
      "Rescaling done in 21.325572729110718 seconds. Image shape is (1650, 1006, 3)\n",
      "Bad image f75146_1 crop_thr 0.6 only 2\n"
     ]
    },
    {
     "name": "stderr",
     "output_type": "stream",
     "text": [
      " 95%|█████████▍| 711/749 [5:01:38<25:59, 41.03s/it]"
     ]
    },
    {
     "name": "stdout",
     "output_type": "stream",
     "text": [
      "Done f75146_1 in 21.531211853027344 seconds\n"
     ]
    },
    {
     "name": "stderr",
     "output_type": "stream",
     "text": [
      " 95%|█████████▌| 712/749 [5:01:44<18:48, 30.49s/it]"
     ]
    },
    {
     "name": "stdout",
     "output_type": "stream",
     "text": [
      "Rescaling done in 5.863004684448242 seconds. Image shape is (1308, 412, 3)\n",
      "Done f7f1bc_0 in 5.902542591094971 seconds\n"
     ]
    },
    {
     "name": "stderr",
     "output_type": "stream",
     "text": [
      " 95%|█████████▌| 713/749 [5:01:59<15:29, 25.82s/it]"
     ]
    },
    {
     "name": "stdout",
     "output_type": "stream",
     "text": [
      "Rescaling done in 14.75467586517334 seconds. Image shape is (1422, 871, 3)\n",
      "Bad image f7fb11_0 crop_thr 0.6 only 1\n",
      "Done f7fb11_0 in 14.905036449432373 seconds\n",
      "Rescaling done in 43.13921308517456 seconds. Image shape is (1457, 1468, 3)\n"
     ]
    },
    {
     "name": "stderr",
     "output_type": "stream",
     "text": [
      " 95%|█████████▌| 714/749 [5:02:42<18:07, 31.08s/it]"
     ]
    },
    {
     "name": "stdout",
     "output_type": "stream",
     "text": [
      "Done f83bf0_0 in 43.35582756996155 seconds\n",
      "Rescaling done in 11.259597301483154 seconds. Image shape is (1499, 733, 3)\n",
      "Bad image f8712b_0 crop_thr 0.6 only 0\n",
      "Bad image f8712b_0 crop_thr 0.5 only 0\n",
      "Bad image f8712b_0 crop_thr 0.4 only 0\n"
     ]
    },
    {
     "name": "stderr",
     "output_type": "stream",
     "text": [
      " 95%|█████████▌| 715/749 [5:02:54<14:17, 25.21s/it]"
     ]
    },
    {
     "name": "stdout",
     "output_type": "stream",
     "text": [
      "Done f8712b_0 in 11.520545244216919 seconds\n",
      "Rescaling done in 83.12130498886108 seconds. Image shape is (2845, 1559, 3)\n"
     ]
    },
    {
     "name": "stderr",
     "output_type": "stream",
     "text": [
      " 96%|█████████▌| 716/749 [5:04:17<23:29, 42.71s/it]"
     ]
    },
    {
     "name": "stdout",
     "output_type": "stream",
     "text": [
      "Done f94fb1_0 in 83.54743671417236 seconds\n",
      "Rescaling done in 147.6068470478058 seconds. Image shape is (3227, 1924, 3)\n"
     ]
    },
    {
     "name": "stderr",
     "output_type": "stream",
     "text": [
      " 96%|█████████▌| 717/749 [5:06:46<39:39, 74.36s/it]"
     ]
    },
    {
     "name": "stdout",
     "output_type": "stream",
     "text": [
      "Done f9569b_0 in 148.2132294178009 seconds\n"
     ]
    },
    {
     "name": "stderr",
     "output_type": "stream",
     "text": [
      " 96%|█████████▌| 718/749 [5:07:17<31:46, 61.50s/it]"
     ]
    },
    {
     "name": "stdout",
     "output_type": "stream",
     "text": [
      "Rescaling done in 31.318403482437134 seconds. Image shape is (1805, 1145, 3)\n",
      "Done f95d8b_0 in 31.48445153236389 seconds\n"
     ]
    },
    {
     "name": "stderr",
     "output_type": "stream",
     "text": [
      " 96%|█████████▌| 719/749 [5:07:42<25:16, 50.56s/it]"
     ]
    },
    {
     "name": "stdout",
     "output_type": "stream",
     "text": [
      "Rescaling done in 24.8947651386261 seconds. Image shape is (1767, 961, 3)\n",
      "Done f95d8b_1 in 25.023466110229492 seconds\n"
     ]
    },
    {
     "name": "stderr",
     "output_type": "stream",
     "text": [
      " 96%|█████████▌| 720/749 [5:08:12<21:25, 44.33s/it]"
     ]
    },
    {
     "name": "stdout",
     "output_type": "stream",
     "text": [
      "Rescaling done in 29.730363845825195 seconds. Image shape is (787, 1579, 3)\n",
      "Done f9c105_0 in 29.802695751190186 seconds\n",
      "Rescaling done in 71.7234034538269 seconds. Image shape is (2725, 1600, 3)\n",
      "Bad image f9fc6b_0 crop_thr 0.6 only 0\n"
     ]
    },
    {
     "name": "stderr",
     "output_type": "stream",
     "text": [
      " 96%|█████████▋| 721/749 [5:09:24<24:36, 52.73s/it]"
     ]
    },
    {
     "name": "stdout",
     "output_type": "stream",
     "text": [
      "Done f9fc6b_0 in 72.31473398208618 seconds\n"
     ]
    },
    {
     "name": "stderr",
     "output_type": "stream",
     "text": [
      " 96%|█████████▋| 722/749 [5:09:36<18:14, 40.54s/it]"
     ]
    },
    {
     "name": "stdout",
     "output_type": "stream",
     "text": [
      "Rescaling done in 11.981279134750366 seconds. Image shape is (690, 1196, 3)\n",
      "Bad image f9fc6b_1 crop_thr 0.6 only 0\n",
      "Bad image f9fc6b_1 crop_thr 0.5 only 2\n",
      "Done f9fc6b_1 in 12.110616445541382 seconds\n"
     ]
    },
    {
     "name": "stderr",
     "output_type": "stream",
     "text": [
      " 97%|█████████▋| 723/749 [5:09:42<13:02, 30.09s/it]"
     ]
    },
    {
     "name": "stdout",
     "output_type": "stream",
     "text": [
      "Rescaling done in 5.649057149887085 seconds. Image shape is (1193, 504, 3)\n",
      "Done fa0080_0 in 5.6877405643463135 seconds\n"
     ]
    },
    {
     "name": "stderr",
     "output_type": "stream",
     "text": [
      " 97%|█████████▋| 724/749 [5:09:48<09:31, 22.87s/it]"
     ]
    },
    {
     "name": "stdout",
     "output_type": "stream",
     "text": [
      "Rescaling done in 5.94499945640564 seconds. Image shape is (1154, 505, 3)\n",
      "Bad image fa9050_0 crop_thr 0.6 only 0\n",
      "Done fa9050_0 in 6.017759084701538 seconds\n"
     ]
    },
    {
     "name": "stderr",
     "output_type": "stream",
     "text": [
      " 97%|█████████▋| 725/749 [5:10:26<10:55, 27.33s/it]"
     ]
    },
    {
     "name": "stdout",
     "output_type": "stream",
     "text": [
      "Rescaling done in 37.6456573009491 seconds. Image shape is (981, 1662, 3)\n",
      "Done fa9747_0 in 37.75100660324097 seconds\n"
     ]
    },
    {
     "name": "stderr",
     "output_type": "stream",
     "text": [
      " 97%|█████████▋| 726/749 [5:10:31<07:54, 20.62s/it]"
     ]
    },
    {
     "name": "stdout",
     "output_type": "stream",
     "text": [
      "Rescaling done in 4.886066913604736 seconds. Image shape is (616, 691, 3)\n",
      "Bad image fad610_0 crop_thr 0.6 only 0\n",
      "Bad image fad610_0 crop_thr 0.5 only 2\n",
      "Done fad610_0 in 4.9530439376831055 seconds\n"
     ]
    },
    {
     "name": "stderr",
     "output_type": "stream",
     "text": [
      " 97%|█████████▋| 727/749 [5:10:32<05:26, 14.86s/it]"
     ]
    },
    {
     "name": "stdout",
     "output_type": "stream",
     "text": [
      "Rescaling done in 1.373225212097168 seconds. Image shape is (306, 432, 3)\n",
      "Bad image fb5f7e_0 crop_thr 0.6 only 0\n",
      "Bad image fb5f7e_0 crop_thr 0.5 only 0\n",
      "Bad image fb5f7e_0 crop_thr 0.4 only 0\n",
      "Bad image fb5f7e_0 crop_thr 0.30000000000000004 only 2\n",
      "Bad image fb5f7e_0 crop_thr 0.20000000000000007 only 2\n",
      "Done fb5f7e_0 in 1.411980390548706 seconds\n"
     ]
    },
    {
     "name": "stderr",
     "output_type": "stream",
     "text": [
      " 97%|█████████▋| 728/749 [5:10:34<03:47, 10.85s/it]"
     ]
    },
    {
     "name": "stdout",
     "output_type": "stream",
     "text": [
      "Rescaling done in 1.4778966903686523 seconds. Image shape is (302, 393, 3)\n",
      "Bad image fb5f7e_1 crop_thr 0.6 only 0\n",
      "Bad image fb5f7e_1 crop_thr 0.5 only 0\n",
      "Bad image fb5f7e_1 crop_thr 0.4 only 2\n",
      "Done fb5f7e_1 in 1.502424716949463 seconds\n",
      "Rescaling done in 40.729493141174316 seconds. Image shape is (821, 2077, 3)\n",
      "Bad image fb8bf8_0 crop_thr 0.6 only 0\n",
      "Bad image fb8bf8_0 crop_thr 0.5 only 2\n"
     ]
    },
    {
     "name": "stderr",
     "output_type": "stream",
     "text": [
      " 97%|█████████▋| 729/749 [5:11:15<06:37, 19.90s/it]"
     ]
    },
    {
     "name": "stdout",
     "output_type": "stream",
     "text": [
      "Done fb8bf8_0 in 41.00202536582947 seconds\n",
      "Rescaling done in 198.80260801315308 seconds. Image shape is (1291, 3739, 3)\n"
     ]
    },
    {
     "name": "stderr",
     "output_type": "stream",
     "text": [
      " 97%|█████████▋| 730/749 [5:14:34<23:20, 73.72s/it]"
     ]
    },
    {
     "name": "stdout",
     "output_type": "stream",
     "text": [
      "Done fbdcde_0 in 199.30904388427734 seconds\n",
      "Rescaling done in 262.18390226364136 seconds. Image shape is (1559, 3656, 3)\n"
     ]
    },
    {
     "name": "stderr",
     "output_type": "stream",
     "text": [
      " 98%|█████████▊| 731/749 [5:18:57<39:07, 130.41s/it]"
     ]
    },
    {
     "name": "stdout",
     "output_type": "stream",
     "text": [
      "Done fbdcde_1 in 262.66725397109985 seconds\n"
     ]
    },
    {
     "name": "stderr",
     "output_type": "stream",
     "text": [
      " 98%|█████████▊| 732/749 [5:19:06<26:39, 94.06s/it] "
     ]
    },
    {
     "name": "stdout",
     "output_type": "stream",
     "text": [
      "Rescaling done in 9.20076608657837 seconds. Image shape is (1153, 688, 3)\n",
      "Done fbf2eb_0 in 9.255059957504272 seconds\n",
      "Rescaling done in 5.85003137588501 seconds. Image shape is (938, 711, 3)\n",
      "Bad image fd3079_0 crop_thr 0.6 only 0\n",
      "Bad image fd3079_0 crop_thr 0.5 only 0\n",
      "Bad image fd3079_0 crop_thr 0.4 only 0\n",
      "Bad image fd3079_0 crop_thr 0.30000000000000004 only 0\n",
      "Bad image fd3079_0 crop_thr 0.20000000000000007 only 0\n"
     ]
    },
    {
     "name": "stderr",
     "output_type": "stream",
     "text": [
      " 98%|█████████▊| 733/749 [5:19:12<18:02, 67.68s/it]"
     ]
    },
    {
     "name": "stdout",
     "output_type": "stream",
     "text": [
      "Bad image fd3079_0 crop_thr 0.10000000000000009 only 0\n",
      "Done fd3079_0 in 6.112346410751343 seconds\n"
     ]
    },
    {
     "name": "stderr",
     "output_type": "stream",
     "text": [
      " 98%|█████████▊| 734/749 [5:19:36<13:36, 54.45s/it]"
     ]
    },
    {
     "name": "stdout",
     "output_type": "stream",
     "text": [
      "Rescaling done in 23.462538719177246 seconds. Image shape is (1652, 1008, 3)\n",
      "Done fd368e_0 in 23.577569007873535 seconds\n",
      "Rescaling done in 36.26140522956848 seconds. Image shape is (2881, 1002, 3)\n"
     ]
    },
    {
     "name": "stderr",
     "output_type": "stream",
     "text": [
      " 98%|█████████▊| 735/749 [5:20:12<11:26, 49.05s/it]"
     ]
    },
    {
     "name": "stdout",
     "output_type": "stream",
     "text": [
      "Done fd418f_0 in 36.46857047080994 seconds\n",
      "Rescaling done in 81.73218655586243 seconds. Image shape is (3071, 1507, 3)\n"
     ]
    },
    {
     "name": "stderr",
     "output_type": "stream",
     "text": [
      " 98%|█████████▊| 736/749 [5:21:34<12:46, 58.99s/it]"
     ]
    },
    {
     "name": "stdout",
     "output_type": "stream",
     "text": [
      "Done fd684f_0 in 82.17676401138306 seconds\n"
     ]
    },
    {
     "name": "stderr",
     "output_type": "stream",
     "text": [
      " 98%|█████████▊| 737/749 [5:22:02<09:55, 49.63s/it]"
     ]
    },
    {
     "name": "stdout",
     "output_type": "stream",
     "text": [
      "Rescaling done in 27.633333206176758 seconds. Image shape is (2459, 912, 3)\n",
      "Done fd7c5b_0 in 27.79832911491394 seconds\n"
     ]
    },
    {
     "name": "stderr",
     "output_type": "stream",
     "text": [
      " 99%|█████████▊| 738/749 [5:22:05<06:30, 35.48s/it]"
     ]
    },
    {
     "name": "stdout",
     "output_type": "stream",
     "text": [
      "Rescaling done in 2.433363199234009 seconds. Image shape is (386, 462, 3)\n",
      "Bad image fdce0f_0 crop_thr 0.6 only 2\n",
      "Done fdce0f_0 in 2.4546267986297607 seconds\n"
     ]
    },
    {
     "name": "stderr",
     "output_type": "stream",
     "text": [
      " 99%|█████████▊| 739/749 [5:22:07<04:16, 25.66s/it]"
     ]
    },
    {
     "name": "stdout",
     "output_type": "stream",
     "text": [
      "Rescaling done in 2.720876693725586 seconds. Image shape is (386, 508, 3)\n",
      "Bad image fdce0f_1 crop_thr 0.6 only 2\n",
      "Done fdce0f_1 in 2.744152307510376 seconds\n"
     ]
    },
    {
     "name": "stderr",
     "output_type": "stream",
     "text": [
      " 99%|█████████▉| 740/749 [5:22:10<02:48, 18.70s/it]"
     ]
    },
    {
     "name": "stdout",
     "output_type": "stream",
     "text": [
      "Rescaling done in 2.442772150039673 seconds. Image shape is (348, 463, 3)\n",
      "Bad image fdce0f_2 crop_thr 0.6 only 2\n",
      "Done fdce0f_2 in 2.465108633041382 seconds\n"
     ]
    },
    {
     "name": "stderr",
     "output_type": "stream",
     "text": [
      " 99%|█████████▉| 741/749 [5:22:19<02:06, 15.85s/it]"
     ]
    },
    {
     "name": "stdout",
     "output_type": "stream",
     "text": [
      "Rescaling done in 9.02133584022522 seconds. Image shape is (1417, 651, 3)\n",
      "Bad image fde9ba_0 crop_thr 0.6 only 0\n",
      "Bad image fde9ba_0 crop_thr 0.5 only 0\n",
      "Done fde9ba_0 in 9.202372550964355 seconds\n"
     ]
    },
    {
     "name": "stderr",
     "output_type": "stream",
     "text": [
      " 99%|█████████▉| 742/749 [5:22:42<02:06, 18.07s/it]"
     ]
    },
    {
     "name": "stdout",
     "output_type": "stream",
     "text": [
      "Rescaling done in 23.11365818977356 seconds. Image shape is (1267, 1193, 3)\n",
      "Done fdf998_0 in 23.25036072731018 seconds\n"
     ]
    },
    {
     "name": "stderr",
     "output_type": "stream",
     "text": [
      " 99%|█████████▉| 743/749 [5:22:57<01:43, 17.22s/it]"
     ]
    },
    {
     "name": "stdout",
     "output_type": "stream",
     "text": [
      "Rescaling done in 15.17550539970398 seconds. Image shape is (767, 1057, 3)\n",
      "Done fdf998_1 in 15.239771127700806 seconds\n"
     ]
    },
    {
     "name": "stderr",
     "output_type": "stream",
     "text": [
      " 99%|█████████▉| 744/749 [5:23:06<01:13, 14.73s/it]"
     ]
    },
    {
     "name": "stdout",
     "output_type": "stream",
     "text": [
      "Rescaling done in 8.8109290599823 seconds. Image shape is (1115, 734, 3)\n",
      "Bad image fe0cca_0 crop_thr 0.6 only 3\n",
      "Done fe0cca_0 in 8.908551692962646 seconds\n"
     ]
    },
    {
     "name": "stderr",
     "output_type": "stream",
     "text": [
      " 99%|█████████▉| 745/749 [5:23:20<00:57, 14.29s/it]"
     ]
    },
    {
     "name": "stdout",
     "output_type": "stream",
     "text": [
      "Rescaling done in 13.185046911239624 seconds. Image shape is (1422, 825, 3)\n",
      "Done fe9645_0 in 13.256662130355835 seconds\n",
      "Rescaling done in 70.43627715110779 seconds. Image shape is (3032, 1506, 3)\n"
     ]
    },
    {
     "name": "stderr",
     "output_type": "stream",
     "text": [
      "100%|█████████▉| 746/749 [5:24:30<01:33, 31.25s/it]"
     ]
    },
    {
     "name": "stdout",
     "output_type": "stream",
     "text": [
      "Done fe9bec_0 in 70.83615493774414 seconds\n"
     ]
    },
    {
     "name": "stderr",
     "output_type": "stream",
     "text": [
      "100%|█████████▉| 747/749 [5:24:44<00:51, 25.85s/it]"
     ]
    },
    {
     "name": "stdout",
     "output_type": "stream",
     "text": [
      "Rescaling done in 13.152705430984497 seconds. Image shape is (1807, 686, 3)\n",
      "Done ff14e0_0 in 13.240628242492676 seconds\n",
      "Rescaling done in 42.43643808364868 seconds. Image shape is (2534, 1141, 3)\n"
     ]
    },
    {
     "name": "stderr",
     "output_type": "stream",
     "text": [
      "100%|█████████▉| 748/749 [5:25:26<00:30, 30.90s/it]"
     ]
    },
    {
     "name": "stdout",
     "output_type": "stream",
     "text": [
      "Done ffec5c_0 in 42.68955898284912 seconds\n",
      "Rescaling done in 21.19379496574402 seconds. Image shape is (1690, 915, 3)\n"
     ]
    },
    {
     "name": "stderr",
     "output_type": "stream",
     "text": [
      "100%|██████████| 749/749 [5:25:48<00:00, 26.10s/it]"
     ]
    },
    {
     "name": "stdout",
     "output_type": "stream",
     "text": [
      "Done ffec5c_1 in 21.549938678741455 seconds\n"
     ]
    },
    {
     "name": "stderr",
     "output_type": "stream",
     "text": [
      "\n",
      "  0%|          | 0/65 [00:00<?, ?it/s]"
     ]
    },
    {
     "name": "stdout",
     "output_type": "stream",
     "text": [
      "Rescaling done in 4.876214265823364 seconds. Image shape is (1223, 527, 3)\n",
      "Bad image 04414e_0 crop_thr 0.6 only 0\n",
      "Bad image 04414e_0 crop_thr 0.5 only 0\n",
      "Bad image 04414e_0 crop_thr 0.4 only 0\n",
      "Bad image 04414e_0 crop_thr 0.30000000000000004 only 0\n",
      "Bad image 04414e_0 crop_thr 0.20000000000000007 only 0\n"
     ]
    },
    {
     "name": "stderr",
     "output_type": "stream",
     "text": [
      "  2%|▏         | 1/65 [00:05<05:26,  5.11s/it]"
     ]
    },
    {
     "name": "stdout",
     "output_type": "stream",
     "text": [
      "Done 04414e_0 in 5.108578681945801 seconds\n",
      "Rescaling done in 292.87153673171997 seconds. Image shape is (1727, 4071, 3)\n"
     ]
    },
    {
     "name": "stderr",
     "output_type": "stream",
     "text": [
      "  3%|▎         | 2/65 [04:58<3:03:37, 174.88s/it]"
     ]
    },
    {
     "name": "stdout",
     "output_type": "stream",
     "text": [
      "Done 06c0aa_0 in 293.71084332466125 seconds\n",
      "Rescaling done in 58.645408153533936 seconds. Image shape is (2380, 1280, 3)\n"
     ]
    },
    {
     "name": "stderr",
     "output_type": "stream",
     "text": [
      "  5%|▍         | 3/65 [05:57<2:05:59, 121.92s/it]"
     ]
    },
    {
     "name": "stdout",
     "output_type": "stream",
     "text": [
      "Done 0b5827_0 in 58.911011934280396 seconds\n"
     ]
    },
    {
     "name": "stderr",
     "output_type": "stream",
     "text": [
      "  6%|▌         | 4/65 [06:04<1:17:40, 76.40s/it] "
     ]
    },
    {
     "name": "stdout",
     "output_type": "stream",
     "text": [
      "Rescaling done in 6.53357458114624 seconds. Image shape is (1308, 459, 3)\n",
      "Bad image 0b5827_1 crop_thr 0.6 only 3\n",
      "Done 0b5827_1 in 6.620714902877808 seconds\n"
     ]
    },
    {
     "name": "stderr",
     "output_type": "stream",
     "text": [
      "  8%|▊         | 5/65 [06:31<58:43, 58.73s/it]  "
     ]
    },
    {
     "name": "stdout",
     "output_type": "stream",
     "text": [
      "Rescaling done in 27.22054696083069 seconds. Image shape is (2344, 867, 3)\n",
      "Done 0b5827_2 in 27.393664360046387 seconds\n"
     ]
    },
    {
     "name": "stderr",
     "output_type": "stream",
     "text": [
      "  9%|▉         | 6/65 [06:33<38:37, 39.29s/it]"
     ]
    },
    {
     "name": "stdout",
     "output_type": "stream",
     "text": [
      "Rescaling done in 1.4814229011535645 seconds. Image shape is (956, 202, 3)\n",
      "Bad image 0b5827_3 crop_thr 0.6 only 0\n",
      "Bad image 0b5827_3 crop_thr 0.5 only 0\n",
      "Bad image 0b5827_3 crop_thr 0.4 only 0\n",
      "Bad image 0b5827_3 crop_thr 0.30000000000000004 only 0\n",
      "Bad image 0b5827_3 crop_thr 0.20000000000000007 only 0\n",
      "Bad image 0b5827_3 crop_thr 0.10000000000000009 only 0\n",
      "Bad image 0b5827_3 crop_thr 1.1102230246251565e-16 only 0\n",
      "No crops was found\n",
      "Done 0b5827_3 in 1.5368881225585938 seconds\n"
     ]
    },
    {
     "name": "stderr",
     "output_type": "stream",
     "text": [
      " 11%|█         | 7/65 [06:42<28:20, 29.32s/it]"
     ]
    },
    {
     "name": "stdout",
     "output_type": "stream",
     "text": [
      "Rescaling done in 8.737935543060303 seconds. Image shape is (1269, 596, 3)\n",
      "Done 0b5827_4 in 8.798469066619873 seconds\n"
     ]
    },
    {
     "name": "stderr",
     "output_type": "stream",
     "text": [
      " 12%|█▏        | 8/65 [06:48<21:02, 22.14s/it]"
     ]
    },
    {
     "name": "stdout",
     "output_type": "stream",
     "text": [
      "Rescaling done in 6.640313148498535 seconds. Image shape is (1347, 504, 3)\n",
      "Bad image 1344f7_0 crop_thr 0.6 only 0\n",
      "Bad image 1344f7_0 crop_thr 0.5 only 2\n",
      "Done 1344f7_0 in 6.770270109176636 seconds\n"
     ]
    },
    {
     "name": "stderr",
     "output_type": "stream",
     "text": [
      " 14%|█▍        | 9/65 [06:53<15:38, 16.76s/it]"
     ]
    },
    {
     "name": "stdout",
     "output_type": "stream",
     "text": [
      "Rescaling done in 4.882280588150024 seconds. Image shape is (1117, 414, 3)\n",
      "Done 1344f7_1 in 4.918870687484741 seconds\n",
      "Rescaling done in 45.59001922607422 seconds. Image shape is (2765, 1279, 3)\n",
      "Bad image 1390c7_0 crop_thr 0.6 only 0\n",
      "Bad image 1390c7_0 crop_thr 0.5 only 0\n",
      "Bad image 1390c7_0 crop_thr 0.4 only 2\n"
     ]
    },
    {
     "name": "stderr",
     "output_type": "stream",
     "text": [
      " 15%|█▌        | 10/65 [07:40<23:48, 25.98s/it]"
     ]
    },
    {
     "name": "stdout",
     "output_type": "stream",
     "text": [
      "Done 1390c7_0 in 46.61962175369263 seconds\n"
     ]
    },
    {
     "name": "stderr",
     "output_type": "stream",
     "text": [
      " 17%|█▋        | 11/65 [07:50<18:56, 21.04s/it]"
     ]
    },
    {
     "name": "stdout",
     "output_type": "stream",
     "text": [
      "Rescaling done in 9.769895315170288 seconds. Image shape is (1154, 643, 3)\n",
      "Done 222acf_0 in 9.84232473373413 seconds\n",
      "Rescaling done in 60.15829563140869 seconds. Image shape is (2880, 1278, 3)\n"
     ]
    },
    {
     "name": "stderr",
     "output_type": "stream",
     "text": [
      " 18%|█▊        | 12/65 [08:50<29:10, 33.03s/it]"
     ]
    },
    {
     "name": "stdout",
     "output_type": "stream",
     "text": [
      "Done 22ee77_0 in 60.4414005279541 seconds\n",
      "Rescaling done in 13.203654289245605 seconds. Image shape is (1537, 778, 3)\n",
      "Bad image 2e3078_0 crop_thr 0.6 only 0\n",
      "Bad image 2e3078_0 crop_thr 0.5 only 2\n"
     ]
    },
    {
     "name": "stderr",
     "output_type": "stream",
     "text": [
      " 20%|██        | 13/65 [09:04<23:28, 27.09s/it]"
     ]
    },
    {
     "name": "stdout",
     "output_type": "stream",
     "text": [
      "Done 2e3078_0 in 13.437612295150757 seconds\n"
     ]
    },
    {
     "name": "stderr",
     "output_type": "stream",
     "text": [
      " 22%|██▏       | 14/65 [09:17<19:37, 23.09s/it]"
     ]
    },
    {
     "name": "stdout",
     "output_type": "stream",
     "text": [
      "Rescaling done in 13.741594552993774 seconds. Image shape is (2306, 591, 3)\n",
      "Done 37fd5d_0 in 13.830722570419312 seconds\n"
     ]
    },
    {
     "name": "stderr",
     "output_type": "stream",
     "text": [
      " 23%|██▎       | 15/65 [09:24<15:06, 18.12s/it]"
     ]
    },
    {
     "name": "stdout",
     "output_type": "stream",
     "text": [
      "Rescaling done in 6.505265712738037 seconds. Image shape is (1002, 619, 3)\n",
      "Bad image 38d50b_0 crop_thr 0.6 only 0\n",
      "Bad image 38d50b_0 crop_thr 0.5 only 2\n",
      "Done 38d50b_0 in 6.619579315185547 seconds\n",
      "Rescaling done in 47.94466495513916 seconds. Image shape is (1881, 1421, 3)\n"
     ]
    },
    {
     "name": "stderr",
     "output_type": "stream",
     "text": [
      " 25%|██▍       | 16/65 [10:12<22:10, 27.16s/it]"
     ]
    },
    {
     "name": "stdout",
     "output_type": "stream",
     "text": [
      "Done 395b4d_0 in 48.1476194858551 seconds\n"
     ]
    },
    {
     "name": "stderr",
     "output_type": "stream",
     "text": [
      " 26%|██▌       | 17/65 [10:35<20:37, 25.78s/it]"
     ]
    },
    {
     "name": "stdout",
     "output_type": "stream",
     "text": [
      "Rescaling done in 22.416763067245483 seconds. Image shape is (2728, 803, 3)\n",
      "Done 3aa5ad_0 in 22.57476234436035 seconds\n"
     ]
    },
    {
     "name": "stderr",
     "output_type": "stream",
     "text": [
      " 28%|██▊       | 18/65 [10:43<16:03, 20.50s/it]"
     ]
    },
    {
     "name": "stdout",
     "output_type": "stream",
     "text": [
      "Rescaling done in 8.164246320724487 seconds. Image shape is (653, 921, 3)\n",
      "Done 3c32af_0 in 8.19674825668335 seconds\n"
     ]
    },
    {
     "name": "stderr",
     "output_type": "stream",
     "text": [
      " 29%|██▉       | 19/65 [10:51<12:44, 16.61s/it]"
     ]
    },
    {
     "name": "stdout",
     "output_type": "stream",
     "text": [
      "Rescaling done in 7.53687047958374 seconds. Image shape is (615, 875, 3)\n",
      "Done 3c32af_1 in 7.565102577209473 seconds\n"
     ]
    },
    {
     "name": "stderr",
     "output_type": "stream",
     "text": [
      " 31%|███       | 20/65 [11:06<12:13, 16.29s/it]"
     ]
    },
    {
     "name": "stdout",
     "output_type": "stream",
     "text": [
      "Rescaling done in 15.458014488220215 seconds. Image shape is (1268, 826, 3)\n",
      "Done 3f82f0_0 in 15.54575228691101 seconds\n"
     ]
    },
    {
     "name": "stderr",
     "output_type": "stream",
     "text": [
      " 32%|███▏      | 21/65 [11:16<10:32, 14.38s/it]"
     ]
    },
    {
     "name": "stdout",
     "output_type": "stream",
     "text": [
      "Rescaling done in 9.859799861907959 seconds. Image shape is (1384, 642, 3)\n",
      "Done 419f30_0 in 9.920236349105835 seconds\n"
     ]
    },
    {
     "name": "stderr",
     "output_type": "stream",
     "text": [
      " 34%|███▍      | 22/65 [11:33<10:51, 15.16s/it]"
     ]
    },
    {
     "name": "stdout",
     "output_type": "stream",
     "text": [
      "Rescaling done in 16.865076065063477 seconds. Image shape is (2032, 849, 3)\n",
      "Done 45eace_0 in 16.96936011314392 seconds\n",
      "Rescaling done in 24.517425537109375 seconds. Image shape is (3167, 825, 3)\n",
      "Bad image 54334d_0 crop_thr 0.6 only 0\n",
      "Bad image 54334d_0 crop_thr 0.5 only 0\n",
      "Bad image 54334d_0 crop_thr 0.4 only 2\n"
     ]
    },
    {
     "name": "stderr",
     "output_type": "stream",
     "text": [
      " 35%|███▌      | 23/65 [11:58<12:43, 18.17s/it]"
     ]
    },
    {
     "name": "stdout",
     "output_type": "stream",
     "text": [
      "Done 54334d_0 in 25.19888710975647 seconds\n"
     ]
    },
    {
     "name": "stderr",
     "output_type": "stream",
     "text": [
      " 37%|███▋      | 24/65 [12:09<10:50, 15.87s/it]"
     ]
    },
    {
     "name": "stdout",
     "output_type": "stream",
     "text": [
      "Rescaling done in 10.447846412658691 seconds. Image shape is (846, 736, 3)\n",
      "Done 61d08e_0 in 10.514998197555542 seconds\n",
      "Rescaling done in 35.37580990791321 seconds. Image shape is (2535, 958, 3)\n"
     ]
    },
    {
     "name": "stderr",
     "output_type": "stream",
     "text": [
      " 38%|███▊      | 25/65 [12:44<14:31, 21.79s/it]"
     ]
    },
    {
     "name": "stdout",
     "output_type": "stream",
     "text": [
      "Done 7996ea_0 in 35.589038133621216 seconds\n",
      "Rescaling done in 52.65818428993225 seconds. Image shape is (2534, 1279, 3)\n"
     ]
    },
    {
     "name": "stderr",
     "output_type": "stream",
     "text": [
      " 40%|████      | 26/65 [13:37<20:14, 31.13s/it]"
     ]
    },
    {
     "name": "stdout",
     "output_type": "stream",
     "text": [
      "Done 7996ea_1 in 52.915897846221924 seconds\n",
      "Rescaling done in 109.37474417686462 seconds. Image shape is (3377, 1780, 3)\n"
     ]
    },
    {
     "name": "stderr",
     "output_type": "stream",
     "text": [
      " 42%|████▏     | 27/65 [15:27<34:41, 54.77s/it]"
     ]
    },
    {
     "name": "stdout",
     "output_type": "stream",
     "text": [
      "Done 7a420a_0 in 109.91713833808899 seconds\n"
     ]
    },
    {
     "name": "stderr",
     "output_type": "stream",
     "text": [
      " 43%|████▎     | 28/65 [15:36<25:11, 40.86s/it]"
     ]
    },
    {
     "name": "stdout",
     "output_type": "stream",
     "text": [
      "Rescaling done in 8.368600368499756 seconds. Image shape is (615, 737, 3)\n",
      "Done 817eb7_0 in 8.413607120513916 seconds\n"
     ]
    },
    {
     "name": "stderr",
     "output_type": "stream",
     "text": [
      " 45%|████▍     | 29/65 [15:45<18:48, 31.34s/it]"
     ]
    },
    {
     "name": "stdout",
     "output_type": "stream",
     "text": [
      "Rescaling done in 9.081088542938232 seconds. Image shape is (692, 828, 3)\n",
      "Done 817eb7_1 in 9.1189866065979 seconds\n",
      "Rescaling done in 88.53868412971497 seconds. Image shape is (1030, 2659, 3)\n"
     ]
    },
    {
     "name": "stderr",
     "output_type": "stream",
     "text": [
      " 46%|████▌     | 30/65 [17:13<28:20, 48.58s/it]"
     ]
    },
    {
     "name": "stdout",
     "output_type": "stream",
     "text": [
      "Done 81cb71_0 in 88.79699945449829 seconds\n",
      "Rescaling done in 82.0693519115448 seconds. Image shape is (2878, 1552, 3)\n"
     ]
    },
    {
     "name": "stderr",
     "output_type": "stream",
     "text": [
      " 48%|████▊     | 31/65 [18:36<33:17, 58.75s/it]"
     ]
    },
    {
     "name": "stdout",
     "output_type": "stream",
     "text": [
      "Done 842627_0 in 82.49299311637878 seconds\n"
     ]
    },
    {
     "name": "stderr",
     "output_type": "stream",
     "text": [
      " 49%|████▉     | 32/65 [18:39<23:03, 41.92s/it]"
     ]
    },
    {
     "name": "stdout",
     "output_type": "stream",
     "text": [
      "Rescaling done in 2.5396580696105957 seconds. Image shape is (833, 425, 3)\n",
      "Bad image 88510d_0 crop_thr 0.6 only 0\n",
      "Bad image 88510d_0 crop_thr 0.5 only 0\n",
      "Bad image 88510d_0 crop_thr 0.4 only 0\n",
      "Bad image 88510d_0 crop_thr 0.30000000000000004 only 0\n",
      "Bad image 88510d_0 crop_thr 0.20000000000000007 only 0\n",
      "Done 88510d_0 in 2.634661912918091 seconds\n",
      "Rescaling done in 40.29270029067993 seconds. Image shape is (2149, 1327, 3)\n",
      "Bad image 88510d_1 crop_thr 0.6 only 0\n",
      "Bad image 88510d_1 crop_thr 0.5 only 1\n"
     ]
    },
    {
     "name": "stderr",
     "output_type": "stream",
     "text": [
      " 51%|█████     | 33/65 [19:19<22:11, 41.60s/it]"
     ]
    },
    {
     "name": "stdout",
     "output_type": "stream",
     "text": [
      "Done 88510d_1 in 40.87385892868042 seconds\n"
     ]
    },
    {
     "name": "stderr",
     "output_type": "stream",
     "text": [
      " 52%|█████▏    | 34/65 [19:28<16:17, 31.53s/it]"
     ]
    },
    {
     "name": "stdout",
     "output_type": "stream",
     "text": [
      "Rescaling done in 7.9384682178497314 seconds. Image shape is (1193, 551, 3)\n",
      "Bad image 89f30b_0 crop_thr 0.6 only 2\n",
      "Done 89f30b_0 in 8.03068208694458 seconds\n"
     ]
    },
    {
     "name": "stderr",
     "output_type": "stream",
     "text": [
      " 54%|█████▍    | 35/65 [19:35<12:08, 24.27s/it]"
     ]
    },
    {
     "name": "stdout",
     "output_type": "stream",
     "text": [
      "Rescaling done in 7.156269073486328 seconds. Image shape is (2074, 439, 3)\n",
      "Bad image 8ed18f_0 crop_thr 0.6 only 0\n",
      "Bad image 8ed18f_0 crop_thr 0.5 only 0\n",
      "Done 8ed18f_0 in 7.313053846359253 seconds\n"
     ]
    },
    {
     "name": "stderr",
     "output_type": "stream",
     "text": [
      " 55%|█████▌    | 36/65 [19:45<09:45, 20.18s/it]"
     ]
    },
    {
     "name": "stdout",
     "output_type": "stream",
     "text": [
      "Rescaling done in 10.560236930847168 seconds. Image shape is (381, 1610, 3)\n",
      "Bad image 901551_0 crop_thr 0.6 only 0\n",
      "Bad image 901551_0 crop_thr 0.5 only 0\n",
      "Done 901551_0 in 10.646499395370483 seconds\n"
     ]
    },
    {
     "name": "stderr",
     "output_type": "stream",
     "text": [
      " 57%|█████▋    | 37/65 [20:18<11:04, 23.75s/it]"
     ]
    },
    {
     "name": "stdout",
     "output_type": "stream",
     "text": [
      "Rescaling done in 31.95250129699707 seconds. Image shape is (1305, 1239, 3)\n",
      "Done 9203ad_0 in 32.073729038238525 seconds\n",
      "Rescaling done in 34.77528190612793 seconds. Image shape is (1728, 1284, 3)\n",
      "Bad image 9203ad_1 crop_thr 0.6 only 0\n"
     ]
    },
    {
     "name": "stderr",
     "output_type": "stream",
     "text": [
      " 58%|█████▊    | 38/65 [20:53<12:12, 27.14s/it]"
     ]
    },
    {
     "name": "stdout",
     "output_type": "stream",
     "text": [
      "Done 9203ad_1 in 35.05283546447754 seconds\n"
     ]
    },
    {
     "name": "stderr",
     "output_type": "stream",
     "text": [
      " 60%|██████    | 39/65 [20:59<09:06, 21.03s/it]"
     ]
    },
    {
     "name": "stdout",
     "output_type": "stream",
     "text": [
      "Rescaling done in 6.567898511886597 seconds. Image shape is (1589, 499, 3)\n",
      "Bad image 933b40_0 crop_thr 0.6 only 0\n",
      "Bad image 933b40_0 crop_thr 0.5 only 0\n",
      "Bad image 933b40_0 crop_thr 0.4 only 0\n",
      "Done 933b40_0 in 6.7676825523376465 seconds\n",
      "Rescaling done in 33.12372040748596 seconds. Image shape is (2727, 1003, 3)\n",
      "Bad image 9402cb_0 crop_thr 0.6 only 0\n"
     ]
    },
    {
     "name": "stderr",
     "output_type": "stream",
     "text": [
      " 62%|██████▏   | 40/65 [21:33<10:19, 24.77s/it]"
     ]
    },
    {
     "name": "stdout",
     "output_type": "stream",
     "text": [
      "Done 9402cb_0 in 33.505786418914795 seconds\n",
      "Rescaling done in 8.473335027694702 seconds. Image shape is (1680, 595, 3)\n",
      "Bad image 95c270_0 crop_thr 0.6 only 0\n",
      "Bad image 95c270_0 crop_thr 0.5 only 0\n",
      "Bad image 95c270_0 crop_thr 0.4 only 2\n"
     ]
    },
    {
     "name": "stderr",
     "output_type": "stream",
     "text": [
      " 63%|██████▎   | 41/65 [21:42<07:59, 19.98s/it]"
     ]
    },
    {
     "name": "stdout",
     "output_type": "stream",
     "text": [
      "Bad image 95c270_0 crop_thr 0.30000000000000004 only 2\n",
      "Done 95c270_0 in 8.787842273712158 seconds\n",
      "Rescaling done in 17.977927446365356 seconds. Image shape is (3315, 634, 3)\n",
      "Bad image 95c270_1 crop_thr 0.6 only 0\n"
     ]
    },
    {
     "name": "stderr",
     "output_type": "stream",
     "text": [
      " 65%|██████▍   | 42/65 [22:00<07:28, 19.49s/it]"
     ]
    },
    {
     "name": "stdout",
     "output_type": "stream",
     "text": [
      "Bad image 95c270_1 crop_thr 0.5 only 2\n",
      "Done 95c270_1 in 18.360120058059692 seconds\n"
     ]
    },
    {
     "name": "stderr",
     "output_type": "stream",
     "text": [
      " 66%|██████▌   | 43/65 [22:04<05:24, 14.73s/it]"
     ]
    },
    {
     "name": "stdout",
     "output_type": "stream",
     "text": [
      "Rescaling done in 3.607250452041626 seconds. Image shape is (463, 508, 3)\n",
      "Done 9748f4_0 in 3.626934289932251 seconds\n"
     ]
    },
    {
     "name": "stderr",
     "output_type": "stream",
     "text": [
      " 68%|██████▊   | 44/65 [22:52<08:41, 24.82s/it]"
     ]
    },
    {
     "name": "stdout",
     "output_type": "stream",
     "text": [
      "Rescaling done in 48.176913022994995 seconds. Image shape is (1264, 1699, 3)\n",
      "Done 9aea46_0 in 48.3411021232605 seconds\n",
      "Rescaling done in 44.17288661003113 seconds. Image shape is (2957, 1139, 3)\n"
     ]
    },
    {
     "name": "stderr",
     "output_type": "stream",
     "text": [
      " 69%|██████▉   | 45/65 [23:36<10:13, 30.69s/it]"
     ]
    },
    {
     "name": "stdout",
     "output_type": "stream",
     "text": [
      "Done a05a98_0 in 44.39065670967102 seconds\n"
     ]
    },
    {
     "name": "stderr",
     "output_type": "stream",
     "text": [
      " 71%|███████   | 46/65 [23:41<07:12, 22.74s/it]"
     ]
    },
    {
     "name": "stdout",
     "output_type": "stream",
     "text": [
      "Rescaling done in 4.148138999938965 seconds. Image shape is (694, 461, 3)\n",
      "Bad image a0ebba_0 crop_thr 0.6 only 1\n",
      "Done a0ebba_0 in 4.183775186538696 seconds\n"
     ]
    },
    {
     "name": "stderr",
     "output_type": "stream",
     "text": [
      " 72%|███████▏  | 47/65 [24:04<06:55, 23.07s/it]"
     ]
    },
    {
     "name": "stdout",
     "output_type": "stream",
     "text": [
      "Rescaling done in 23.690680027008057 seconds. Image shape is (1690, 1054, 3)\n",
      "Done ad5a22_0 in 23.830559492111206 seconds\n"
     ]
    },
    {
     "name": "stderr",
     "output_type": "stream",
     "text": [
      " 74%|███████▍  | 48/65 [24:23<06:08, 21.69s/it]"
     ]
    },
    {
     "name": "stdout",
     "output_type": "stream",
     "text": [
      "Rescaling done in 18.371708869934082 seconds. Image shape is (1806, 823, 3)\n",
      "Done b8c83e_0 in 18.47757124900818 seconds\n"
     ]
    },
    {
     "name": "stderr",
     "output_type": "stream",
     "text": [
      " 75%|███████▌  | 49/65 [24:26<04:17, 16.08s/it]"
     ]
    },
    {
     "name": "stdout",
     "output_type": "stream",
     "text": [
      "Rescaling done in 2.9076287746429443 seconds. Image shape is (1125, 315, 3)\n",
      "Bad image b93972_0 crop_thr 0.6 only 0\n",
      "Bad image b93972_0 crop_thr 0.5 only 0\n",
      "Bad image b93972_0 crop_thr 0.4 only 0\n",
      "Bad image b93972_0 crop_thr 0.30000000000000004 only 2\n",
      "Done b93972_0 in 2.9897611141204834 seconds\n"
     ]
    },
    {
     "name": "stderr",
     "output_type": "stream",
     "text": [
      " 77%|███████▋  | 50/65 [24:31<03:10, 12.69s/it]"
     ]
    },
    {
     "name": "stdout",
     "output_type": "stream",
     "text": [
      "Rescaling done in 4.659055709838867 seconds. Image shape is (1304, 425, 3)\n",
      "Bad image bde458_0 crop_thr 0.6 only 0\n",
      "Bad image bde458_0 crop_thr 0.5 only 0\n",
      "Bad image bde458_0 crop_thr 0.4 only 0\n",
      "Done bde458_0 in 4.7836527824401855 seconds\n",
      "Rescaling done in 35.97913217544556 seconds. Image shape is (3419, 908, 3)\n"
     ]
    },
    {
     "name": "stderr",
     "output_type": "stream",
     "text": [
      " 78%|███████▊  | 51/65 [25:07<04:36, 19.76s/it]"
     ]
    },
    {
     "name": "stdout",
     "output_type": "stream",
     "text": [
      "Done c5a7fa_0 in 36.2358455657959 seconds\n",
      "Rescaling done in 61.6680588722229 seconds. Image shape is (2264, 1464, 3)\n"
     ]
    },
    {
     "name": "stderr",
     "output_type": "stream",
     "text": [
      " 80%|████████  | 52/65 [26:09<07:01, 32.43s/it]"
     ]
    },
    {
     "name": "stdout",
     "output_type": "stream",
     "text": [
      "Done d17ad3_0 in 62.01595997810364 seconds\n",
      "Rescaling done in 36.42218255996704 seconds. Image shape is (1881, 1237, 3)\n"
     ]
    },
    {
     "name": "stderr",
     "output_type": "stream",
     "text": [
      " 82%|████████▏ | 53/65 [26:46<06:44, 33.70s/it]"
     ]
    },
    {
     "name": "stdout",
     "output_type": "stream",
     "text": [
      "Done d17ad3_1 in 36.65250873565674 seconds\n"
     ]
    },
    {
     "name": "stderr",
     "output_type": "stream",
     "text": [
      " 83%|████████▎ | 54/65 [27:12<05:46, 31.51s/it]"
     ]
    },
    {
     "name": "stdout",
     "output_type": "stream",
     "text": [
      "Rescaling done in 26.25914692878723 seconds. Image shape is (1844, 1007, 3)\n",
      "Done d17ad3_2 in 26.39502501487732 seconds\n",
      "Rescaling done in 24.993285417556763 seconds. Image shape is (2458, 957, 3)\n",
      "Bad image d17ad3_3 crop_thr 0.6 only 0\n"
     ]
    },
    {
     "name": "stderr",
     "output_type": "stream",
     "text": [
      " 85%|████████▍ | 55/65 [27:37<04:57, 29.70s/it]"
     ]
    },
    {
     "name": "stdout",
     "output_type": "stream",
     "text": [
      "Bad image d17ad3_3 crop_thr 0.5 only 3\n",
      "Done d17ad3_3 in 25.48959708213806 seconds\n",
      "Rescaling done in 279.22145342826843 seconds. Image shape is (1656, 3988, 3)\n"
     ]
    },
    {
     "name": "stderr",
     "output_type": "stream",
     "text": [
      " 86%|████████▌ | 56/65 [32:17<15:42, 104.71s/it]"
     ]
    },
    {
     "name": "stdout",
     "output_type": "stream",
     "text": [
      "Done d86f42_0 in 279.73073959350586 seconds\n",
      "Rescaling done in 296.7326316833496 seconds. Image shape is (1762, 3573, 3)\n"
     ]
    },
    {
     "name": "stderr",
     "output_type": "stream",
     "text": [
      " 88%|████████▊ | 57/65 [37:15<21:40, 162.50s/it]"
     ]
    },
    {
     "name": "stdout",
     "output_type": "stream",
     "text": [
      "Done d86f42_1 in 297.3383297920227 seconds\n"
     ]
    },
    {
     "name": "stderr",
     "output_type": "stream",
     "text": [
      " 89%|████████▉ | 58/65 [37:21<13:28, 115.54s/it]"
     ]
    },
    {
     "name": "stdout",
     "output_type": "stream",
     "text": [
      "Rescaling done in 5.933046817779541 seconds. Image shape is (577, 691, 3)\n",
      "Done d9c963_0 in 5.968543291091919 seconds\n"
     ]
    },
    {
     "name": "stderr",
     "output_type": "stream",
     "text": [
      " 91%|█████████ | 59/65 [37:49<08:56, 89.50s/it] "
     ]
    },
    {
     "name": "stdout",
     "output_type": "stream",
     "text": [
      "Rescaling done in 28.553722858428955 seconds. Image shape is (2651, 819, 3)\n",
      "Done d9c963_1 in 28.735151052474976 seconds\n"
     ]
    },
    {
     "name": "stderr",
     "output_type": "stream",
     "text": [
      " 92%|█████████▏| 60/65 [37:57<05:25, 65.03s/it]"
     ]
    },
    {
     "name": "stdout",
     "output_type": "stream",
     "text": [
      "Rescaling done in 7.893284320831299 seconds. Image shape is (1039, 551, 3)\n",
      "Done d9c963_2 in 7.941966772079468 seconds\n",
      "Rescaling done in 74.32464408874512 seconds. Image shape is (846, 2576, 3)\n",
      "Bad image dbbed3_0 crop_thr 0.6 only 1\n"
     ]
    },
    {
     "name": "stderr",
     "output_type": "stream",
     "text": [
      " 94%|█████████▍| 61/65 [39:12<04:31, 67.90s/it]"
     ]
    },
    {
     "name": "stdout",
     "output_type": "stream",
     "text": [
      "Done dbbed3_0 in 74.5729489326477 seconds\n",
      "Rescaling done in 175.34043955802917 seconds. Image shape is (3530, 1871, 3)\n"
     ]
    },
    {
     "name": "stderr",
     "output_type": "stream",
     "text": [
      " 95%|█████████▌| 62/65 [42:08<05:00, 100.32s/it]"
     ]
    },
    {
     "name": "stdout",
     "output_type": "stream",
     "text": [
      "Done dfb04d_0 in 175.97415781021118 seconds\n"
     ]
    },
    {
     "name": "stderr",
     "output_type": "stream",
     "text": [
      " 97%|█████████▋| 63/65 [42:13<02:23, 71.88s/it] "
     ]
    },
    {
     "name": "stdout",
     "output_type": "stream",
     "text": [
      "Rescaling done in 5.432465314865112 seconds. Image shape is (1346, 403, 3)\n",
      "Bad image eb5e78_0 crop_thr 0.6 only 0\n",
      "Bad image eb5e78_0 crop_thr 0.5 only 0\n",
      "Done eb5e78_0 in 5.524275302886963 seconds\n"
     ]
    },
    {
     "name": "stderr",
     "output_type": "stream",
     "text": [
      " 98%|█████████▊| 64/65 [42:21<00:52, 52.65s/it]"
     ]
    },
    {
     "name": "stdout",
     "output_type": "stream",
     "text": [
      "Rescaling done in 7.592771768569946 seconds. Image shape is (1220, 665, 3)\n",
      "Bad image efead4_0 crop_thr 0.6 only 0\n",
      "Bad image efead4_0 crop_thr 0.5 only 0\n",
      "Bad image efead4_0 crop_thr 0.4 only 0\n",
      "Done efead4_0 in 7.7815234661102295 seconds\n"
     ]
    },
    {
     "name": "stderr",
     "output_type": "stream",
     "text": [
      "100%|██████████| 65/65 [42:26<00:00, 39.18s/it]"
     ]
    },
    {
     "name": "stdout",
     "output_type": "stream",
     "text": [
      "Rescaling done in 5.0498740673065186 seconds. Image shape is (591, 478, 3)\n",
      "Done f2b07d_0 in 5.079759359359741 seconds\n"
     ]
    },
    {
     "name": "stderr",
     "output_type": "stream",
     "text": [
      "\n"
     ]
    }
   ],
   "source": [
    "from __future__ import print_function, division\n",
    "\n",
    "import os\n",
    "import pickle\n",
    "import sys\n",
    "from collections import Counter\n",
    "\n",
    "import cv2\n",
    "import numpy as np\n",
    "import ssl\n",
    "import torch\n",
    "import torch.nn as nn\n",
    "import torch.optim as optim\n",
    "import torch.backends.cudnn as cudnn\n",
    "from PIL import Image\n",
    "from sklearn.metrics import roc_auc_score\n",
    "from tqdm import tqdm\n",
    "from torchvision import transforms\n",
    "\n",
    "\n",
    "ssl._create_default_https_context = ssl._create_unverified_context\n",
    "cudnn.benchmark = True\n",
    "\n",
    "\n",
    "DUMPED_DATALOADER_PATH = '/kaggle/working/data_loaders.pkl'\n",
    "DUMPED_DATALOADER_OTHER_PATH = '/kaggle/working/data_loaders_other.pkl'\n",
    "\n",
    "\n",
    "def get_sub_data(data, image_crops, image_crops_indices, sample_ids):\n",
    "    return [data[i][0] for i in sample_ids], \\\n",
    "        [data[i][1] for i in sample_ids], \\\n",
    "        [data[i][2] for i in sample_ids], \\\n",
    "        [image_crops[i] for i in sample_ids], \\\n",
    "        [image_crops_indices[i] for i in sample_ids]\n",
    "\n",
    "\n",
    "data_prep = DataPreparation()\n",
    "\n",
    "image_crops, image_crops_indices = data_prep.process_train()\n",
    "with open(DUMPED_DATALOADER_PATH, 'wb') as file:\n",
    "    pickle.dump([image_crops, image_crops_indices], file)\n",
    "\n",
    "image_crops_other, image_crops_indices_other = data_prep.process_other()\n",
    "with open(DUMPED_DATALOADER_OTHER_PATH, 'wb') as file:\n",
    "    pickle.dump([image_crops_other, image_crops_indices_other], file)"
   ]
  }
 ],
 "metadata": {
  "kernelspec": {
   "display_name": "Python 3",
   "language": "python",
   "name": "python3"
  },
  "language_info": {
   "codemirror_mode": {
    "name": "ipython",
    "version": 3
   },
   "file_extension": ".py",
   "mimetype": "text/x-python",
   "name": "python",
   "nbconvert_exporter": "python",
   "pygments_lexer": "ipython3",
   "version": "3.7.12"
  },
  "papermill": {
   "default_parameters": {},
   "duration": 22271.899514,
   "end_time": "2022-10-04T02:46:21.496534",
   "environment_variables": {},
   "exception": null,
   "input_path": "__notebook__.ipynb",
   "output_path": "__notebook__.ipynb",
   "parameters": {},
   "start_time": "2022-10-03T20:35:09.597020",
   "version": "2.3.4"
  }
 },
 "nbformat": 4,
 "nbformat_minor": 5
}
